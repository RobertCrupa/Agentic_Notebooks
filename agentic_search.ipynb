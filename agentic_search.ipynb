{
 "cells": [],
 "metadata": {
  "kernelspec": {
   "display_name": "agentic_notebook",
   "language": "python",
   "name": "agentic_notebook"
  }
 },
 "nbformat": 4,
 "nbformat_minor": 5
}
