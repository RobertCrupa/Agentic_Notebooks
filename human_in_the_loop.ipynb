{
 "cells": [
  {
   "cell_type": "markdown",
   "id": "62626df2",
   "metadata": {},
   "source": [
    "# Human in the loop"
   ]
  },
  {
   "cell_type": "code",
   "execution_count": 1,
   "id": "542e0c8a",
   "metadata": {},
   "outputs": [],
   "source": [
    "from dotenv import load_dotenv\n",
    "\n",
    "_ = load_dotenv()"
   ]
  },
  {
   "cell_type": "code",
   "execution_count": 2,
   "id": "ec0660a8",
   "metadata": {},
   "outputs": [],
   "source": [
    "from langgraph.graph import StateGraph, END\n",
    "from typing import TypedDict, Annotated\n",
    "import operator\n",
    "from langchain_core.messages import AnyMessage, SystemMessage, HumanMessage, ToolMessage\n",
    "from langchain_openai import ChatOpenAI\n",
    "from langchain_community.tools.tavily_search import TavilySearchResults\n",
    "from langgraph.checkpoint.memory import MemorySaver\n",
    "\n",
    "memory = MemorySaver()"
   ]
  },
  {
   "cell_type": "markdown",
   "id": "51c67402",
   "metadata": {},
   "source": [
    "## Allow messages to be overwritten"
   ]
  },
  {
   "cell_type": "code",
   "execution_count": 3,
   "id": "5c4d92ef",
   "metadata": {},
   "outputs": [],
   "source": [
    "from uuid import uuid4\n",
    "from langchain_core.messages import AnyMessage, SystemMessage, HumanMessage, AIMessage\n",
    "\n",
    "\"\"\"\n",
    "In previous examples we've annotated the `messages` state key\n",
    "with the default `operator.add` or `+` reducer, which always\n",
    "appends new messages to the end of the existing messages array.\n",
    "\n",
    "Now, to support replacing existing messages, we annotate the\n",
    "`messages` key with a customer reducer function, which replaces\n",
    "messages with the same `id`, and appends them otherwise.\n",
    "\"\"\"\n",
    "def reduce_messages(left: list[AnyMessage], right: list[AnyMessage]) -> list[AnyMessage]:\n",
    "    # assign ids to messages that don't have them\n",
    "    for message in right:\n",
    "        if not message.id:\n",
    "            message.id = str(uuid4())\n",
    "    # merge the new messages with the existing messages\n",
    "    merged = left.copy()\n",
    "    for message in right:\n",
    "        for i, existing in enumerate(merged):\n",
    "            # replace any existing messages with the same id\n",
    "            if existing.id == message.id:\n",
    "                merged[i] = message\n",
    "                break\n",
    "        else:\n",
    "            # append any new messages to the end\n",
    "            merged.append(message)\n",
    "    return merged\n",
    "\n",
    "class AgentState(TypedDict):\n",
    "    messages: Annotated[list[AnyMessage], reduce_messages]"
   ]
  },
  {
   "cell_type": "code",
   "execution_count": 4,
   "id": "95ae605a",
   "metadata": {},
   "outputs": [
    {
     "name": "stderr",
     "output_type": "stream",
     "text": [
      "/var/folders/ks/mc5n5p95489ggm_wj27wwpyr0000gn/T/ipykernel_27274/4289725543.py:1: LangChainDeprecationWarning: The class `TavilySearchResults` was deprecated in LangChain 0.3.25 and will be removed in 1.0. An updated version of the class exists in the :class:`~langchain-tavily package and should be used instead. To use it run `pip install -U :class:`~langchain-tavily` and import as `from :class:`~langchain_tavily import TavilySearch``.\n",
      "  tool = TavilySearchResults(max_results=2)\n"
     ]
    }
   ],
   "source": [
    "tool = TavilySearchResults(max_results=2)"
   ]
  },
  {
   "cell_type": "markdown",
   "id": "ef989ee3",
   "metadata": {},
   "source": [
    "# Human in the loop approval"
   ]
  },
  {
   "cell_type": "code",
   "execution_count": 5,
   "id": "8270ae94",
   "metadata": {},
   "outputs": [],
   "source": [
    "class Agent:\n",
    "    def __init__(self, model, tools, system=\"\", checkpointer=None):\n",
    "        self.system = system\n",
    "        graph = StateGraph(AgentState)\n",
    "        graph.add_node(\"llm\", self.call_openai)\n",
    "        graph.add_node(\"action\", self.take_action)\n",
    "        graph.add_conditional_edges(\"llm\", self.exists_action, {True: \"action\", False: END})\n",
    "        graph.add_edge(\"action\", \"llm\")\n",
    "        graph.set_entry_point(\"llm\")\n",
    "        self.graph = graph.compile(\n",
    "            checkpointer=checkpointer,\n",
    "            interrupt_before=[\"action\"]\n",
    "        )\n",
    "        self.tools = {t.name: t for t in tools}\n",
    "        self.model = model.bind_tools(tools)\n",
    "\n",
    "    def call_openai(self, state: AgentState):\n",
    "        messages = state['messages']\n",
    "        if self.system:\n",
    "            messages = [SystemMessage(content=self.system)] + messages\n",
    "        message = self.model.invoke(messages)\n",
    "        return {'messages': [message]}\n",
    "\n",
    "    def exists_action(self, state: AgentState):\n",
    "        print(state)\n",
    "        result = state['messages'][-1]\n",
    "        return len(result.tool_calls) > 0\n",
    "\n",
    "    def take_action(self, state: AgentState):\n",
    "        tool_calls = state['messages'][-1].tool_calls\n",
    "        results = []\n",
    "        for t in tool_calls:\n",
    "            print(f\"Calling: {t}\")\n",
    "            result = self.tools[t['name']].invoke(t['args'])\n",
    "            results.append(ToolMessage(tool_call_id=t['id'], name=t['name'], content=str(result)))\n",
    "        print(\"Back to the model!\")\n",
    "        return {'messages': results}"
   ]
  },
  {
   "cell_type": "code",
   "execution_count": 6,
   "id": "3d804693",
   "metadata": {},
   "outputs": [],
   "source": [
    "prompt = \"\"\"You are a smart research assistant. Use the search engine to look up information. \\\n",
    "You are allowed to make multiple calls (either together or in sequence). \\\n",
    "Only look up information when you are sure of what you want. \\\n",
    "If you need to look up some information before asking a follow up question, you are allowed to do that!\n",
    "\"\"\"\n",
    "model = ChatOpenAI(model=\"gpt-5-nano\")\n",
    "abot = Agent(model, [tool], system=prompt, checkpointer=memory)"
   ]
  },
  {
   "cell_type": "code",
   "execution_count": 7,
   "id": "a7b84fc2",
   "metadata": {},
   "outputs": [
    {
     "name": "stdout",
     "output_type": "stream",
     "text": [
      "{'messages': [HumanMessage(content='Whats the weather in SF?', additional_kwargs={}, response_metadata={}, id='d527051b-0483-4197-9e3a-01f89342d881'), AIMessage(content='', additional_kwargs={'tool_calls': [{'id': 'call_nPP0gFC32oIVUh6qerlnI8IY', 'function': {'arguments': '{\"query\":\"San Francisco CA weather current\"}', 'name': 'tavily_search_results_json'}, 'type': 'function'}], 'refusal': None}, response_metadata={'token_usage': {'completion_tokens': 351, 'prompt_tokens': 234, 'total_tokens': 585, 'completion_tokens_details': {'accepted_prediction_tokens': 0, 'audio_tokens': 0, 'reasoning_tokens': 320, 'rejected_prediction_tokens': 0}, 'prompt_tokens_details': {'audio_tokens': 0, 'cached_tokens': 0}}, 'model_name': 'gpt-5-nano-2025-08-07', 'system_fingerprint': None, 'id': 'chatcmpl-C3dp7ri7Lg9cQn2P77JHn5up4USLG', 'service_tier': 'default', 'finish_reason': 'tool_calls', 'logprobs': None}, id='run--d00fd6b3-ae36-4347-b6e9-ced728f13a55-0', tool_calls=[{'name': 'tavily_search_results_json', 'args': {'query': 'San Francisco CA weather current'}, 'id': 'call_nPP0gFC32oIVUh6qerlnI8IY', 'type': 'tool_call'}], usage_metadata={'input_tokens': 234, 'output_tokens': 351, 'total_tokens': 585, 'input_token_details': {'audio': 0, 'cache_read': 0}, 'output_token_details': {'audio': 0, 'reasoning': 320}})]}\n",
      "{'messages': [AIMessage(content='', additional_kwargs={'tool_calls': [{'id': 'call_nPP0gFC32oIVUh6qerlnI8IY', 'function': {'arguments': '{\"query\":\"San Francisco CA weather current\"}', 'name': 'tavily_search_results_json'}, 'type': 'function'}], 'refusal': None}, response_metadata={'token_usage': {'completion_tokens': 351, 'prompt_tokens': 234, 'total_tokens': 585, 'completion_tokens_details': {'accepted_prediction_tokens': 0, 'audio_tokens': 0, 'reasoning_tokens': 320, 'rejected_prediction_tokens': 0}, 'prompt_tokens_details': {'audio_tokens': 0, 'cached_tokens': 0}}, 'model_name': 'gpt-5-nano-2025-08-07', 'system_fingerprint': None, 'id': 'chatcmpl-C3dp7ri7Lg9cQn2P77JHn5up4USLG', 'service_tier': 'default', 'finish_reason': 'tool_calls', 'logprobs': None}, id='run--d00fd6b3-ae36-4347-b6e9-ced728f13a55-0', tool_calls=[{'name': 'tavily_search_results_json', 'args': {'query': 'San Francisco CA weather current'}, 'id': 'call_nPP0gFC32oIVUh6qerlnI8IY', 'type': 'tool_call'}], usage_metadata={'input_tokens': 234, 'output_tokens': 351, 'total_tokens': 585, 'input_token_details': {'audio': 0, 'cache_read': 0}, 'output_token_details': {'audio': 0, 'reasoning': 320}})]}\n",
      "()\n"
     ]
    }
   ],
   "source": [
    "messages = [HumanMessage(content=\"Whats the weather in SF?\")]\n",
    "thread = {\"configurable\": {\"thread_id\": \"1\"}}\n",
    "for event in abot.graph.stream({\"messages\": messages}, thread):\n",
    "    for v in event.values():\n",
    "        print(v)"
   ]
  },
  {
   "cell_type": "markdown",
   "id": "0ef907c8",
   "metadata": {},
   "source": [
    "The flow was interrupted after the tool call, lets inspect the state:"
   ]
  },
  {
   "cell_type": "code",
   "execution_count": 8,
   "id": "7ed03cf8",
   "metadata": {},
   "outputs": [
    {
     "data": {
      "text/plain": [
       "StateSnapshot(values={'messages': [HumanMessage(content='Whats the weather in SF?', additional_kwargs={}, response_metadata={}, id='d527051b-0483-4197-9e3a-01f89342d881'), AIMessage(content='', additional_kwargs={'tool_calls': [{'id': 'call_nPP0gFC32oIVUh6qerlnI8IY', 'function': {'arguments': '{\"query\":\"San Francisco CA weather current\"}', 'name': 'tavily_search_results_json'}, 'type': 'function'}], 'refusal': None}, response_metadata={'token_usage': {'completion_tokens': 351, 'prompt_tokens': 234, 'total_tokens': 585, 'completion_tokens_details': {'accepted_prediction_tokens': 0, 'audio_tokens': 0, 'reasoning_tokens': 320, 'rejected_prediction_tokens': 0}, 'prompt_tokens_details': {'audio_tokens': 0, 'cached_tokens': 0}}, 'model_name': 'gpt-5-nano-2025-08-07', 'system_fingerprint': None, 'id': 'chatcmpl-C3dp7ri7Lg9cQn2P77JHn5up4USLG', 'service_tier': 'default', 'finish_reason': 'tool_calls', 'logprobs': None}, id='run--d00fd6b3-ae36-4347-b6e9-ced728f13a55-0', tool_calls=[{'name': 'tavily_search_results_json', 'args': {'query': 'San Francisco CA weather current'}, 'id': 'call_nPP0gFC32oIVUh6qerlnI8IY', 'type': 'tool_call'}], usage_metadata={'input_tokens': 234, 'output_tokens': 351, 'total_tokens': 585, 'input_token_details': {'audio': 0, 'cache_read': 0}, 'output_token_details': {'audio': 0, 'reasoning': 320}})]}, next=('action',), config={'configurable': {'thread_id': '1', 'checkpoint_ns': '', 'checkpoint_id': '1f0774ec-eee7-6ba0-8001-a95804d0baf3'}}, metadata={'source': 'loop', 'step': 1, 'parents': {}}, created_at='2025-08-12T07:34:41.137532+00:00', parent_config={'configurable': {'thread_id': '1', 'checkpoint_ns': '', 'checkpoint_id': '1f0774ec-ce6b-6264-8000-f86501c8481f'}}, tasks=(PregelTask(id='bc32fec3-60a1-5d65-f19e-700291330d5b', name='action', path=('__pregel_pull', 'action'), error=None, interrupts=(), state=None, result=None),), interrupts=())"
      ]
     },
     "execution_count": 8,
     "metadata": {},
     "output_type": "execute_result"
    }
   ],
   "source": [
    "abot.graph.get_state(thread)"
   ]
  },
  {
   "cell_type": "code",
   "execution_count": 10,
   "id": "df8445bf",
   "metadata": {},
   "outputs": [
    {
     "data": {
      "text/plain": [
       "('action',)"
      ]
     },
     "execution_count": 10,
     "metadata": {},
     "output_type": "execute_result"
    }
   ],
   "source": [
    "abot.graph.get_state(thread).next"
   ]
  },
  {
   "cell_type": "markdown",
   "id": "1fc9e700",
   "metadata": {},
   "source": [
    "We can see the next state is to call the action, we can carry on by calling the stream with none instead of messsages:"
   ]
  },
  {
   "cell_type": "code",
   "execution_count": 11,
   "id": "4ec487f6",
   "metadata": {},
   "outputs": [
    {
     "name": "stdout",
     "output_type": "stream",
     "text": [
      "Calling: {'name': 'tavily_search_results_json', 'args': {'query': 'San Francisco CA weather current'}, 'id': 'call_nPP0gFC32oIVUh6qerlnI8IY', 'type': 'tool_call'}\n",
      "Back to the model!\n",
      "{'messages': [ToolMessage(content=\"[{'title': 'San Francisco weather in August 2025', 'url': 'https://www.weather25.com/north-america/usa/california/san-francisco?page=month&month=August', 'content': '| Month | Temperatures | Weather | Rainy Days | Dry Days | Snowy Days | Rainfall |\\\\n| --- | --- | --- | --- | --- | --- | --- |\\\\n| January | 15° / 7° | Good | 4 | 27 | 0 | 63 mm |\\\\n| February | 16° / 7° | Good | 4 | 24 | 0 | 61 mm |\\\\n| March | 17° / 8° | Good | 5 | 26 | 0 | 62 mm |\\\\n| April | 18° / 9° | Good | 2 | 28 | 0 | 22 mm |\\\\n| May | 20° / 10° | Good | 1 | 30 | 0 | 13 mm |\\\\n| June | 23° / 12° | Perfect | 0 | 30 | 0 | 6 mm |\\\\n| July | 25° / 14° | Perfect | 0 | 31 | 0 | 3 mm | [...] Partly cloudy\\\\nPartly cloudy\\\\nSunny\\\\nPartly cloudy\\\\nMist\\\\nSunny\\\\nPartly cloudy\\\\nSunny\\\\nPartly cloudy\\\\nSunny\\\\nSunny\\\\nMist\\\\nMist\\\\nMist\\\\nPatchy rain possible\\\\nPatchy rain possible\\\\nCloudy\\\\nSunny\\\\nSunny\\\\nSunny\\\\nPatchy rain possible\\\\nPartly cloudy\\\\nSunny\\\\nSunny\\\\nSunny\\\\nSunny\\\\nPartly cloudy\\\\nSunny\\\\nSunny\\\\nSunny\\\\nSunny\\\\n\\\\n## Explore the weather in San Francisco in other months\\\\n\\\\n## San Francisco annual weather [...] | August | 25° / 14° | Perfect | 0 | 31 | 0 | 3 mm |\\\\n| September | 25° / 14° | Perfect | 0 | 30 | 0 | 4 mm |\\\\n| October | 23° / 13° | Perfect | 1 | 30 | 0 | 26 mm |\\\\n| November | 18° / 10° | Good | 3 | 27 | 0 | 37 mm |\\\\n| December | 14° / 8° | Good | 4 | 27 | 0 | 55 mm |', 'score': 0.48177138}, {'title': 'San Francisco, CA Monthly Weather', 'url': 'https://www.accuweather.com/en/us/san-francisco/94103/august-weather/347629', 'content': 'Get the monthly weather forecast for San Francisco, CA, including daily high/low, historical averages, to help you plan ahead.', 'score': 0.23435448}]\", name='tavily_search_results_json', id='cdc8ec7a-7427-4ad6-bb0c-0516c87a8656', tool_call_id='call_nPP0gFC32oIVUh6qerlnI8IY')]}\n",
      "{'messages': [HumanMessage(content='Whats the weather in SF?', additional_kwargs={}, response_metadata={}, id='d527051b-0483-4197-9e3a-01f89342d881'), AIMessage(content='', additional_kwargs={'tool_calls': [{'id': 'call_nPP0gFC32oIVUh6qerlnI8IY', 'function': {'arguments': '{\"query\":\"San Francisco CA weather current\"}', 'name': 'tavily_search_results_json'}, 'type': 'function'}], 'refusal': None}, response_metadata={'token_usage': {'completion_tokens': 351, 'prompt_tokens': 234, 'total_tokens': 585, 'completion_tokens_details': {'accepted_prediction_tokens': 0, 'audio_tokens': 0, 'reasoning_tokens': 320, 'rejected_prediction_tokens': 0}, 'prompt_tokens_details': {'audio_tokens': 0, 'cached_tokens': 0}}, 'model_name': 'gpt-5-nano-2025-08-07', 'system_fingerprint': None, 'id': 'chatcmpl-C3dp7ri7Lg9cQn2P77JHn5up4USLG', 'service_tier': 'default', 'finish_reason': 'tool_calls', 'logprobs': None}, id='run--d00fd6b3-ae36-4347-b6e9-ced728f13a55-0', tool_calls=[{'name': 'tavily_search_results_json', 'args': {'query': 'San Francisco CA weather current'}, 'id': 'call_nPP0gFC32oIVUh6qerlnI8IY', 'type': 'tool_call'}], usage_metadata={'input_tokens': 234, 'output_tokens': 351, 'total_tokens': 585, 'input_token_details': {'audio': 0, 'cache_read': 0}, 'output_token_details': {'audio': 0, 'reasoning': 320}}), ToolMessage(content=\"[{'title': 'San Francisco weather in August 2025', 'url': 'https://www.weather25.com/north-america/usa/california/san-francisco?page=month&month=August', 'content': '| Month | Temperatures | Weather | Rainy Days | Dry Days | Snowy Days | Rainfall |\\\\n| --- | --- | --- | --- | --- | --- | --- |\\\\n| January | 15° / 7° | Good | 4 | 27 | 0 | 63 mm |\\\\n| February | 16° / 7° | Good | 4 | 24 | 0 | 61 mm |\\\\n| March | 17° / 8° | Good | 5 | 26 | 0 | 62 mm |\\\\n| April | 18° / 9° | Good | 2 | 28 | 0 | 22 mm |\\\\n| May | 20° / 10° | Good | 1 | 30 | 0 | 13 mm |\\\\n| June | 23° / 12° | Perfect | 0 | 30 | 0 | 6 mm |\\\\n| July | 25° / 14° | Perfect | 0 | 31 | 0 | 3 mm | [...] Partly cloudy\\\\nPartly cloudy\\\\nSunny\\\\nPartly cloudy\\\\nMist\\\\nSunny\\\\nPartly cloudy\\\\nSunny\\\\nPartly cloudy\\\\nSunny\\\\nSunny\\\\nMist\\\\nMist\\\\nMist\\\\nPatchy rain possible\\\\nPatchy rain possible\\\\nCloudy\\\\nSunny\\\\nSunny\\\\nSunny\\\\nPatchy rain possible\\\\nPartly cloudy\\\\nSunny\\\\nSunny\\\\nSunny\\\\nSunny\\\\nPartly cloudy\\\\nSunny\\\\nSunny\\\\nSunny\\\\nSunny\\\\n\\\\n## Explore the weather in San Francisco in other months\\\\n\\\\n## San Francisco annual weather [...] | August | 25° / 14° | Perfect | 0 | 31 | 0 | 3 mm |\\\\n| September | 25° / 14° | Perfect | 0 | 30 | 0 | 4 mm |\\\\n| October | 23° / 13° | Perfect | 1 | 30 | 0 | 26 mm |\\\\n| November | 18° / 10° | Good | 3 | 27 | 0 | 37 mm |\\\\n| December | 14° / 8° | Good | 4 | 27 | 0 | 55 mm |', 'score': 0.48177138}, {'title': 'San Francisco, CA Monthly Weather', 'url': 'https://www.accuweather.com/en/us/san-francisco/94103/august-weather/347629', 'content': 'Get the monthly weather forecast for San Francisco, CA, including daily high/low, historical averages, to help you plan ahead.', 'score': 0.23435448}]\", name='tavily_search_results_json', id='cdc8ec7a-7427-4ad6-bb0c-0516c87a8656', tool_call_id='call_nPP0gFC32oIVUh6qerlnI8IY'), AIMessage(content='', additional_kwargs={'tool_calls': [{'id': 'call_84JYpQmRWLWNsj7clBpBAdc1', 'function': {'arguments': '{\"query\":\"San Francisco current weather\"}', 'name': 'tavily_search_results_json'}, 'type': 'function'}], 'refusal': None}, response_metadata={'token_usage': {'completion_tokens': 286, 'prompt_tokens': 880, 'total_tokens': 1166, 'completion_tokens_details': {'accepted_prediction_tokens': 0, 'audio_tokens': 0, 'reasoning_tokens': 256, 'rejected_prediction_tokens': 0}, 'prompt_tokens_details': {'audio_tokens': 0, 'cached_tokens': 0}}, 'model_name': 'gpt-5-nano-2025-08-07', 'system_fingerprint': None, 'id': 'chatcmpl-C3gJz3vD0Q4RGLfnCeZ8wD6hrFIaI', 'service_tier': 'default', 'finish_reason': 'tool_calls', 'logprobs': None}, id='run--8ce988aa-00bf-4f1a-a991-1384696fdf0f-0', tool_calls=[{'name': 'tavily_search_results_json', 'args': {'query': 'San Francisco current weather'}, 'id': 'call_84JYpQmRWLWNsj7clBpBAdc1', 'type': 'tool_call'}], usage_metadata={'input_tokens': 880, 'output_tokens': 286, 'total_tokens': 1166, 'input_token_details': {'audio': 0, 'cache_read': 0}, 'output_token_details': {'audio': 0, 'reasoning': 256}})]}\n",
      "{'messages': [AIMessage(content='', additional_kwargs={'tool_calls': [{'id': 'call_84JYpQmRWLWNsj7clBpBAdc1', 'function': {'arguments': '{\"query\":\"San Francisco current weather\"}', 'name': 'tavily_search_results_json'}, 'type': 'function'}], 'refusal': None}, response_metadata={'token_usage': {'completion_tokens': 286, 'prompt_tokens': 880, 'total_tokens': 1166, 'completion_tokens_details': {'accepted_prediction_tokens': 0, 'audio_tokens': 0, 'reasoning_tokens': 256, 'rejected_prediction_tokens': 0}, 'prompt_tokens_details': {'audio_tokens': 0, 'cached_tokens': 0}}, 'model_name': 'gpt-5-nano-2025-08-07', 'system_fingerprint': None, 'id': 'chatcmpl-C3gJz3vD0Q4RGLfnCeZ8wD6hrFIaI', 'service_tier': 'default', 'finish_reason': 'tool_calls', 'logprobs': None}, id='run--8ce988aa-00bf-4f1a-a991-1384696fdf0f-0', tool_calls=[{'name': 'tavily_search_results_json', 'args': {'query': 'San Francisco current weather'}, 'id': 'call_84JYpQmRWLWNsj7clBpBAdc1', 'type': 'tool_call'}], usage_metadata={'input_tokens': 880, 'output_tokens': 286, 'total_tokens': 1166, 'input_token_details': {'audio': 0, 'cache_read': 0}, 'output_token_details': {'audio': 0, 'reasoning': 256}})]}\n",
      "()\n"
     ]
    }
   ],
   "source": [
    "for event in abot.graph.stream(None, thread):\n",
    "    for v in event.values():\n",
    "        print(v)"
   ]
  },
  {
   "cell_type": "code",
   "execution_count": 12,
   "id": "e8d65b3a",
   "metadata": {},
   "outputs": [
    {
     "data": {
      "text/plain": [
       "('action',)"
      ]
     },
     "execution_count": 12,
     "metadata": {},
     "output_type": "execute_result"
    }
   ],
   "source": [
    "abot.graph.get_state(thread).next"
   ]
  },
  {
   "cell_type": "markdown",
   "id": "2f954a4b",
   "metadata": {},
   "source": [
    "The agent still wants to run actions, so lets add human in the loop:"
   ]
  },
  {
   "cell_type": "code",
   "execution_count": 13,
   "id": "c7546a72",
   "metadata": {},
   "outputs": [
    {
     "name": "stdout",
     "output_type": "stream",
     "text": [
      "{'messages': [HumanMessage(content='What is the weather in Kensington London?', additional_kwargs={}, response_metadata={}, id='c0ec6f5e-1256-415b-8f74-c7b89b3cb761'), AIMessage(content='', additional_kwargs={'tool_calls': [{'id': 'call_LqbQR3OKjKyH2BxrUECYAKfa', 'function': {'arguments': '{\"query\":\"Kensington London weather current\"}', 'name': 'tavily_search_results_json'}, 'type': 'function'}], 'refusal': None}, response_metadata={'token_usage': {'completion_tokens': 352, 'prompt_tokens': 236, 'total_tokens': 588, 'completion_tokens_details': {'accepted_prediction_tokens': 0, 'audio_tokens': 0, 'reasoning_tokens': 320, 'rejected_prediction_tokens': 0}, 'prompt_tokens_details': {'audio_tokens': 0, 'cached_tokens': 0}}, 'model_name': 'gpt-5-nano-2025-08-07', 'system_fingerprint': None, 'id': 'chatcmpl-C3gRcoIi7QNciTVLWdMoFwdRCsToa', 'service_tier': 'default', 'finish_reason': 'tool_calls', 'logprobs': None}, id='run--511650d9-ff71-4a63-b340-7b627d341063-0', tool_calls=[{'name': 'tavily_search_results_json', 'args': {'query': 'Kensington London weather current'}, 'id': 'call_LqbQR3OKjKyH2BxrUECYAKfa', 'type': 'tool_call'}], usage_metadata={'input_tokens': 236, 'output_tokens': 352, 'total_tokens': 588, 'input_token_details': {'audio': 0, 'cache_read': 0}, 'output_token_details': {'audio': 0, 'reasoning': 320}})]}\n",
      "{'messages': [AIMessage(content='', additional_kwargs={'tool_calls': [{'id': 'call_LqbQR3OKjKyH2BxrUECYAKfa', 'function': {'arguments': '{\"query\":\"Kensington London weather current\"}', 'name': 'tavily_search_results_json'}, 'type': 'function'}], 'refusal': None}, response_metadata={'token_usage': {'completion_tokens': 352, 'prompt_tokens': 236, 'total_tokens': 588, 'completion_tokens_details': {'accepted_prediction_tokens': 0, 'audio_tokens': 0, 'reasoning_tokens': 320, 'rejected_prediction_tokens': 0}, 'prompt_tokens_details': {'audio_tokens': 0, 'cached_tokens': 0}}, 'model_name': 'gpt-5-nano-2025-08-07', 'system_fingerprint': None, 'id': 'chatcmpl-C3gRcoIi7QNciTVLWdMoFwdRCsToa', 'service_tier': 'default', 'finish_reason': 'tool_calls', 'logprobs': None}, id='run--511650d9-ff71-4a63-b340-7b627d341063-0', tool_calls=[{'name': 'tavily_search_results_json', 'args': {'query': 'Kensington London weather current'}, 'id': 'call_LqbQR3OKjKyH2BxrUECYAKfa', 'type': 'tool_call'}], usage_metadata={'input_tokens': 236, 'output_tokens': 352, 'total_tokens': 588, 'input_token_details': {'audio': 0, 'cache_read': 0}, 'output_token_details': {'audio': 0, 'reasoning': 320}})]}\n",
      "()\n",
      "\n",
      " <bound method Pregel.get_state of <langgraph.graph.state.CompiledStateGraph object at 0x119bb5750>> \n",
      "\n",
      "Calling: {'name': 'tavily_search_results_json', 'args': {'query': 'Kensington London weather current'}, 'id': 'call_LqbQR3OKjKyH2BxrUECYAKfa', 'type': 'tool_call'}\n",
      "Back to the model!\n",
      "{'messages': [ToolMessage(content=\"[{'title': 'Monthly Weather-Kensington, England, United Kingdom', 'url': 'https://weather.com/weather/monthly/l/Kensington+England+United+Kingdom?canonicalCityId=0908f9a0f1a2e0890a1dfd2cceb016b66a9823720ad3b1547ff8700cea38ebe1', 'content': '## Recent Locations\\\\n\\\\nMenu\\\\n\\\\n## Weather Forecasts\\\\n\\\\n## Radar & Maps\\\\n\\\\n## News & Media\\\\n\\\\n## Products & Account\\\\n\\\\n## Lifestyle\\\\n\\\\n### Specialty Forecasts\\\\n\\\\n# Monthly Weather-Kensington, England, United Kingdom\\\\n\\\\n## Day\\\\n\\\\nPartly cloudy. Very warm. High 84F. Winds SE at 5 to 10 mph.\\\\n\\\\n## Night\\\\n\\\\nSome clouds this evening will give way to mainly clear skies overnight. Low 64F. Winds ESE at 5 to 10 mph.\\\\n\\\\n## We Love Our Critters\\\\n\\\\n## Travel\\\\n\\\\n## Home, Garage & Garden [...] © The Weather Company, LLC 2025 [...] | Aug 12 | High | Low | Precip |\\\\n| --- | --- | --- | --- |\\\\n| Averages | 67°F | 54° | -- |\\\\n| Records | -- | -- | -- |\\\\n\\\\n| Reported Conditions |\\\\n| --- |\\\\n| Yesterday | 82° | 62° | 0.01 in |\\\\n| Last 7 Days | 82° | 53° | 0.10 |\\\\n| Month to Date | 82° | 53° | 0.40 |\\\\n\\\\n| Historical Monthly Avg |\\\\n| --- |\\\\n| August | 67° | 54° | 0 |\\\\n| September | 62° | 50° | 0 |\\\\n| October | 55° | 45° | 0 |\\\\n\\\\n## Sun & Moon\\\\n\\\\n## Stay Safe\\\\n\\\\n## Travel Far, Travel Often', 'score': 0.65914243}, {'title': 'Kensington - BBC Weather', 'url': 'https://www.bbc.com/weather/2645801', 'content': 'Thursday morning will see patches of cloud and a chance of a shower. The afternoon will be dry and sunny. Friday and Saturday looks to be dry with plenty of sunshine expected. Staying very warm through the period. Winds will be largely light to gentle, though a moderate south-easterly to easterly breeze may develop later on.\\\\n\\\\n## Observations - London Battersea Heliport\\\\n\\\\nObserved at 08:00,\\\\n\\\\nTuesday 12 August\\\\n\\\\n## Our favourite Weather Watchers photos nearby\\\\n\\\\nReport for Southwark, Greater London [...] Today\\\\n\\\\nToday is expected to remain dry and settled with plenty of sunshine and little cloud cover. A hot day.\\\\n\\\\nTonight\\\\n\\\\nTonight, it is expected to be dry and settled, however low cloud will gradually move in from the south.\\\\n\\\\nWednesday\\\\n\\\\nTomorrow will see low cloud clear in the morning. The rest of the day is expected to be mostly dry and sunny. Very warm to hot.\\\\n\\\\nOutlook for Thursday to Saturday [...] ## Accessibility links\\\\n\\\\n## Search for a location\\\\n\\\\n# Kensington - Weather warnings issued\\\\n\\\\n## Forecast - Kensington\\\\n\\\\n### Day by day forecast\\\\n\\\\n### Environmental Summary\\\\n\\\\n### Sunrise Sunset\\\\n\\\\n### Sunrise Sunset\\\\n\\\\n### Sunrise Sunset\\\\n\\\\n### Sunrise Sunset\\\\n\\\\n### Sunrise Sunset\\\\n\\\\n### Sunrise Sunset\\\\n\\\\n### Sunrise Sunset\\\\n\\\\n### Sunrise Sunset\\\\n\\\\n### Sunrise Sunset\\\\n\\\\n### Sunrise Sunset\\\\n\\\\n### Sunrise Sunset\\\\n\\\\n### Sunrise Sunset\\\\n\\\\n### Sunrise Sunset\\\\n\\\\n### Sunrise Sunset\\\\n\\\\n### Hour by hour forecast\\\\n\\\\n### Environmental Summary', 'score': 0.657561}]\", name='tavily_search_results_json', id='6fa67494-858a-40a2-88fa-aa3f97bab564', tool_call_id='call_LqbQR3OKjKyH2BxrUECYAKfa')]}\n",
      "{'messages': [HumanMessage(content='What is the weather in Kensington London?', additional_kwargs={}, response_metadata={}, id='c0ec6f5e-1256-415b-8f74-c7b89b3cb761'), AIMessage(content='', additional_kwargs={'tool_calls': [{'id': 'call_LqbQR3OKjKyH2BxrUECYAKfa', 'function': {'arguments': '{\"query\":\"Kensington London weather current\"}', 'name': 'tavily_search_results_json'}, 'type': 'function'}], 'refusal': None}, response_metadata={'token_usage': {'completion_tokens': 352, 'prompt_tokens': 236, 'total_tokens': 588, 'completion_tokens_details': {'accepted_prediction_tokens': 0, 'audio_tokens': 0, 'reasoning_tokens': 320, 'rejected_prediction_tokens': 0}, 'prompt_tokens_details': {'audio_tokens': 0, 'cached_tokens': 0}}, 'model_name': 'gpt-5-nano-2025-08-07', 'system_fingerprint': None, 'id': 'chatcmpl-C3gRcoIi7QNciTVLWdMoFwdRCsToa', 'service_tier': 'default', 'finish_reason': 'tool_calls', 'logprobs': None}, id='run--511650d9-ff71-4a63-b340-7b627d341063-0', tool_calls=[{'name': 'tavily_search_results_json', 'args': {'query': 'Kensington London weather current'}, 'id': 'call_LqbQR3OKjKyH2BxrUECYAKfa', 'type': 'tool_call'}], usage_metadata={'input_tokens': 236, 'output_tokens': 352, 'total_tokens': 588, 'input_token_details': {'audio': 0, 'cache_read': 0}, 'output_token_details': {'audio': 0, 'reasoning': 320}}), ToolMessage(content=\"[{'title': 'Monthly Weather-Kensington, England, United Kingdom', 'url': 'https://weather.com/weather/monthly/l/Kensington+England+United+Kingdom?canonicalCityId=0908f9a0f1a2e0890a1dfd2cceb016b66a9823720ad3b1547ff8700cea38ebe1', 'content': '## Recent Locations\\\\n\\\\nMenu\\\\n\\\\n## Weather Forecasts\\\\n\\\\n## Radar & Maps\\\\n\\\\n## News & Media\\\\n\\\\n## Products & Account\\\\n\\\\n## Lifestyle\\\\n\\\\n### Specialty Forecasts\\\\n\\\\n# Monthly Weather-Kensington, England, United Kingdom\\\\n\\\\n## Day\\\\n\\\\nPartly cloudy. Very warm. High 84F. Winds SE at 5 to 10 mph.\\\\n\\\\n## Night\\\\n\\\\nSome clouds this evening will give way to mainly clear skies overnight. Low 64F. Winds ESE at 5 to 10 mph.\\\\n\\\\n## We Love Our Critters\\\\n\\\\n## Travel\\\\n\\\\n## Home, Garage & Garden [...] © The Weather Company, LLC 2025 [...] | Aug 12 | High | Low | Precip |\\\\n| --- | --- | --- | --- |\\\\n| Averages | 67°F | 54° | -- |\\\\n| Records | -- | -- | -- |\\\\n\\\\n| Reported Conditions |\\\\n| --- |\\\\n| Yesterday | 82° | 62° | 0.01 in |\\\\n| Last 7 Days | 82° | 53° | 0.10 |\\\\n| Month to Date | 82° | 53° | 0.40 |\\\\n\\\\n| Historical Monthly Avg |\\\\n| --- |\\\\n| August | 67° | 54° | 0 |\\\\n| September | 62° | 50° | 0 |\\\\n| October | 55° | 45° | 0 |\\\\n\\\\n## Sun & Moon\\\\n\\\\n## Stay Safe\\\\n\\\\n## Travel Far, Travel Often', 'score': 0.65914243}, {'title': 'Kensington - BBC Weather', 'url': 'https://www.bbc.com/weather/2645801', 'content': 'Thursday morning will see patches of cloud and a chance of a shower. The afternoon will be dry and sunny. Friday and Saturday looks to be dry with plenty of sunshine expected. Staying very warm through the period. Winds will be largely light to gentle, though a moderate south-easterly to easterly breeze may develop later on.\\\\n\\\\n## Observations - London Battersea Heliport\\\\n\\\\nObserved at 08:00,\\\\n\\\\nTuesday 12 August\\\\n\\\\n## Our favourite Weather Watchers photos nearby\\\\n\\\\nReport for Southwark, Greater London [...] Today\\\\n\\\\nToday is expected to remain dry and settled with plenty of sunshine and little cloud cover. A hot day.\\\\n\\\\nTonight\\\\n\\\\nTonight, it is expected to be dry and settled, however low cloud will gradually move in from the south.\\\\n\\\\nWednesday\\\\n\\\\nTomorrow will see low cloud clear in the morning. The rest of the day is expected to be mostly dry and sunny. Very warm to hot.\\\\n\\\\nOutlook for Thursday to Saturday [...] ## Accessibility links\\\\n\\\\n## Search for a location\\\\n\\\\n# Kensington - Weather warnings issued\\\\n\\\\n## Forecast - Kensington\\\\n\\\\n### Day by day forecast\\\\n\\\\n### Environmental Summary\\\\n\\\\n### Sunrise Sunset\\\\n\\\\n### Sunrise Sunset\\\\n\\\\n### Sunrise Sunset\\\\n\\\\n### Sunrise Sunset\\\\n\\\\n### Sunrise Sunset\\\\n\\\\n### Sunrise Sunset\\\\n\\\\n### Sunrise Sunset\\\\n\\\\n### Sunrise Sunset\\\\n\\\\n### Sunrise Sunset\\\\n\\\\n### Sunrise Sunset\\\\n\\\\n### Sunrise Sunset\\\\n\\\\n### Sunrise Sunset\\\\n\\\\n### Sunrise Sunset\\\\n\\\\n### Sunrise Sunset\\\\n\\\\n### Hour by hour forecast\\\\n\\\\n### Environmental Summary', 'score': 0.657561}]\", name='tavily_search_results_json', id='6fa67494-858a-40a2-88fa-aa3f97bab564', tool_call_id='call_LqbQR3OKjKyH2BxrUECYAKfa'), AIMessage(content='', additional_kwargs={'tool_calls': [{'id': 'call_rnXL3cp3ybVuLaviN35ivF9z', 'function': {'arguments': '{\"query\":\"Kensington London current weather now\"}', 'name': 'tavily_search_results_json'}, 'type': 'function'}], 'refusal': None}, response_metadata={'token_usage': {'completion_tokens': 353, 'prompt_tokens': 1080, 'total_tokens': 1433, 'completion_tokens_details': {'accepted_prediction_tokens': 0, 'audio_tokens': 0, 'reasoning_tokens': 320, 'rejected_prediction_tokens': 0}, 'prompt_tokens_details': {'audio_tokens': 0, 'cached_tokens': 0}}, 'model_name': 'gpt-5-nano-2025-08-07', 'system_fingerprint': None, 'id': 'chatcmpl-C3gRqsZDnMH4snwhkVtusG8b4WAUQ', 'service_tier': 'default', 'finish_reason': 'tool_calls', 'logprobs': None}, id='run--6cee103e-65eb-469c-b2d3-df5cc2d06cdc-0', tool_calls=[{'name': 'tavily_search_results_json', 'args': {'query': 'Kensington London current weather now'}, 'id': 'call_rnXL3cp3ybVuLaviN35ivF9z', 'type': 'tool_call'}], usage_metadata={'input_tokens': 1080, 'output_tokens': 353, 'total_tokens': 1433, 'input_token_details': {'audio': 0, 'cache_read': 0}, 'output_token_details': {'audio': 0, 'reasoning': 320}})]}\n",
      "{'messages': [AIMessage(content='', additional_kwargs={'tool_calls': [{'id': 'call_rnXL3cp3ybVuLaviN35ivF9z', 'function': {'arguments': '{\"query\":\"Kensington London current weather now\"}', 'name': 'tavily_search_results_json'}, 'type': 'function'}], 'refusal': None}, response_metadata={'token_usage': {'completion_tokens': 353, 'prompt_tokens': 1080, 'total_tokens': 1433, 'completion_tokens_details': {'accepted_prediction_tokens': 0, 'audio_tokens': 0, 'reasoning_tokens': 320, 'rejected_prediction_tokens': 0}, 'prompt_tokens_details': {'audio_tokens': 0, 'cached_tokens': 0}}, 'model_name': 'gpt-5-nano-2025-08-07', 'system_fingerprint': None, 'id': 'chatcmpl-C3gRqsZDnMH4snwhkVtusG8b4WAUQ', 'service_tier': 'default', 'finish_reason': 'tool_calls', 'logprobs': None}, id='run--6cee103e-65eb-469c-b2d3-df5cc2d06cdc-0', tool_calls=[{'name': 'tavily_search_results_json', 'args': {'query': 'Kensington London current weather now'}, 'id': 'call_rnXL3cp3ybVuLaviN35ivF9z', 'type': 'tool_call'}], usage_metadata={'input_tokens': 1080, 'output_tokens': 353, 'total_tokens': 1433, 'input_token_details': {'audio': 0, 'cache_read': 0}, 'output_token_details': {'audio': 0, 'reasoning': 320}})]}\n",
      "()\n",
      "\n",
      " <bound method Pregel.get_state of <langgraph.graph.state.CompiledStateGraph object at 0x119bb5750>> \n",
      "\n",
      "Calling: {'name': 'tavily_search_results_json', 'args': {'query': 'Kensington London current weather now'}, 'id': 'call_rnXL3cp3ybVuLaviN35ivF9z', 'type': 'tool_call'}\n",
      "Back to the model!\n",
      "{'messages': [ToolMessage(content='[{\\'title\\': \\'Kensington, Kensington and Chelsea, United Kingdom ...\\', \\'url\\': \\'https://www.accuweather.com/en/gb/kensington/w8-7/weather-forecast/323272\\', \\'content\\': \"Sunny to partly cloudy and hot; caution advised if doing strenuous activities outside\\\\nHi: 90°\\\\n\\\\nTonight: Partly cloudy\\\\nLo: 63°\\\\n\\\\n## Current Weather\\\\n\\\\n11:23 AM\\\\n\\\\n## Kensington Weather Radar\\\\n\\\\nKensington Weather Radar\\\\n\\\\n## Hourly Weather\\\\n\\\\nrain drop\\\\n\\\\nrain drop\\\\n\\\\nrain drop\\\\n\\\\nrain drop\\\\n\\\\nrain drop\\\\n\\\\nrain drop\\\\n\\\\nrain drop\\\\n\\\\nrain drop\\\\n\\\\nrain drop\\\\n\\\\nrain drop\\\\n\\\\nrain drop\\\\n\\\\nrain drop\\\\n\\\\n## 10-Day Weather Forecast\\\\n\\\\nToday\\\\n\\\\n8/12\\\\n\\\\nMostly sunny and hot\\\\n\\\\nNight: Partly cloudy\\\\n\\\\nWed\\\\n\\\\n8/13\\\\n\\\\nVery warm with periods of sun [...] # Kensington, Kensington and Chelsea\\\\n\\\\nKensington\\\\n\\\\nKensington and Chelsea\\\\n\\\\n## Around the Globe\\\\n\\\\nAround the Globe\\\\n\\\\n### Hurricane Tracker\\\\n\\\\n### Severe Weather\\\\n\\\\n### Radar & Maps\\\\n\\\\n### News & Features\\\\n\\\\n### Astronomy\\\\n\\\\n### Business\\\\n\\\\n### Climate\\\\n\\\\n### Health\\\\n\\\\n### Recreation\\\\n\\\\n### Sports\\\\n\\\\n### Travel\\\\n\\\\n### Warnings\\\\n\\\\n### Data Suite\\\\n\\\\n### Forensics\\\\n\\\\n### Advertising\\\\n\\\\n### Superior Accuracy™\\\\n\\\\n### Video\\\\n\\\\n## Today\\\\n\\\\n## Today\\'s Weather\\\\n\\\\nTue, Aug 12\", \\'score\\': 0.7644879}, {\\'title\\': \\'Monthly Weather Forecast for Kensington, England, United Kingdom\\', \\'url\\': \\'https://weather.com/weather/monthly/l/Kensington+England+United+Kingdom?canonicalCityId=0908f9a0f1a2e0890a1dfd2cceb016b66a9823720ad3b1547ff8700cea38ebe1\\', \\'content\\': \\'## Recent Locations\\\\n\\\\nMenu\\\\n\\\\n## Weather Forecasts\\\\n\\\\n## Radar & Maps\\\\n\\\\n## News & Media\\\\n\\\\n## Products & Account\\\\n\\\\n## Lifestyle\\\\n\\\\n### Specialty Forecasts\\\\n\\\\n# Monthly Weather-Kensington, England, United Kingdom\\\\n\\\\n## Day\\\\n\\\\nPartly cloudy. Very warm. High 84F. Winds SE at 5 to 10 mph.\\\\n\\\\n## Night\\\\n\\\\nSome clouds this evening will give way to mainly clear skies overnight. Low 64F. Winds ESE at 5 to 10 mph.\\\\n\\\\n## We Love Our Critters\\\\n\\\\n## Travel\\\\n\\\\n## Home, Garage & Garden [...] © The Weather Company, LLC 2025 [...] | Aug 12 | High | Low | Precip |\\\\n| --- | --- | --- | --- |\\\\n| Averages | 67°F | 54° | -- |\\\\n| Records | -- | -- | -- |\\\\n\\\\n| Reported Conditions |\\\\n| --- |\\\\n| Yesterday | 82° | 62° | 0.01 in |\\\\n| Last 7 Days | 82° | 53° | 0.10 |\\\\n| Month to Date | 82° | 53° | 0.40 |\\\\n\\\\n| Historical Monthly Avg |\\\\n| --- |\\\\n| August | 67° | 54° | 0 |\\\\n| September | 62° | 50° | 0 |\\\\n| October | 55° | 45° | 0 |\\\\n\\\\n## Sun & Moon\\\\n\\\\n## Stay Safe\\\\n\\\\n## Travel Far, Travel Often\\', \\'score\\': 0.6729558}]', name='tavily_search_results_json', id='e9f80447-4b24-4a87-977c-04a8b507e8b6', tool_call_id='call_rnXL3cp3ybVuLaviN35ivF9z')]}\n",
      "{'messages': [HumanMessage(content='What is the weather in Kensington London?', additional_kwargs={}, response_metadata={}, id='c0ec6f5e-1256-415b-8f74-c7b89b3cb761'), AIMessage(content='', additional_kwargs={'tool_calls': [{'id': 'call_LqbQR3OKjKyH2BxrUECYAKfa', 'function': {'arguments': '{\"query\":\"Kensington London weather current\"}', 'name': 'tavily_search_results_json'}, 'type': 'function'}], 'refusal': None}, response_metadata={'token_usage': {'completion_tokens': 352, 'prompt_tokens': 236, 'total_tokens': 588, 'completion_tokens_details': {'accepted_prediction_tokens': 0, 'audio_tokens': 0, 'reasoning_tokens': 320, 'rejected_prediction_tokens': 0}, 'prompt_tokens_details': {'audio_tokens': 0, 'cached_tokens': 0}}, 'model_name': 'gpt-5-nano-2025-08-07', 'system_fingerprint': None, 'id': 'chatcmpl-C3gRcoIi7QNciTVLWdMoFwdRCsToa', 'service_tier': 'default', 'finish_reason': 'tool_calls', 'logprobs': None}, id='run--511650d9-ff71-4a63-b340-7b627d341063-0', tool_calls=[{'name': 'tavily_search_results_json', 'args': {'query': 'Kensington London weather current'}, 'id': 'call_LqbQR3OKjKyH2BxrUECYAKfa', 'type': 'tool_call'}], usage_metadata={'input_tokens': 236, 'output_tokens': 352, 'total_tokens': 588, 'input_token_details': {'audio': 0, 'cache_read': 0}, 'output_token_details': {'audio': 0, 'reasoning': 320}}), ToolMessage(content=\"[{'title': 'Monthly Weather-Kensington, England, United Kingdom', 'url': 'https://weather.com/weather/monthly/l/Kensington+England+United+Kingdom?canonicalCityId=0908f9a0f1a2e0890a1dfd2cceb016b66a9823720ad3b1547ff8700cea38ebe1', 'content': '## Recent Locations\\\\n\\\\nMenu\\\\n\\\\n## Weather Forecasts\\\\n\\\\n## Radar & Maps\\\\n\\\\n## News & Media\\\\n\\\\n## Products & Account\\\\n\\\\n## Lifestyle\\\\n\\\\n### Specialty Forecasts\\\\n\\\\n# Monthly Weather-Kensington, England, United Kingdom\\\\n\\\\n## Day\\\\n\\\\nPartly cloudy. Very warm. High 84F. Winds SE at 5 to 10 mph.\\\\n\\\\n## Night\\\\n\\\\nSome clouds this evening will give way to mainly clear skies overnight. Low 64F. Winds ESE at 5 to 10 mph.\\\\n\\\\n## We Love Our Critters\\\\n\\\\n## Travel\\\\n\\\\n## Home, Garage & Garden [...] © The Weather Company, LLC 2025 [...] | Aug 12 | High | Low | Precip |\\\\n| --- | --- | --- | --- |\\\\n| Averages | 67°F | 54° | -- |\\\\n| Records | -- | -- | -- |\\\\n\\\\n| Reported Conditions |\\\\n| --- |\\\\n| Yesterday | 82° | 62° | 0.01 in |\\\\n| Last 7 Days | 82° | 53° | 0.10 |\\\\n| Month to Date | 82° | 53° | 0.40 |\\\\n\\\\n| Historical Monthly Avg |\\\\n| --- |\\\\n| August | 67° | 54° | 0 |\\\\n| September | 62° | 50° | 0 |\\\\n| October | 55° | 45° | 0 |\\\\n\\\\n## Sun & Moon\\\\n\\\\n## Stay Safe\\\\n\\\\n## Travel Far, Travel Often', 'score': 0.65914243}, {'title': 'Kensington - BBC Weather', 'url': 'https://www.bbc.com/weather/2645801', 'content': 'Thursday morning will see patches of cloud and a chance of a shower. The afternoon will be dry and sunny. Friday and Saturday looks to be dry with plenty of sunshine expected. Staying very warm through the period. Winds will be largely light to gentle, though a moderate south-easterly to easterly breeze may develop later on.\\\\n\\\\n## Observations - London Battersea Heliport\\\\n\\\\nObserved at 08:00,\\\\n\\\\nTuesday 12 August\\\\n\\\\n## Our favourite Weather Watchers photos nearby\\\\n\\\\nReport for Southwark, Greater London [...] Today\\\\n\\\\nToday is expected to remain dry and settled with plenty of sunshine and little cloud cover. A hot day.\\\\n\\\\nTonight\\\\n\\\\nTonight, it is expected to be dry and settled, however low cloud will gradually move in from the south.\\\\n\\\\nWednesday\\\\n\\\\nTomorrow will see low cloud clear in the morning. The rest of the day is expected to be mostly dry and sunny. Very warm to hot.\\\\n\\\\nOutlook for Thursday to Saturday [...] ## Accessibility links\\\\n\\\\n## Search for a location\\\\n\\\\n# Kensington - Weather warnings issued\\\\n\\\\n## Forecast - Kensington\\\\n\\\\n### Day by day forecast\\\\n\\\\n### Environmental Summary\\\\n\\\\n### Sunrise Sunset\\\\n\\\\n### Sunrise Sunset\\\\n\\\\n### Sunrise Sunset\\\\n\\\\n### Sunrise Sunset\\\\n\\\\n### Sunrise Sunset\\\\n\\\\n### Sunrise Sunset\\\\n\\\\n### Sunrise Sunset\\\\n\\\\n### Sunrise Sunset\\\\n\\\\n### Sunrise Sunset\\\\n\\\\n### Sunrise Sunset\\\\n\\\\n### Sunrise Sunset\\\\n\\\\n### Sunrise Sunset\\\\n\\\\n### Sunrise Sunset\\\\n\\\\n### Sunrise Sunset\\\\n\\\\n### Hour by hour forecast\\\\n\\\\n### Environmental Summary', 'score': 0.657561}]\", name='tavily_search_results_json', id='6fa67494-858a-40a2-88fa-aa3f97bab564', tool_call_id='call_LqbQR3OKjKyH2BxrUECYAKfa'), AIMessage(content='', additional_kwargs={'tool_calls': [{'id': 'call_rnXL3cp3ybVuLaviN35ivF9z', 'function': {'arguments': '{\"query\":\"Kensington London current weather now\"}', 'name': 'tavily_search_results_json'}, 'type': 'function'}], 'refusal': None}, response_metadata={'token_usage': {'completion_tokens': 353, 'prompt_tokens': 1080, 'total_tokens': 1433, 'completion_tokens_details': {'accepted_prediction_tokens': 0, 'audio_tokens': 0, 'reasoning_tokens': 320, 'rejected_prediction_tokens': 0}, 'prompt_tokens_details': {'audio_tokens': 0, 'cached_tokens': 0}}, 'model_name': 'gpt-5-nano-2025-08-07', 'system_fingerprint': None, 'id': 'chatcmpl-C3gRqsZDnMH4snwhkVtusG8b4WAUQ', 'service_tier': 'default', 'finish_reason': 'tool_calls', 'logprobs': None}, id='run--6cee103e-65eb-469c-b2d3-df5cc2d06cdc-0', tool_calls=[{'name': 'tavily_search_results_json', 'args': {'query': 'Kensington London current weather now'}, 'id': 'call_rnXL3cp3ybVuLaviN35ivF9z', 'type': 'tool_call'}], usage_metadata={'input_tokens': 1080, 'output_tokens': 353, 'total_tokens': 1433, 'input_token_details': {'audio': 0, 'cache_read': 0}, 'output_token_details': {'audio': 0, 'reasoning': 320}}), ToolMessage(content='[{\\'title\\': \\'Kensington, Kensington and Chelsea, United Kingdom ...\\', \\'url\\': \\'https://www.accuweather.com/en/gb/kensington/w8-7/weather-forecast/323272\\', \\'content\\': \"Sunny to partly cloudy and hot; caution advised if doing strenuous activities outside\\\\nHi: 90°\\\\n\\\\nTonight: Partly cloudy\\\\nLo: 63°\\\\n\\\\n## Current Weather\\\\n\\\\n11:23 AM\\\\n\\\\n## Kensington Weather Radar\\\\n\\\\nKensington Weather Radar\\\\n\\\\n## Hourly Weather\\\\n\\\\nrain drop\\\\n\\\\nrain drop\\\\n\\\\nrain drop\\\\n\\\\nrain drop\\\\n\\\\nrain drop\\\\n\\\\nrain drop\\\\n\\\\nrain drop\\\\n\\\\nrain drop\\\\n\\\\nrain drop\\\\n\\\\nrain drop\\\\n\\\\nrain drop\\\\n\\\\nrain drop\\\\n\\\\n## 10-Day Weather Forecast\\\\n\\\\nToday\\\\n\\\\n8/12\\\\n\\\\nMostly sunny and hot\\\\n\\\\nNight: Partly cloudy\\\\n\\\\nWed\\\\n\\\\n8/13\\\\n\\\\nVery warm with periods of sun [...] # Kensington, Kensington and Chelsea\\\\n\\\\nKensington\\\\n\\\\nKensington and Chelsea\\\\n\\\\n## Around the Globe\\\\n\\\\nAround the Globe\\\\n\\\\n### Hurricane Tracker\\\\n\\\\n### Severe Weather\\\\n\\\\n### Radar & Maps\\\\n\\\\n### News & Features\\\\n\\\\n### Astronomy\\\\n\\\\n### Business\\\\n\\\\n### Climate\\\\n\\\\n### Health\\\\n\\\\n### Recreation\\\\n\\\\n### Sports\\\\n\\\\n### Travel\\\\n\\\\n### Warnings\\\\n\\\\n### Data Suite\\\\n\\\\n### Forensics\\\\n\\\\n### Advertising\\\\n\\\\n### Superior Accuracy™\\\\n\\\\n### Video\\\\n\\\\n## Today\\\\n\\\\n## Today\\'s Weather\\\\n\\\\nTue, Aug 12\", \\'score\\': 0.7644879}, {\\'title\\': \\'Monthly Weather Forecast for Kensington, England, United Kingdom\\', \\'url\\': \\'https://weather.com/weather/monthly/l/Kensington+England+United+Kingdom?canonicalCityId=0908f9a0f1a2e0890a1dfd2cceb016b66a9823720ad3b1547ff8700cea38ebe1\\', \\'content\\': \\'## Recent Locations\\\\n\\\\nMenu\\\\n\\\\n## Weather Forecasts\\\\n\\\\n## Radar & Maps\\\\n\\\\n## News & Media\\\\n\\\\n## Products & Account\\\\n\\\\n## Lifestyle\\\\n\\\\n### Specialty Forecasts\\\\n\\\\n# Monthly Weather-Kensington, England, United Kingdom\\\\n\\\\n## Day\\\\n\\\\nPartly cloudy. Very warm. High 84F. Winds SE at 5 to 10 mph.\\\\n\\\\n## Night\\\\n\\\\nSome clouds this evening will give way to mainly clear skies overnight. Low 64F. Winds ESE at 5 to 10 mph.\\\\n\\\\n## We Love Our Critters\\\\n\\\\n## Travel\\\\n\\\\n## Home, Garage & Garden [...] © The Weather Company, LLC 2025 [...] | Aug 12 | High | Low | Precip |\\\\n| --- | --- | --- | --- |\\\\n| Averages | 67°F | 54° | -- |\\\\n| Records | -- | -- | -- |\\\\n\\\\n| Reported Conditions |\\\\n| --- |\\\\n| Yesterday | 82° | 62° | 0.01 in |\\\\n| Last 7 Days | 82° | 53° | 0.10 |\\\\n| Month to Date | 82° | 53° | 0.40 |\\\\n\\\\n| Historical Monthly Avg |\\\\n| --- |\\\\n| August | 67° | 54° | 0 |\\\\n| September | 62° | 50° | 0 |\\\\n| October | 55° | 45° | 0 |\\\\n\\\\n## Sun & Moon\\\\n\\\\n## Stay Safe\\\\n\\\\n## Travel Far, Travel Often\\', \\'score\\': 0.6729558}]', name='tavily_search_results_json', id='e9f80447-4b24-4a87-977c-04a8b507e8b6', tool_call_id='call_rnXL3cp3ybVuLaviN35ivF9z'), AIMessage(content='', additional_kwargs={'tool_calls': [{'id': 'call_EzhvBxgzflQZHDuVzBohEjQC', 'function': {'arguments': '{\"query\":\"Kensington W8 current temperature weather\"}', 'name': 'tavily_search_results_json'}, 'type': 'function'}], 'refusal': None}, response_metadata={'token_usage': {'completion_tokens': 930, 'prompt_tokens': 1900, 'total_tokens': 2830, 'completion_tokens_details': {'accepted_prediction_tokens': 0, 'audio_tokens': 0, 'reasoning_tokens': 896, 'rejected_prediction_tokens': 0}, 'prompt_tokens_details': {'audio_tokens': 0, 'cached_tokens': 0}}, 'model_name': 'gpt-5-nano-2025-08-07', 'system_fingerprint': None, 'id': 'chatcmpl-C3gS7PVmOGXoeyCuF6sAM7pVbAOce', 'service_tier': 'default', 'finish_reason': 'tool_calls', 'logprobs': None}, id='run--7a2c2118-cfc5-481f-a698-7ff39b3d6362-0', tool_calls=[{'name': 'tavily_search_results_json', 'args': {'query': 'Kensington W8 current temperature weather'}, 'id': 'call_EzhvBxgzflQZHDuVzBohEjQC', 'type': 'tool_call'}], usage_metadata={'input_tokens': 1900, 'output_tokens': 930, 'total_tokens': 2830, 'input_token_details': {'audio': 0, 'cache_read': 0}, 'output_token_details': {'audio': 0, 'reasoning': 896}})]}\n",
      "{'messages': [AIMessage(content='', additional_kwargs={'tool_calls': [{'id': 'call_EzhvBxgzflQZHDuVzBohEjQC', 'function': {'arguments': '{\"query\":\"Kensington W8 current temperature weather\"}', 'name': 'tavily_search_results_json'}, 'type': 'function'}], 'refusal': None}, response_metadata={'token_usage': {'completion_tokens': 930, 'prompt_tokens': 1900, 'total_tokens': 2830, 'completion_tokens_details': {'accepted_prediction_tokens': 0, 'audio_tokens': 0, 'reasoning_tokens': 896, 'rejected_prediction_tokens': 0}, 'prompt_tokens_details': {'audio_tokens': 0, 'cached_tokens': 0}}, 'model_name': 'gpt-5-nano-2025-08-07', 'system_fingerprint': None, 'id': 'chatcmpl-C3gS7PVmOGXoeyCuF6sAM7pVbAOce', 'service_tier': 'default', 'finish_reason': 'tool_calls', 'logprobs': None}, id='run--7a2c2118-cfc5-481f-a698-7ff39b3d6362-0', tool_calls=[{'name': 'tavily_search_results_json', 'args': {'query': 'Kensington W8 current temperature weather'}, 'id': 'call_EzhvBxgzflQZHDuVzBohEjQC', 'type': 'tool_call'}], usage_metadata={'input_tokens': 1900, 'output_tokens': 930, 'total_tokens': 2830, 'input_token_details': {'audio': 0, 'cache_read': 0}, 'output_token_details': {'audio': 0, 'reasoning': 896}})]}\n",
      "()\n",
      "\n",
      " <bound method Pregel.get_state of <langgraph.graph.state.CompiledStateGraph object at 0x119bb5750>> \n",
      "\n",
      "Calling: {'name': 'tavily_search_results_json', 'args': {'query': 'Kensington W8 current temperature weather'}, 'id': 'call_EzhvBxgzflQZHDuVzBohEjQC', 'type': 'tool_call'}\n",
      "Back to the model!\n",
      "{'messages': [ToolMessage(content='[{\\'title\\': \\'Kensington, Kensington and Chelsea, United Kingdom ...\\', \\'url\\': \\'https://www.accuweather.com/en/gb/kensington/w8-7/weather-forecast/323272\\', \\'content\\': \"Sunny to partly cloudy and hot; caution advised if doing strenuous activities outside\\\\nHi: 90°\\\\n\\\\nTonight: Partly cloudy\\\\nLo: 63°\\\\n\\\\n## Current Weather\\\\n\\\\n11:23 AM\\\\n\\\\n## Kensington Weather Radar\\\\n\\\\nKensington Weather Radar\\\\n\\\\n## Hourly Weather\\\\n\\\\nrain drop\\\\n\\\\nrain drop\\\\n\\\\nrain drop\\\\n\\\\nrain drop\\\\n\\\\nrain drop\\\\n\\\\nrain drop\\\\n\\\\nrain drop\\\\n\\\\nrain drop\\\\n\\\\nrain drop\\\\n\\\\nrain drop\\\\n\\\\nrain drop\\\\n\\\\nrain drop\\\\n\\\\n## 10-Day Weather Forecast\\\\n\\\\nToday\\\\n\\\\n8/12\\\\n\\\\nMostly sunny and hot\\\\n\\\\nNight: Partly cloudy\\\\n\\\\nWed\\\\n\\\\n8/13\\\\n\\\\nVery warm with periods of sun [...] # Kensington, Kensington and Chelsea\\\\n\\\\nKensington\\\\n\\\\nKensington and Chelsea\\\\n\\\\n## Around the Globe\\\\n\\\\nAround the Globe\\\\n\\\\n### Hurricane Tracker\\\\n\\\\n### Severe Weather\\\\n\\\\n### Radar & Maps\\\\n\\\\n### News & Features\\\\n\\\\n### Astronomy\\\\n\\\\n### Business\\\\n\\\\n### Climate\\\\n\\\\n### Health\\\\n\\\\n### Recreation\\\\n\\\\n### Sports\\\\n\\\\n### Travel\\\\n\\\\n### Warnings\\\\n\\\\n### Data Suite\\\\n\\\\n### Forensics\\\\n\\\\n### Advertising\\\\n\\\\n### Superior Accuracy™\\\\n\\\\n### Video\\\\n\\\\n## Today\\\\n\\\\n## Today\\'s Weather\\\\n\\\\nTue, Aug 12 [...] The air quality is generally acceptable for most individuals. However, sensitive groups may experience minor to moderate symptoms from long-term exposure.\\\\n\\\\n## Allergy Outlook\\\\n\\\\nTop Stories\\\\n\\\\nHurricane\\\\n\\\\nTropical Storm Erin forms, to become first Atlantic hurricane of 2025\\\\n\\\\n1 hour ago\\\\n\\\\nWeather News\\\\n\\\\nLee Fire rages in Colorado amid severe western wildfire season\\\\n\\\\n13 minutes ago\\\\n\\\\nWeather Forecasts\\\\n\\\\nDownpours to end much of Northeast\\'s dry spell at midweek\\\\n\\\\n1 hour ago\\\\n\\\\nAstronomy\", \\'score\\': 0.657033}, {\\'title\\': \\'BBC Weather - Kensington\\', \\'url\\': \\'https://www.bbc.com/weather/11669846\\', \\'content\\': \\'Tomorrow will be mostly sunny and dry, however the odd shower is expected in the afternoon, with a chance of a rumble of thunder. Very warm.\\\\n\\\\nOutlook for Thursday to Saturday\\\\n\\\\nThursday will begin with scattered showers, these easing in the afternoon to reveal plenty of sunshine. Friday will see some lingering low cloud in the morning. However, this will lift in the afternoon to reveal plenty of sunshine. Saturday will be dry with long spells of sunshine, and it will turn increasingly warm. [...] ### Latest forecast for Merseyside\\\\n\\\\nToday\\\\n\\\\nThis afternoon will continue largely dry and settled with plenty of sunny spells. A few patches of cloud may develop at times, with a chance of a shower in spots. Very warm.\\\\n\\\\nTonight\\\\n\\\\nThis evening should see any showers clear, leaving it dry with increasingly clear skies for most into the overnight period.\\\\n\\\\nWednesday [...] ### Sunrise Sunset\\\\n\\\\n### Sunrise Sunset\\\\n\\\\n### Sunrise Sunset\\\\n\\\\n### Sunrise Sunset\\\\n\\\\n### Sunrise Sunset\\\\n\\\\n### Sunrise Sunset\\\\n\\\\n### Sunrise Sunset\\\\n\\\\n### Sunrise Sunset\\\\n\\\\n### Sunrise Sunset\\\\n\\\\n### Sunrise Sunset\\\\n\\\\n### Sunrise Sunset\\\\n\\\\n### Sunrise Sunset\\\\n\\\\n### Sunrise Sunset\\\\n\\\\n### Sunrise Sunset\\\\n\\\\n## Outlook forecast map\\\\n\\\\n## Forecast for North West England\\\\n\\\\n### Latest forecast from BBC North West Today\\\\n\\\\n## To play this video you need to enable JavaScript in your browser.\\\\n\\\\nThis video can not be played\\', \\'score\\': 0.48616135}]', name='tavily_search_results_json', id='11bcd028-f7a8-4e72-862b-93fa80459723', tool_call_id='call_EzhvBxgzflQZHDuVzBohEjQC')]}\n",
      "{'messages': [HumanMessage(content='What is the weather in Kensington London?', additional_kwargs={}, response_metadata={}, id='c0ec6f5e-1256-415b-8f74-c7b89b3cb761'), AIMessage(content='', additional_kwargs={'tool_calls': [{'id': 'call_LqbQR3OKjKyH2BxrUECYAKfa', 'function': {'arguments': '{\"query\":\"Kensington London weather current\"}', 'name': 'tavily_search_results_json'}, 'type': 'function'}], 'refusal': None}, response_metadata={'token_usage': {'completion_tokens': 352, 'prompt_tokens': 236, 'total_tokens': 588, 'completion_tokens_details': {'accepted_prediction_tokens': 0, 'audio_tokens': 0, 'reasoning_tokens': 320, 'rejected_prediction_tokens': 0}, 'prompt_tokens_details': {'audio_tokens': 0, 'cached_tokens': 0}}, 'model_name': 'gpt-5-nano-2025-08-07', 'system_fingerprint': None, 'id': 'chatcmpl-C3gRcoIi7QNciTVLWdMoFwdRCsToa', 'service_tier': 'default', 'finish_reason': 'tool_calls', 'logprobs': None}, id='run--511650d9-ff71-4a63-b340-7b627d341063-0', tool_calls=[{'name': 'tavily_search_results_json', 'args': {'query': 'Kensington London weather current'}, 'id': 'call_LqbQR3OKjKyH2BxrUECYAKfa', 'type': 'tool_call'}], usage_metadata={'input_tokens': 236, 'output_tokens': 352, 'total_tokens': 588, 'input_token_details': {'audio': 0, 'cache_read': 0}, 'output_token_details': {'audio': 0, 'reasoning': 320}}), ToolMessage(content=\"[{'title': 'Monthly Weather-Kensington, England, United Kingdom', 'url': 'https://weather.com/weather/monthly/l/Kensington+England+United+Kingdom?canonicalCityId=0908f9a0f1a2e0890a1dfd2cceb016b66a9823720ad3b1547ff8700cea38ebe1', 'content': '## Recent Locations\\\\n\\\\nMenu\\\\n\\\\n## Weather Forecasts\\\\n\\\\n## Radar & Maps\\\\n\\\\n## News & Media\\\\n\\\\n## Products & Account\\\\n\\\\n## Lifestyle\\\\n\\\\n### Specialty Forecasts\\\\n\\\\n# Monthly Weather-Kensington, England, United Kingdom\\\\n\\\\n## Day\\\\n\\\\nPartly cloudy. Very warm. High 84F. Winds SE at 5 to 10 mph.\\\\n\\\\n## Night\\\\n\\\\nSome clouds this evening will give way to mainly clear skies overnight. Low 64F. Winds ESE at 5 to 10 mph.\\\\n\\\\n## We Love Our Critters\\\\n\\\\n## Travel\\\\n\\\\n## Home, Garage & Garden [...] © The Weather Company, LLC 2025 [...] | Aug 12 | High | Low | Precip |\\\\n| --- | --- | --- | --- |\\\\n| Averages | 67°F | 54° | -- |\\\\n| Records | -- | -- | -- |\\\\n\\\\n| Reported Conditions |\\\\n| --- |\\\\n| Yesterday | 82° | 62° | 0.01 in |\\\\n| Last 7 Days | 82° | 53° | 0.10 |\\\\n| Month to Date | 82° | 53° | 0.40 |\\\\n\\\\n| Historical Monthly Avg |\\\\n| --- |\\\\n| August | 67° | 54° | 0 |\\\\n| September | 62° | 50° | 0 |\\\\n| October | 55° | 45° | 0 |\\\\n\\\\n## Sun & Moon\\\\n\\\\n## Stay Safe\\\\n\\\\n## Travel Far, Travel Often', 'score': 0.65914243}, {'title': 'Kensington - BBC Weather', 'url': 'https://www.bbc.com/weather/2645801', 'content': 'Thursday morning will see patches of cloud and a chance of a shower. The afternoon will be dry and sunny. Friday and Saturday looks to be dry with plenty of sunshine expected. Staying very warm through the period. Winds will be largely light to gentle, though a moderate south-easterly to easterly breeze may develop later on.\\\\n\\\\n## Observations - London Battersea Heliport\\\\n\\\\nObserved at 08:00,\\\\n\\\\nTuesday 12 August\\\\n\\\\n## Our favourite Weather Watchers photos nearby\\\\n\\\\nReport for Southwark, Greater London [...] Today\\\\n\\\\nToday is expected to remain dry and settled with plenty of sunshine and little cloud cover. A hot day.\\\\n\\\\nTonight\\\\n\\\\nTonight, it is expected to be dry and settled, however low cloud will gradually move in from the south.\\\\n\\\\nWednesday\\\\n\\\\nTomorrow will see low cloud clear in the morning. The rest of the day is expected to be mostly dry and sunny. Very warm to hot.\\\\n\\\\nOutlook for Thursday to Saturday [...] ## Accessibility links\\\\n\\\\n## Search for a location\\\\n\\\\n# Kensington - Weather warnings issued\\\\n\\\\n## Forecast - Kensington\\\\n\\\\n### Day by day forecast\\\\n\\\\n### Environmental Summary\\\\n\\\\n### Sunrise Sunset\\\\n\\\\n### Sunrise Sunset\\\\n\\\\n### Sunrise Sunset\\\\n\\\\n### Sunrise Sunset\\\\n\\\\n### Sunrise Sunset\\\\n\\\\n### Sunrise Sunset\\\\n\\\\n### Sunrise Sunset\\\\n\\\\n### Sunrise Sunset\\\\n\\\\n### Sunrise Sunset\\\\n\\\\n### Sunrise Sunset\\\\n\\\\n### Sunrise Sunset\\\\n\\\\n### Sunrise Sunset\\\\n\\\\n### Sunrise Sunset\\\\n\\\\n### Sunrise Sunset\\\\n\\\\n### Hour by hour forecast\\\\n\\\\n### Environmental Summary', 'score': 0.657561}]\", name='tavily_search_results_json', id='6fa67494-858a-40a2-88fa-aa3f97bab564', tool_call_id='call_LqbQR3OKjKyH2BxrUECYAKfa'), AIMessage(content='', additional_kwargs={'tool_calls': [{'id': 'call_rnXL3cp3ybVuLaviN35ivF9z', 'function': {'arguments': '{\"query\":\"Kensington London current weather now\"}', 'name': 'tavily_search_results_json'}, 'type': 'function'}], 'refusal': None}, response_metadata={'token_usage': {'completion_tokens': 353, 'prompt_tokens': 1080, 'total_tokens': 1433, 'completion_tokens_details': {'accepted_prediction_tokens': 0, 'audio_tokens': 0, 'reasoning_tokens': 320, 'rejected_prediction_tokens': 0}, 'prompt_tokens_details': {'audio_tokens': 0, 'cached_tokens': 0}}, 'model_name': 'gpt-5-nano-2025-08-07', 'system_fingerprint': None, 'id': 'chatcmpl-C3gRqsZDnMH4snwhkVtusG8b4WAUQ', 'service_tier': 'default', 'finish_reason': 'tool_calls', 'logprobs': None}, id='run--6cee103e-65eb-469c-b2d3-df5cc2d06cdc-0', tool_calls=[{'name': 'tavily_search_results_json', 'args': {'query': 'Kensington London current weather now'}, 'id': 'call_rnXL3cp3ybVuLaviN35ivF9z', 'type': 'tool_call'}], usage_metadata={'input_tokens': 1080, 'output_tokens': 353, 'total_tokens': 1433, 'input_token_details': {'audio': 0, 'cache_read': 0}, 'output_token_details': {'audio': 0, 'reasoning': 320}}), ToolMessage(content='[{\\'title\\': \\'Kensington, Kensington and Chelsea, United Kingdom ...\\', \\'url\\': \\'https://www.accuweather.com/en/gb/kensington/w8-7/weather-forecast/323272\\', \\'content\\': \"Sunny to partly cloudy and hot; caution advised if doing strenuous activities outside\\\\nHi: 90°\\\\n\\\\nTonight: Partly cloudy\\\\nLo: 63°\\\\n\\\\n## Current Weather\\\\n\\\\n11:23 AM\\\\n\\\\n## Kensington Weather Radar\\\\n\\\\nKensington Weather Radar\\\\n\\\\n## Hourly Weather\\\\n\\\\nrain drop\\\\n\\\\nrain drop\\\\n\\\\nrain drop\\\\n\\\\nrain drop\\\\n\\\\nrain drop\\\\n\\\\nrain drop\\\\n\\\\nrain drop\\\\n\\\\nrain drop\\\\n\\\\nrain drop\\\\n\\\\nrain drop\\\\n\\\\nrain drop\\\\n\\\\nrain drop\\\\n\\\\n## 10-Day Weather Forecast\\\\n\\\\nToday\\\\n\\\\n8/12\\\\n\\\\nMostly sunny and hot\\\\n\\\\nNight: Partly cloudy\\\\n\\\\nWed\\\\n\\\\n8/13\\\\n\\\\nVery warm with periods of sun [...] # Kensington, Kensington and Chelsea\\\\n\\\\nKensington\\\\n\\\\nKensington and Chelsea\\\\n\\\\n## Around the Globe\\\\n\\\\nAround the Globe\\\\n\\\\n### Hurricane Tracker\\\\n\\\\n### Severe Weather\\\\n\\\\n### Radar & Maps\\\\n\\\\n### News & Features\\\\n\\\\n### Astronomy\\\\n\\\\n### Business\\\\n\\\\n### Climate\\\\n\\\\n### Health\\\\n\\\\n### Recreation\\\\n\\\\n### Sports\\\\n\\\\n### Travel\\\\n\\\\n### Warnings\\\\n\\\\n### Data Suite\\\\n\\\\n### Forensics\\\\n\\\\n### Advertising\\\\n\\\\n### Superior Accuracy™\\\\n\\\\n### Video\\\\n\\\\n## Today\\\\n\\\\n## Today\\'s Weather\\\\n\\\\nTue, Aug 12\", \\'score\\': 0.7644879}, {\\'title\\': \\'Monthly Weather Forecast for Kensington, England, United Kingdom\\', \\'url\\': \\'https://weather.com/weather/monthly/l/Kensington+England+United+Kingdom?canonicalCityId=0908f9a0f1a2e0890a1dfd2cceb016b66a9823720ad3b1547ff8700cea38ebe1\\', \\'content\\': \\'## Recent Locations\\\\n\\\\nMenu\\\\n\\\\n## Weather Forecasts\\\\n\\\\n## Radar & Maps\\\\n\\\\n## News & Media\\\\n\\\\n## Products & Account\\\\n\\\\n## Lifestyle\\\\n\\\\n### Specialty Forecasts\\\\n\\\\n# Monthly Weather-Kensington, England, United Kingdom\\\\n\\\\n## Day\\\\n\\\\nPartly cloudy. Very warm. High 84F. Winds SE at 5 to 10 mph.\\\\n\\\\n## Night\\\\n\\\\nSome clouds this evening will give way to mainly clear skies overnight. Low 64F. Winds ESE at 5 to 10 mph.\\\\n\\\\n## We Love Our Critters\\\\n\\\\n## Travel\\\\n\\\\n## Home, Garage & Garden [...] © The Weather Company, LLC 2025 [...] | Aug 12 | High | Low | Precip |\\\\n| --- | --- | --- | --- |\\\\n| Averages | 67°F | 54° | -- |\\\\n| Records | -- | -- | -- |\\\\n\\\\n| Reported Conditions |\\\\n| --- |\\\\n| Yesterday | 82° | 62° | 0.01 in |\\\\n| Last 7 Days | 82° | 53° | 0.10 |\\\\n| Month to Date | 82° | 53° | 0.40 |\\\\n\\\\n| Historical Monthly Avg |\\\\n| --- |\\\\n| August | 67° | 54° | 0 |\\\\n| September | 62° | 50° | 0 |\\\\n| October | 55° | 45° | 0 |\\\\n\\\\n## Sun & Moon\\\\n\\\\n## Stay Safe\\\\n\\\\n## Travel Far, Travel Often\\', \\'score\\': 0.6729558}]', name='tavily_search_results_json', id='e9f80447-4b24-4a87-977c-04a8b507e8b6', tool_call_id='call_rnXL3cp3ybVuLaviN35ivF9z'), AIMessage(content='', additional_kwargs={'tool_calls': [{'id': 'call_EzhvBxgzflQZHDuVzBohEjQC', 'function': {'arguments': '{\"query\":\"Kensington W8 current temperature weather\"}', 'name': 'tavily_search_results_json'}, 'type': 'function'}], 'refusal': None}, response_metadata={'token_usage': {'completion_tokens': 930, 'prompt_tokens': 1900, 'total_tokens': 2830, 'completion_tokens_details': {'accepted_prediction_tokens': 0, 'audio_tokens': 0, 'reasoning_tokens': 896, 'rejected_prediction_tokens': 0}, 'prompt_tokens_details': {'audio_tokens': 0, 'cached_tokens': 0}}, 'model_name': 'gpt-5-nano-2025-08-07', 'system_fingerprint': None, 'id': 'chatcmpl-C3gS7PVmOGXoeyCuF6sAM7pVbAOce', 'service_tier': 'default', 'finish_reason': 'tool_calls', 'logprobs': None}, id='run--7a2c2118-cfc5-481f-a698-7ff39b3d6362-0', tool_calls=[{'name': 'tavily_search_results_json', 'args': {'query': 'Kensington W8 current temperature weather'}, 'id': 'call_EzhvBxgzflQZHDuVzBohEjQC', 'type': 'tool_call'}], usage_metadata={'input_tokens': 1900, 'output_tokens': 930, 'total_tokens': 2830, 'input_token_details': {'audio': 0, 'cache_read': 0}, 'output_token_details': {'audio': 0, 'reasoning': 896}}), ToolMessage(content='[{\\'title\\': \\'Kensington, Kensington and Chelsea, United Kingdom ...\\', \\'url\\': \\'https://www.accuweather.com/en/gb/kensington/w8-7/weather-forecast/323272\\', \\'content\\': \"Sunny to partly cloudy and hot; caution advised if doing strenuous activities outside\\\\nHi: 90°\\\\n\\\\nTonight: Partly cloudy\\\\nLo: 63°\\\\n\\\\n## Current Weather\\\\n\\\\n11:23 AM\\\\n\\\\n## Kensington Weather Radar\\\\n\\\\nKensington Weather Radar\\\\n\\\\n## Hourly Weather\\\\n\\\\nrain drop\\\\n\\\\nrain drop\\\\n\\\\nrain drop\\\\n\\\\nrain drop\\\\n\\\\nrain drop\\\\n\\\\nrain drop\\\\n\\\\nrain drop\\\\n\\\\nrain drop\\\\n\\\\nrain drop\\\\n\\\\nrain drop\\\\n\\\\nrain drop\\\\n\\\\nrain drop\\\\n\\\\n## 10-Day Weather Forecast\\\\n\\\\nToday\\\\n\\\\n8/12\\\\n\\\\nMostly sunny and hot\\\\n\\\\nNight: Partly cloudy\\\\n\\\\nWed\\\\n\\\\n8/13\\\\n\\\\nVery warm with periods of sun [...] # Kensington, Kensington and Chelsea\\\\n\\\\nKensington\\\\n\\\\nKensington and Chelsea\\\\n\\\\n## Around the Globe\\\\n\\\\nAround the Globe\\\\n\\\\n### Hurricane Tracker\\\\n\\\\n### Severe Weather\\\\n\\\\n### Radar & Maps\\\\n\\\\n### News & Features\\\\n\\\\n### Astronomy\\\\n\\\\n### Business\\\\n\\\\n### Climate\\\\n\\\\n### Health\\\\n\\\\n### Recreation\\\\n\\\\n### Sports\\\\n\\\\n### Travel\\\\n\\\\n### Warnings\\\\n\\\\n### Data Suite\\\\n\\\\n### Forensics\\\\n\\\\n### Advertising\\\\n\\\\n### Superior Accuracy™\\\\n\\\\n### Video\\\\n\\\\n## Today\\\\n\\\\n## Today\\'s Weather\\\\n\\\\nTue, Aug 12 [...] The air quality is generally acceptable for most individuals. However, sensitive groups may experience minor to moderate symptoms from long-term exposure.\\\\n\\\\n## Allergy Outlook\\\\n\\\\nTop Stories\\\\n\\\\nHurricane\\\\n\\\\nTropical Storm Erin forms, to become first Atlantic hurricane of 2025\\\\n\\\\n1 hour ago\\\\n\\\\nWeather News\\\\n\\\\nLee Fire rages in Colorado amid severe western wildfire season\\\\n\\\\n13 minutes ago\\\\n\\\\nWeather Forecasts\\\\n\\\\nDownpours to end much of Northeast\\'s dry spell at midweek\\\\n\\\\n1 hour ago\\\\n\\\\nAstronomy\", \\'score\\': 0.657033}, {\\'title\\': \\'BBC Weather - Kensington\\', \\'url\\': \\'https://www.bbc.com/weather/11669846\\', \\'content\\': \\'Tomorrow will be mostly sunny and dry, however the odd shower is expected in the afternoon, with a chance of a rumble of thunder. Very warm.\\\\n\\\\nOutlook for Thursday to Saturday\\\\n\\\\nThursday will begin with scattered showers, these easing in the afternoon to reveal plenty of sunshine. Friday will see some lingering low cloud in the morning. However, this will lift in the afternoon to reveal plenty of sunshine. Saturday will be dry with long spells of sunshine, and it will turn increasingly warm. [...] ### Latest forecast for Merseyside\\\\n\\\\nToday\\\\n\\\\nThis afternoon will continue largely dry and settled with plenty of sunny spells. A few patches of cloud may develop at times, with a chance of a shower in spots. Very warm.\\\\n\\\\nTonight\\\\n\\\\nThis evening should see any showers clear, leaving it dry with increasingly clear skies for most into the overnight period.\\\\n\\\\nWednesday [...] ### Sunrise Sunset\\\\n\\\\n### Sunrise Sunset\\\\n\\\\n### Sunrise Sunset\\\\n\\\\n### Sunrise Sunset\\\\n\\\\n### Sunrise Sunset\\\\n\\\\n### Sunrise Sunset\\\\n\\\\n### Sunrise Sunset\\\\n\\\\n### Sunrise Sunset\\\\n\\\\n### Sunrise Sunset\\\\n\\\\n### Sunrise Sunset\\\\n\\\\n### Sunrise Sunset\\\\n\\\\n### Sunrise Sunset\\\\n\\\\n### Sunrise Sunset\\\\n\\\\n### Sunrise Sunset\\\\n\\\\n## Outlook forecast map\\\\n\\\\n## Forecast for North West England\\\\n\\\\n### Latest forecast from BBC North West Today\\\\n\\\\n## To play this video you need to enable JavaScript in your browser.\\\\n\\\\nThis video can not be played\\', \\'score\\': 0.48616135}]', name='tavily_search_results_json', id='11bcd028-f7a8-4e72-862b-93fa80459723', tool_call_id='call_EzhvBxgzflQZHDuVzBohEjQC'), AIMessage(content='Do you want the current conditions right now or a short forecast for today? I can fetch live data if you’d like.\\n\\nHere’s a quick snapshot from recent forecasts for Kensington, London (W8):\\n- Likely conditions today: very warm with plenty of sunshine, but with a chance of a shower in spots.\\n- Temperatures: typical highs in the mid to high 20s Celsius (roughly 80–90°F), with overnight temperatures staying warm.\\n- Tonight: dry for most of the evening with some cloud developing; tomorrow more sunshine and continued warmth.\\n- Sources you can check: BBC Weather (Kensington) and AccuWeather (Kensington, W8).\\n\\nWould you like me to pull a live update now (and in which units do you want the temperature: Celsius or Fahrenheit)?', additional_kwargs={'refusal': None}, response_metadata={'token_usage': {'completion_tokens': 2030, 'prompt_tokens': 2737, 'total_tokens': 4767, 'completion_tokens_details': {'accepted_prediction_tokens': 0, 'audio_tokens': 0, 'reasoning_tokens': 1856, 'rejected_prediction_tokens': 0}, 'prompt_tokens_details': {'audio_tokens': 0, 'cached_tokens': 0}}, 'model_name': 'gpt-5-nano-2025-08-07', 'system_fingerprint': None, 'id': 'chatcmpl-C3gSZvvQMLJGqfq62fFP6dwsIAq21', 'service_tier': 'default', 'finish_reason': 'stop', 'logprobs': None}, id='run--7274a2b0-544d-4342-9e46-993c235958cd-0', usage_metadata={'input_tokens': 2737, 'output_tokens': 2030, 'total_tokens': 4767, 'input_token_details': {'audio': 0, 'cache_read': 0}, 'output_token_details': {'audio': 0, 'reasoning': 1856}})]}\n",
      "{'messages': [AIMessage(content='Do you want the current conditions right now or a short forecast for today? I can fetch live data if you’d like.\\n\\nHere’s a quick snapshot from recent forecasts for Kensington, London (W8):\\n- Likely conditions today: very warm with plenty of sunshine, but with a chance of a shower in spots.\\n- Temperatures: typical highs in the mid to high 20s Celsius (roughly 80–90°F), with overnight temperatures staying warm.\\n- Tonight: dry for most of the evening with some cloud developing; tomorrow more sunshine and continued warmth.\\n- Sources you can check: BBC Weather (Kensington) and AccuWeather (Kensington, W8).\\n\\nWould you like me to pull a live update now (and in which units do you want the temperature: Celsius or Fahrenheit)?', additional_kwargs={'refusal': None}, response_metadata={'token_usage': {'completion_tokens': 2030, 'prompt_tokens': 2737, 'total_tokens': 4767, 'completion_tokens_details': {'accepted_prediction_tokens': 0, 'audio_tokens': 0, 'reasoning_tokens': 1856, 'rejected_prediction_tokens': 0}, 'prompt_tokens_details': {'audio_tokens': 0, 'cached_tokens': 0}}, 'model_name': 'gpt-5-nano-2025-08-07', 'system_fingerprint': None, 'id': 'chatcmpl-C3gSZvvQMLJGqfq62fFP6dwsIAq21', 'service_tier': 'default', 'finish_reason': 'stop', 'logprobs': None}, id='run--7274a2b0-544d-4342-9e46-993c235958cd-0', usage_metadata={'input_tokens': 2737, 'output_tokens': 2030, 'total_tokens': 4767, 'input_token_details': {'audio': 0, 'cache_read': 0}, 'output_token_details': {'audio': 0, 'reasoning': 1856}})]}\n"
     ]
    }
   ],
   "source": [
    "messages = [HumanMessage(\"What is the weather in Kensington London?\")]\n",
    "thread = {\"configurable\": {\"thread_id\": \"2\"}}\n",
    "\n",
    "for event in abot.graph.stream({\"messages\": messages}, thread):\n",
    "    for v in event.values():\n",
    "        print(v)\n",
    "\n",
    "while abot.graph.get_state(thread).next:\n",
    "    print(f\"\\n {abot.graph.get_state} \\n\")\n",
    "    _input = input(\"Proceed?\")\n",
    "    if _input != 'y':\n",
    "        print(\"terminating\")\n",
    "        break\n",
    "    else:\n",
    "        for event in abot.graph.stream(None, thread):\n",
    "            for v in event.values():\n",
    "                print(v)"
   ]
  },
  {
   "cell_type": "code",
   "execution_count": null,
   "id": "c0816b5f",
   "metadata": {},
   "outputs": [],
   "source": []
  }
 ],
 "metadata": {
  "kernelspec": {
   "display_name": "agentic_notebook",
   "language": "python",
   "name": "agentic_notebook"
  },
  "language_info": {
   "codemirror_mode": {
    "name": "ipython",
    "version": 3
   },
   "file_extension": ".py",
   "mimetype": "text/x-python",
   "name": "python",
   "nbconvert_exporter": "python",
   "pygments_lexer": "ipython3",
   "version": "3.11.9"
  }
 },
 "nbformat": 4,
 "nbformat_minor": 5
}
