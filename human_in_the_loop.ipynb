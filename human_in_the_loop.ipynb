{
 "cells": [
  {
   "cell_type": "markdown",
   "id": "62626df2",
   "metadata": {},
   "source": [
    "# Human in the loop"
   ]
  },
  {
   "cell_type": "code",
   "execution_count": 1,
   "id": "542e0c8a",
   "metadata": {},
   "outputs": [],
   "source": [
    "from dotenv import load_dotenv\n",
    "\n",
    "_ = load_dotenv()"
   ]
  },
  {
   "cell_type": "code",
   "execution_count": 2,
   "id": "ec0660a8",
   "metadata": {},
   "outputs": [],
   "source": [
    "from langgraph.graph import StateGraph, END\n",
    "from typing import TypedDict, Annotated\n",
    "import operator\n",
    "from langchain_core.messages import AnyMessage, SystemMessage, HumanMessage, ToolMessage\n",
    "from langchain_openai import ChatOpenAI\n",
    "from langchain_community.tools.tavily_search import TavilySearchResults\n",
    "from langgraph.checkpoint.memory import MemorySaver\n",
    "\n",
    "memory = MemorySaver()"
   ]
  },
  {
   "cell_type": "markdown",
   "id": "51c67402",
   "metadata": {},
   "source": [
    "## Allow messages to be overwritten"
   ]
  },
  {
   "cell_type": "code",
   "execution_count": 3,
   "id": "5c4d92ef",
   "metadata": {},
   "outputs": [],
   "source": [
    "from uuid import uuid4\n",
    "from langchain_core.messages import AnyMessage, SystemMessage, HumanMessage, AIMessage\n",
    "\n",
    "\"\"\"\n",
    "In previous examples we've annotated the `messages` state key\n",
    "with the default `operator.add` or `+` reducer, which always\n",
    "appends new messages to the end of the existing messages array.\n",
    "\n",
    "Now, to support replacing existing messages, we annotate the\n",
    "`messages` key with a customer reducer function, which replaces\n",
    "messages with the same `id`, and appends them otherwise.\n",
    "\"\"\"\n",
    "def reduce_messages(left: list[AnyMessage], right: list[AnyMessage]) -> list[AnyMessage]:\n",
    "    # assign ids to messages that don't have them\n",
    "    for message in right:\n",
    "        if not message.id:\n",
    "            message.id = str(uuid4())\n",
    "    # merge the new messages with the existing messages\n",
    "    merged = left.copy()\n",
    "    for message in right:\n",
    "        for i, existing in enumerate(merged):\n",
    "            # replace any existing messages with the same id\n",
    "            if existing.id == message.id:\n",
    "                merged[i] = message\n",
    "                break\n",
    "        else:\n",
    "            # append any new messages to the end\n",
    "            merged.append(message)\n",
    "    return merged\n",
    "\n",
    "class AgentState(TypedDict):\n",
    "    messages: Annotated[list[AnyMessage], reduce_messages]"
   ]
  },
  {
   "cell_type": "code",
   "execution_count": 4,
   "id": "95ae605a",
   "metadata": {},
   "outputs": [
    {
     "name": "stderr",
     "output_type": "stream",
     "text": [
      "/var/folders/ks/mc5n5p95489ggm_wj27wwpyr0000gn/T/ipykernel_27274/4289725543.py:1: LangChainDeprecationWarning: The class `TavilySearchResults` was deprecated in LangChain 0.3.25 and will be removed in 1.0. An updated version of the class exists in the :class:`~langchain-tavily package and should be used instead. To use it run `pip install -U :class:`~langchain-tavily` and import as `from :class:`~langchain_tavily import TavilySearch``.\n",
      "  tool = TavilySearchResults(max_results=2)\n"
     ]
    }
   ],
   "source": [
    "tool = TavilySearchResults(max_results=2)"
   ]
  },
  {
   "cell_type": "markdown",
   "id": "ef989ee3",
   "metadata": {},
   "source": [
    "# Human in the loop approval"
   ]
  },
  {
   "cell_type": "code",
   "execution_count": 5,
   "id": "8270ae94",
   "metadata": {},
   "outputs": [],
   "source": [
    "class Agent:\n",
    "    def __init__(self, model, tools, system=\"\", checkpointer=None):\n",
    "        self.system = system\n",
    "        graph = StateGraph(AgentState)\n",
    "        graph.add_node(\"llm\", self.call_openai)\n",
    "        graph.add_node(\"action\", self.take_action)\n",
    "        graph.add_conditional_edges(\"llm\", self.exists_action, {True: \"action\", False: END})\n",
    "        graph.add_edge(\"action\", \"llm\")\n",
    "        graph.set_entry_point(\"llm\")\n",
    "        self.graph = graph.compile(\n",
    "            checkpointer=checkpointer,\n",
    "            interrupt_before=[\"action\"]\n",
    "        )\n",
    "        self.tools = {t.name: t for t in tools}\n",
    "        self.model = model.bind_tools(tools)\n",
    "\n",
    "    def call_openai(self, state: AgentState):\n",
    "        messages = state['messages']\n",
    "        if self.system:\n",
    "            messages = [SystemMessage(content=self.system)] + messages\n",
    "        message = self.model.invoke(messages)\n",
    "        return {'messages': [message]}\n",
    "\n",
    "    def exists_action(self, state: AgentState):\n",
    "        print(state)\n",
    "        result = state['messages'][-1]\n",
    "        return len(result.tool_calls) > 0\n",
    "\n",
    "    def take_action(self, state: AgentState):\n",
    "        tool_calls = state['messages'][-1].tool_calls\n",
    "        results = []\n",
    "        for t in tool_calls:\n",
    "            print(f\"Calling: {t}\")\n",
    "            result = self.tools[t['name']].invoke(t['args'])\n",
    "            results.append(ToolMessage(tool_call_id=t['id'], name=t['name'], content=str(result)))\n",
    "        print(\"Back to the model!\")\n",
    "        return {'messages': results}"
   ]
  },
  {
   "cell_type": "code",
   "execution_count": 6,
   "id": "3d804693",
   "metadata": {},
   "outputs": [],
   "source": [
    "prompt = \"\"\"You are a smart research assistant. Use the search engine to look up information. \\\n",
    "You are allowed to make multiple calls (either together or in sequence). \\\n",
    "Only look up information when you are sure of what you want. \\\n",
    "If you need to look up some information before asking a follow up question, you are allowed to do that!\n",
    "\"\"\"\n",
    "model = ChatOpenAI(model=\"gpt-5-nano\")\n",
    "abot = Agent(model, [tool], system=prompt, checkpointer=memory)"
   ]
  },
  {
   "cell_type": "code",
   "execution_count": 7,
   "id": "a7b84fc2",
   "metadata": {},
   "outputs": [
    {
     "name": "stdout",
     "output_type": "stream",
     "text": [
      "{'messages': [HumanMessage(content='Whats the weather in SF?', additional_kwargs={}, response_metadata={}, id='d527051b-0483-4197-9e3a-01f89342d881'), AIMessage(content='', additional_kwargs={'tool_calls': [{'id': 'call_nPP0gFC32oIVUh6qerlnI8IY', 'function': {'arguments': '{\"query\":\"San Francisco CA weather current\"}', 'name': 'tavily_search_results_json'}, 'type': 'function'}], 'refusal': None}, response_metadata={'token_usage': {'completion_tokens': 351, 'prompt_tokens': 234, 'total_tokens': 585, 'completion_tokens_details': {'accepted_prediction_tokens': 0, 'audio_tokens': 0, 'reasoning_tokens': 320, 'rejected_prediction_tokens': 0}, 'prompt_tokens_details': {'audio_tokens': 0, 'cached_tokens': 0}}, 'model_name': 'gpt-5-nano-2025-08-07', 'system_fingerprint': None, 'id': 'chatcmpl-C3dp7ri7Lg9cQn2P77JHn5up4USLG', 'service_tier': 'default', 'finish_reason': 'tool_calls', 'logprobs': None}, id='run--d00fd6b3-ae36-4347-b6e9-ced728f13a55-0', tool_calls=[{'name': 'tavily_search_results_json', 'args': {'query': 'San Francisco CA weather current'}, 'id': 'call_nPP0gFC32oIVUh6qerlnI8IY', 'type': 'tool_call'}], usage_metadata={'input_tokens': 234, 'output_tokens': 351, 'total_tokens': 585, 'input_token_details': {'audio': 0, 'cache_read': 0}, 'output_token_details': {'audio': 0, 'reasoning': 320}})]}\n",
      "{'messages': [AIMessage(content='', additional_kwargs={'tool_calls': [{'id': 'call_nPP0gFC32oIVUh6qerlnI8IY', 'function': {'arguments': '{\"query\":\"San Francisco CA weather current\"}', 'name': 'tavily_search_results_json'}, 'type': 'function'}], 'refusal': None}, response_metadata={'token_usage': {'completion_tokens': 351, 'prompt_tokens': 234, 'total_tokens': 585, 'completion_tokens_details': {'accepted_prediction_tokens': 0, 'audio_tokens': 0, 'reasoning_tokens': 320, 'rejected_prediction_tokens': 0}, 'prompt_tokens_details': {'audio_tokens': 0, 'cached_tokens': 0}}, 'model_name': 'gpt-5-nano-2025-08-07', 'system_fingerprint': None, 'id': 'chatcmpl-C3dp7ri7Lg9cQn2P77JHn5up4USLG', 'service_tier': 'default', 'finish_reason': 'tool_calls', 'logprobs': None}, id='run--d00fd6b3-ae36-4347-b6e9-ced728f13a55-0', tool_calls=[{'name': 'tavily_search_results_json', 'args': {'query': 'San Francisco CA weather current'}, 'id': 'call_nPP0gFC32oIVUh6qerlnI8IY', 'type': 'tool_call'}], usage_metadata={'input_tokens': 234, 'output_tokens': 351, 'total_tokens': 585, 'input_token_details': {'audio': 0, 'cache_read': 0}, 'output_token_details': {'audio': 0, 'reasoning': 320}})]}\n",
      "()\n"
     ]
    }
   ],
   "source": [
    "messages = [HumanMessage(content=\"Whats the weather in SF?\")]\n",
    "thread = {\"configurable\": {\"thread_id\": \"1\"}}\n",
    "for event in abot.graph.stream({\"messages\": messages}, thread):\n",
    "    for v in event.values():\n",
    "        print(v)"
   ]
  },
  {
   "cell_type": "markdown",
   "id": "0ef907c8",
   "metadata": {},
   "source": [
    "The flow was interrupted after the tool call, lets inspect the state:"
   ]
  },
  {
   "cell_type": "code",
   "execution_count": 8,
   "id": "7ed03cf8",
   "metadata": {},
   "outputs": [
    {
     "data": {
      "text/plain": [
       "StateSnapshot(values={'messages': [HumanMessage(content='Whats the weather in SF?', additional_kwargs={}, response_metadata={}, id='d527051b-0483-4197-9e3a-01f89342d881'), AIMessage(content='', additional_kwargs={'tool_calls': [{'id': 'call_nPP0gFC32oIVUh6qerlnI8IY', 'function': {'arguments': '{\"query\":\"San Francisco CA weather current\"}', 'name': 'tavily_search_results_json'}, 'type': 'function'}], 'refusal': None}, response_metadata={'token_usage': {'completion_tokens': 351, 'prompt_tokens': 234, 'total_tokens': 585, 'completion_tokens_details': {'accepted_prediction_tokens': 0, 'audio_tokens': 0, 'reasoning_tokens': 320, 'rejected_prediction_tokens': 0}, 'prompt_tokens_details': {'audio_tokens': 0, 'cached_tokens': 0}}, 'model_name': 'gpt-5-nano-2025-08-07', 'system_fingerprint': None, 'id': 'chatcmpl-C3dp7ri7Lg9cQn2P77JHn5up4USLG', 'service_tier': 'default', 'finish_reason': 'tool_calls', 'logprobs': None}, id='run--d00fd6b3-ae36-4347-b6e9-ced728f13a55-0', tool_calls=[{'name': 'tavily_search_results_json', 'args': {'query': 'San Francisco CA weather current'}, 'id': 'call_nPP0gFC32oIVUh6qerlnI8IY', 'type': 'tool_call'}], usage_metadata={'input_tokens': 234, 'output_tokens': 351, 'total_tokens': 585, 'input_token_details': {'audio': 0, 'cache_read': 0}, 'output_token_details': {'audio': 0, 'reasoning': 320}})]}, next=('action',), config={'configurable': {'thread_id': '1', 'checkpoint_ns': '', 'checkpoint_id': '1f0774ec-eee7-6ba0-8001-a95804d0baf3'}}, metadata={'source': 'loop', 'step': 1, 'parents': {}}, created_at='2025-08-12T07:34:41.137532+00:00', parent_config={'configurable': {'thread_id': '1', 'checkpoint_ns': '', 'checkpoint_id': '1f0774ec-ce6b-6264-8000-f86501c8481f'}}, tasks=(PregelTask(id='bc32fec3-60a1-5d65-f19e-700291330d5b', name='action', path=('__pregel_pull', 'action'), error=None, interrupts=(), state=None, result=None),), interrupts=())"
      ]
     },
     "execution_count": 8,
     "metadata": {},
     "output_type": "execute_result"
    }
   ],
   "source": [
    "abot.graph.get_state(thread)"
   ]
  },
  {
   "cell_type": "code",
   "execution_count": 10,
   "id": "df8445bf",
   "metadata": {},
   "outputs": [
    {
     "data": {
      "text/plain": [
       "('action',)"
      ]
     },
     "execution_count": 10,
     "metadata": {},
     "output_type": "execute_result"
    }
   ],
   "source": [
    "abot.graph.get_state(thread).next"
   ]
  },
  {
   "cell_type": "markdown",
   "id": "1fc9e700",
   "metadata": {},
   "source": [
    "We can see the next state is to call the action, we can carry on by calling the stream with none instead of messsages:"
   ]
  },
  {
   "cell_type": "code",
   "execution_count": 11,
   "id": "4ec487f6",
   "metadata": {},
   "outputs": [
    {
     "name": "stdout",
     "output_type": "stream",
     "text": [
      "Calling: {'name': 'tavily_search_results_json', 'args': {'query': 'San Francisco CA weather current'}, 'id': 'call_nPP0gFC32oIVUh6qerlnI8IY', 'type': 'tool_call'}\n",
      "Back to the model!\n",
      "{'messages': [ToolMessage(content=\"[{'title': 'San Francisco weather in August 2025', 'url': 'https://www.weather25.com/north-america/usa/california/san-francisco?page=month&month=August', 'content': '| Month | Temperatures | Weather | Rainy Days | Dry Days | Snowy Days | Rainfall |\\\\n| --- | --- | --- | --- | --- | --- | --- |\\\\n| January | 15° / 7° | Good | 4 | 27 | 0 | 63 mm |\\\\n| February | 16° / 7° | Good | 4 | 24 | 0 | 61 mm |\\\\n| March | 17° / 8° | Good | 5 | 26 | 0 | 62 mm |\\\\n| April | 18° / 9° | Good | 2 | 28 | 0 | 22 mm |\\\\n| May | 20° / 10° | Good | 1 | 30 | 0 | 13 mm |\\\\n| June | 23° / 12° | Perfect | 0 | 30 | 0 | 6 mm |\\\\n| July | 25° / 14° | Perfect | 0 | 31 | 0 | 3 mm | [...] Partly cloudy\\\\nPartly cloudy\\\\nSunny\\\\nPartly cloudy\\\\nMist\\\\nSunny\\\\nPartly cloudy\\\\nSunny\\\\nPartly cloudy\\\\nSunny\\\\nSunny\\\\nMist\\\\nMist\\\\nMist\\\\nPatchy rain possible\\\\nPatchy rain possible\\\\nCloudy\\\\nSunny\\\\nSunny\\\\nSunny\\\\nPatchy rain possible\\\\nPartly cloudy\\\\nSunny\\\\nSunny\\\\nSunny\\\\nSunny\\\\nPartly cloudy\\\\nSunny\\\\nSunny\\\\nSunny\\\\nSunny\\\\n\\\\n## Explore the weather in San Francisco in other months\\\\n\\\\n## San Francisco annual weather [...] | August | 25° / 14° | Perfect | 0 | 31 | 0 | 3 mm |\\\\n| September | 25° / 14° | Perfect | 0 | 30 | 0 | 4 mm |\\\\n| October | 23° / 13° | Perfect | 1 | 30 | 0 | 26 mm |\\\\n| November | 18° / 10° | Good | 3 | 27 | 0 | 37 mm |\\\\n| December | 14° / 8° | Good | 4 | 27 | 0 | 55 mm |', 'score': 0.48177138}, {'title': 'San Francisco, CA Monthly Weather', 'url': 'https://www.accuweather.com/en/us/san-francisco/94103/august-weather/347629', 'content': 'Get the monthly weather forecast for San Francisco, CA, including daily high/low, historical averages, to help you plan ahead.', 'score': 0.23435448}]\", name='tavily_search_results_json', id='cdc8ec7a-7427-4ad6-bb0c-0516c87a8656', tool_call_id='call_nPP0gFC32oIVUh6qerlnI8IY')]}\n",
      "{'messages': [HumanMessage(content='Whats the weather in SF?', additional_kwargs={}, response_metadata={}, id='d527051b-0483-4197-9e3a-01f89342d881'), AIMessage(content='', additional_kwargs={'tool_calls': [{'id': 'call_nPP0gFC32oIVUh6qerlnI8IY', 'function': {'arguments': '{\"query\":\"San Francisco CA weather current\"}', 'name': 'tavily_search_results_json'}, 'type': 'function'}], 'refusal': None}, response_metadata={'token_usage': {'completion_tokens': 351, 'prompt_tokens': 234, 'total_tokens': 585, 'completion_tokens_details': {'accepted_prediction_tokens': 0, 'audio_tokens': 0, 'reasoning_tokens': 320, 'rejected_prediction_tokens': 0}, 'prompt_tokens_details': {'audio_tokens': 0, 'cached_tokens': 0}}, 'model_name': 'gpt-5-nano-2025-08-07', 'system_fingerprint': None, 'id': 'chatcmpl-C3dp7ri7Lg9cQn2P77JHn5up4USLG', 'service_tier': 'default', 'finish_reason': 'tool_calls', 'logprobs': None}, id='run--d00fd6b3-ae36-4347-b6e9-ced728f13a55-0', tool_calls=[{'name': 'tavily_search_results_json', 'args': {'query': 'San Francisco CA weather current'}, 'id': 'call_nPP0gFC32oIVUh6qerlnI8IY', 'type': 'tool_call'}], usage_metadata={'input_tokens': 234, 'output_tokens': 351, 'total_tokens': 585, 'input_token_details': {'audio': 0, 'cache_read': 0}, 'output_token_details': {'audio': 0, 'reasoning': 320}}), ToolMessage(content=\"[{'title': 'San Francisco weather in August 2025', 'url': 'https://www.weather25.com/north-america/usa/california/san-francisco?page=month&month=August', 'content': '| Month | Temperatures | Weather | Rainy Days | Dry Days | Snowy Days | Rainfall |\\\\n| --- | --- | --- | --- | --- | --- | --- |\\\\n| January | 15° / 7° | Good | 4 | 27 | 0 | 63 mm |\\\\n| February | 16° / 7° | Good | 4 | 24 | 0 | 61 mm |\\\\n| March | 17° / 8° | Good | 5 | 26 | 0 | 62 mm |\\\\n| April | 18° / 9° | Good | 2 | 28 | 0 | 22 mm |\\\\n| May | 20° / 10° | Good | 1 | 30 | 0 | 13 mm |\\\\n| June | 23° / 12° | Perfect | 0 | 30 | 0 | 6 mm |\\\\n| July | 25° / 14° | Perfect | 0 | 31 | 0 | 3 mm | [...] Partly cloudy\\\\nPartly cloudy\\\\nSunny\\\\nPartly cloudy\\\\nMist\\\\nSunny\\\\nPartly cloudy\\\\nSunny\\\\nPartly cloudy\\\\nSunny\\\\nSunny\\\\nMist\\\\nMist\\\\nMist\\\\nPatchy rain possible\\\\nPatchy rain possible\\\\nCloudy\\\\nSunny\\\\nSunny\\\\nSunny\\\\nPatchy rain possible\\\\nPartly cloudy\\\\nSunny\\\\nSunny\\\\nSunny\\\\nSunny\\\\nPartly cloudy\\\\nSunny\\\\nSunny\\\\nSunny\\\\nSunny\\\\n\\\\n## Explore the weather in San Francisco in other months\\\\n\\\\n## San Francisco annual weather [...] | August | 25° / 14° | Perfect | 0 | 31 | 0 | 3 mm |\\\\n| September | 25° / 14° | Perfect | 0 | 30 | 0 | 4 mm |\\\\n| October | 23° / 13° | Perfect | 1 | 30 | 0 | 26 mm |\\\\n| November | 18° / 10° | Good | 3 | 27 | 0 | 37 mm |\\\\n| December | 14° / 8° | Good | 4 | 27 | 0 | 55 mm |', 'score': 0.48177138}, {'title': 'San Francisco, CA Monthly Weather', 'url': 'https://www.accuweather.com/en/us/san-francisco/94103/august-weather/347629', 'content': 'Get the monthly weather forecast for San Francisco, CA, including daily high/low, historical averages, to help you plan ahead.', 'score': 0.23435448}]\", name='tavily_search_results_json', id='cdc8ec7a-7427-4ad6-bb0c-0516c87a8656', tool_call_id='call_nPP0gFC32oIVUh6qerlnI8IY'), AIMessage(content='', additional_kwargs={'tool_calls': [{'id': 'call_84JYpQmRWLWNsj7clBpBAdc1', 'function': {'arguments': '{\"query\":\"San Francisco current weather\"}', 'name': 'tavily_search_results_json'}, 'type': 'function'}], 'refusal': None}, response_metadata={'token_usage': {'completion_tokens': 286, 'prompt_tokens': 880, 'total_tokens': 1166, 'completion_tokens_details': {'accepted_prediction_tokens': 0, 'audio_tokens': 0, 'reasoning_tokens': 256, 'rejected_prediction_tokens': 0}, 'prompt_tokens_details': {'audio_tokens': 0, 'cached_tokens': 0}}, 'model_name': 'gpt-5-nano-2025-08-07', 'system_fingerprint': None, 'id': 'chatcmpl-C3gJz3vD0Q4RGLfnCeZ8wD6hrFIaI', 'service_tier': 'default', 'finish_reason': 'tool_calls', 'logprobs': None}, id='run--8ce988aa-00bf-4f1a-a991-1384696fdf0f-0', tool_calls=[{'name': 'tavily_search_results_json', 'args': {'query': 'San Francisco current weather'}, 'id': 'call_84JYpQmRWLWNsj7clBpBAdc1', 'type': 'tool_call'}], usage_metadata={'input_tokens': 880, 'output_tokens': 286, 'total_tokens': 1166, 'input_token_details': {'audio': 0, 'cache_read': 0}, 'output_token_details': {'audio': 0, 'reasoning': 256}})]}\n",
      "{'messages': [AIMessage(content='', additional_kwargs={'tool_calls': [{'id': 'call_84JYpQmRWLWNsj7clBpBAdc1', 'function': {'arguments': '{\"query\":\"San Francisco current weather\"}', 'name': 'tavily_search_results_json'}, 'type': 'function'}], 'refusal': None}, response_metadata={'token_usage': {'completion_tokens': 286, 'prompt_tokens': 880, 'total_tokens': 1166, 'completion_tokens_details': {'accepted_prediction_tokens': 0, 'audio_tokens': 0, 'reasoning_tokens': 256, 'rejected_prediction_tokens': 0}, 'prompt_tokens_details': {'audio_tokens': 0, 'cached_tokens': 0}}, 'model_name': 'gpt-5-nano-2025-08-07', 'system_fingerprint': None, 'id': 'chatcmpl-C3gJz3vD0Q4RGLfnCeZ8wD6hrFIaI', 'service_tier': 'default', 'finish_reason': 'tool_calls', 'logprobs': None}, id='run--8ce988aa-00bf-4f1a-a991-1384696fdf0f-0', tool_calls=[{'name': 'tavily_search_results_json', 'args': {'query': 'San Francisco current weather'}, 'id': 'call_84JYpQmRWLWNsj7clBpBAdc1', 'type': 'tool_call'}], usage_metadata={'input_tokens': 880, 'output_tokens': 286, 'total_tokens': 1166, 'input_token_details': {'audio': 0, 'cache_read': 0}, 'output_token_details': {'audio': 0, 'reasoning': 256}})]}\n",
      "()\n"
     ]
    }
   ],
   "source": [
    "for event in abot.graph.stream(None, thread):\n",
    "    for v in event.values():\n",
    "        print(v)"
   ]
  },
  {
   "cell_type": "code",
   "execution_count": 12,
   "id": "e8d65b3a",
   "metadata": {},
   "outputs": [
    {
     "data": {
      "text/plain": [
       "('action',)"
      ]
     },
     "execution_count": 12,
     "metadata": {},
     "output_type": "execute_result"
    }
   ],
   "source": [
    "abot.graph.get_state(thread).next"
   ]
  },
  {
   "cell_type": "markdown",
   "id": "2f954a4b",
   "metadata": {},
   "source": [
    "The agent still wants to run actions, so lets add human in the loop:"
   ]
  },
  {
   "cell_type": "code",
   "execution_count": 13,
   "id": "c7546a72",
   "metadata": {},
   "outputs": [
    {
     "name": "stdout",
     "output_type": "stream",
     "text": [
      "{'messages': [HumanMessage(content='What is the weather in Kensington London?', additional_kwargs={}, response_metadata={}, id='c0ec6f5e-1256-415b-8f74-c7b89b3cb761'), AIMessage(content='', additional_kwargs={'tool_calls': [{'id': 'call_LqbQR3OKjKyH2BxrUECYAKfa', 'function': {'arguments': '{\"query\":\"Kensington London weather current\"}', 'name': 'tavily_search_results_json'}, 'type': 'function'}], 'refusal': None}, response_metadata={'token_usage': {'completion_tokens': 352, 'prompt_tokens': 236, 'total_tokens': 588, 'completion_tokens_details': {'accepted_prediction_tokens': 0, 'audio_tokens': 0, 'reasoning_tokens': 320, 'rejected_prediction_tokens': 0}, 'prompt_tokens_details': {'audio_tokens': 0, 'cached_tokens': 0}}, 'model_name': 'gpt-5-nano-2025-08-07', 'system_fingerprint': None, 'id': 'chatcmpl-C3gRcoIi7QNciTVLWdMoFwdRCsToa', 'service_tier': 'default', 'finish_reason': 'tool_calls', 'logprobs': None}, id='run--511650d9-ff71-4a63-b340-7b627d341063-0', tool_calls=[{'name': 'tavily_search_results_json', 'args': {'query': 'Kensington London weather current'}, 'id': 'call_LqbQR3OKjKyH2BxrUECYAKfa', 'type': 'tool_call'}], usage_metadata={'input_tokens': 236, 'output_tokens': 352, 'total_tokens': 588, 'input_token_details': {'audio': 0, 'cache_read': 0}, 'output_token_details': {'audio': 0, 'reasoning': 320}})]}\n",
      "{'messages': [AIMessage(content='', additional_kwargs={'tool_calls': [{'id': 'call_LqbQR3OKjKyH2BxrUECYAKfa', 'function': {'arguments': '{\"query\":\"Kensington London weather current\"}', 'name': 'tavily_search_results_json'}, 'type': 'function'}], 'refusal': None}, response_metadata={'token_usage': {'completion_tokens': 352, 'prompt_tokens': 236, 'total_tokens': 588, 'completion_tokens_details': {'accepted_prediction_tokens': 0, 'audio_tokens': 0, 'reasoning_tokens': 320, 'rejected_prediction_tokens': 0}, 'prompt_tokens_details': {'audio_tokens': 0, 'cached_tokens': 0}}, 'model_name': 'gpt-5-nano-2025-08-07', 'system_fingerprint': None, 'id': 'chatcmpl-C3gRcoIi7QNciTVLWdMoFwdRCsToa', 'service_tier': 'default', 'finish_reason': 'tool_calls', 'logprobs': None}, id='run--511650d9-ff71-4a63-b340-7b627d341063-0', tool_calls=[{'name': 'tavily_search_results_json', 'args': {'query': 'Kensington London weather current'}, 'id': 'call_LqbQR3OKjKyH2BxrUECYAKfa', 'type': 'tool_call'}], usage_metadata={'input_tokens': 236, 'output_tokens': 352, 'total_tokens': 588, 'input_token_details': {'audio': 0, 'cache_read': 0}, 'output_token_details': {'audio': 0, 'reasoning': 320}})]}\n",
      "()\n",
      "\n",
      " <bound method Pregel.get_state of <langgraph.graph.state.CompiledStateGraph object at 0x119bb5750>> \n",
      "\n",
      "Calling: {'name': 'tavily_search_results_json', 'args': {'query': 'Kensington London weather current'}, 'id': 'call_LqbQR3OKjKyH2BxrUECYAKfa', 'type': 'tool_call'}\n",
      "Back to the model!\n",
      "{'messages': [ToolMessage(content=\"[{'title': 'Monthly Weather-Kensington, England, United Kingdom', 'url': 'https://weather.com/weather/monthly/l/Kensington+England+United+Kingdom?canonicalCityId=0908f9a0f1a2e0890a1dfd2cceb016b66a9823720ad3b1547ff8700cea38ebe1', 'content': '## Recent Locations\\\\n\\\\nMenu\\\\n\\\\n## Weather Forecasts\\\\n\\\\n## Radar & Maps\\\\n\\\\n## News & Media\\\\n\\\\n## Products & Account\\\\n\\\\n## Lifestyle\\\\n\\\\n### Specialty Forecasts\\\\n\\\\n# Monthly Weather-Kensington, England, United Kingdom\\\\n\\\\n## Day\\\\n\\\\nPartly cloudy. Very warm. High 84F. Winds SE at 5 to 10 mph.\\\\n\\\\n## Night\\\\n\\\\nSome clouds this evening will give way to mainly clear skies overnight. Low 64F. Winds ESE at 5 to 10 mph.\\\\n\\\\n## We Love Our Critters\\\\n\\\\n## Travel\\\\n\\\\n## Home, Garage & Garden [...] © The Weather Company, LLC 2025 [...] | Aug 12 | High | Low | Precip |\\\\n| --- | --- | --- | --- |\\\\n| Averages | 67°F | 54° | -- |\\\\n| Records | -- | -- | -- |\\\\n\\\\n| Reported Conditions |\\\\n| --- |\\\\n| Yesterday | 82° | 62° | 0.01 in |\\\\n| Last 7 Days | 82° | 53° | 0.10 |\\\\n| Month to Date | 82° | 53° | 0.40 |\\\\n\\\\n| Historical Monthly Avg |\\\\n| --- |\\\\n| August | 67° | 54° | 0 |\\\\n| September | 62° | 50° | 0 |\\\\n| October | 55° | 45° | 0 |\\\\n\\\\n## Sun & Moon\\\\n\\\\n## Stay Safe\\\\n\\\\n## Travel Far, Travel Often', 'score': 0.65914243}, {'title': 'Kensington - BBC Weather', 'url': 'https://www.bbc.com/weather/2645801', 'content': 'Thursday morning will see patches of cloud and a chance of a shower. The afternoon will be dry and sunny. Friday and Saturday looks to be dry with plenty of sunshine expected. Staying very warm through the period. Winds will be largely light to gentle, though a moderate south-easterly to easterly breeze may develop later on.\\\\n\\\\n## Observations - London Battersea Heliport\\\\n\\\\nObserved at 08:00,\\\\n\\\\nTuesday 12 August\\\\n\\\\n## Our favourite Weather Watchers photos nearby\\\\n\\\\nReport for Southwark, Greater London [...] Today\\\\n\\\\nToday is expected to remain dry and settled with plenty of sunshine and little cloud cover. A hot day.\\\\n\\\\nTonight\\\\n\\\\nTonight, it is expected to be dry and settled, however low cloud will gradually move in from the south.\\\\n\\\\nWednesday\\\\n\\\\nTomorrow will see low cloud clear in the morning. The rest of the day is expected to be mostly dry and sunny. Very warm to hot.\\\\n\\\\nOutlook for Thursday to Saturday [...] ## Accessibility links\\\\n\\\\n## Search for a location\\\\n\\\\n# Kensington - Weather warnings issued\\\\n\\\\n## Forecast - Kensington\\\\n\\\\n### Day by day forecast\\\\n\\\\n### Environmental Summary\\\\n\\\\n### Sunrise Sunset\\\\n\\\\n### Sunrise Sunset\\\\n\\\\n### Sunrise Sunset\\\\n\\\\n### Sunrise Sunset\\\\n\\\\n### Sunrise Sunset\\\\n\\\\n### Sunrise Sunset\\\\n\\\\n### Sunrise Sunset\\\\n\\\\n### Sunrise Sunset\\\\n\\\\n### Sunrise Sunset\\\\n\\\\n### Sunrise Sunset\\\\n\\\\n### Sunrise Sunset\\\\n\\\\n### Sunrise Sunset\\\\n\\\\n### Sunrise Sunset\\\\n\\\\n### Sunrise Sunset\\\\n\\\\n### Hour by hour forecast\\\\n\\\\n### Environmental Summary', 'score': 0.657561}]\", name='tavily_search_results_json', id='6fa67494-858a-40a2-88fa-aa3f97bab564', tool_call_id='call_LqbQR3OKjKyH2BxrUECYAKfa')]}\n",
      "{'messages': [HumanMessage(content='What is the weather in Kensington London?', additional_kwargs={}, response_metadata={}, id='c0ec6f5e-1256-415b-8f74-c7b89b3cb761'), AIMessage(content='', additional_kwargs={'tool_calls': [{'id': 'call_LqbQR3OKjKyH2BxrUECYAKfa', 'function': {'arguments': '{\"query\":\"Kensington London weather current\"}', 'name': 'tavily_search_results_json'}, 'type': 'function'}], 'refusal': None}, response_metadata={'token_usage': {'completion_tokens': 352, 'prompt_tokens': 236, 'total_tokens': 588, 'completion_tokens_details': {'accepted_prediction_tokens': 0, 'audio_tokens': 0, 'reasoning_tokens': 320, 'rejected_prediction_tokens': 0}, 'prompt_tokens_details': {'audio_tokens': 0, 'cached_tokens': 0}}, 'model_name': 'gpt-5-nano-2025-08-07', 'system_fingerprint': None, 'id': 'chatcmpl-C3gRcoIi7QNciTVLWdMoFwdRCsToa', 'service_tier': 'default', 'finish_reason': 'tool_calls', 'logprobs': None}, id='run--511650d9-ff71-4a63-b340-7b627d341063-0', tool_calls=[{'name': 'tavily_search_results_json', 'args': {'query': 'Kensington London weather current'}, 'id': 'call_LqbQR3OKjKyH2BxrUECYAKfa', 'type': 'tool_call'}], usage_metadata={'input_tokens': 236, 'output_tokens': 352, 'total_tokens': 588, 'input_token_details': {'audio': 0, 'cache_read': 0}, 'output_token_details': {'audio': 0, 'reasoning': 320}}), ToolMessage(content=\"[{'title': 'Monthly Weather-Kensington, England, United Kingdom', 'url': 'https://weather.com/weather/monthly/l/Kensington+England+United+Kingdom?canonicalCityId=0908f9a0f1a2e0890a1dfd2cceb016b66a9823720ad3b1547ff8700cea38ebe1', 'content': '## Recent Locations\\\\n\\\\nMenu\\\\n\\\\n## Weather Forecasts\\\\n\\\\n## Radar & Maps\\\\n\\\\n## News & Media\\\\n\\\\n## Products & Account\\\\n\\\\n## Lifestyle\\\\n\\\\n### Specialty Forecasts\\\\n\\\\n# Monthly Weather-Kensington, England, United Kingdom\\\\n\\\\n## Day\\\\n\\\\nPartly cloudy. Very warm. High 84F. Winds SE at 5 to 10 mph.\\\\n\\\\n## Night\\\\n\\\\nSome clouds this evening will give way to mainly clear skies overnight. Low 64F. Winds ESE at 5 to 10 mph.\\\\n\\\\n## We Love Our Critters\\\\n\\\\n## Travel\\\\n\\\\n## Home, Garage & Garden [...] © The Weather Company, LLC 2025 [...] | Aug 12 | High | Low | Precip |\\\\n| --- | --- | --- | --- |\\\\n| Averages | 67°F | 54° | -- |\\\\n| Records | -- | -- | -- |\\\\n\\\\n| Reported Conditions |\\\\n| --- |\\\\n| Yesterday | 82° | 62° | 0.01 in |\\\\n| Last 7 Days | 82° | 53° | 0.10 |\\\\n| Month to Date | 82° | 53° | 0.40 |\\\\n\\\\n| Historical Monthly Avg |\\\\n| --- |\\\\n| August | 67° | 54° | 0 |\\\\n| September | 62° | 50° | 0 |\\\\n| October | 55° | 45° | 0 |\\\\n\\\\n## Sun & Moon\\\\n\\\\n## Stay Safe\\\\n\\\\n## Travel Far, Travel Often', 'score': 0.65914243}, {'title': 'Kensington - BBC Weather', 'url': 'https://www.bbc.com/weather/2645801', 'content': 'Thursday morning will see patches of cloud and a chance of a shower. The afternoon will be dry and sunny. Friday and Saturday looks to be dry with plenty of sunshine expected. Staying very warm through the period. Winds will be largely light to gentle, though a moderate south-easterly to easterly breeze may develop later on.\\\\n\\\\n## Observations - London Battersea Heliport\\\\n\\\\nObserved at 08:00,\\\\n\\\\nTuesday 12 August\\\\n\\\\n## Our favourite Weather Watchers photos nearby\\\\n\\\\nReport for Southwark, Greater London [...] Today\\\\n\\\\nToday is expected to remain dry and settled with plenty of sunshine and little cloud cover. A hot day.\\\\n\\\\nTonight\\\\n\\\\nTonight, it is expected to be dry and settled, however low cloud will gradually move in from the south.\\\\n\\\\nWednesday\\\\n\\\\nTomorrow will see low cloud clear in the morning. The rest of the day is expected to be mostly dry and sunny. Very warm to hot.\\\\n\\\\nOutlook for Thursday to Saturday [...] ## Accessibility links\\\\n\\\\n## Search for a location\\\\n\\\\n# Kensington - Weather warnings issued\\\\n\\\\n## Forecast - Kensington\\\\n\\\\n### Day by day forecast\\\\n\\\\n### Environmental Summary\\\\n\\\\n### Sunrise Sunset\\\\n\\\\n### Sunrise Sunset\\\\n\\\\n### Sunrise Sunset\\\\n\\\\n### Sunrise Sunset\\\\n\\\\n### Sunrise Sunset\\\\n\\\\n### Sunrise Sunset\\\\n\\\\n### Sunrise Sunset\\\\n\\\\n### Sunrise Sunset\\\\n\\\\n### Sunrise Sunset\\\\n\\\\n### Sunrise Sunset\\\\n\\\\n### Sunrise Sunset\\\\n\\\\n### Sunrise Sunset\\\\n\\\\n### Sunrise Sunset\\\\n\\\\n### Sunrise Sunset\\\\n\\\\n### Hour by hour forecast\\\\n\\\\n### Environmental Summary', 'score': 0.657561}]\", name='tavily_search_results_json', id='6fa67494-858a-40a2-88fa-aa3f97bab564', tool_call_id='call_LqbQR3OKjKyH2BxrUECYAKfa'), AIMessage(content='', additional_kwargs={'tool_calls': [{'id': 'call_rnXL3cp3ybVuLaviN35ivF9z', 'function': {'arguments': '{\"query\":\"Kensington London current weather now\"}', 'name': 'tavily_search_results_json'}, 'type': 'function'}], 'refusal': None}, response_metadata={'token_usage': {'completion_tokens': 353, 'prompt_tokens': 1080, 'total_tokens': 1433, 'completion_tokens_details': {'accepted_prediction_tokens': 0, 'audio_tokens': 0, 'reasoning_tokens': 320, 'rejected_prediction_tokens': 0}, 'prompt_tokens_details': {'audio_tokens': 0, 'cached_tokens': 0}}, 'model_name': 'gpt-5-nano-2025-08-07', 'system_fingerprint': None, 'id': 'chatcmpl-C3gRqsZDnMH4snwhkVtusG8b4WAUQ', 'service_tier': 'default', 'finish_reason': 'tool_calls', 'logprobs': None}, id='run--6cee103e-65eb-469c-b2d3-df5cc2d06cdc-0', tool_calls=[{'name': 'tavily_search_results_json', 'args': {'query': 'Kensington London current weather now'}, 'id': 'call_rnXL3cp3ybVuLaviN35ivF9z', 'type': 'tool_call'}], usage_metadata={'input_tokens': 1080, 'output_tokens': 353, 'total_tokens': 1433, 'input_token_details': {'audio': 0, 'cache_read': 0}, 'output_token_details': {'audio': 0, 'reasoning': 320}})]}\n",
      "{'messages': [AIMessage(content='', additional_kwargs={'tool_calls': [{'id': 'call_rnXL3cp3ybVuLaviN35ivF9z', 'function': {'arguments': '{\"query\":\"Kensington London current weather now\"}', 'name': 'tavily_search_results_json'}, 'type': 'function'}], 'refusal': None}, response_metadata={'token_usage': {'completion_tokens': 353, 'prompt_tokens': 1080, 'total_tokens': 1433, 'completion_tokens_details': {'accepted_prediction_tokens': 0, 'audio_tokens': 0, 'reasoning_tokens': 320, 'rejected_prediction_tokens': 0}, 'prompt_tokens_details': {'audio_tokens': 0, 'cached_tokens': 0}}, 'model_name': 'gpt-5-nano-2025-08-07', 'system_fingerprint': None, 'id': 'chatcmpl-C3gRqsZDnMH4snwhkVtusG8b4WAUQ', 'service_tier': 'default', 'finish_reason': 'tool_calls', 'logprobs': None}, id='run--6cee103e-65eb-469c-b2d3-df5cc2d06cdc-0', tool_calls=[{'name': 'tavily_search_results_json', 'args': {'query': 'Kensington London current weather now'}, 'id': 'call_rnXL3cp3ybVuLaviN35ivF9z', 'type': 'tool_call'}], usage_metadata={'input_tokens': 1080, 'output_tokens': 353, 'total_tokens': 1433, 'input_token_details': {'audio': 0, 'cache_read': 0}, 'output_token_details': {'audio': 0, 'reasoning': 320}})]}\n",
      "()\n",
      "\n",
      " <bound method Pregel.get_state of <langgraph.graph.state.CompiledStateGraph object at 0x119bb5750>> \n",
      "\n",
      "Calling: {'name': 'tavily_search_results_json', 'args': {'query': 'Kensington London current weather now'}, 'id': 'call_rnXL3cp3ybVuLaviN35ivF9z', 'type': 'tool_call'}\n",
      "Back to the model!\n",
      "{'messages': [ToolMessage(content='[{\\'title\\': \\'Kensington, Kensington and Chelsea, United Kingdom ...\\', \\'url\\': \\'https://www.accuweather.com/en/gb/kensington/w8-7/weather-forecast/323272\\', \\'content\\': \"Sunny to partly cloudy and hot; caution advised if doing strenuous activities outside\\\\nHi: 90°\\\\n\\\\nTonight: Partly cloudy\\\\nLo: 63°\\\\n\\\\n## Current Weather\\\\n\\\\n11:23 AM\\\\n\\\\n## Kensington Weather Radar\\\\n\\\\nKensington Weather Radar\\\\n\\\\n## Hourly Weather\\\\n\\\\nrain drop\\\\n\\\\nrain drop\\\\n\\\\nrain drop\\\\n\\\\nrain drop\\\\n\\\\nrain drop\\\\n\\\\nrain drop\\\\n\\\\nrain drop\\\\n\\\\nrain drop\\\\n\\\\nrain drop\\\\n\\\\nrain drop\\\\n\\\\nrain drop\\\\n\\\\nrain drop\\\\n\\\\n## 10-Day Weather Forecast\\\\n\\\\nToday\\\\n\\\\n8/12\\\\n\\\\nMostly sunny and hot\\\\n\\\\nNight: Partly cloudy\\\\n\\\\nWed\\\\n\\\\n8/13\\\\n\\\\nVery warm with periods of sun [...] # Kensington, Kensington and Chelsea\\\\n\\\\nKensington\\\\n\\\\nKensington and Chelsea\\\\n\\\\n## Around the Globe\\\\n\\\\nAround the Globe\\\\n\\\\n### Hurricane Tracker\\\\n\\\\n### Severe Weather\\\\n\\\\n### Radar & Maps\\\\n\\\\n### News & Features\\\\n\\\\n### Astronomy\\\\n\\\\n### Business\\\\n\\\\n### Climate\\\\n\\\\n### Health\\\\n\\\\n### Recreation\\\\n\\\\n### Sports\\\\n\\\\n### Travel\\\\n\\\\n### Warnings\\\\n\\\\n### Data Suite\\\\n\\\\n### Forensics\\\\n\\\\n### Advertising\\\\n\\\\n### Superior Accuracy™\\\\n\\\\n### Video\\\\n\\\\n## Today\\\\n\\\\n## Today\\'s Weather\\\\n\\\\nTue, Aug 12\", \\'score\\': 0.7644879}, {\\'title\\': \\'Monthly Weather Forecast for Kensington, England, United Kingdom\\', \\'url\\': \\'https://weather.com/weather/monthly/l/Kensington+England+United+Kingdom?canonicalCityId=0908f9a0f1a2e0890a1dfd2cceb016b66a9823720ad3b1547ff8700cea38ebe1\\', \\'content\\': \\'## Recent Locations\\\\n\\\\nMenu\\\\n\\\\n## Weather Forecasts\\\\n\\\\n## Radar & Maps\\\\n\\\\n## News & Media\\\\n\\\\n## Products & Account\\\\n\\\\n## Lifestyle\\\\n\\\\n### Specialty Forecasts\\\\n\\\\n# Monthly Weather-Kensington, England, United Kingdom\\\\n\\\\n## Day\\\\n\\\\nPartly cloudy. Very warm. High 84F. Winds SE at 5 to 10 mph.\\\\n\\\\n## Night\\\\n\\\\nSome clouds this evening will give way to mainly clear skies overnight. Low 64F. Winds ESE at 5 to 10 mph.\\\\n\\\\n## We Love Our Critters\\\\n\\\\n## Travel\\\\n\\\\n## Home, Garage & Garden [...] © The Weather Company, LLC 2025 [...] | Aug 12 | High | Low | Precip |\\\\n| --- | --- | --- | --- |\\\\n| Averages | 67°F | 54° | -- |\\\\n| Records | -- | -- | -- |\\\\n\\\\n| Reported Conditions |\\\\n| --- |\\\\n| Yesterday | 82° | 62° | 0.01 in |\\\\n| Last 7 Days | 82° | 53° | 0.10 |\\\\n| Month to Date | 82° | 53° | 0.40 |\\\\n\\\\n| Historical Monthly Avg |\\\\n| --- |\\\\n| August | 67° | 54° | 0 |\\\\n| September | 62° | 50° | 0 |\\\\n| October | 55° | 45° | 0 |\\\\n\\\\n## Sun & Moon\\\\n\\\\n## Stay Safe\\\\n\\\\n## Travel Far, Travel Often\\', \\'score\\': 0.6729558}]', name='tavily_search_results_json', id='e9f80447-4b24-4a87-977c-04a8b507e8b6', tool_call_id='call_rnXL3cp3ybVuLaviN35ivF9z')]}\n",
      "{'messages': [HumanMessage(content='What is the weather in Kensington London?', additional_kwargs={}, response_metadata={}, id='c0ec6f5e-1256-415b-8f74-c7b89b3cb761'), AIMessage(content='', additional_kwargs={'tool_calls': [{'id': 'call_LqbQR3OKjKyH2BxrUECYAKfa', 'function': {'arguments': '{\"query\":\"Kensington London weather current\"}', 'name': 'tavily_search_results_json'}, 'type': 'function'}], 'refusal': None}, response_metadata={'token_usage': {'completion_tokens': 352, 'prompt_tokens': 236, 'total_tokens': 588, 'completion_tokens_details': {'accepted_prediction_tokens': 0, 'audio_tokens': 0, 'reasoning_tokens': 320, 'rejected_prediction_tokens': 0}, 'prompt_tokens_details': {'audio_tokens': 0, 'cached_tokens': 0}}, 'model_name': 'gpt-5-nano-2025-08-07', 'system_fingerprint': None, 'id': 'chatcmpl-C3gRcoIi7QNciTVLWdMoFwdRCsToa', 'service_tier': 'default', 'finish_reason': 'tool_calls', 'logprobs': None}, id='run--511650d9-ff71-4a63-b340-7b627d341063-0', tool_calls=[{'name': 'tavily_search_results_json', 'args': {'query': 'Kensington London weather current'}, 'id': 'call_LqbQR3OKjKyH2BxrUECYAKfa', 'type': 'tool_call'}], usage_metadata={'input_tokens': 236, 'output_tokens': 352, 'total_tokens': 588, 'input_token_details': {'audio': 0, 'cache_read': 0}, 'output_token_details': {'audio': 0, 'reasoning': 320}}), ToolMessage(content=\"[{'title': 'Monthly Weather-Kensington, England, United Kingdom', 'url': 'https://weather.com/weather/monthly/l/Kensington+England+United+Kingdom?canonicalCityId=0908f9a0f1a2e0890a1dfd2cceb016b66a9823720ad3b1547ff8700cea38ebe1', 'content': '## Recent Locations\\\\n\\\\nMenu\\\\n\\\\n## Weather Forecasts\\\\n\\\\n## Radar & Maps\\\\n\\\\n## News & Media\\\\n\\\\n## Products & Account\\\\n\\\\n## Lifestyle\\\\n\\\\n### Specialty Forecasts\\\\n\\\\n# Monthly Weather-Kensington, England, United Kingdom\\\\n\\\\n## Day\\\\n\\\\nPartly cloudy. Very warm. High 84F. Winds SE at 5 to 10 mph.\\\\n\\\\n## Night\\\\n\\\\nSome clouds this evening will give way to mainly clear skies overnight. Low 64F. Winds ESE at 5 to 10 mph.\\\\n\\\\n## We Love Our Critters\\\\n\\\\n## Travel\\\\n\\\\n## Home, Garage & Garden [...] © The Weather Company, LLC 2025 [...] | Aug 12 | High | Low | Precip |\\\\n| --- | --- | --- | --- |\\\\n| Averages | 67°F | 54° | -- |\\\\n| Records | -- | -- | -- |\\\\n\\\\n| Reported Conditions |\\\\n| --- |\\\\n| Yesterday | 82° | 62° | 0.01 in |\\\\n| Last 7 Days | 82° | 53° | 0.10 |\\\\n| Month to Date | 82° | 53° | 0.40 |\\\\n\\\\n| Historical Monthly Avg |\\\\n| --- |\\\\n| August | 67° | 54° | 0 |\\\\n| September | 62° | 50° | 0 |\\\\n| October | 55° | 45° | 0 |\\\\n\\\\n## Sun & Moon\\\\n\\\\n## Stay Safe\\\\n\\\\n## Travel Far, Travel Often', 'score': 0.65914243}, {'title': 'Kensington - BBC Weather', 'url': 'https://www.bbc.com/weather/2645801', 'content': 'Thursday morning will see patches of cloud and a chance of a shower. The afternoon will be dry and sunny. Friday and Saturday looks to be dry with plenty of sunshine expected. Staying very warm through the period. Winds will be largely light to gentle, though a moderate south-easterly to easterly breeze may develop later on.\\\\n\\\\n## Observations - London Battersea Heliport\\\\n\\\\nObserved at 08:00,\\\\n\\\\nTuesday 12 August\\\\n\\\\n## Our favourite Weather Watchers photos nearby\\\\n\\\\nReport for Southwark, Greater London [...] Today\\\\n\\\\nToday is expected to remain dry and settled with plenty of sunshine and little cloud cover. A hot day.\\\\n\\\\nTonight\\\\n\\\\nTonight, it is expected to be dry and settled, however low cloud will gradually move in from the south.\\\\n\\\\nWednesday\\\\n\\\\nTomorrow will see low cloud clear in the morning. The rest of the day is expected to be mostly dry and sunny. Very warm to hot.\\\\n\\\\nOutlook for Thursday to Saturday [...] ## Accessibility links\\\\n\\\\n## Search for a location\\\\n\\\\n# Kensington - Weather warnings issued\\\\n\\\\n## Forecast - Kensington\\\\n\\\\n### Day by day forecast\\\\n\\\\n### Environmental Summary\\\\n\\\\n### Sunrise Sunset\\\\n\\\\n### Sunrise Sunset\\\\n\\\\n### Sunrise Sunset\\\\n\\\\n### Sunrise Sunset\\\\n\\\\n### Sunrise Sunset\\\\n\\\\n### Sunrise Sunset\\\\n\\\\n### Sunrise Sunset\\\\n\\\\n### Sunrise Sunset\\\\n\\\\n### Sunrise Sunset\\\\n\\\\n### Sunrise Sunset\\\\n\\\\n### Sunrise Sunset\\\\n\\\\n### Sunrise Sunset\\\\n\\\\n### Sunrise Sunset\\\\n\\\\n### Sunrise Sunset\\\\n\\\\n### Hour by hour forecast\\\\n\\\\n### Environmental Summary', 'score': 0.657561}]\", name='tavily_search_results_json', id='6fa67494-858a-40a2-88fa-aa3f97bab564', tool_call_id='call_LqbQR3OKjKyH2BxrUECYAKfa'), AIMessage(content='', additional_kwargs={'tool_calls': [{'id': 'call_rnXL3cp3ybVuLaviN35ivF9z', 'function': {'arguments': '{\"query\":\"Kensington London current weather now\"}', 'name': 'tavily_search_results_json'}, 'type': 'function'}], 'refusal': None}, response_metadata={'token_usage': {'completion_tokens': 353, 'prompt_tokens': 1080, 'total_tokens': 1433, 'completion_tokens_details': {'accepted_prediction_tokens': 0, 'audio_tokens': 0, 'reasoning_tokens': 320, 'rejected_prediction_tokens': 0}, 'prompt_tokens_details': {'audio_tokens': 0, 'cached_tokens': 0}}, 'model_name': 'gpt-5-nano-2025-08-07', 'system_fingerprint': None, 'id': 'chatcmpl-C3gRqsZDnMH4snwhkVtusG8b4WAUQ', 'service_tier': 'default', 'finish_reason': 'tool_calls', 'logprobs': None}, id='run--6cee103e-65eb-469c-b2d3-df5cc2d06cdc-0', tool_calls=[{'name': 'tavily_search_results_json', 'args': {'query': 'Kensington London current weather now'}, 'id': 'call_rnXL3cp3ybVuLaviN35ivF9z', 'type': 'tool_call'}], usage_metadata={'input_tokens': 1080, 'output_tokens': 353, 'total_tokens': 1433, 'input_token_details': {'audio': 0, 'cache_read': 0}, 'output_token_details': {'audio': 0, 'reasoning': 320}}), ToolMessage(content='[{\\'title\\': \\'Kensington, Kensington and Chelsea, United Kingdom ...\\', \\'url\\': \\'https://www.accuweather.com/en/gb/kensington/w8-7/weather-forecast/323272\\', \\'content\\': \"Sunny to partly cloudy and hot; caution advised if doing strenuous activities outside\\\\nHi: 90°\\\\n\\\\nTonight: Partly cloudy\\\\nLo: 63°\\\\n\\\\n## Current Weather\\\\n\\\\n11:23 AM\\\\n\\\\n## Kensington Weather Radar\\\\n\\\\nKensington Weather Radar\\\\n\\\\n## Hourly Weather\\\\n\\\\nrain drop\\\\n\\\\nrain drop\\\\n\\\\nrain drop\\\\n\\\\nrain drop\\\\n\\\\nrain drop\\\\n\\\\nrain drop\\\\n\\\\nrain drop\\\\n\\\\nrain drop\\\\n\\\\nrain drop\\\\n\\\\nrain drop\\\\n\\\\nrain drop\\\\n\\\\nrain drop\\\\n\\\\n## 10-Day Weather Forecast\\\\n\\\\nToday\\\\n\\\\n8/12\\\\n\\\\nMostly sunny and hot\\\\n\\\\nNight: Partly cloudy\\\\n\\\\nWed\\\\n\\\\n8/13\\\\n\\\\nVery warm with periods of sun [...] # Kensington, Kensington and Chelsea\\\\n\\\\nKensington\\\\n\\\\nKensington and Chelsea\\\\n\\\\n## Around the Globe\\\\n\\\\nAround the Globe\\\\n\\\\n### Hurricane Tracker\\\\n\\\\n### Severe Weather\\\\n\\\\n### Radar & Maps\\\\n\\\\n### News & Features\\\\n\\\\n### Astronomy\\\\n\\\\n### Business\\\\n\\\\n### Climate\\\\n\\\\n### Health\\\\n\\\\n### Recreation\\\\n\\\\n### Sports\\\\n\\\\n### Travel\\\\n\\\\n### Warnings\\\\n\\\\n### Data Suite\\\\n\\\\n### Forensics\\\\n\\\\n### Advertising\\\\n\\\\n### Superior Accuracy™\\\\n\\\\n### Video\\\\n\\\\n## Today\\\\n\\\\n## Today\\'s Weather\\\\n\\\\nTue, Aug 12\", \\'score\\': 0.7644879}, {\\'title\\': \\'Monthly Weather Forecast for Kensington, England, United Kingdom\\', \\'url\\': \\'https://weather.com/weather/monthly/l/Kensington+England+United+Kingdom?canonicalCityId=0908f9a0f1a2e0890a1dfd2cceb016b66a9823720ad3b1547ff8700cea38ebe1\\', \\'content\\': \\'## Recent Locations\\\\n\\\\nMenu\\\\n\\\\n## Weather Forecasts\\\\n\\\\n## Radar & Maps\\\\n\\\\n## News & Media\\\\n\\\\n## Products & Account\\\\n\\\\n## Lifestyle\\\\n\\\\n### Specialty Forecasts\\\\n\\\\n# Monthly Weather-Kensington, England, United Kingdom\\\\n\\\\n## Day\\\\n\\\\nPartly cloudy. Very warm. High 84F. Winds SE at 5 to 10 mph.\\\\n\\\\n## Night\\\\n\\\\nSome clouds this evening will give way to mainly clear skies overnight. Low 64F. Winds ESE at 5 to 10 mph.\\\\n\\\\n## We Love Our Critters\\\\n\\\\n## Travel\\\\n\\\\n## Home, Garage & Garden [...] © The Weather Company, LLC 2025 [...] | Aug 12 | High | Low | Precip |\\\\n| --- | --- | --- | --- |\\\\n| Averages | 67°F | 54° | -- |\\\\n| Records | -- | -- | -- |\\\\n\\\\n| Reported Conditions |\\\\n| --- |\\\\n| Yesterday | 82° | 62° | 0.01 in |\\\\n| Last 7 Days | 82° | 53° | 0.10 |\\\\n| Month to Date | 82° | 53° | 0.40 |\\\\n\\\\n| Historical Monthly Avg |\\\\n| --- |\\\\n| August | 67° | 54° | 0 |\\\\n| September | 62° | 50° | 0 |\\\\n| October | 55° | 45° | 0 |\\\\n\\\\n## Sun & Moon\\\\n\\\\n## Stay Safe\\\\n\\\\n## Travel Far, Travel Often\\', \\'score\\': 0.6729558}]', name='tavily_search_results_json', id='e9f80447-4b24-4a87-977c-04a8b507e8b6', tool_call_id='call_rnXL3cp3ybVuLaviN35ivF9z'), AIMessage(content='', additional_kwargs={'tool_calls': [{'id': 'call_EzhvBxgzflQZHDuVzBohEjQC', 'function': {'arguments': '{\"query\":\"Kensington W8 current temperature weather\"}', 'name': 'tavily_search_results_json'}, 'type': 'function'}], 'refusal': None}, response_metadata={'token_usage': {'completion_tokens': 930, 'prompt_tokens': 1900, 'total_tokens': 2830, 'completion_tokens_details': {'accepted_prediction_tokens': 0, 'audio_tokens': 0, 'reasoning_tokens': 896, 'rejected_prediction_tokens': 0}, 'prompt_tokens_details': {'audio_tokens': 0, 'cached_tokens': 0}}, 'model_name': 'gpt-5-nano-2025-08-07', 'system_fingerprint': None, 'id': 'chatcmpl-C3gS7PVmOGXoeyCuF6sAM7pVbAOce', 'service_tier': 'default', 'finish_reason': 'tool_calls', 'logprobs': None}, id='run--7a2c2118-cfc5-481f-a698-7ff39b3d6362-0', tool_calls=[{'name': 'tavily_search_results_json', 'args': {'query': 'Kensington W8 current temperature weather'}, 'id': 'call_EzhvBxgzflQZHDuVzBohEjQC', 'type': 'tool_call'}], usage_metadata={'input_tokens': 1900, 'output_tokens': 930, 'total_tokens': 2830, 'input_token_details': {'audio': 0, 'cache_read': 0}, 'output_token_details': {'audio': 0, 'reasoning': 896}})]}\n",
      "{'messages': [AIMessage(content='', additional_kwargs={'tool_calls': [{'id': 'call_EzhvBxgzflQZHDuVzBohEjQC', 'function': {'arguments': '{\"query\":\"Kensington W8 current temperature weather\"}', 'name': 'tavily_search_results_json'}, 'type': 'function'}], 'refusal': None}, response_metadata={'token_usage': {'completion_tokens': 930, 'prompt_tokens': 1900, 'total_tokens': 2830, 'completion_tokens_details': {'accepted_prediction_tokens': 0, 'audio_tokens': 0, 'reasoning_tokens': 896, 'rejected_prediction_tokens': 0}, 'prompt_tokens_details': {'audio_tokens': 0, 'cached_tokens': 0}}, 'model_name': 'gpt-5-nano-2025-08-07', 'system_fingerprint': None, 'id': 'chatcmpl-C3gS7PVmOGXoeyCuF6sAM7pVbAOce', 'service_tier': 'default', 'finish_reason': 'tool_calls', 'logprobs': None}, id='run--7a2c2118-cfc5-481f-a698-7ff39b3d6362-0', tool_calls=[{'name': 'tavily_search_results_json', 'args': {'query': 'Kensington W8 current temperature weather'}, 'id': 'call_EzhvBxgzflQZHDuVzBohEjQC', 'type': 'tool_call'}], usage_metadata={'input_tokens': 1900, 'output_tokens': 930, 'total_tokens': 2830, 'input_token_details': {'audio': 0, 'cache_read': 0}, 'output_token_details': {'audio': 0, 'reasoning': 896}})]}\n",
      "()\n",
      "\n",
      " <bound method Pregel.get_state of <langgraph.graph.state.CompiledStateGraph object at 0x119bb5750>> \n",
      "\n",
      "Calling: {'name': 'tavily_search_results_json', 'args': {'query': 'Kensington W8 current temperature weather'}, 'id': 'call_EzhvBxgzflQZHDuVzBohEjQC', 'type': 'tool_call'}\n",
      "Back to the model!\n",
      "{'messages': [ToolMessage(content='[{\\'title\\': \\'Kensington, Kensington and Chelsea, United Kingdom ...\\', \\'url\\': \\'https://www.accuweather.com/en/gb/kensington/w8-7/weather-forecast/323272\\', \\'content\\': \"Sunny to partly cloudy and hot; caution advised if doing strenuous activities outside\\\\nHi: 90°\\\\n\\\\nTonight: Partly cloudy\\\\nLo: 63°\\\\n\\\\n## Current Weather\\\\n\\\\n11:23 AM\\\\n\\\\n## Kensington Weather Radar\\\\n\\\\nKensington Weather Radar\\\\n\\\\n## Hourly Weather\\\\n\\\\nrain drop\\\\n\\\\nrain drop\\\\n\\\\nrain drop\\\\n\\\\nrain drop\\\\n\\\\nrain drop\\\\n\\\\nrain drop\\\\n\\\\nrain drop\\\\n\\\\nrain drop\\\\n\\\\nrain drop\\\\n\\\\nrain drop\\\\n\\\\nrain drop\\\\n\\\\nrain drop\\\\n\\\\n## 10-Day Weather Forecast\\\\n\\\\nToday\\\\n\\\\n8/12\\\\n\\\\nMostly sunny and hot\\\\n\\\\nNight: Partly cloudy\\\\n\\\\nWed\\\\n\\\\n8/13\\\\n\\\\nVery warm with periods of sun [...] # Kensington, Kensington and Chelsea\\\\n\\\\nKensington\\\\n\\\\nKensington and Chelsea\\\\n\\\\n## Around the Globe\\\\n\\\\nAround the Globe\\\\n\\\\n### Hurricane Tracker\\\\n\\\\n### Severe Weather\\\\n\\\\n### Radar & Maps\\\\n\\\\n### News & Features\\\\n\\\\n### Astronomy\\\\n\\\\n### Business\\\\n\\\\n### Climate\\\\n\\\\n### Health\\\\n\\\\n### Recreation\\\\n\\\\n### Sports\\\\n\\\\n### Travel\\\\n\\\\n### Warnings\\\\n\\\\n### Data Suite\\\\n\\\\n### Forensics\\\\n\\\\n### Advertising\\\\n\\\\n### Superior Accuracy™\\\\n\\\\n### Video\\\\n\\\\n## Today\\\\n\\\\n## Today\\'s Weather\\\\n\\\\nTue, Aug 12 [...] The air quality is generally acceptable for most individuals. However, sensitive groups may experience minor to moderate symptoms from long-term exposure.\\\\n\\\\n## Allergy Outlook\\\\n\\\\nTop Stories\\\\n\\\\nHurricane\\\\n\\\\nTropical Storm Erin forms, to become first Atlantic hurricane of 2025\\\\n\\\\n1 hour ago\\\\n\\\\nWeather News\\\\n\\\\nLee Fire rages in Colorado amid severe western wildfire season\\\\n\\\\n13 minutes ago\\\\n\\\\nWeather Forecasts\\\\n\\\\nDownpours to end much of Northeast\\'s dry spell at midweek\\\\n\\\\n1 hour ago\\\\n\\\\nAstronomy\", \\'score\\': 0.657033}, {\\'title\\': \\'BBC Weather - Kensington\\', \\'url\\': \\'https://www.bbc.com/weather/11669846\\', \\'content\\': \\'Tomorrow will be mostly sunny and dry, however the odd shower is expected in the afternoon, with a chance of a rumble of thunder. Very warm.\\\\n\\\\nOutlook for Thursday to Saturday\\\\n\\\\nThursday will begin with scattered showers, these easing in the afternoon to reveal plenty of sunshine. Friday will see some lingering low cloud in the morning. However, this will lift in the afternoon to reveal plenty of sunshine. Saturday will be dry with long spells of sunshine, and it will turn increasingly warm. [...] ### Latest forecast for Merseyside\\\\n\\\\nToday\\\\n\\\\nThis afternoon will continue largely dry and settled with plenty of sunny spells. A few patches of cloud may develop at times, with a chance of a shower in spots. Very warm.\\\\n\\\\nTonight\\\\n\\\\nThis evening should see any showers clear, leaving it dry with increasingly clear skies for most into the overnight period.\\\\n\\\\nWednesday [...] ### Sunrise Sunset\\\\n\\\\n### Sunrise Sunset\\\\n\\\\n### Sunrise Sunset\\\\n\\\\n### Sunrise Sunset\\\\n\\\\n### Sunrise Sunset\\\\n\\\\n### Sunrise Sunset\\\\n\\\\n### Sunrise Sunset\\\\n\\\\n### Sunrise Sunset\\\\n\\\\n### Sunrise Sunset\\\\n\\\\n### Sunrise Sunset\\\\n\\\\n### Sunrise Sunset\\\\n\\\\n### Sunrise Sunset\\\\n\\\\n### Sunrise Sunset\\\\n\\\\n### Sunrise Sunset\\\\n\\\\n## Outlook forecast map\\\\n\\\\n## Forecast for North West England\\\\n\\\\n### Latest forecast from BBC North West Today\\\\n\\\\n## To play this video you need to enable JavaScript in your browser.\\\\n\\\\nThis video can not be played\\', \\'score\\': 0.48616135}]', name='tavily_search_results_json', id='11bcd028-f7a8-4e72-862b-93fa80459723', tool_call_id='call_EzhvBxgzflQZHDuVzBohEjQC')]}\n",
      "{'messages': [HumanMessage(content='What is the weather in Kensington London?', additional_kwargs={}, response_metadata={}, id='c0ec6f5e-1256-415b-8f74-c7b89b3cb761'), AIMessage(content='', additional_kwargs={'tool_calls': [{'id': 'call_LqbQR3OKjKyH2BxrUECYAKfa', 'function': {'arguments': '{\"query\":\"Kensington London weather current\"}', 'name': 'tavily_search_results_json'}, 'type': 'function'}], 'refusal': None}, response_metadata={'token_usage': {'completion_tokens': 352, 'prompt_tokens': 236, 'total_tokens': 588, 'completion_tokens_details': {'accepted_prediction_tokens': 0, 'audio_tokens': 0, 'reasoning_tokens': 320, 'rejected_prediction_tokens': 0}, 'prompt_tokens_details': {'audio_tokens': 0, 'cached_tokens': 0}}, 'model_name': 'gpt-5-nano-2025-08-07', 'system_fingerprint': None, 'id': 'chatcmpl-C3gRcoIi7QNciTVLWdMoFwdRCsToa', 'service_tier': 'default', 'finish_reason': 'tool_calls', 'logprobs': None}, id='run--511650d9-ff71-4a63-b340-7b627d341063-0', tool_calls=[{'name': 'tavily_search_results_json', 'args': {'query': 'Kensington London weather current'}, 'id': 'call_LqbQR3OKjKyH2BxrUECYAKfa', 'type': 'tool_call'}], usage_metadata={'input_tokens': 236, 'output_tokens': 352, 'total_tokens': 588, 'input_token_details': {'audio': 0, 'cache_read': 0}, 'output_token_details': {'audio': 0, 'reasoning': 320}}), ToolMessage(content=\"[{'title': 'Monthly Weather-Kensington, England, United Kingdom', 'url': 'https://weather.com/weather/monthly/l/Kensington+England+United+Kingdom?canonicalCityId=0908f9a0f1a2e0890a1dfd2cceb016b66a9823720ad3b1547ff8700cea38ebe1', 'content': '## Recent Locations\\\\n\\\\nMenu\\\\n\\\\n## Weather Forecasts\\\\n\\\\n## Radar & Maps\\\\n\\\\n## News & Media\\\\n\\\\n## Products & Account\\\\n\\\\n## Lifestyle\\\\n\\\\n### Specialty Forecasts\\\\n\\\\n# Monthly Weather-Kensington, England, United Kingdom\\\\n\\\\n## Day\\\\n\\\\nPartly cloudy. Very warm. High 84F. Winds SE at 5 to 10 mph.\\\\n\\\\n## Night\\\\n\\\\nSome clouds this evening will give way to mainly clear skies overnight. Low 64F. Winds ESE at 5 to 10 mph.\\\\n\\\\n## We Love Our Critters\\\\n\\\\n## Travel\\\\n\\\\n## Home, Garage & Garden [...] © The Weather Company, LLC 2025 [...] | Aug 12 | High | Low | Precip |\\\\n| --- | --- | --- | --- |\\\\n| Averages | 67°F | 54° | -- |\\\\n| Records | -- | -- | -- |\\\\n\\\\n| Reported Conditions |\\\\n| --- |\\\\n| Yesterday | 82° | 62° | 0.01 in |\\\\n| Last 7 Days | 82° | 53° | 0.10 |\\\\n| Month to Date | 82° | 53° | 0.40 |\\\\n\\\\n| Historical Monthly Avg |\\\\n| --- |\\\\n| August | 67° | 54° | 0 |\\\\n| September | 62° | 50° | 0 |\\\\n| October | 55° | 45° | 0 |\\\\n\\\\n## Sun & Moon\\\\n\\\\n## Stay Safe\\\\n\\\\n## Travel Far, Travel Often', 'score': 0.65914243}, {'title': 'Kensington - BBC Weather', 'url': 'https://www.bbc.com/weather/2645801', 'content': 'Thursday morning will see patches of cloud and a chance of a shower. The afternoon will be dry and sunny. Friday and Saturday looks to be dry with plenty of sunshine expected. Staying very warm through the period. Winds will be largely light to gentle, though a moderate south-easterly to easterly breeze may develop later on.\\\\n\\\\n## Observations - London Battersea Heliport\\\\n\\\\nObserved at 08:00,\\\\n\\\\nTuesday 12 August\\\\n\\\\n## Our favourite Weather Watchers photos nearby\\\\n\\\\nReport for Southwark, Greater London [...] Today\\\\n\\\\nToday is expected to remain dry and settled with plenty of sunshine and little cloud cover. A hot day.\\\\n\\\\nTonight\\\\n\\\\nTonight, it is expected to be dry and settled, however low cloud will gradually move in from the south.\\\\n\\\\nWednesday\\\\n\\\\nTomorrow will see low cloud clear in the morning. The rest of the day is expected to be mostly dry and sunny. Very warm to hot.\\\\n\\\\nOutlook for Thursday to Saturday [...] ## Accessibility links\\\\n\\\\n## Search for a location\\\\n\\\\n# Kensington - Weather warnings issued\\\\n\\\\n## Forecast - Kensington\\\\n\\\\n### Day by day forecast\\\\n\\\\n### Environmental Summary\\\\n\\\\n### Sunrise Sunset\\\\n\\\\n### Sunrise Sunset\\\\n\\\\n### Sunrise Sunset\\\\n\\\\n### Sunrise Sunset\\\\n\\\\n### Sunrise Sunset\\\\n\\\\n### Sunrise Sunset\\\\n\\\\n### Sunrise Sunset\\\\n\\\\n### Sunrise Sunset\\\\n\\\\n### Sunrise Sunset\\\\n\\\\n### Sunrise Sunset\\\\n\\\\n### Sunrise Sunset\\\\n\\\\n### Sunrise Sunset\\\\n\\\\n### Sunrise Sunset\\\\n\\\\n### Sunrise Sunset\\\\n\\\\n### Hour by hour forecast\\\\n\\\\n### Environmental Summary', 'score': 0.657561}]\", name='tavily_search_results_json', id='6fa67494-858a-40a2-88fa-aa3f97bab564', tool_call_id='call_LqbQR3OKjKyH2BxrUECYAKfa'), AIMessage(content='', additional_kwargs={'tool_calls': [{'id': 'call_rnXL3cp3ybVuLaviN35ivF9z', 'function': {'arguments': '{\"query\":\"Kensington London current weather now\"}', 'name': 'tavily_search_results_json'}, 'type': 'function'}], 'refusal': None}, response_metadata={'token_usage': {'completion_tokens': 353, 'prompt_tokens': 1080, 'total_tokens': 1433, 'completion_tokens_details': {'accepted_prediction_tokens': 0, 'audio_tokens': 0, 'reasoning_tokens': 320, 'rejected_prediction_tokens': 0}, 'prompt_tokens_details': {'audio_tokens': 0, 'cached_tokens': 0}}, 'model_name': 'gpt-5-nano-2025-08-07', 'system_fingerprint': None, 'id': 'chatcmpl-C3gRqsZDnMH4snwhkVtusG8b4WAUQ', 'service_tier': 'default', 'finish_reason': 'tool_calls', 'logprobs': None}, id='run--6cee103e-65eb-469c-b2d3-df5cc2d06cdc-0', tool_calls=[{'name': 'tavily_search_results_json', 'args': {'query': 'Kensington London current weather now'}, 'id': 'call_rnXL3cp3ybVuLaviN35ivF9z', 'type': 'tool_call'}], usage_metadata={'input_tokens': 1080, 'output_tokens': 353, 'total_tokens': 1433, 'input_token_details': {'audio': 0, 'cache_read': 0}, 'output_token_details': {'audio': 0, 'reasoning': 320}}), ToolMessage(content='[{\\'title\\': \\'Kensington, Kensington and Chelsea, United Kingdom ...\\', \\'url\\': \\'https://www.accuweather.com/en/gb/kensington/w8-7/weather-forecast/323272\\', \\'content\\': \"Sunny to partly cloudy and hot; caution advised if doing strenuous activities outside\\\\nHi: 90°\\\\n\\\\nTonight: Partly cloudy\\\\nLo: 63°\\\\n\\\\n## Current Weather\\\\n\\\\n11:23 AM\\\\n\\\\n## Kensington Weather Radar\\\\n\\\\nKensington Weather Radar\\\\n\\\\n## Hourly Weather\\\\n\\\\nrain drop\\\\n\\\\nrain drop\\\\n\\\\nrain drop\\\\n\\\\nrain drop\\\\n\\\\nrain drop\\\\n\\\\nrain drop\\\\n\\\\nrain drop\\\\n\\\\nrain drop\\\\n\\\\nrain drop\\\\n\\\\nrain drop\\\\n\\\\nrain drop\\\\n\\\\nrain drop\\\\n\\\\n## 10-Day Weather Forecast\\\\n\\\\nToday\\\\n\\\\n8/12\\\\n\\\\nMostly sunny and hot\\\\n\\\\nNight: Partly cloudy\\\\n\\\\nWed\\\\n\\\\n8/13\\\\n\\\\nVery warm with periods of sun [...] # Kensington, Kensington and Chelsea\\\\n\\\\nKensington\\\\n\\\\nKensington and Chelsea\\\\n\\\\n## Around the Globe\\\\n\\\\nAround the Globe\\\\n\\\\n### Hurricane Tracker\\\\n\\\\n### Severe Weather\\\\n\\\\n### Radar & Maps\\\\n\\\\n### News & Features\\\\n\\\\n### Astronomy\\\\n\\\\n### Business\\\\n\\\\n### Climate\\\\n\\\\n### Health\\\\n\\\\n### Recreation\\\\n\\\\n### Sports\\\\n\\\\n### Travel\\\\n\\\\n### Warnings\\\\n\\\\n### Data Suite\\\\n\\\\n### Forensics\\\\n\\\\n### Advertising\\\\n\\\\n### Superior Accuracy™\\\\n\\\\n### Video\\\\n\\\\n## Today\\\\n\\\\n## Today\\'s Weather\\\\n\\\\nTue, Aug 12\", \\'score\\': 0.7644879}, {\\'title\\': \\'Monthly Weather Forecast for Kensington, England, United Kingdom\\', \\'url\\': \\'https://weather.com/weather/monthly/l/Kensington+England+United+Kingdom?canonicalCityId=0908f9a0f1a2e0890a1dfd2cceb016b66a9823720ad3b1547ff8700cea38ebe1\\', \\'content\\': \\'## Recent Locations\\\\n\\\\nMenu\\\\n\\\\n## Weather Forecasts\\\\n\\\\n## Radar & Maps\\\\n\\\\n## News & Media\\\\n\\\\n## Products & Account\\\\n\\\\n## Lifestyle\\\\n\\\\n### Specialty Forecasts\\\\n\\\\n# Monthly Weather-Kensington, England, United Kingdom\\\\n\\\\n## Day\\\\n\\\\nPartly cloudy. Very warm. High 84F. Winds SE at 5 to 10 mph.\\\\n\\\\n## Night\\\\n\\\\nSome clouds this evening will give way to mainly clear skies overnight. Low 64F. Winds ESE at 5 to 10 mph.\\\\n\\\\n## We Love Our Critters\\\\n\\\\n## Travel\\\\n\\\\n## Home, Garage & Garden [...] © The Weather Company, LLC 2025 [...] | Aug 12 | High | Low | Precip |\\\\n| --- | --- | --- | --- |\\\\n| Averages | 67°F | 54° | -- |\\\\n| Records | -- | -- | -- |\\\\n\\\\n| Reported Conditions |\\\\n| --- |\\\\n| Yesterday | 82° | 62° | 0.01 in |\\\\n| Last 7 Days | 82° | 53° | 0.10 |\\\\n| Month to Date | 82° | 53° | 0.40 |\\\\n\\\\n| Historical Monthly Avg |\\\\n| --- |\\\\n| August | 67° | 54° | 0 |\\\\n| September | 62° | 50° | 0 |\\\\n| October | 55° | 45° | 0 |\\\\n\\\\n## Sun & Moon\\\\n\\\\n## Stay Safe\\\\n\\\\n## Travel Far, Travel Often\\', \\'score\\': 0.6729558}]', name='tavily_search_results_json', id='e9f80447-4b24-4a87-977c-04a8b507e8b6', tool_call_id='call_rnXL3cp3ybVuLaviN35ivF9z'), AIMessage(content='', additional_kwargs={'tool_calls': [{'id': 'call_EzhvBxgzflQZHDuVzBohEjQC', 'function': {'arguments': '{\"query\":\"Kensington W8 current temperature weather\"}', 'name': 'tavily_search_results_json'}, 'type': 'function'}], 'refusal': None}, response_metadata={'token_usage': {'completion_tokens': 930, 'prompt_tokens': 1900, 'total_tokens': 2830, 'completion_tokens_details': {'accepted_prediction_tokens': 0, 'audio_tokens': 0, 'reasoning_tokens': 896, 'rejected_prediction_tokens': 0}, 'prompt_tokens_details': {'audio_tokens': 0, 'cached_tokens': 0}}, 'model_name': 'gpt-5-nano-2025-08-07', 'system_fingerprint': None, 'id': 'chatcmpl-C3gS7PVmOGXoeyCuF6sAM7pVbAOce', 'service_tier': 'default', 'finish_reason': 'tool_calls', 'logprobs': None}, id='run--7a2c2118-cfc5-481f-a698-7ff39b3d6362-0', tool_calls=[{'name': 'tavily_search_results_json', 'args': {'query': 'Kensington W8 current temperature weather'}, 'id': 'call_EzhvBxgzflQZHDuVzBohEjQC', 'type': 'tool_call'}], usage_metadata={'input_tokens': 1900, 'output_tokens': 930, 'total_tokens': 2830, 'input_token_details': {'audio': 0, 'cache_read': 0}, 'output_token_details': {'audio': 0, 'reasoning': 896}}), ToolMessage(content='[{\\'title\\': \\'Kensington, Kensington and Chelsea, United Kingdom ...\\', \\'url\\': \\'https://www.accuweather.com/en/gb/kensington/w8-7/weather-forecast/323272\\', \\'content\\': \"Sunny to partly cloudy and hot; caution advised if doing strenuous activities outside\\\\nHi: 90°\\\\n\\\\nTonight: Partly cloudy\\\\nLo: 63°\\\\n\\\\n## Current Weather\\\\n\\\\n11:23 AM\\\\n\\\\n## Kensington Weather Radar\\\\n\\\\nKensington Weather Radar\\\\n\\\\n## Hourly Weather\\\\n\\\\nrain drop\\\\n\\\\nrain drop\\\\n\\\\nrain drop\\\\n\\\\nrain drop\\\\n\\\\nrain drop\\\\n\\\\nrain drop\\\\n\\\\nrain drop\\\\n\\\\nrain drop\\\\n\\\\nrain drop\\\\n\\\\nrain drop\\\\n\\\\nrain drop\\\\n\\\\nrain drop\\\\n\\\\n## 10-Day Weather Forecast\\\\n\\\\nToday\\\\n\\\\n8/12\\\\n\\\\nMostly sunny and hot\\\\n\\\\nNight: Partly cloudy\\\\n\\\\nWed\\\\n\\\\n8/13\\\\n\\\\nVery warm with periods of sun [...] # Kensington, Kensington and Chelsea\\\\n\\\\nKensington\\\\n\\\\nKensington and Chelsea\\\\n\\\\n## Around the Globe\\\\n\\\\nAround the Globe\\\\n\\\\n### Hurricane Tracker\\\\n\\\\n### Severe Weather\\\\n\\\\n### Radar & Maps\\\\n\\\\n### News & Features\\\\n\\\\n### Astronomy\\\\n\\\\n### Business\\\\n\\\\n### Climate\\\\n\\\\n### Health\\\\n\\\\n### Recreation\\\\n\\\\n### Sports\\\\n\\\\n### Travel\\\\n\\\\n### Warnings\\\\n\\\\n### Data Suite\\\\n\\\\n### Forensics\\\\n\\\\n### Advertising\\\\n\\\\n### Superior Accuracy™\\\\n\\\\n### Video\\\\n\\\\n## Today\\\\n\\\\n## Today\\'s Weather\\\\n\\\\nTue, Aug 12 [...] The air quality is generally acceptable for most individuals. However, sensitive groups may experience minor to moderate symptoms from long-term exposure.\\\\n\\\\n## Allergy Outlook\\\\n\\\\nTop Stories\\\\n\\\\nHurricane\\\\n\\\\nTropical Storm Erin forms, to become first Atlantic hurricane of 2025\\\\n\\\\n1 hour ago\\\\n\\\\nWeather News\\\\n\\\\nLee Fire rages in Colorado amid severe western wildfire season\\\\n\\\\n13 minutes ago\\\\n\\\\nWeather Forecasts\\\\n\\\\nDownpours to end much of Northeast\\'s dry spell at midweek\\\\n\\\\n1 hour ago\\\\n\\\\nAstronomy\", \\'score\\': 0.657033}, {\\'title\\': \\'BBC Weather - Kensington\\', \\'url\\': \\'https://www.bbc.com/weather/11669846\\', \\'content\\': \\'Tomorrow will be mostly sunny and dry, however the odd shower is expected in the afternoon, with a chance of a rumble of thunder. Very warm.\\\\n\\\\nOutlook for Thursday to Saturday\\\\n\\\\nThursday will begin with scattered showers, these easing in the afternoon to reveal plenty of sunshine. Friday will see some lingering low cloud in the morning. However, this will lift in the afternoon to reveal plenty of sunshine. Saturday will be dry with long spells of sunshine, and it will turn increasingly warm. [...] ### Latest forecast for Merseyside\\\\n\\\\nToday\\\\n\\\\nThis afternoon will continue largely dry and settled with plenty of sunny spells. A few patches of cloud may develop at times, with a chance of a shower in spots. Very warm.\\\\n\\\\nTonight\\\\n\\\\nThis evening should see any showers clear, leaving it dry with increasingly clear skies for most into the overnight period.\\\\n\\\\nWednesday [...] ### Sunrise Sunset\\\\n\\\\n### Sunrise Sunset\\\\n\\\\n### Sunrise Sunset\\\\n\\\\n### Sunrise Sunset\\\\n\\\\n### Sunrise Sunset\\\\n\\\\n### Sunrise Sunset\\\\n\\\\n### Sunrise Sunset\\\\n\\\\n### Sunrise Sunset\\\\n\\\\n### Sunrise Sunset\\\\n\\\\n### Sunrise Sunset\\\\n\\\\n### Sunrise Sunset\\\\n\\\\n### Sunrise Sunset\\\\n\\\\n### Sunrise Sunset\\\\n\\\\n### Sunrise Sunset\\\\n\\\\n## Outlook forecast map\\\\n\\\\n## Forecast for North West England\\\\n\\\\n### Latest forecast from BBC North West Today\\\\n\\\\n## To play this video you need to enable JavaScript in your browser.\\\\n\\\\nThis video can not be played\\', \\'score\\': 0.48616135}]', name='tavily_search_results_json', id='11bcd028-f7a8-4e72-862b-93fa80459723', tool_call_id='call_EzhvBxgzflQZHDuVzBohEjQC'), AIMessage(content='Do you want the current conditions right now or a short forecast for today? I can fetch live data if you’d like.\\n\\nHere’s a quick snapshot from recent forecasts for Kensington, London (W8):\\n- Likely conditions today: very warm with plenty of sunshine, but with a chance of a shower in spots.\\n- Temperatures: typical highs in the mid to high 20s Celsius (roughly 80–90°F), with overnight temperatures staying warm.\\n- Tonight: dry for most of the evening with some cloud developing; tomorrow more sunshine and continued warmth.\\n- Sources you can check: BBC Weather (Kensington) and AccuWeather (Kensington, W8).\\n\\nWould you like me to pull a live update now (and in which units do you want the temperature: Celsius or Fahrenheit)?', additional_kwargs={'refusal': None}, response_metadata={'token_usage': {'completion_tokens': 2030, 'prompt_tokens': 2737, 'total_tokens': 4767, 'completion_tokens_details': {'accepted_prediction_tokens': 0, 'audio_tokens': 0, 'reasoning_tokens': 1856, 'rejected_prediction_tokens': 0}, 'prompt_tokens_details': {'audio_tokens': 0, 'cached_tokens': 0}}, 'model_name': 'gpt-5-nano-2025-08-07', 'system_fingerprint': None, 'id': 'chatcmpl-C3gSZvvQMLJGqfq62fFP6dwsIAq21', 'service_tier': 'default', 'finish_reason': 'stop', 'logprobs': None}, id='run--7274a2b0-544d-4342-9e46-993c235958cd-0', usage_metadata={'input_tokens': 2737, 'output_tokens': 2030, 'total_tokens': 4767, 'input_token_details': {'audio': 0, 'cache_read': 0}, 'output_token_details': {'audio': 0, 'reasoning': 1856}})]}\n",
      "{'messages': [AIMessage(content='Do you want the current conditions right now or a short forecast for today? I can fetch live data if you’d like.\\n\\nHere’s a quick snapshot from recent forecasts for Kensington, London (W8):\\n- Likely conditions today: very warm with plenty of sunshine, but with a chance of a shower in spots.\\n- Temperatures: typical highs in the mid to high 20s Celsius (roughly 80–90°F), with overnight temperatures staying warm.\\n- Tonight: dry for most of the evening with some cloud developing; tomorrow more sunshine and continued warmth.\\n- Sources you can check: BBC Weather (Kensington) and AccuWeather (Kensington, W8).\\n\\nWould you like me to pull a live update now (and in which units do you want the temperature: Celsius or Fahrenheit)?', additional_kwargs={'refusal': None}, response_metadata={'token_usage': {'completion_tokens': 2030, 'prompt_tokens': 2737, 'total_tokens': 4767, 'completion_tokens_details': {'accepted_prediction_tokens': 0, 'audio_tokens': 0, 'reasoning_tokens': 1856, 'rejected_prediction_tokens': 0}, 'prompt_tokens_details': {'audio_tokens': 0, 'cached_tokens': 0}}, 'model_name': 'gpt-5-nano-2025-08-07', 'system_fingerprint': None, 'id': 'chatcmpl-C3gSZvvQMLJGqfq62fFP6dwsIAq21', 'service_tier': 'default', 'finish_reason': 'stop', 'logprobs': None}, id='run--7274a2b0-544d-4342-9e46-993c235958cd-0', usage_metadata={'input_tokens': 2737, 'output_tokens': 2030, 'total_tokens': 4767, 'input_token_details': {'audio': 0, 'cache_read': 0}, 'output_token_details': {'audio': 0, 'reasoning': 1856}})]}\n"
     ]
    }
   ],
   "source": [
    "messages = [HumanMessage(\"What is the weather in Kensington London?\")]\n",
    "thread = {\"configurable\": {\"thread_id\": \"2\"}}\n",
    "\n",
    "for event in abot.graph.stream({\"messages\": messages}, thread):\n",
    "    for v in event.values():\n",
    "        print(v)\n",
    "\n",
    "while abot.graph.get_state(thread).next:\n",
    "    print(f\"\\n {abot.graph.get_state} \\n\")\n",
    "    _input = input(\"Proceed?\")\n",
    "    if _input != 'y':\n",
    "        print(\"terminating\")\n",
    "        break\n",
    "    else:\n",
    "        for event in abot.graph.stream(None, thread):\n",
    "            for v in event.values():\n",
    "                print(v)"
   ]
  },
  {
   "cell_type": "markdown",
   "id": "31258c65",
   "metadata": {},
   "source": [
    "# Modifying the state"
   ]
  },
  {
   "cell_type": "code",
   "execution_count": 14,
   "id": "c0816b5f",
   "metadata": {},
   "outputs": [
    {
     "name": "stdout",
     "output_type": "stream",
     "text": [
      "{'messages': [HumanMessage(content='What is the weather in LA?', additional_kwargs={}, response_metadata={}, id='e16d2743-fcea-4ec6-80a5-4d1c778e72d5'), AIMessage(content='', additional_kwargs={'tool_calls': [{'id': 'call_cn9Y0zDBB1clF5UspZt7Wzla', 'function': {'arguments': '{\"query\":\"Los Angeles weather right now\"}', 'name': 'tavily_search_results_json'}, 'type': 'function'}], 'refusal': None}, response_metadata={'token_usage': {'completion_tokens': 351, 'prompt_tokens': 235, 'total_tokens': 586, 'completion_tokens_details': {'accepted_prediction_tokens': 0, 'audio_tokens': 0, 'reasoning_tokens': 320, 'rejected_prediction_tokens': 0}, 'prompt_tokens_details': {'audio_tokens': 0, 'cached_tokens': 0}}, 'model_name': 'gpt-5-nano-2025-08-07', 'system_fingerprint': None, 'id': 'chatcmpl-C3gZEF2hBRvOVmqZgj0IlQxiuZ9NL', 'service_tier': 'default', 'finish_reason': 'tool_calls', 'logprobs': None}, id='run--8c27efce-9cd0-466a-ae78-ab5dbce19edb-0', tool_calls=[{'name': 'tavily_search_results_json', 'args': {'query': 'Los Angeles weather right now'}, 'id': 'call_cn9Y0zDBB1clF5UspZt7Wzla', 'type': 'tool_call'}], usage_metadata={'input_tokens': 235, 'output_tokens': 351, 'total_tokens': 586, 'input_token_details': {'audio': 0, 'cache_read': 0}, 'output_token_details': {'audio': 0, 'reasoning': 320}})]}\n",
      "{'messages': [AIMessage(content='', additional_kwargs={'tool_calls': [{'id': 'call_cn9Y0zDBB1clF5UspZt7Wzla', 'function': {'arguments': '{\"query\":\"Los Angeles weather right now\"}', 'name': 'tavily_search_results_json'}, 'type': 'function'}], 'refusal': None}, response_metadata={'token_usage': {'completion_tokens': 351, 'prompt_tokens': 235, 'total_tokens': 586, 'completion_tokens_details': {'accepted_prediction_tokens': 0, 'audio_tokens': 0, 'reasoning_tokens': 320, 'rejected_prediction_tokens': 0}, 'prompt_tokens_details': {'audio_tokens': 0, 'cached_tokens': 0}}, 'model_name': 'gpt-5-nano-2025-08-07', 'system_fingerprint': None, 'id': 'chatcmpl-C3gZEF2hBRvOVmqZgj0IlQxiuZ9NL', 'service_tier': 'default', 'finish_reason': 'tool_calls', 'logprobs': None}, id='run--8c27efce-9cd0-466a-ae78-ab5dbce19edb-0', tool_calls=[{'name': 'tavily_search_results_json', 'args': {'query': 'Los Angeles weather right now'}, 'id': 'call_cn9Y0zDBB1clF5UspZt7Wzla', 'type': 'tool_call'}], usage_metadata={'input_tokens': 235, 'output_tokens': 351, 'total_tokens': 586, 'input_token_details': {'audio': 0, 'cache_read': 0}, 'output_token_details': {'audio': 0, 'reasoning': 320}})]}\n",
      "()\n"
     ]
    }
   ],
   "source": [
    "messages = [HumanMessage(\"What is the weather in LA?\")]\n",
    "thread = {\"configurable\": {\"thread_id\": \"4\"}}\n",
    "\n",
    "# Run model until interrupt\n",
    "for event in abot.graph.stream({\"messages\": messages}, thread):\n",
    "    for value in event.values():\n",
    "        print(value)"
   ]
  },
  {
   "cell_type": "code",
   "execution_count": 16,
   "id": "3eddc873",
   "metadata": {},
   "outputs": [],
   "source": [
    "current_value = abot.graph.get_state(thread)"
   ]
  },
  {
   "cell_type": "markdown",
   "id": "af44a49c",
   "metadata": {},
   "source": [
    "Lets view the tool calls in this snapshot of the state"
   ]
  },
  {
   "cell_type": "code",
   "execution_count": 21,
   "id": "f964d354",
   "metadata": {},
   "outputs": [
    {
     "data": {
      "text/plain": [
       "[{'name': 'tavily_search_results_json',\n",
       "  'args': {'query': 'London England weather right now'},\n",
       "  'id': 'call_cn9Y0zDBB1clF5UspZt7Wzla',\n",
       "  'type': 'tool_call'}]"
      ]
     },
     "execution_count": 21,
     "metadata": {},
     "output_type": "execute_result"
    }
   ],
   "source": [
    "current_value.values[\"messages\"][-1].tool_calls"
   ]
  },
  {
   "cell_type": "markdown",
   "id": "0f9bce1a",
   "metadata": {},
   "source": [
    "Lets update the tool call"
   ]
  },
  {
   "cell_type": "code",
   "execution_count": 18,
   "id": "67e33d71",
   "metadata": {},
   "outputs": [],
   "source": [
    "current_value.values[\"messages\"][-1].tool_calls = [{\n",
    "    'name': 'tavily_search_results_json',\n",
    "    'args': {'query': 'London England weather right now'},\n",
    "    'id': 'call_cn9Y0zDBB1clF5UspZt7Wzla',\n",
    "    'type': 'tool_call'\n",
    "}]"
   ]
  },
  {
   "cell_type": "markdown",
   "id": "fbef04af",
   "metadata": {},
   "source": [
    "Now we need to update the state of the graph after making this change"
   ]
  },
  {
   "cell_type": "code",
   "execution_count": 22,
   "id": "ca839ef0",
   "metadata": {},
   "outputs": [
    {
     "name": "stdout",
     "output_type": "stream",
     "text": [
      "{'messages': [HumanMessage(content='What is the weather in LA?', additional_kwargs={}, response_metadata={}, id='e16d2743-fcea-4ec6-80a5-4d1c778e72d5'), AIMessage(content='', additional_kwargs={'tool_calls': [{'id': 'call_cn9Y0zDBB1clF5UspZt7Wzla', 'function': {'arguments': '{\"query\":\"Los Angeles weather right now\"}', 'name': 'tavily_search_results_json'}, 'type': 'function'}], 'refusal': None}, response_metadata={'token_usage': {'completion_tokens': 351, 'prompt_tokens': 235, 'total_tokens': 586, 'completion_tokens_details': {'accepted_prediction_tokens': 0, 'audio_tokens': 0, 'reasoning_tokens': 320, 'rejected_prediction_tokens': 0}, 'prompt_tokens_details': {'audio_tokens': 0, 'cached_tokens': 0}}, 'model_name': 'gpt-5-nano-2025-08-07', 'system_fingerprint': None, 'id': 'chatcmpl-C3gZEF2hBRvOVmqZgj0IlQxiuZ9NL', 'service_tier': 'default', 'finish_reason': 'tool_calls', 'logprobs': None}, id='run--8c27efce-9cd0-466a-ae78-ab5dbce19edb-0', tool_calls=[{'name': 'tavily_search_results_json', 'args': {'query': 'London England weather right now'}, 'id': 'call_cn9Y0zDBB1clF5UspZt7Wzla', 'type': 'tool_call'}], usage_metadata={'input_tokens': 235, 'output_tokens': 351, 'total_tokens': 586, 'input_token_details': {'audio': 0, 'cache_read': 0}, 'output_token_details': {'audio': 0, 'reasoning': 320}})]}\n"
     ]
    },
    {
     "data": {
      "text/plain": [
       "{'configurable': {'thread_id': '4',\n",
       "  'checkpoint_ns': '',\n",
       "  'checkpoint_id': '1f077687-8b6a-643c-8003-9b86169aa664'}}"
      ]
     },
     "execution_count": 22,
     "metadata": {},
     "output_type": "execute_result"
    }
   ],
   "source": [
    "abot.graph.update_state(thread, current_value.values)"
   ]
  },
  {
   "cell_type": "code",
   "execution_count": 23,
   "id": "e2d034cb",
   "metadata": {},
   "outputs": [
    {
     "data": {
      "text/plain": [
       "StateSnapshot(values={'messages': [HumanMessage(content='What is the weather in LA?', additional_kwargs={}, response_metadata={}, id='e16d2743-fcea-4ec6-80a5-4d1c778e72d5'), AIMessage(content='', additional_kwargs={'tool_calls': [{'id': 'call_cn9Y0zDBB1clF5UspZt7Wzla', 'function': {'arguments': '{\"query\":\"Los Angeles weather right now\"}', 'name': 'tavily_search_results_json'}, 'type': 'function'}], 'refusal': None}, response_metadata={'token_usage': {'completion_tokens': 351, 'prompt_tokens': 235, 'total_tokens': 586, 'completion_tokens_details': {'accepted_prediction_tokens': 0, 'audio_tokens': 0, 'reasoning_tokens': 320, 'rejected_prediction_tokens': 0}, 'prompt_tokens_details': {'audio_tokens': 0, 'cached_tokens': 0}}, 'model_name': 'gpt-5-nano-2025-08-07', 'system_fingerprint': None, 'id': 'chatcmpl-C3gZEF2hBRvOVmqZgj0IlQxiuZ9NL', 'service_tier': 'default', 'finish_reason': 'tool_calls', 'logprobs': None}, id='run--8c27efce-9cd0-466a-ae78-ab5dbce19edb-0', tool_calls=[{'name': 'tavily_search_results_json', 'args': {'query': 'London England weather right now'}, 'id': 'call_cn9Y0zDBB1clF5UspZt7Wzla', 'type': 'tool_call'}], usage_metadata={'input_tokens': 235, 'output_tokens': 351, 'total_tokens': 586, 'input_token_details': {'audio': 0, 'cache_read': 0}, 'output_token_details': {'audio': 0, 'reasoning': 320}})]}, next=('action',), config={'configurable': {'thread_id': '4', 'checkpoint_ns': '', 'checkpoint_id': '1f077687-8b6a-643c-8003-9b86169aa664'}}, metadata={'source': 'update', 'step': 3, 'parents': {}}, created_at='2025-08-12T10:38:23.402493+00:00', parent_config={'configurable': {'thread_id': '4', 'checkpoint_ns': '', 'checkpoint_id': '1f077683-2200-654a-8002-80f105490faa'}}, tasks=(PregelTask(id='ea0c13b5-49d2-c4d8-8823-5542eb45ec26', name='action', path=('__pregel_pull', 'action'), error=None, interrupts=(), state=None, result=None),), interrupts=())"
      ]
     },
     "execution_count": 23,
     "metadata": {},
     "output_type": "execute_result"
    }
   ],
   "source": [
    "abot.graph.get_state(thread)"
   ]
  },
  {
   "cell_type": "markdown",
   "id": "8d895b2e",
   "metadata": {},
   "source": [
    "Now we can carry on execution:"
   ]
  },
  {
   "cell_type": "code",
   "execution_count": 24,
   "id": "ed250b02",
   "metadata": {},
   "outputs": [
    {
     "name": "stdout",
     "output_type": "stream",
     "text": [
      "Calling: {'name': 'tavily_search_results_json', 'args': {'query': 'London England weather right now'}, 'id': 'call_cn9Y0zDBB1clF5UspZt7Wzla', 'type': 'tool_call'}\n",
      "Back to the model!\n",
      "{'messages': [ToolMessage(content=\"[{'title': 'London, London, United Kingdom Monthly Weather', 'url': 'https://www.accuweather.com/en/gb/london/ec4a-2/august-weather/328328', 'content': 'Get the monthly weather forecast for London, London, United Kingdom, including daily high/low, historical averages, to help you plan ahead.', 'score': 0.98531}, {'title': 'London weather in August 2025', 'url': 'https://www.weather25.com/europe/united-kingdom/london?page=month&month=August', 'content': 'The temperatures in London in August are comfortable with low of 57°F and and high up to 69°F. You can expect about 3 to 8 days of rain in London during the', 'score': 0.98236}]\", name='tavily_search_results_json', id='f0c0276c-196e-4f0c-b028-4bd373445ef4', tool_call_id='call_cn9Y0zDBB1clF5UspZt7Wzla')]}\n",
      "{'messages': [HumanMessage(content='What is the weather in LA?', additional_kwargs={}, response_metadata={}, id='e16d2743-fcea-4ec6-80a5-4d1c778e72d5'), AIMessage(content='', additional_kwargs={'tool_calls': [{'id': 'call_cn9Y0zDBB1clF5UspZt7Wzla', 'function': {'arguments': '{\"query\":\"Los Angeles weather right now\"}', 'name': 'tavily_search_results_json'}, 'type': 'function'}], 'refusal': None}, response_metadata={'token_usage': {'completion_tokens': 351, 'prompt_tokens': 235, 'total_tokens': 586, 'completion_tokens_details': {'accepted_prediction_tokens': 0, 'audio_tokens': 0, 'reasoning_tokens': 320, 'rejected_prediction_tokens': 0}, 'prompt_tokens_details': {'audio_tokens': 0, 'cached_tokens': 0}}, 'model_name': 'gpt-5-nano-2025-08-07', 'system_fingerprint': None, 'id': 'chatcmpl-C3gZEF2hBRvOVmqZgj0IlQxiuZ9NL', 'service_tier': 'default', 'finish_reason': 'tool_calls', 'logprobs': None}, id='run--8c27efce-9cd0-466a-ae78-ab5dbce19edb-0', tool_calls=[{'name': 'tavily_search_results_json', 'args': {'query': 'London England weather right now'}, 'id': 'call_cn9Y0zDBB1clF5UspZt7Wzla', 'type': 'tool_call'}], usage_metadata={'input_tokens': 235, 'output_tokens': 351, 'total_tokens': 586, 'input_token_details': {'audio': 0, 'cache_read': 0}, 'output_token_details': {'audio': 0, 'reasoning': 320}}), ToolMessage(content=\"[{'title': 'London, London, United Kingdom Monthly Weather', 'url': 'https://www.accuweather.com/en/gb/london/ec4a-2/august-weather/328328', 'content': 'Get the monthly weather forecast for London, London, United Kingdom, including daily high/low, historical averages, to help you plan ahead.', 'score': 0.98531}, {'title': 'London weather in August 2025', 'url': 'https://www.weather25.com/europe/united-kingdom/london?page=month&month=August', 'content': 'The temperatures in London in August are comfortable with low of 57°F and and high up to 69°F. You can expect about 3 to 8 days of rain in London during the', 'score': 0.98236}]\", name='tavily_search_results_json', id='f0c0276c-196e-4f0c-b028-4bd373445ef4', tool_call_id='call_cn9Y0zDBB1clF5UspZt7Wzla'), AIMessage(content='', additional_kwargs={'tool_calls': [{'id': 'call_bNxuKzF3TeRN6yoX4GWfOnPN', 'function': {'arguments': '{\"query\":\"Los Angeles weather now\"}', 'name': 'tavily_search_results_json'}, 'type': 'function'}], 'refusal': None}, response_metadata={'token_usage': {'completion_tokens': 414, 'prompt_tokens': 451, 'total_tokens': 865, 'completion_tokens_details': {'accepted_prediction_tokens': 0, 'audio_tokens': 0, 'reasoning_tokens': 384, 'rejected_prediction_tokens': 0}, 'prompt_tokens_details': {'audio_tokens': 0, 'cached_tokens': 0}}, 'model_name': 'gpt-5-nano-2025-08-07', 'system_fingerprint': None, 'id': 'chatcmpl-C3giPnXJ0ymNRU2f4YsiU5SqLPdNj', 'service_tier': 'default', 'finish_reason': 'tool_calls', 'logprobs': None}, id='run--b903396f-df47-452b-899b-63a9c81ad7f9-0', tool_calls=[{'name': 'tavily_search_results_json', 'args': {'query': 'Los Angeles weather now'}, 'id': 'call_bNxuKzF3TeRN6yoX4GWfOnPN', 'type': 'tool_call'}], usage_metadata={'input_tokens': 451, 'output_tokens': 414, 'total_tokens': 865, 'input_token_details': {'audio': 0, 'cache_read': 0}, 'output_token_details': {'audio': 0, 'reasoning': 384}})]}\n",
      "{'messages': [AIMessage(content='', additional_kwargs={'tool_calls': [{'id': 'call_bNxuKzF3TeRN6yoX4GWfOnPN', 'function': {'arguments': '{\"query\":\"Los Angeles weather now\"}', 'name': 'tavily_search_results_json'}, 'type': 'function'}], 'refusal': None}, response_metadata={'token_usage': {'completion_tokens': 414, 'prompt_tokens': 451, 'total_tokens': 865, 'completion_tokens_details': {'accepted_prediction_tokens': 0, 'audio_tokens': 0, 'reasoning_tokens': 384, 'rejected_prediction_tokens': 0}, 'prompt_tokens_details': {'audio_tokens': 0, 'cached_tokens': 0}}, 'model_name': 'gpt-5-nano-2025-08-07', 'system_fingerprint': None, 'id': 'chatcmpl-C3giPnXJ0ymNRU2f4YsiU5SqLPdNj', 'service_tier': 'default', 'finish_reason': 'tool_calls', 'logprobs': None}, id='run--b903396f-df47-452b-899b-63a9c81ad7f9-0', tool_calls=[{'name': 'tavily_search_results_json', 'args': {'query': 'Los Angeles weather now'}, 'id': 'call_bNxuKzF3TeRN6yoX4GWfOnPN', 'type': 'tool_call'}], usage_metadata={'input_tokens': 451, 'output_tokens': 414, 'total_tokens': 865, 'input_token_details': {'audio': 0, 'cache_read': 0}, 'output_token_details': {'audio': 0, 'reasoning': 384}})]}\n",
      "()\n"
     ]
    }
   ],
   "source": [
    "for event in abot.graph.stream(None, thread):\n",
    "    for value in event.values():\n",
    "        print(value)"
   ]
  },
  {
   "cell_type": "markdown",
   "id": "8e1499fa",
   "metadata": {},
   "source": [
    "# Time travel"
   ]
  },
  {
   "cell_type": "code",
   "execution_count": 43,
   "id": "c39da471",
   "metadata": {},
   "outputs": [
    {
     "name": "stdout",
     "output_type": "stream",
     "text": [
      "StateSnapshot(values={'messages': [HumanMessage(content='What is the weather in LA?', additional_kwargs={}, response_metadata={}, id='13c5b4a7-751d-4a8b-a2a6-e2e302bf8f16'), AIMessage(content='', additional_kwargs={'tool_calls': [{'id': 'call_Py62CGJRg3Pjiv9IYnZAKp1b', 'function': {'arguments': '{\"query\":\"current weather Los Angeles\"}', 'name': 'tavily_search_results_json'}, 'type': 'function'}], 'refusal': None}, response_metadata={'token_usage': {'completion_tokens': 158, 'prompt_tokens': 235, 'total_tokens': 393, 'completion_tokens_details': {'accepted_prediction_tokens': 0, 'audio_tokens': 0, 'reasoning_tokens': 128, 'rejected_prediction_tokens': 0}, 'prompt_tokens_details': {'audio_tokens': 0, 'cached_tokens': 0}}, 'model_name': 'gpt-5-nano-2025-08-07', 'system_fingerprint': None, 'id': 'chatcmpl-C3gpU8YkItthS0LnK4T9Pl4Te2t0q', 'service_tier': 'default', 'finish_reason': 'tool_calls', 'logprobs': None}, id='run--d241c523-20ae-46b7-8655-81a3f48340ce-0', tool_calls=[{'name': 'tavily_search_results_json', 'args': {'query': 'current weather Los Angeles'}, 'id': 'call_Py62CGJRg3Pjiv9IYnZAKp1b', 'type': 'tool_call'}], usage_metadata={'input_tokens': 235, 'output_tokens': 158, 'total_tokens': 393, 'input_token_details': {'audio': 0, 'cache_read': 0}, 'output_token_details': {'audio': 0, 'reasoning': 128}})]}, next=('action',), config={'configurable': {'thread_id': '4', 'checkpoint_ns': '', 'checkpoint_id': '1f07769c-33a2-6b68-8001-7957ba8ba35a'}}, metadata={'source': 'loop', 'step': 1, 'parents': {}}, created_at='2025-08-12T10:47:37.912588+00:00', parent_config={'configurable': {'thread_id': '4', 'checkpoint_ns': '', 'checkpoint_id': '1f07769c-1dda-6c2c-8000-5b338116f21d'}}, tasks=(PregelTask(id='5c9aeed5-cc85-50b7-1c7f-34670c078624', name='action', path=('__pregel_pull', 'action'), error=None, interrupts=(), state=None, result=None),), interrupts=())\n",
      "---\n",
      "StateSnapshot(values={'messages': [HumanMessage(content='What is the weather in LA?', additional_kwargs={}, response_metadata={}, id='13c5b4a7-751d-4a8b-a2a6-e2e302bf8f16')]}, next=('llm',), config={'configurable': {'thread_id': '4', 'checkpoint_ns': '', 'checkpoint_id': '1f07769c-1dda-6c2c-8000-5b338116f21d'}}, metadata={'source': 'loop', 'step': 0, 'parents': {}}, created_at='2025-08-12T10:47:35.628691+00:00', parent_config={'configurable': {'thread_id': '4', 'checkpoint_ns': '', 'checkpoint_id': '1f077676-973d-6fea-bfff-7056fdea0e25'}}, tasks=(PregelTask(id='0b11895a-1c69-04a2-3fdc-83d6356c10e1', name='llm', path=('__pregel_pull', 'llm'), error=None, interrupts=(), state=None, result={'messages': [AIMessage(content='', additional_kwargs={'tool_calls': [{'id': 'call_Py62CGJRg3Pjiv9IYnZAKp1b', 'function': {'arguments': '{\"query\":\"current weather Los Angeles\"}', 'name': 'tavily_search_results_json'}, 'type': 'function'}], 'refusal': None}, response_metadata={'token_usage': {'completion_tokens': 158, 'prompt_tokens': 235, 'total_tokens': 393, 'completion_tokens_details': {'accepted_prediction_tokens': 0, 'audio_tokens': 0, 'reasoning_tokens': 128, 'rejected_prediction_tokens': 0}, 'prompt_tokens_details': {'audio_tokens': 0, 'cached_tokens': 0}}, 'model_name': 'gpt-5-nano-2025-08-07', 'system_fingerprint': None, 'id': 'chatcmpl-C3gpU8YkItthS0LnK4T9Pl4Te2t0q', 'service_tier': 'default', 'finish_reason': 'tool_calls', 'logprobs': None}, id='run--d241c523-20ae-46b7-8655-81a3f48340ce-0', tool_calls=[{'name': 'tavily_search_results_json', 'args': {'query': 'current weather Los Angeles'}, 'id': 'call_Py62CGJRg3Pjiv9IYnZAKp1b', 'type': 'tool_call'}], usage_metadata={'input_tokens': 235, 'output_tokens': 158, 'total_tokens': 393, 'input_token_details': {'audio': 0, 'cache_read': 0}, 'output_token_details': {'audio': 0, 'reasoning': 128}})]}),), interrupts=())\n",
      "---\n",
      "StateSnapshot(values={'messages': [HumanMessage(content='What is the weather in LA?', additional_kwargs={}, response_metadata={}, id='1b6be6c0-e4f7-40b0-806a-05b5c919bc2c'), AIMessage(content='', additional_kwargs={'tool_calls': [{'id': 'call_RbFZWT58CaUX1cQ5KJBxePX3', 'function': {'arguments': '{\"query\":\"Los Angeles weather current conditions\"}', 'name': 'tavily_search_results_json'}, 'type': 'function'}], 'refusal': None}, response_metadata={'token_usage': {'completion_tokens': 351, 'prompt_tokens': 235, 'total_tokens': 586, 'completion_tokens_details': {'accepted_prediction_tokens': 0, 'audio_tokens': 0, 'reasoning_tokens': 320, 'rejected_prediction_tokens': 0}, 'prompt_tokens_details': {'audio_tokens': 0, 'cached_tokens': 0}}, 'model_name': 'gpt-5-nano-2025-08-07', 'system_fingerprint': None, 'id': 'chatcmpl-C3gpQpRD1nImnWpWCUPvX1s3rHwPn', 'service_tier': 'default', 'finish_reason': 'tool_calls', 'logprobs': None}, id='run--a893ca29-6f3b-4733-a6f9-bb03db85d63f-0', tool_calls=[{'name': 'tavily_search_results_json', 'args': {'query': 'Los Angeles weather current conditions'}, 'id': 'call_RbFZWT58CaUX1cQ5KJBxePX3', 'type': 'tool_call'}], usage_metadata={'input_tokens': 235, 'output_tokens': 351, 'total_tokens': 586, 'input_token_details': {'audio': 0, 'cache_read': 0}, 'output_token_details': {'audio': 0, 'reasoning': 320}})]}, next=('action',), config={'configurable': {'thread_id': '4', 'checkpoint_ns': '', 'checkpoint_id': '1f07769c-18a3-6146-8001-fefd11d5b7cf'}}, metadata={'source': 'loop', 'step': 1, 'parents': {}}, created_at='2025-08-12T10:47:35.081581+00:00', parent_config={'configurable': {'thread_id': '4', 'checkpoint_ns': '', 'checkpoint_id': '1f07769b-f8b8-6d7c-8000-a2a12d1737f3'}}, tasks=(PregelTask(id='b2d68e92-8946-25ac-f358-4afa91254081', name='action', path=('__pregel_pull', 'action'), error=None, interrupts=(), state=None, result=None),), interrupts=())\n",
      "---\n",
      "StateSnapshot(values={'messages': [HumanMessage(content='What is the weather in LA?', additional_kwargs={}, response_metadata={}, id='1b6be6c0-e4f7-40b0-806a-05b5c919bc2c')]}, next=('llm',), config={'configurable': {'thread_id': '4', 'checkpoint_ns': '', 'checkpoint_id': '1f07769b-f8b8-6d7c-8000-a2a12d1737f3'}}, metadata={'source': 'loop', 'step': 0, 'parents': {}}, created_at='2025-08-12T10:47:31.735066+00:00', parent_config={'configurable': {'thread_id': '4', 'checkpoint_ns': '', 'checkpoint_id': '1f077676-973d-6fea-bfff-7056fdea0e25'}}, tasks=(PregelTask(id='af9d37ab-0eb7-62ad-1356-bdc328e6c054', name='llm', path=('__pregel_pull', 'llm'), error=None, interrupts=(), state=None, result={'messages': [AIMessage(content='', additional_kwargs={'tool_calls': [{'id': 'call_RbFZWT58CaUX1cQ5KJBxePX3', 'function': {'arguments': '{\"query\":\"Los Angeles weather current conditions\"}', 'name': 'tavily_search_results_json'}, 'type': 'function'}], 'refusal': None}, response_metadata={'token_usage': {'completion_tokens': 351, 'prompt_tokens': 235, 'total_tokens': 586, 'completion_tokens_details': {'accepted_prediction_tokens': 0, 'audio_tokens': 0, 'reasoning_tokens': 320, 'rejected_prediction_tokens': 0}, 'prompt_tokens_details': {'audio_tokens': 0, 'cached_tokens': 0}}, 'model_name': 'gpt-5-nano-2025-08-07', 'system_fingerprint': None, 'id': 'chatcmpl-C3gpQpRD1nImnWpWCUPvX1s3rHwPn', 'service_tier': 'default', 'finish_reason': 'tool_calls', 'logprobs': None}, id='run--a893ca29-6f3b-4733-a6f9-bb03db85d63f-0', tool_calls=[{'name': 'tavily_search_results_json', 'args': {'query': 'Los Angeles weather current conditions'}, 'id': 'call_RbFZWT58CaUX1cQ5KJBxePX3', 'type': 'tool_call'}], usage_metadata={'input_tokens': 235, 'output_tokens': 351, 'total_tokens': 586, 'input_token_details': {'audio': 0, 'cache_read': 0}, 'output_token_details': {'audio': 0, 'reasoning': 320}})]}),), interrupts=())\n",
      "---\n",
      "StateSnapshot(values={'messages': [HumanMessage(content='What is the weather in LA?', additional_kwargs={}, response_metadata={}, id='cc082465-b86e-4821-ad45-9f372c0498a8'), AIMessage(content='', additional_kwargs={'tool_calls': [{'id': 'call_BgmNWsIIj1TJN5JSo14xtoKc', 'function': {'arguments': '{\"query\":\"Los Angeles weather now\"}', 'name': 'tavily_search_results_json'}, 'type': 'function'}], 'refusal': None}, response_metadata={'token_usage': {'completion_tokens': 350, 'prompt_tokens': 235, 'total_tokens': 585, 'completion_tokens_details': {'accepted_prediction_tokens': 0, 'audio_tokens': 0, 'reasoning_tokens': 320, 'rejected_prediction_tokens': 0}, 'prompt_tokens_details': {'audio_tokens': 0, 'cached_tokens': 0}}, 'model_name': 'gpt-5-nano-2025-08-07', 'system_fingerprint': None, 'id': 'chatcmpl-C3gpL9X0dQacJAPo4GbsfbtOv1BR2', 'service_tier': 'default', 'finish_reason': 'tool_calls', 'logprobs': None}, id='run--734e3a85-06a3-4823-8d5b-4753be27ce26-0', tool_calls=[{'name': 'tavily_search_results_json', 'args': {'query': 'Los Angeles weather now'}, 'id': 'call_BgmNWsIIj1TJN5JSo14xtoKc', 'type': 'tool_call'}], usage_metadata={'input_tokens': 235, 'output_tokens': 350, 'total_tokens': 585, 'input_token_details': {'audio': 0, 'cache_read': 0}, 'output_token_details': {'audio': 0, 'reasoning': 320}})]}, next=('action',), config={'configurable': {'thread_id': '4', 'checkpoint_ns': '', 'checkpoint_id': '1f07769b-e854-6968-8001-c4fd94ad1cd8'}}, metadata={'source': 'loop', 'step': 1, 'parents': {}}, created_at='2025-08-12T10:47:30.016249+00:00', parent_config={'configurable': {'thread_id': '4', 'checkpoint_ns': '', 'checkpoint_id': '1f07769b-cd46-600e-8000-7bb93dc6d783'}}, tasks=(PregelTask(id='1e044012-c9c2-92e0-1148-0b009762a3ac', name='action', path=('__pregel_pull', 'action'), error=None, interrupts=(), state=None, result=None),), interrupts=())\n",
      "---\n",
      "StateSnapshot(values={'messages': [HumanMessage(content='What is the weather in LA?', additional_kwargs={}, response_metadata={}, id='cc082465-b86e-4821-ad45-9f372c0498a8')]}, next=('llm',), config={'configurable': {'thread_id': '4', 'checkpoint_ns': '', 'checkpoint_id': '1f07769b-cd46-600e-8000-7bb93dc6d783'}}, metadata={'source': 'loop', 'step': 0, 'parents': {}}, created_at='2025-08-12T10:47:27.179153+00:00', parent_config={'configurable': {'thread_id': '4', 'checkpoint_ns': '', 'checkpoint_id': '1f077676-973d-6fea-bfff-7056fdea0e25'}}, tasks=(PregelTask(id='7df589ab-2c8a-38c6-9bce-61048c93d057', name='llm', path=('__pregel_pull', 'llm'), error=None, interrupts=(), state=None, result={'messages': [AIMessage(content='', additional_kwargs={'tool_calls': [{'id': 'call_BgmNWsIIj1TJN5JSo14xtoKc', 'function': {'arguments': '{\"query\":\"Los Angeles weather now\"}', 'name': 'tavily_search_results_json'}, 'type': 'function'}], 'refusal': None}, response_metadata={'token_usage': {'completion_tokens': 350, 'prompt_tokens': 235, 'total_tokens': 585, 'completion_tokens_details': {'accepted_prediction_tokens': 0, 'audio_tokens': 0, 'reasoning_tokens': 320, 'rejected_prediction_tokens': 0}, 'prompt_tokens_details': {'audio_tokens': 0, 'cached_tokens': 0}}, 'model_name': 'gpt-5-nano-2025-08-07', 'system_fingerprint': None, 'id': 'chatcmpl-C3gpL9X0dQacJAPo4GbsfbtOv1BR2', 'service_tier': 'default', 'finish_reason': 'tool_calls', 'logprobs': None}, id='run--734e3a85-06a3-4823-8d5b-4753be27ce26-0', tool_calls=[{'name': 'tavily_search_results_json', 'args': {'query': 'Los Angeles weather now'}, 'id': 'call_BgmNWsIIj1TJN5JSo14xtoKc', 'type': 'tool_call'}], usage_metadata={'input_tokens': 235, 'output_tokens': 350, 'total_tokens': 585, 'input_token_details': {'audio': 0, 'cache_read': 0}, 'output_token_details': {'audio': 0, 'reasoning': 320}})]}),), interrupts=())\n",
      "---\n",
      "StateSnapshot(values={'messages': [HumanMessage(content='What is the weather in LA?', additional_kwargs={}, response_metadata={}, id='e16d2743-fcea-4ec6-80a5-4d1c778e72d5'), AIMessage(content='', additional_kwargs={'tool_calls': [{'id': 'call_cn9Y0zDBB1clF5UspZt7Wzla', 'function': {'arguments': '{\"query\":\"Los Angeles weather right now\"}', 'name': 'tavily_search_results_json'}, 'type': 'function'}], 'refusal': None}, response_metadata={'token_usage': {'completion_tokens': 351, 'prompt_tokens': 235, 'total_tokens': 586, 'completion_tokens_details': {'accepted_prediction_tokens': 0, 'audio_tokens': 0, 'reasoning_tokens': 320, 'rejected_prediction_tokens': 0}, 'prompt_tokens_details': {'audio_tokens': 0, 'cached_tokens': 0}}, 'model_name': 'gpt-5-nano-2025-08-07', 'system_fingerprint': None, 'id': 'chatcmpl-C3gZEF2hBRvOVmqZgj0IlQxiuZ9NL', 'service_tier': 'default', 'finish_reason': 'tool_calls', 'logprobs': None}, id='run--8c27efce-9cd0-466a-ae78-ab5dbce19edb-0', tool_calls=[{'name': 'tavily_search_results_json', 'args': {'query': 'London England weather right now'}, 'id': 'call_cn9Y0zDBB1clF5UspZt7Wzla', 'type': 'tool_call'}], usage_metadata={'input_tokens': 235, 'output_tokens': 351, 'total_tokens': 586, 'input_token_details': {'audio': 0, 'cache_read': 0}, 'output_token_details': {'audio': 0, 'reasoning': 320}}), ToolMessage(content=\"[{'title': 'London, London, United Kingdom Monthly Weather', 'url': 'https://www.accuweather.com/en/gb/london/ec4a-2/august-weather/328328', 'content': 'Get the monthly weather forecast for London, London, United Kingdom, including daily high/low, historical averages, to help you plan ahead.', 'score': 0.98531}, {'title': 'London weather in August 2025', 'url': 'https://www.weather25.com/europe/united-kingdom/london?page=month&month=August', 'content': 'The temperatures in London in August are comfortable with low of 57°F and and high up to 69°F. You can expect about 3 to 8 days of rain in London during the', 'score': 0.98236}]\", name='tavily_search_results_json', id='f0c0276c-196e-4f0c-b028-4bd373445ef4', tool_call_id='call_cn9Y0zDBB1clF5UspZt7Wzla'), AIMessage(content='', additional_kwargs={'tool_calls': [{'id': 'call_bNxuKzF3TeRN6yoX4GWfOnPN', 'function': {'arguments': '{\"query\":\"Los Angeles weather now\"}', 'name': 'tavily_search_results_json'}, 'type': 'function'}], 'refusal': None}, response_metadata={'token_usage': {'completion_tokens': 414, 'prompt_tokens': 451, 'total_tokens': 865, 'completion_tokens_details': {'accepted_prediction_tokens': 0, 'audio_tokens': 0, 'reasoning_tokens': 384, 'rejected_prediction_tokens': 0}, 'prompt_tokens_details': {'audio_tokens': 0, 'cached_tokens': 0}}, 'model_name': 'gpt-5-nano-2025-08-07', 'system_fingerprint': None, 'id': 'chatcmpl-C3giPnXJ0ymNRU2f4YsiU5SqLPdNj', 'service_tier': 'default', 'finish_reason': 'tool_calls', 'logprobs': None}, id='run--b903396f-df47-452b-899b-63a9c81ad7f9-0', tool_calls=[{'name': 'tavily_search_results_json', 'args': {'query': 'Los Angeles weather now'}, 'id': 'call_bNxuKzF3TeRN6yoX4GWfOnPN', 'type': 'tool_call'}], usage_metadata={'input_tokens': 451, 'output_tokens': 414, 'total_tokens': 865, 'input_token_details': {'audio': 0, 'cache_read': 0}, 'output_token_details': {'audio': 0, 'reasoning': 384}})]}, next=('action',), config={'configurable': {'thread_id': '4', 'checkpoint_ns': '', 'checkpoint_id': '1f07768b-e3f2-642a-8005-85252afc665a'}}, metadata={'source': 'loop', 'step': 5, 'parents': {}}, created_at='2025-08-12T10:40:20.059793+00:00', parent_config={'configurable': {'thread_id': '4', 'checkpoint_ns': '', 'checkpoint_id': '1f07768b-c78b-69d0-8004-a6669709a380'}}, tasks=(PregelTask(id='09163e44-5868-b646-130b-83139291464b', name='action', path=('__pregel_pull', 'action'), error=None, interrupts=(), state=None, result=None),), interrupts=())\n",
      "---\n",
      "StateSnapshot(values={'messages': [HumanMessage(content='What is the weather in LA?', additional_kwargs={}, response_metadata={}, id='e16d2743-fcea-4ec6-80a5-4d1c778e72d5'), AIMessage(content='', additional_kwargs={'tool_calls': [{'id': 'call_cn9Y0zDBB1clF5UspZt7Wzla', 'function': {'arguments': '{\"query\":\"Los Angeles weather right now\"}', 'name': 'tavily_search_results_json'}, 'type': 'function'}], 'refusal': None}, response_metadata={'token_usage': {'completion_tokens': 351, 'prompt_tokens': 235, 'total_tokens': 586, 'completion_tokens_details': {'accepted_prediction_tokens': 0, 'audio_tokens': 0, 'reasoning_tokens': 320, 'rejected_prediction_tokens': 0}, 'prompt_tokens_details': {'audio_tokens': 0, 'cached_tokens': 0}}, 'model_name': 'gpt-5-nano-2025-08-07', 'system_fingerprint': None, 'id': 'chatcmpl-C3gZEF2hBRvOVmqZgj0IlQxiuZ9NL', 'service_tier': 'default', 'finish_reason': 'tool_calls', 'logprobs': None}, id='run--8c27efce-9cd0-466a-ae78-ab5dbce19edb-0', tool_calls=[{'name': 'tavily_search_results_json', 'args': {'query': 'London England weather right now'}, 'id': 'call_cn9Y0zDBB1clF5UspZt7Wzla', 'type': 'tool_call'}], usage_metadata={'input_tokens': 235, 'output_tokens': 351, 'total_tokens': 586, 'input_token_details': {'audio': 0, 'cache_read': 0}, 'output_token_details': {'audio': 0, 'reasoning': 320}}), ToolMessage(content=\"[{'title': 'London, London, United Kingdom Monthly Weather', 'url': 'https://www.accuweather.com/en/gb/london/ec4a-2/august-weather/328328', 'content': 'Get the monthly weather forecast for London, London, United Kingdom, including daily high/low, historical averages, to help you plan ahead.', 'score': 0.98531}, {'title': 'London weather in August 2025', 'url': 'https://www.weather25.com/europe/united-kingdom/london?page=month&month=August', 'content': 'The temperatures in London in August are comfortable with low of 57°F and and high up to 69°F. You can expect about 3 to 8 days of rain in London during the', 'score': 0.98236}]\", name='tavily_search_results_json', id='f0c0276c-196e-4f0c-b028-4bd373445ef4', tool_call_id='call_cn9Y0zDBB1clF5UspZt7Wzla')]}, next=('llm',), config={'configurable': {'thread_id': '4', 'checkpoint_ns': '', 'checkpoint_id': '1f07768b-c78b-69d0-8004-a6669709a380'}}, metadata={'source': 'loop', 'step': 4, 'parents': {}}, created_at='2025-08-12T10:40:17.081778+00:00', parent_config={'configurable': {'thread_id': '4', 'checkpoint_ns': '', 'checkpoint_id': '1f077687-8b6a-643c-8003-9b86169aa664'}}, tasks=(PregelTask(id='65863a66-9f6a-0111-bf12-e46a98ee1910', name='llm', path=('__pregel_pull', 'llm'), error=None, interrupts=(), state=None, result={'messages': [AIMessage(content='', additional_kwargs={'tool_calls': [{'id': 'call_bNxuKzF3TeRN6yoX4GWfOnPN', 'function': {'arguments': '{\"query\":\"Los Angeles weather now\"}', 'name': 'tavily_search_results_json'}, 'type': 'function'}], 'refusal': None}, response_metadata={'token_usage': {'completion_tokens': 414, 'prompt_tokens': 451, 'total_tokens': 865, 'completion_tokens_details': {'accepted_prediction_tokens': 0, 'audio_tokens': 0, 'reasoning_tokens': 384, 'rejected_prediction_tokens': 0}, 'prompt_tokens_details': {'audio_tokens': 0, 'cached_tokens': 0}}, 'model_name': 'gpt-5-nano-2025-08-07', 'system_fingerprint': None, 'id': 'chatcmpl-C3giPnXJ0ymNRU2f4YsiU5SqLPdNj', 'service_tier': 'default', 'finish_reason': 'tool_calls', 'logprobs': None}, id='run--b903396f-df47-452b-899b-63a9c81ad7f9-0', tool_calls=[{'name': 'tavily_search_results_json', 'args': {'query': 'Los Angeles weather now'}, 'id': 'call_bNxuKzF3TeRN6yoX4GWfOnPN', 'type': 'tool_call'}], usage_metadata={'input_tokens': 451, 'output_tokens': 414, 'total_tokens': 865, 'input_token_details': {'audio': 0, 'cache_read': 0}, 'output_token_details': {'audio': 0, 'reasoning': 384}})]}),), interrupts=())\n",
      "---\n",
      "StateSnapshot(values={'messages': [HumanMessage(content='What is the weather in LA?', additional_kwargs={}, response_metadata={}, id='e16d2743-fcea-4ec6-80a5-4d1c778e72d5'), AIMessage(content='', additional_kwargs={'tool_calls': [{'id': 'call_cn9Y0zDBB1clF5UspZt7Wzla', 'function': {'arguments': '{\"query\":\"Los Angeles weather right now\"}', 'name': 'tavily_search_results_json'}, 'type': 'function'}], 'refusal': None}, response_metadata={'token_usage': {'completion_tokens': 351, 'prompt_tokens': 235, 'total_tokens': 586, 'completion_tokens_details': {'accepted_prediction_tokens': 0, 'audio_tokens': 0, 'reasoning_tokens': 320, 'rejected_prediction_tokens': 0}, 'prompt_tokens_details': {'audio_tokens': 0, 'cached_tokens': 0}}, 'model_name': 'gpt-5-nano-2025-08-07', 'system_fingerprint': None, 'id': 'chatcmpl-C3gZEF2hBRvOVmqZgj0IlQxiuZ9NL', 'service_tier': 'default', 'finish_reason': 'tool_calls', 'logprobs': None}, id='run--8c27efce-9cd0-466a-ae78-ab5dbce19edb-0', tool_calls=[{'name': 'tavily_search_results_json', 'args': {'query': 'London England weather right now'}, 'id': 'call_cn9Y0zDBB1clF5UspZt7Wzla', 'type': 'tool_call'}], usage_metadata={'input_tokens': 235, 'output_tokens': 351, 'total_tokens': 586, 'input_token_details': {'audio': 0, 'cache_read': 0}, 'output_token_details': {'audio': 0, 'reasoning': 320}})]}, next=('action',), config={'configurable': {'thread_id': '4', 'checkpoint_ns': '', 'checkpoint_id': '1f077687-8b6a-643c-8003-9b86169aa664'}}, metadata={'source': 'update', 'step': 3, 'parents': {}}, created_at='2025-08-12T10:38:23.402493+00:00', parent_config={'configurable': {'thread_id': '4', 'checkpoint_ns': '', 'checkpoint_id': '1f077683-2200-654a-8002-80f105490faa'}}, tasks=(PregelTask(id='ea0c13b5-49d2-c4d8-8823-5542eb45ec26', name='action', path=('__pregel_pull', 'action'), error=None, interrupts=(), state=None, result={'messages': [ToolMessage(content=\"[{'title': 'London, London, United Kingdom Monthly Weather', 'url': 'https://www.accuweather.com/en/gb/london/ec4a-2/august-weather/328328', 'content': 'Get the monthly weather forecast for London, London, United Kingdom, including daily high/low, historical averages, to help you plan ahead.', 'score': 0.98531}, {'title': 'London weather in August 2025', 'url': 'https://www.weather25.com/europe/united-kingdom/london?page=month&month=August', 'content': 'The temperatures in London in August are comfortable with low of 57°F and and high up to 69°F. You can expect about 3 to 8 days of rain in London during the', 'score': 0.98236}]\", name='tavily_search_results_json', tool_call_id='call_cn9Y0zDBB1clF5UspZt7Wzla')]}),), interrupts=())\n",
      "---\n",
      "StateSnapshot(values={'messages': [HumanMessage(content='What is the weather in LA?', additional_kwargs={}, response_metadata={}, id='e16d2743-fcea-4ec6-80a5-4d1c778e72d5'), AIMessage(content='', additional_kwargs={'tool_calls': [{'id': 'call_cn9Y0zDBB1clF5UspZt7Wzla', 'function': {'arguments': '{\"query\":\"Los Angeles weather right now\"}', 'name': 'tavily_search_results_json'}, 'type': 'function'}], 'refusal': None}, response_metadata={'token_usage': {'completion_tokens': 351, 'prompt_tokens': 235, 'total_tokens': 586, 'completion_tokens_details': {'accepted_prediction_tokens': 0, 'audio_tokens': 0, 'reasoning_tokens': 320, 'rejected_prediction_tokens': 0}, 'prompt_tokens_details': {'audio_tokens': 0, 'cached_tokens': 0}}, 'model_name': 'gpt-5-nano-2025-08-07', 'system_fingerprint': None, 'id': 'chatcmpl-C3gZEF2hBRvOVmqZgj0IlQxiuZ9NL', 'service_tier': 'default', 'finish_reason': 'tool_calls', 'logprobs': None}, id='run--8c27efce-9cd0-466a-ae78-ab5dbce19edb-0', tool_calls=[{'name': 'tavily_search_results_json', 'args': {'query': 'London England weather right now'}, 'id': 'call_cn9Y0zDBB1clF5UspZt7Wzla', 'type': 'tool_call'}], usage_metadata={'input_tokens': 235, 'output_tokens': 351, 'total_tokens': 586, 'input_token_details': {'audio': 0, 'cache_read': 0}, 'output_token_details': {'audio': 0, 'reasoning': 320}})]}, next=('action',), config={'configurable': {'thread_id': '4', 'checkpoint_ns': '', 'checkpoint_id': '1f077683-2200-654a-8002-80f105490faa'}}, metadata={'source': 'update', 'step': 2, 'parents': {}}, created_at='2025-08-12T10:36:24.974860+00:00', parent_config={'configurable': {'thread_id': '4', 'checkpoint_ns': '', 'checkpoint_id': '1f077676-ad72-686a-8001-eee43bc690fc'}}, tasks=(PregelTask(id='49417c1c-5c93-17fe-3139-df7a483aa4b9', name='action', path=('__pregel_pull', 'action'), error=None, interrupts=(), state=None, result=None),), interrupts=())\n",
      "---\n",
      "StateSnapshot(values={'messages': [HumanMessage(content='What is the weather in LA?', additional_kwargs={}, response_metadata={}, id='e16d2743-fcea-4ec6-80a5-4d1c778e72d5'), AIMessage(content='', additional_kwargs={'tool_calls': [{'id': 'call_cn9Y0zDBB1clF5UspZt7Wzla', 'function': {'arguments': '{\"query\":\"Los Angeles weather right now\"}', 'name': 'tavily_search_results_json'}, 'type': 'function'}], 'refusal': None}, response_metadata={'token_usage': {'completion_tokens': 351, 'prompt_tokens': 235, 'total_tokens': 586, 'completion_tokens_details': {'accepted_prediction_tokens': 0, 'audio_tokens': 0, 'reasoning_tokens': 320, 'rejected_prediction_tokens': 0}, 'prompt_tokens_details': {'audio_tokens': 0, 'cached_tokens': 0}}, 'model_name': 'gpt-5-nano-2025-08-07', 'system_fingerprint': None, 'id': 'chatcmpl-C3gZEF2hBRvOVmqZgj0IlQxiuZ9NL', 'service_tier': 'default', 'finish_reason': 'tool_calls', 'logprobs': None}, id='run--8c27efce-9cd0-466a-ae78-ab5dbce19edb-0', tool_calls=[{'name': 'tavily_search_results_json', 'args': {'query': 'Los Angeles weather right now'}, 'id': 'call_cn9Y0zDBB1clF5UspZt7Wzla', 'type': 'tool_call'}], usage_metadata={'input_tokens': 235, 'output_tokens': 351, 'total_tokens': 586, 'input_token_details': {'audio': 0, 'cache_read': 0}, 'output_token_details': {'audio': 0, 'reasoning': 320}})]}, next=('action',), config={'configurable': {'thread_id': '4', 'checkpoint_ns': '', 'checkpoint_id': '1f077676-ad72-686a-8001-eee43bc690fc'}}, metadata={'source': 'loop', 'step': 1, 'parents': {}}, created_at='2025-08-12T10:30:50.630726+00:00', parent_config={'configurable': {'thread_id': '4', 'checkpoint_ns': '', 'checkpoint_id': '1f077676-973f-6412-8000-0d824af3721a'}}, tasks=(PregelTask(id='63e6bd3b-8bfc-0fa6-56b8-ec85abda3807', name='action', path=('__pregel_pull', 'action'), error=None, interrupts=(), state=None, result=None),), interrupts=())\n",
      "---\n",
      "StateSnapshot(values={'messages': [HumanMessage(content='What is the weather in LA?', additional_kwargs={}, response_metadata={}, id='e16d2743-fcea-4ec6-80a5-4d1c778e72d5')]}, next=('llm',), config={'configurable': {'thread_id': '4', 'checkpoint_ns': '', 'checkpoint_id': '1f077676-973f-6412-8000-0d824af3721a'}}, metadata={'source': 'loop', 'step': 0, 'parents': {}}, created_at='2025-08-12T10:30:48.302895+00:00', parent_config={'configurable': {'thread_id': '4', 'checkpoint_ns': '', 'checkpoint_id': '1f077676-973d-6fea-bfff-7056fdea0e25'}}, tasks=(PregelTask(id='37ced78e-ca08-19c4-4e73-b0240cfd971e', name='llm', path=('__pregel_pull', 'llm'), error=None, interrupts=(), state=None, result={'messages': [AIMessage(content='', additional_kwargs={'tool_calls': [{'id': 'call_cn9Y0zDBB1clF5UspZt7Wzla', 'function': {'arguments': '{\"query\":\"Los Angeles weather right now\"}', 'name': 'tavily_search_results_json'}, 'type': 'function'}], 'refusal': None}, response_metadata={'token_usage': {'completion_tokens': 351, 'prompt_tokens': 235, 'total_tokens': 586, 'completion_tokens_details': {'accepted_prediction_tokens': 0, 'audio_tokens': 0, 'reasoning_tokens': 320, 'rejected_prediction_tokens': 0}, 'prompt_tokens_details': {'audio_tokens': 0, 'cached_tokens': 0}}, 'model_name': 'gpt-5-nano-2025-08-07', 'system_fingerprint': None, 'id': 'chatcmpl-C3gZEF2hBRvOVmqZgj0IlQxiuZ9NL', 'service_tier': 'default', 'finish_reason': 'tool_calls', 'logprobs': None}, id='run--8c27efce-9cd0-466a-ae78-ab5dbce19edb-0', tool_calls=[{'name': 'tavily_search_results_json', 'args': {'query': 'Los Angeles weather right now'}, 'id': 'call_cn9Y0zDBB1clF5UspZt7Wzla', 'type': 'tool_call'}], usage_metadata={'input_tokens': 235, 'output_tokens': 351, 'total_tokens': 586, 'input_token_details': {'audio': 0, 'cache_read': 0}, 'output_token_details': {'audio': 0, 'reasoning': 320}})]}),), interrupts=())\n",
      "---\n",
      "StateSnapshot(values={'messages': []}, next=('__start__',), config={'configurable': {'thread_id': '4', 'checkpoint_ns': '', 'checkpoint_id': '1f077676-973d-6fea-bfff-7056fdea0e25'}}, metadata={'source': 'input', 'step': -1, 'parents': {}}, created_at='2025-08-12T10:30:48.302380+00:00', parent_config=None, tasks=(PregelTask(id='ae513621-9479-24fe-29ed-e62d0b3aeb10', name='__start__', path=('__pregel_pull', '__start__'), error=None, interrupts=(), state=None, result={'messages': [HumanMessage(content='What is the weather in LA?', additional_kwargs={}, response_metadata={}, id='e16d2743-fcea-4ec6-80a5-4d1c778e72d5')]}),), interrupts=())\n",
      "---\n"
     ]
    }
   ],
   "source": [
    "# Save list of prev states in a list\n",
    "\n",
    "states = []\n",
    "for state in abot.graph.get_state_history(thread):\n",
    "    print(state, end=\"\\n---\\n\")\n",
    "    states.append(state)"
   ]
  },
  {
   "cell_type": "code",
   "execution_count": 26,
   "id": "0175f4b2",
   "metadata": {},
   "outputs": [
    {
     "data": {
      "text/plain": [
       "StateSnapshot(values={'messages': []}, next=('__start__',), config={'configurable': {'thread_id': '4', 'checkpoint_ns': '', 'checkpoint_id': '1f077676-973d-6fea-bfff-7056fdea0e25'}}, metadata={'source': 'input', 'step': -1, 'parents': {}}, created_at='2025-08-12T10:30:48.302380+00:00', parent_config=None, tasks=(PregelTask(id='ae513621-9479-24fe-29ed-e62d0b3aeb10', name='__start__', path=('__pregel_pull', '__start__'), error=None, interrupts=(), state=None, result={'messages': [HumanMessage(content='What is the weather in LA?', additional_kwargs={}, response_metadata={}, id='e16d2743-fcea-4ec6-80a5-4d1c778e72d5')]}),), interrupts=())"
      ]
     },
     "execution_count": 26,
     "metadata": {},
     "output_type": "execute_result"
    }
   ],
   "source": [
    "states[-1]"
   ]
  },
  {
   "cell_type": "code",
   "execution_count": 30,
   "id": "cfc9aa98",
   "metadata": {},
   "outputs": [
    {
     "name": "stdout",
     "output_type": "stream",
     "text": [
      "{'messages': [HumanMessage(content='What is the weather in LA?', additional_kwargs={}, response_metadata={}, id='13c5b4a7-751d-4a8b-a2a6-e2e302bf8f16'), AIMessage(content='', additional_kwargs={'tool_calls': [{'id': 'call_Py62CGJRg3Pjiv9IYnZAKp1b', 'function': {'arguments': '{\"query\":\"current weather Los Angeles\"}', 'name': 'tavily_search_results_json'}, 'type': 'function'}], 'refusal': None}, response_metadata={'token_usage': {'completion_tokens': 158, 'prompt_tokens': 235, 'total_tokens': 393, 'completion_tokens_details': {'accepted_prediction_tokens': 0, 'audio_tokens': 0, 'reasoning_tokens': 128, 'rejected_prediction_tokens': 0}, 'prompt_tokens_details': {'audio_tokens': 0, 'cached_tokens': 0}}, 'model_name': 'gpt-5-nano-2025-08-07', 'system_fingerprint': None, 'id': 'chatcmpl-C3gpU8YkItthS0LnK4T9Pl4Te2t0q', 'service_tier': 'default', 'finish_reason': 'tool_calls', 'logprobs': None}, id='run--d241c523-20ae-46b7-8655-81a3f48340ce-0', tool_calls=[{'name': 'tavily_search_results_json', 'args': {'query': 'current weather Los Angeles'}, 'id': 'call_Py62CGJRg3Pjiv9IYnZAKp1b', 'type': 'tool_call'}], usage_metadata={'input_tokens': 235, 'output_tokens': 158, 'total_tokens': 393, 'input_token_details': {'audio': 0, 'cache_read': 0}, 'output_token_details': {'audio': 0, 'reasoning': 128}})]}\n",
      "{'messages': [AIMessage(content='', additional_kwargs={'tool_calls': [{'id': 'call_Py62CGJRg3Pjiv9IYnZAKp1b', 'function': {'arguments': '{\"query\":\"current weather Los Angeles\"}', 'name': 'tavily_search_results_json'}, 'type': 'function'}], 'refusal': None}, response_metadata={'token_usage': {'completion_tokens': 158, 'prompt_tokens': 235, 'total_tokens': 393, 'completion_tokens_details': {'accepted_prediction_tokens': 0, 'audio_tokens': 0, 'reasoning_tokens': 128, 'rejected_prediction_tokens': 0}, 'prompt_tokens_details': {'audio_tokens': 0, 'cached_tokens': 0}}, 'model_name': 'gpt-5-nano-2025-08-07', 'system_fingerprint': None, 'id': 'chatcmpl-C3gpU8YkItthS0LnK4T9Pl4Te2t0q', 'service_tier': 'default', 'finish_reason': 'tool_calls', 'logprobs': None}, id='run--d241c523-20ae-46b7-8655-81a3f48340ce-0', tool_calls=[{'name': 'tavily_search_results_json', 'args': {'query': 'current weather Los Angeles'}, 'id': 'call_Py62CGJRg3Pjiv9IYnZAKp1b', 'type': 'tool_call'}], usage_metadata={'input_tokens': 235, 'output_tokens': 158, 'total_tokens': 393, 'input_token_details': {'audio': 0, 'cache_read': 0}, 'output_token_details': {'audio': 0, 'reasoning': 128}})]}\n",
      "()\n"
     ]
    }
   ],
   "source": [
    "# How to resume from prev state:\n",
    "for event in abot.graph.stream(None, states[-1].config):\n",
    "    for value in event.values():\n",
    "        print(value)"
   ]
  },
  {
   "cell_type": "markdown",
   "id": "27fe29df",
   "metadata": {},
   "source": [
    "# Go back in time to edit history"
   ]
  },
  {
   "cell_type": "code",
   "execution_count": 47,
   "id": "7e55e73f",
   "metadata": {},
   "outputs": [
    {
     "name": "stdout",
     "output_type": "stream",
     "text": [
      "StateSnapshot(values={'messages': [HumanMessage(content='What is the weather in LA?', additional_kwargs={}, response_metadata={}, id='e16d2743-fcea-4ec6-80a5-4d1c778e72d5'), AIMessage(content='', additional_kwargs={'tool_calls': [{'id': 'call_cn9Y0zDBB1clF5UspZt7Wzla', 'function': {'arguments': '{\"query\":\"Los Angeles weather right now\"}', 'name': 'tavily_search_results_json'}, 'type': 'function'}], 'refusal': None}, response_metadata={'token_usage': {'completion_tokens': 351, 'prompt_tokens': 235, 'total_tokens': 586, 'completion_tokens_details': {'accepted_prediction_tokens': 0, 'audio_tokens': 0, 'reasoning_tokens': 320, 'rejected_prediction_tokens': 0}, 'prompt_tokens_details': {'audio_tokens': 0, 'cached_tokens': 0}}, 'model_name': 'gpt-5-nano-2025-08-07', 'system_fingerprint': None, 'id': 'chatcmpl-C3gZEF2hBRvOVmqZgj0IlQxiuZ9NL', 'service_tier': 'default', 'finish_reason': 'tool_calls', 'logprobs': None}, id='run--8c27efce-9cd0-466a-ae78-ab5dbce19edb-0', tool_calls=[{'name': 'tavily_search_results_json', 'args': {'query': 'Los Angeles weather right now'}, 'id': 'call_cn9Y0zDBB1clF5UspZt7Wzla', 'type': 'tool_call'}], usage_metadata={'input_tokens': 235, 'output_tokens': 351, 'total_tokens': 586, 'input_token_details': {'audio': 0, 'cache_read': 0}, 'output_token_details': {'audio': 0, 'reasoning': 320}})]}, next=('action',), config={'configurable': {'thread_id': '4', 'checkpoint_ns': '', 'checkpoint_id': '1f077676-ad72-686a-8001-eee43bc690fc'}}, metadata={'source': 'loop', 'step': 1, 'parents': {}}, created_at='2025-08-12T10:30:50.630726+00:00', parent_config={'configurable': {'thread_id': '4', 'checkpoint_ns': '', 'checkpoint_id': '1f077676-973f-6412-8000-0d824af3721a'}}, tasks=(PregelTask(id='63e6bd3b-8bfc-0fa6-56b8-ec85abda3807', name='action', path=('__pregel_pull', 'action'), error=None, interrupts=(), state=None, result=None),), interrupts=())\n"
     ]
    }
   ],
   "source": [
    "to_replay = states[-3]\n",
    "print(to_replay)"
   ]
  },
  {
   "cell_type": "code",
   "execution_count": 48,
   "id": "13ad527b",
   "metadata": {},
   "outputs": [],
   "source": [
    "_id = to_replay.values['messages'][-1].tool_calls[0]['id']\n",
    "to_replay.values['messages'][-1].tool_calls = [{'name': 'tavily_search_results_json',\n",
    "  'args': {'query': 'current weather in LA, accuweather'},\n",
    "  'id': _id}]"
   ]
  },
  {
   "cell_type": "code",
   "execution_count": 49,
   "id": "71098e78",
   "metadata": {},
   "outputs": [
    {
     "name": "stdout",
     "output_type": "stream",
     "text": [
      "{'messages': [HumanMessage(content='What is the weather in LA?', additional_kwargs={}, response_metadata={}, id='e16d2743-fcea-4ec6-80a5-4d1c778e72d5'), AIMessage(content='', additional_kwargs={'tool_calls': [{'id': 'call_cn9Y0zDBB1clF5UspZt7Wzla', 'function': {'arguments': '{\"query\":\"Los Angeles weather right now\"}', 'name': 'tavily_search_results_json'}, 'type': 'function'}], 'refusal': None}, response_metadata={'token_usage': {'completion_tokens': 351, 'prompt_tokens': 235, 'total_tokens': 586, 'completion_tokens_details': {'accepted_prediction_tokens': 0, 'audio_tokens': 0, 'reasoning_tokens': 320, 'rejected_prediction_tokens': 0}, 'prompt_tokens_details': {'audio_tokens': 0, 'cached_tokens': 0}}, 'model_name': 'gpt-5-nano-2025-08-07', 'system_fingerprint': None, 'id': 'chatcmpl-C3gZEF2hBRvOVmqZgj0IlQxiuZ9NL', 'service_tier': 'default', 'finish_reason': 'tool_calls', 'logprobs': None}, id='run--8c27efce-9cd0-466a-ae78-ab5dbce19edb-0', tool_calls=[{'name': 'tavily_search_results_json', 'args': {'query': 'current weather in LA, accuweather'}, 'id': 'call_cn9Y0zDBB1clF5UspZt7Wzla'}], usage_metadata={'input_tokens': 235, 'output_tokens': 351, 'total_tokens': 586, 'input_token_details': {'audio': 0, 'cache_read': 0}, 'output_token_details': {'audio': 0, 'reasoning': 320}})]}\n"
     ]
    }
   ],
   "source": [
    "branch_state = abot.graph.update_state(to_replay.config, to_replay.values)"
   ]
  },
  {
   "cell_type": "code",
   "execution_count": 50,
   "id": "908f0dcf",
   "metadata": {},
   "outputs": [
    {
     "name": "stdout",
     "output_type": "stream",
     "text": [
      "Calling: {'name': 'tavily_search_results_json', 'args': {'query': 'current weather in LA, accuweather'}, 'id': 'call_cn9Y0zDBB1clF5UspZt7Wzla', 'type': 'tool_call'}\n",
      "Back to the model!\n",
      "{'messages': [ToolMessage(content=\"[{'title': 'Los Angeles, CA Monthly Weather - AccuWeather', 'url': 'https://www.accuweather.com/en/us/los-angeles/90012/august-weather/347625', 'content': 'Get the monthly weather forecast for Los Angeles, CA, including daily high/low, historical averages, to help you plan ahead.', 'score': 0.98598}, {'title': 'Weather Prediction Center (WPC) Home Page - NOAA', 'url': 'https://www.noaa.gov/weather-prediction-center', 'content': '12-Hourly QPF (Day 1-3) 6-Hourly QPF (Day 1-3) 48-Hour QPF (Day 4-5/6-7) ... Valid 01Z Tue Aug 12 2025 - 12Z Tue Aug 12 2025. Valid 12Z Tue Aug 12 2025', 'score': 0.98445}]\", name='tavily_search_results_json', id='e5687e94-e8d2-4b51-8aef-5d3d75b2f3cc', tool_call_id='call_cn9Y0zDBB1clF5UspZt7Wzla')]}\n",
      "{'messages': [HumanMessage(content='What is the weather in LA?', additional_kwargs={}, response_metadata={}, id='e16d2743-fcea-4ec6-80a5-4d1c778e72d5'), AIMessage(content='', additional_kwargs={'tool_calls': [{'id': 'call_cn9Y0zDBB1clF5UspZt7Wzla', 'function': {'arguments': '{\"query\":\"Los Angeles weather right now\"}', 'name': 'tavily_search_results_json'}, 'type': 'function'}], 'refusal': None}, response_metadata={'token_usage': {'completion_tokens': 351, 'prompt_tokens': 235, 'total_tokens': 586, 'completion_tokens_details': {'accepted_prediction_tokens': 0, 'audio_tokens': 0, 'reasoning_tokens': 320, 'rejected_prediction_tokens': 0}, 'prompt_tokens_details': {'audio_tokens': 0, 'cached_tokens': 0}}, 'model_name': 'gpt-5-nano-2025-08-07', 'system_fingerprint': None, 'id': 'chatcmpl-C3gZEF2hBRvOVmqZgj0IlQxiuZ9NL', 'service_tier': 'default', 'finish_reason': 'tool_calls', 'logprobs': None}, id='run--8c27efce-9cd0-466a-ae78-ab5dbce19edb-0', tool_calls=[{'name': 'tavily_search_results_json', 'args': {'query': 'current weather in LA, accuweather'}, 'id': 'call_cn9Y0zDBB1clF5UspZt7Wzla', 'type': 'tool_call'}], usage_metadata={'input_tokens': 235, 'output_tokens': 351, 'total_tokens': 586, 'input_token_details': {'audio': 0, 'cache_read': 0}, 'output_token_details': {'audio': 0, 'reasoning': 320}}), ToolMessage(content=\"[{'title': 'Los Angeles, CA Monthly Weather - AccuWeather', 'url': 'https://www.accuweather.com/en/us/los-angeles/90012/august-weather/347625', 'content': 'Get the monthly weather forecast for Los Angeles, CA, including daily high/low, historical averages, to help you plan ahead.', 'score': 0.98598}, {'title': 'Weather Prediction Center (WPC) Home Page - NOAA', 'url': 'https://www.noaa.gov/weather-prediction-center', 'content': '12-Hourly QPF (Day 1-3) 6-Hourly QPF (Day 1-3) 48-Hour QPF (Day 4-5/6-7) ... Valid 01Z Tue Aug 12 2025 - 12Z Tue Aug 12 2025. Valid 12Z Tue Aug 12 2025', 'score': 0.98445}]\", name='tavily_search_results_json', id='e5687e94-e8d2-4b51-8aef-5d3d75b2f3cc', tool_call_id='call_cn9Y0zDBB1clF5UspZt7Wzla'), AIMessage(content='I can pull live conditions for Los Angeles. Do you want me to fetch current conditions now, and do you prefer Fahrenheit or Celsius? Also, any source preference (AccuWeather, NOAA, etc.)?', additional_kwargs={'refusal': None}, response_metadata={'token_usage': {'completion_tokens': 1331, 'prompt_tokens': 486, 'total_tokens': 1817, 'completion_tokens_details': {'accepted_prediction_tokens': 0, 'audio_tokens': 0, 'reasoning_tokens': 1280, 'rejected_prediction_tokens': 0}, 'prompt_tokens_details': {'audio_tokens': 0, 'cached_tokens': 0}}, 'model_name': 'gpt-5-nano-2025-08-07', 'system_fingerprint': None, 'id': 'chatcmpl-C3gy0V2JrhUyOo0zwrSf1n9XHbHSe', 'service_tier': 'default', 'finish_reason': 'stop', 'logprobs': None}, id='run--3ebb7883-9564-4bb3-bb49-41906e1a6aa1-0', usage_metadata={'input_tokens': 486, 'output_tokens': 1331, 'total_tokens': 1817, 'input_token_details': {'audio': 0, 'cache_read': 0}, 'output_token_details': {'audio': 0, 'reasoning': 1280}})]}\n",
      "{'messages': [AIMessage(content='I can pull live conditions for Los Angeles. Do you want me to fetch current conditions now, and do you prefer Fahrenheit or Celsius? Also, any source preference (AccuWeather, NOAA, etc.)?', additional_kwargs={'refusal': None}, response_metadata={'token_usage': {'completion_tokens': 1331, 'prompt_tokens': 486, 'total_tokens': 1817, 'completion_tokens_details': {'accepted_prediction_tokens': 0, 'audio_tokens': 0, 'reasoning_tokens': 1280, 'rejected_prediction_tokens': 0}, 'prompt_tokens_details': {'audio_tokens': 0, 'cached_tokens': 0}}, 'model_name': 'gpt-5-nano-2025-08-07', 'system_fingerprint': None, 'id': 'chatcmpl-C3gy0V2JrhUyOo0zwrSf1n9XHbHSe', 'service_tier': 'default', 'finish_reason': 'stop', 'logprobs': None}, id='run--3ebb7883-9564-4bb3-bb49-41906e1a6aa1-0', usage_metadata={'input_tokens': 486, 'output_tokens': 1331, 'total_tokens': 1817, 'input_token_details': {'audio': 0, 'cache_read': 0}, 'output_token_details': {'audio': 0, 'reasoning': 1280}})]}\n"
     ]
    }
   ],
   "source": [
    "for event in abot.graph.stream(None, branch_state):\n",
    "    for v in event.values():\n",
    "        print(v)"
   ]
  },
  {
   "cell_type": "markdown",
   "id": "d78bda74",
   "metadata": {},
   "source": [
    "# Append messages to a given state"
   ]
  },
  {
   "cell_type": "code",
   "execution_count": 51,
   "id": "2e8bec1e",
   "metadata": {},
   "outputs": [
    {
     "data": {
      "text/plain": [
       "StateSnapshot(values={'messages': [HumanMessage(content='What is the weather in LA?', additional_kwargs={}, response_metadata={}, id='e16d2743-fcea-4ec6-80a5-4d1c778e72d5'), AIMessage(content='', additional_kwargs={'tool_calls': [{'id': 'call_cn9Y0zDBB1clF5UspZt7Wzla', 'function': {'arguments': '{\"query\":\"Los Angeles weather right now\"}', 'name': 'tavily_search_results_json'}, 'type': 'function'}], 'refusal': None}, response_metadata={'token_usage': {'completion_tokens': 351, 'prompt_tokens': 235, 'total_tokens': 586, 'completion_tokens_details': {'accepted_prediction_tokens': 0, 'audio_tokens': 0, 'reasoning_tokens': 320, 'rejected_prediction_tokens': 0}, 'prompt_tokens_details': {'audio_tokens': 0, 'cached_tokens': 0}}, 'model_name': 'gpt-5-nano-2025-08-07', 'system_fingerprint': None, 'id': 'chatcmpl-C3gZEF2hBRvOVmqZgj0IlQxiuZ9NL', 'service_tier': 'default', 'finish_reason': 'tool_calls', 'logprobs': None}, id='run--8c27efce-9cd0-466a-ae78-ab5dbce19edb-0', tool_calls=[{'name': 'tavily_search_results_json', 'args': {'query': 'current weather in LA, accuweather'}, 'id': 'call_cn9Y0zDBB1clF5UspZt7Wzla'}], usage_metadata={'input_tokens': 235, 'output_tokens': 351, 'total_tokens': 586, 'input_token_details': {'audio': 0, 'cache_read': 0}, 'output_token_details': {'audio': 0, 'reasoning': 320}})]}, next=('action',), config={'configurable': {'thread_id': '4', 'checkpoint_ns': '', 'checkpoint_id': '1f077676-ad72-686a-8001-eee43bc690fc'}}, metadata={'source': 'loop', 'step': 1, 'parents': {}}, created_at='2025-08-12T10:30:50.630726+00:00', parent_config={'configurable': {'thread_id': '4', 'checkpoint_ns': '', 'checkpoint_id': '1f077676-973f-6412-8000-0d824af3721a'}}, tasks=(PregelTask(id='63e6bd3b-8bfc-0fa6-56b8-ec85abda3807', name='action', path=('__pregel_pull', 'action'), error=None, interrupts=(), state=None, result=None),), interrupts=())"
      ]
     },
     "execution_count": 51,
     "metadata": {},
     "output_type": "execute_result"
    }
   ],
   "source": [
    "to_replay"
   ]
  },
  {
   "cell_type": "code",
   "execution_count": 52,
   "id": "58b07848",
   "metadata": {},
   "outputs": [],
   "source": [
    "# Create mock response to action\n",
    "\n",
    "state_update = state_update = {\"messages\": [ToolMessage(\n",
    "    tool_call_id=to_replay.values['messages'][-1].tool_calls[0]['id'],\n",
    "    name=\"tavily_search_results_json\",\n",
    "    content=\"9000 degree celcius\",\n",
    ")]}"
   ]
  },
  {
   "cell_type": "code",
   "execution_count": 53,
   "id": "f0279516",
   "metadata": {},
   "outputs": [],
   "source": [
    "branch_to_add = abot.graph.update_state(to_replay.config, state_update, as_node=\"action\")\n",
    "\n",
    "# This updates the graph as if the output came from the \"action\" node"
   ]
  },
  {
   "cell_type": "code",
   "execution_count": 54,
   "id": "b7a947a1",
   "metadata": {},
   "outputs": [
    {
     "name": "stdout",
     "output_type": "stream",
     "text": [
      "{'messages': [HumanMessage(content='What is the weather in LA?', additional_kwargs={}, response_metadata={}, id='e16d2743-fcea-4ec6-80a5-4d1c778e72d5'), AIMessage(content='', additional_kwargs={'tool_calls': [{'id': 'call_cn9Y0zDBB1clF5UspZt7Wzla', 'function': {'arguments': '{\"query\":\"Los Angeles weather right now\"}', 'name': 'tavily_search_results_json'}, 'type': 'function'}], 'refusal': None}, response_metadata={'token_usage': {'completion_tokens': 351, 'prompt_tokens': 235, 'total_tokens': 586, 'completion_tokens_details': {'accepted_prediction_tokens': 0, 'audio_tokens': 0, 'reasoning_tokens': 320, 'rejected_prediction_tokens': 0}, 'prompt_tokens_details': {'audio_tokens': 0, 'cached_tokens': 0}}, 'model_name': 'gpt-5-nano-2025-08-07', 'system_fingerprint': None, 'id': 'chatcmpl-C3gZEF2hBRvOVmqZgj0IlQxiuZ9NL', 'service_tier': 'default', 'finish_reason': 'tool_calls', 'logprobs': None}, id='run--8c27efce-9cd0-466a-ae78-ab5dbce19edb-0', tool_calls=[{'name': 'tavily_search_results_json', 'args': {'query': 'Los Angeles weather right now'}, 'id': 'call_cn9Y0zDBB1clF5UspZt7Wzla', 'type': 'tool_call'}], usage_metadata={'input_tokens': 235, 'output_tokens': 351, 'total_tokens': 586, 'input_token_details': {'audio': 0, 'cache_read': 0}, 'output_token_details': {'audio': 0, 'reasoning': 320}}), ToolMessage(content='9000 degree celcius', name='tavily_search_results_json', id='c6cc1443-d0a8-43ce-98a2-c721f26099f6', tool_call_id='call_cn9Y0zDBB1clF5UspZt7Wzla'), AIMessage(content='', additional_kwargs={'tool_calls': [{'id': 'call_z1ElAlgyfGrDPQegHSJro7xe', 'function': {'arguments': '{\"query\":\"current weather Los Angeles\"}', 'name': 'tavily_search_results_json'}, 'type': 'function'}], 'refusal': None}, response_metadata={'token_usage': {'completion_tokens': 222, 'prompt_tokens': 280, 'total_tokens': 502, 'completion_tokens_details': {'accepted_prediction_tokens': 0, 'audio_tokens': 0, 'reasoning_tokens': 192, 'rejected_prediction_tokens': 0}, 'prompt_tokens_details': {'audio_tokens': 0, 'cached_tokens': 0}}, 'model_name': 'gpt-5-nano-2025-08-07', 'system_fingerprint': None, 'id': 'chatcmpl-C3h4fnExjEsbw8xkaL3IFrofDiPb2', 'service_tier': 'default', 'finish_reason': 'tool_calls', 'logprobs': None}, id='run--874e49ad-522f-48a7-97e8-b06512b4f3db-0', tool_calls=[{'name': 'tavily_search_results_json', 'args': {'query': 'current weather Los Angeles'}, 'id': 'call_z1ElAlgyfGrDPQegHSJro7xe', 'type': 'tool_call'}], usage_metadata={'input_tokens': 280, 'output_tokens': 222, 'total_tokens': 502, 'input_token_details': {'audio': 0, 'cache_read': 0}, 'output_token_details': {'audio': 0, 'reasoning': 192}})]}\n",
      "{'messages': [AIMessage(content='', additional_kwargs={'tool_calls': [{'id': 'call_z1ElAlgyfGrDPQegHSJro7xe', 'function': {'arguments': '{\"query\":\"current weather Los Angeles\"}', 'name': 'tavily_search_results_json'}, 'type': 'function'}], 'refusal': None}, response_metadata={'token_usage': {'completion_tokens': 222, 'prompt_tokens': 280, 'total_tokens': 502, 'completion_tokens_details': {'accepted_prediction_tokens': 0, 'audio_tokens': 0, 'reasoning_tokens': 192, 'rejected_prediction_tokens': 0}, 'prompt_tokens_details': {'audio_tokens': 0, 'cached_tokens': 0}}, 'model_name': 'gpt-5-nano-2025-08-07', 'system_fingerprint': None, 'id': 'chatcmpl-C3h4fnExjEsbw8xkaL3IFrofDiPb2', 'service_tier': 'default', 'finish_reason': 'tool_calls', 'logprobs': None}, id='run--874e49ad-522f-48a7-97e8-b06512b4f3db-0', tool_calls=[{'name': 'tavily_search_results_json', 'args': {'query': 'current weather Los Angeles'}, 'id': 'call_z1ElAlgyfGrDPQegHSJro7xe', 'type': 'tool_call'}], usage_metadata={'input_tokens': 280, 'output_tokens': 222, 'total_tokens': 502, 'input_token_details': {'audio': 0, 'cache_read': 0}, 'output_token_details': {'audio': 0, 'reasoning': 192}})]}\n",
      "()\n"
     ]
    }
   ],
   "source": [
    "for event in abot.graph.stream(None, branch_to_add):\n",
    "    for v in event.values():\n",
    "        print(v)"
   ]
  }
 ],
 "metadata": {
  "kernelspec": {
   "display_name": "agentic_notebook",
   "language": "python",
   "name": "agentic_notebook"
  },
  "language_info": {
   "codemirror_mode": {
    "name": "ipython",
    "version": 3
   },
   "file_extension": ".py",
   "mimetype": "text/x-python",
   "name": "python",
   "nbconvert_exporter": "python",
   "pygments_lexer": "ipython3",
   "version": "3.11.9"
  }
 },
 "nbformat": 4,
 "nbformat_minor": 5
}
