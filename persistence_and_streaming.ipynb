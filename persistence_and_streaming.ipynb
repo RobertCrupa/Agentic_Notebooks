{
 "cells": [
  {
   "cell_type": "code",
   "execution_count": 20,
   "id": "4efc19f7",
   "metadata": {},
   "outputs": [
    {
     "data": {
      "text/plain": [
       "True"
      ]
     },
     "execution_count": 20,
     "metadata": {},
     "output_type": "execute_result"
    }
   ],
   "source": [
    "from dotenv import load_dotenv\n",
    "\n",
    "load_dotenv()"
   ]
  },
  {
   "cell_type": "code",
   "execution_count": 37,
   "id": "d04f6a7d",
   "metadata": {},
   "outputs": [],
   "source": [
    "from langgraph.graph import StateGraph, END\n",
    "from typing import TypedDict, Annotated, Dict, Any\n",
    "import operator\n",
    "from langchain_core.messages import AnyMessage, SystemMessage, HumanMessage, ToolMessage\n",
    "from langchain_openai import ChatOpenAI\n",
    "from langchain_community.tools.tavily_search import TavilySearchResults"
   ]
  },
  {
   "cell_type": "code",
   "execution_count": null,
   "id": "36fbf87c",
   "metadata": {},
   "outputs": [],
   "source": [
    "tool = TavilySearchResults(max_results=2)"
   ]
  },
  {
   "cell_type": "code",
   "execution_count": 6,
   "id": "020e0f82",
   "metadata": {},
   "outputs": [],
   "source": [
    "# Agent state to maintain memory\n",
    "class AgentState(TypedDict):\n",
    "    messages: Annotated[list[AnyMessage], operator.add]"
   ]
  },
  {
   "cell_type": "code",
   "execution_count": 7,
   "id": "101f8632",
   "metadata": {},
   "outputs": [],
   "source": [
    "from langgraph.checkpoint.sqlite import SqliteSaver\n",
    "\n",
    "memory = SqliteSaver.from_conn_string(\":memory:\")"
   ]
  },
  {
   "cell_type": "code",
   "execution_count": 48,
   "id": "e7b2577c",
   "metadata": {},
   "outputs": [],
   "source": [
    "class Agent:\n",
    "    def __init__(self, model, tools, checkpointer, system=\"\"):\n",
    "        self.system = system\n",
    "        graph = StateGraph(AgentState)\n",
    "        graph.add_node(\"llm\", self.call_openai)\n",
    "        graph.add_node(\"action\", self.take_action)\n",
    "        graph.add_conditional_edges(\"llm\", self.exists_action, {True: \"action\", False: END})\n",
    "        graph.add_edge(\"action\", \"llm\")\n",
    "        graph.set_entry_point(\"llm\")\n",
    "        self.graph = graph.compile(checkpointer=checkpointer)\n",
    "        self.tools = {t.name: t for t in tools}\n",
    "        self.model = model.bind_tools(tools)\n",
    "\n",
    "    def call_openai(self, state: AgentState):\n",
    "        messages = state['messages']\n",
    "        if self.system:\n",
    "            messages = [SystemMessage(content=self.system)] + messages\n",
    "        message = self.model.invoke(messages)\n",
    "        return {'messages': [message]}\n",
    "\n",
    "    def exists_action(self, state: AgentState):\n",
    "        result = state['messages'][-1]\n",
    "        return len(result.tool_calls) > 0\n",
    "\n",
    "    def take_action(self, state: AgentState):\n",
    "        tool_calls = state['messages'][-1].tool_calls\n",
    "        results = []\n",
    "        for t in tool_calls:\n",
    "            print(f\"Calling: {t}\")\n",
    "            result = self.tools[t['name']].invoke(t['args'])\n",
    "            results.append(ToolMessage(tool_call_id=t['id'], name=t['name'], content=str(result)))\n",
    "        print(\"Back to the model!\")\n",
    "        return {'messages': results}\n",
    "        "
   ]
  },
  {
   "cell_type": "code",
   "execution_count": 40,
   "id": "8707a0eb",
   "metadata": {},
   "outputs": [],
   "source": [
    "from contextlib import ExitStack\n",
    "\n",
    "stack = ExitStack()\n",
    "memory = stack.enter_context(SqliteSaver.from_conn_string(\":memory:\"))"
   ]
  },
  {
   "cell_type": "code",
   "execution_count": 49,
   "id": "1be054d6",
   "metadata": {},
   "outputs": [],
   "source": [
    "import os\n",
    "prompt = \"\"\"You are a smart research assistant. Use the search engine to look up information. \\\n",
    "You are allowed to make multiple calls (either together or in sequence). \\\n",
    "Only look up information when you are sure of what you want. \\\n",
    "If you need to look up some information before asking a follow up question, you are allowed to do that!\n",
    "\"\"\"\n",
    "model = ChatOpenAI(model=\"gpt-5-nano\", api_key=os.environ.get(\"OPENAI_API_KEY\"))\n",
    "abot = Agent(model, [tool], system=prompt, checkpointer=memory)"
   ]
  },
  {
   "cell_type": "code",
   "execution_count": 51,
   "id": "766503f4",
   "metadata": {},
   "outputs": [],
   "source": [
    "messages = [HumanMessage(content=\"What is the weather in London?\")]"
   ]
  },
  {
   "cell_type": "code",
   "execution_count": 43,
   "id": "247e59e1",
   "metadata": {},
   "outputs": [],
   "source": [
    "thread = {\"configurable\": {\"thread_id\": \"1\"}}"
   ]
  },
  {
   "cell_type": "code",
   "execution_count": 50,
   "id": "6e4d7399",
   "metadata": {},
   "outputs": [
    {
     "name": "stdout",
     "output_type": "stream",
     "text": [
      "[AIMessage(content='', additional_kwargs={'tool_calls': [{'id': 'call_RFARkcs2WYbF3rPiWhh2XFwf', 'function': {'arguments': '{\"query\":\"San Francisco weather current\"}', 'name': 'tavily_search_results_json'}, 'type': 'function'}], 'refusal': None}, response_metadata={'token_usage': {'completion_tokens': 414, 'prompt_tokens': 268, 'total_tokens': 682, 'completion_tokens_details': {'accepted_prediction_tokens': 0, 'audio_tokens': 0, 'reasoning_tokens': 384, 'rejected_prediction_tokens': 0}, 'prompt_tokens_details': {'audio_tokens': 0, 'cached_tokens': 0}}, 'model_name': 'gpt-5-nano-2025-08-07', 'system_fingerprint': None, 'id': 'chatcmpl-C2xahhrIaUz8eIzhBKdPysAnWbFLX', 'service_tier': 'default', 'finish_reason': 'tool_calls', 'logprobs': None}, id='run--49fbcd22-88cc-495a-824d-7480c872286b-0', tool_calls=[{'name': 'tavily_search_results_json', 'args': {'query': 'San Francisco weather current'}, 'id': 'call_RFARkcs2WYbF3rPiWhh2XFwf', 'type': 'tool_call'}], usage_metadata={'input_tokens': 268, 'output_tokens': 414, 'total_tokens': 682, 'input_token_details': {'audio': 0, 'cache_read': 0}, 'output_token_details': {'audio': 0, 'reasoning': 384}})]\n",
      "Calling: {'name': 'tavily_search_results_json', 'args': {'query': 'San Francisco weather current'}, 'id': 'call_RFARkcs2WYbF3rPiWhh2XFwf', 'type': 'tool_call'}\n",
      "Back to the model!\n",
      "[ToolMessage(content=\"[{'title': 'San Francisco weather in August 2025 | Weather25.com', 'url': 'https://www.weather25.com/north-america/usa/california/san-francisco?page=month&month=August', 'content': '| May | 20° / 10° | 1 | 30 | 0 | 13 mm | Good | San Francisco in May |\\\\n| June | 23° / 12° | 0 | 30 | 0 | 6 mm | Perfect | San Francisco in June |\\\\n| July | 25° / 14° | 0 | 31 | 0 | 3 mm | Perfect | San Francisco in July |\\\\n| August | 25° / 14° | 0 | 31 | 0 | 3 mm | Perfect | San Francisco in August |\\\\n| September | 25° / 14° | 0 | 30 | 0 | 4 mm | Perfect | San Francisco in September |\\\\n| October | 23° / 13° | 1 | 30 | 0 | 26 mm | Perfect | San Francisco in October | [...] Temperatures\\\\nRainy Days\\\\nSnowy Days\\\\nDry Days\\\\nRainfall\\\\n11.9 [...] | November | 18° / 10° | 3 | 27 | 0 | 37 mm | Good | San Francisco in November |\\\\n| December | 14° / 8° | 4 | 27 | 0 | 55 mm | Good | San Francisco in December |', 'score': 0.6506676}, {'title': 'San Francisco, CA Monthly Weather - AccuWeather', 'url': 'https://www.accuweather.com/en/us/san-francisco/94103/august-weather/347629', 'content': '### October 2025\\\\n\\\\n### November 2025\\\\n\\\\n## Around the Globe\\\\n\\\\nAround the Globe\\\\n\\\\n### Hurricane Tracker\\\\n\\\\n### Severe Weather\\\\n\\\\n### Radar & Maps\\\\n\\\\n### News\\\\n\\\\n### Video\\\\n\\\\n### Winter Center\\\\n\\\\nTop Stories\\\\n\\\\nHurricane\\\\n\\\\nAtlantic hurricane potential, US risk to increase around mid-August\\\\n\\\\n1 hour ago\\\\n\\\\nWeather Forecasts\\\\n\\\\nFall forecast 2025: Warmth to fuel fires, storms before chill hits US\\\\n\\\\n3 days ago\\\\n\\\\nWeather News\\\\n\\\\nCanyon Fire joins California’s escalating wildfire crisis\\\\n\\\\n1 day ago\\\\n\\\\nAstronomy [...] # San Francisco, CA\\\\n\\\\nSan Francisco\\\\n\\\\nCalifornia\\\\n\\\\n## Around the Globe\\\\n\\\\nAround the Globe\\\\n\\\\n### Hurricane Tracker\\\\n\\\\n### Severe Weather\\\\n\\\\n### Radar & Maps\\\\n\\\\n### News & Features\\\\n\\\\n### Astronomy\\\\n\\\\n### Business\\\\n\\\\n### Climate\\\\n\\\\n### Health\\\\n\\\\n### Recreation\\\\n\\\\n### Sports\\\\n\\\\n### Travel\\\\n\\\\n### Warnings\\\\n\\\\n### Data Suite\\\\n\\\\n### Forensics\\\\n\\\\n### Advertising\\\\n\\\\n### Superior Accuracy™\\\\n\\\\n### Video\\\\n\\\\n### Winter Center\\\\n\\\\n## Monthly\\\\n\\\\n## August\\\\n\\\\n## 2025\\\\n\\\\n## Daily\\\\n\\\\n## Temperature Graph\\\\n\\\\n## Further Ahead\\\\n\\\\nFurther Ahead\\\\n\\\\n### September 2025 [...] Perseid meteor shower peaks Tuesday, but the moon may steal the show\\\\n\\\\n1 day ago\\\\n\\\\nWeather News\\\\n\\\\nRare winter rescue from brutal Antarctica conditions tests flight crew\\\\n\\\\n2 days ago\\\\n\\\\nFeatured Stories\\\\n\\\\nWeather News\\\\n\\\\nFrench firefighters battle blaze that scorched area bigger than Paris\\\\n\\\\n1 day ago\\\\n\\\\nWeather News\\\\n\\\\nRead the Coast Guard report on the implosion of the Titan submersible\\\\n\\\\n4 days ago\\\\n\\\\nWeather News\\\\n\\\\nBlue whales go quiet off California after marine heat wave\\\\n\\\\n2 days ago\\\\n\\\\nAstronomy', 'score': 0.5709301}]\", name='tavily_search_results_json', tool_call_id='call_RFARkcs2WYbF3rPiWhh2XFwf')]\n",
      "[AIMessage(content='', additional_kwargs={'tool_calls': [{'id': 'call_QhprtG8yUFnnjOPY63apqLQY', 'function': {'arguments': '{\"query\":\"San Francisco current weather\"}', 'name': 'tavily_search_results_json'}, 'type': 'function'}], 'refusal': None}, response_metadata={'token_usage': {'completion_tokens': 350, 'prompt_tokens': 1103, 'total_tokens': 1453, 'completion_tokens_details': {'accepted_prediction_tokens': 0, 'audio_tokens': 0, 'reasoning_tokens': 320, 'rejected_prediction_tokens': 0}, 'prompt_tokens_details': {'audio_tokens': 0, 'cached_tokens': 0}}, 'model_name': 'gpt-5-nano-2025-08-07', 'system_fingerprint': None, 'id': 'chatcmpl-C2xaoUkjfmjX1x3eEes62jln59WHL', 'service_tier': 'default', 'finish_reason': 'tool_calls', 'logprobs': None}, id='run--9ebabceb-6af8-4728-9b65-0e1357a0e169-0', tool_calls=[{'name': 'tavily_search_results_json', 'args': {'query': 'San Francisco current weather'}, 'id': 'call_QhprtG8yUFnnjOPY63apqLQY', 'type': 'tool_call'}], usage_metadata={'input_tokens': 1103, 'output_tokens': 350, 'total_tokens': 1453, 'input_token_details': {'audio': 0, 'cache_read': 0}, 'output_token_details': {'audio': 0, 'reasoning': 320}})]\n",
      "Calling: {'name': 'tavily_search_results_json', 'args': {'query': 'San Francisco current weather'}, 'id': 'call_QhprtG8yUFnnjOPY63apqLQY', 'type': 'tool_call'}\n",
      "Back to the model!\n",
      "[ToolMessage(content=\"[{'title': 'San Francisco weather in August 2025 | Weather25.com', 'url': 'https://www.weather25.com/north-america/usa/california/san-francisco?page=month&month=August', 'content': '| May | 20° / 10° | 1 | 30 | 0 | 13 mm | Good | San Francisco in May |\\\\n| June | 23° / 12° | 0 | 30 | 0 | 6 mm | Perfect | San Francisco in June |\\\\n| July | 25° / 14° | 0 | 31 | 0 | 3 mm | Perfect | San Francisco in July |\\\\n| August | 25° / 14° | 0 | 31 | 0 | 3 mm | Perfect | San Francisco in August |\\\\n| September | 25° / 14° | 0 | 30 | 0 | 4 mm | Perfect | San Francisco in September |\\\\n| October | 23° / 13° | 1 | 30 | 0 | 26 mm | Perfect | San Francisco in October | [...] Temperatures\\\\nRainy Days\\\\nSnowy Days\\\\nDry Days\\\\nRainfall\\\\n11.9 [...] | November | 18° / 10° | 3 | 27 | 0 | 37 mm | Good | San Francisco in November |\\\\n| December | 14° / 8° | 4 | 27 | 0 | 55 mm | Good | San Francisco in December |', 'score': 0.66699636}, {'title': 'Current Weather - San Francisco, CA - AccuWeather', 'url': 'https://www.accuweather.com/en/us/san-francisco/94103/current-weather/347629', 'content': 'Wind Gusts25 mph\\\\n\\\\nProbability of Precipitation0%\\\\n\\\\nProbability of Thunderstorms0%\\\\n\\\\nPrecipitation0.00 in\\\\n\\\\nCloud Cover35%\\\\n\\\\n### Morning\\\\n\\\\n### Afternoon\\\\n\\\\n## Night\\\\n\\\\nWindWSW 10 mph\\\\n\\\\nWind Gusts21 mph\\\\n\\\\nProbability of Precipitation0%\\\\n\\\\nProbability of Thunderstorms0%\\\\n\\\\nPrecipitation0.00 in\\\\n\\\\nCloud Cover96%\\\\n\\\\n### Evening\\\\n\\\\n### Overnight\\\\n\\\\n## Sun & Moon\\\\n\\\\n## Temperature History\\\\n\\\\n## Further Ahead\\\\n\\\\nFurther Ahead\\\\n\\\\n### Hourly\\\\n\\\\n### Daily\\\\n\\\\n### Monthly\\\\n\\\\n## Around the Globe\\\\n\\\\nAround the Globe\\\\n\\\\n### Hurricane Tracker [...] # San Francisco, CA\\\\n\\\\nSan Francisco\\\\n\\\\nCalifornia\\\\n\\\\n## Around the Globe\\\\n\\\\nAround the Globe\\\\n\\\\n### Hurricane Tracker\\\\n\\\\n### Severe Weather\\\\n\\\\n### Radar & Maps\\\\n\\\\n### News & Features\\\\n\\\\n### Astronomy\\\\n\\\\n### Business\\\\n\\\\n### Climate\\\\n\\\\n### Health\\\\n\\\\n### Recreation\\\\n\\\\n### Sports\\\\n\\\\n### Travel\\\\n\\\\n### Warnings\\\\n\\\\n### Data Suite\\\\n\\\\n### Forensics\\\\n\\\\n### Advertising\\\\n\\\\n### Superior Accuracy™\\\\n\\\\n### Video\\\\n\\\\n### Winter Center\\\\n\\\\n# Current Weather\\\\n\\\\n3:29 AM\\\\n\\\\n## Day\\\\n\\\\nMax UV Index9 (Very High)\\\\n\\\\nAccuLumen Brightness Index™8 (Bright)\\\\n\\\\nWindWSW 12 mph [...] ### Severe Weather\\\\n\\\\n### Radar & Maps\\\\n\\\\n### News\\\\n\\\\n### Video\\\\n\\\\n### Winter Center\\\\n\\\\nTop Stories\\\\n\\\\nHurricane\\\\n\\\\nAtlantic hurricane potential, US risk to increase around mid-August\\\\n\\\\n1 hour ago\\\\n\\\\nWeather Forecasts\\\\n\\\\nFall forecast 2025: Warmth to fuel fires, storms before chill hits US\\\\n\\\\n3 days ago\\\\n\\\\nWeather News\\\\n\\\\nCanyon Fire joins California’s escalating wildfire crisis\\\\n\\\\n1 day ago\\\\n\\\\nAstronomy\\\\n\\\\nPerseid meteor shower peaks Tuesday, but the moon may steal the show\\\\n\\\\n1 day ago\\\\n\\\\nWeather News', 'score': 0.5769478}]\", name='tavily_search_results_json', tool_call_id='call_QhprtG8yUFnnjOPY63apqLQY')]\n",
      "[AIMessage(content='', additional_kwargs={'tool_calls': [{'id': 'call_zakHChru6j5ouccxtEEHaYCU', 'function': {'arguments': '{\"query\":\"San Francisco current weather temperature now\"}', 'name': 'tavily_search_results_json'}, 'type': 'function'}], 'refusal': None}, response_metadata={'token_usage': {'completion_tokens': 352, 'prompt_tokens': 1976, 'total_tokens': 2328, 'completion_tokens_details': {'accepted_prediction_tokens': 0, 'audio_tokens': 0, 'reasoning_tokens': 320, 'rejected_prediction_tokens': 0}, 'prompt_tokens_details': {'audio_tokens': 0, 'cached_tokens': 0}}, 'model_name': 'gpt-5-nano-2025-08-07', 'system_fingerprint': None, 'id': 'chatcmpl-C2xauZAKQqkeuxzWFprNQCjQd44j6', 'service_tier': 'default', 'finish_reason': 'tool_calls', 'logprobs': None}, id='run--882f1a35-dcd4-4e78-813d-dea6bc9bbff8-0', tool_calls=[{'name': 'tavily_search_results_json', 'args': {'query': 'San Francisco current weather temperature now'}, 'id': 'call_zakHChru6j5ouccxtEEHaYCU', 'type': 'tool_call'}], usage_metadata={'input_tokens': 1976, 'output_tokens': 352, 'total_tokens': 2328, 'input_token_details': {'audio': 0, 'cache_read': 0}, 'output_token_details': {'audio': 0, 'reasoning': 320}})]\n",
      "Calling: {'name': 'tavily_search_results_json', 'args': {'query': 'San Francisco current weather temperature now'}, 'id': 'call_zakHChru6j5ouccxtEEHaYCU', 'type': 'tool_call'}\n",
      "Back to the model!\n",
      "[ToolMessage(content=\"[{'title': 'San Francisco weather in August 2025 | Weather25.com', 'url': 'https://www.weather25.com/north-america/usa/california/san-francisco?page=month&month=August', 'content': '| May | 20° / 10° | 1 | 30 | 0 | 13 mm | Good | San Francisco in May |\\\\n| June | 23° / 12° | 0 | 30 | 0 | 6 mm | Perfect | San Francisco in June |\\\\n| July | 25° / 14° | 0 | 31 | 0 | 3 mm | Perfect | San Francisco in July |\\\\n| August | 25° / 14° | 0 | 31 | 0 | 3 mm | Perfect | San Francisco in August |\\\\n| September | 25° / 14° | 0 | 30 | 0 | 4 mm | Perfect | San Francisco in September |\\\\n| October | 23° / 13° | 1 | 30 | 0 | 26 mm | Perfect | San Francisco in October | [...] Temperatures\\\\nRainy Days\\\\nSnowy Days\\\\nDry Days\\\\nRainfall\\\\n11.9 [...] | Month | Temperatures | Rainy Days | Dry Days | Snowy Days | Rainfall | Weather | More details |\\\\n| --- | --- | --- | --- | --- | --- | --- | --- |\\\\n| January | 15° / 7° | 4 | 27 | 0 | 63 mm | Good | San Francisco in January |\\\\n| February | 16° / 7° | 4 | 24 | 0 | 61 mm | Good | San Francisco in February |\\\\n| March | 17° / 8° | 5 | 26 | 0 | 62 mm | Good | San Francisco in March |\\\\n| April | 18° / 9° | 2 | 28 | 0 | 22 mm | Good | San Francisco in April |', 'score': 0.71829855}, {'title': 'San Francisco, CA Monthly Weather - AccuWeather', 'url': 'https://www.accuweather.com/en/us/san-francisco/94103/august-weather/347629', 'content': 'Get the monthly weather forecast for San Francisco, CA, including daily high/low, historical averages, to help you plan ahead.', 'score': 0.19627139}]\", name='tavily_search_results_json', tool_call_id='call_zakHChru6j5ouccxtEEHaYCU')]\n",
      "[AIMessage(content='', additional_kwargs={'tool_calls': [{'id': 'call_Ar7r2F961LOJW4giYRJuDuLQ', 'function': {'arguments': '{\"query\":\"San Francisco current temperature today\"}', 'name': 'tavily_search_results_json'}, 'type': 'function'}], 'refusal': None}, response_metadata={'token_usage': {'completion_tokens': 927, 'prompt_tokens': 2548, 'total_tokens': 3475, 'completion_tokens_details': {'accepted_prediction_tokens': 0, 'audio_tokens': 0, 'reasoning_tokens': 896, 'rejected_prediction_tokens': 0}, 'prompt_tokens_details': {'audio_tokens': 0, 'cached_tokens': 1792}}, 'model_name': 'gpt-5-nano-2025-08-07', 'system_fingerprint': None, 'id': 'chatcmpl-C2xazBRYUqyKTQFFZl4LoQZTfO7hd', 'service_tier': 'default', 'finish_reason': 'tool_calls', 'logprobs': None}, id='run--b0c136e9-a147-425c-92bd-873d5c4e45f4-0', tool_calls=[{'name': 'tavily_search_results_json', 'args': {'query': 'San Francisco current temperature today'}, 'id': 'call_Ar7r2F961LOJW4giYRJuDuLQ', 'type': 'tool_call'}], usage_metadata={'input_tokens': 2548, 'output_tokens': 927, 'total_tokens': 3475, 'input_token_details': {'audio': 0, 'cache_read': 1792}, 'output_token_details': {'audio': 0, 'reasoning': 896}})]\n",
      "Calling: {'name': 'tavily_search_results_json', 'args': {'query': 'San Francisco current temperature today'}, 'id': 'call_Ar7r2F961LOJW4giYRJuDuLQ', 'type': 'tool_call'}\n",
      "Back to the model!\n",
      "[ToolMessage(content='[{\\'title\\': \\'Weather Forecast and Conditions for San Francisco, CA\\', \\'url\\': \\'https://weather.com/weather/today/l/USCA0987:1:US\\', \\'content\\': \"Foggy this morning, then partly cloudy this afternoon. High 69F. Winds WSW at 10 to 20 mph.\\\\n\\\\n## Night\\\\n\\\\nPartly to mostly cloudy. Areas of dense fog. Low around 55F. Winds WSW at 10 to 20 mph.\\\\n\\\\n## Mon 11\\\\n\\\\n## Day\\\\n\\\\nSunshine and clouds mixed. Areas of dense fog. High 67F. Winds W at 10 to 20 mph.\\\\n\\\\n## Night\\\\n\\\\nMostly cloudy skies early. Areas of fog developing after midnight. Low near 55F. Winds WSW at 10 to 20 mph.\\\\n\\\\n## Tue 12\\\\n\\\\n## Day [...] Partly cloudy skies. Expect mist and reduced visibilities at times. High 66F. Winds W at 10 to 20 mph.\\\\n\\\\n## Night\\\\n\\\\nOvercast. Expect mist and reduced visibilities at times. Low 58F. Winds W at 10 to 20 mph.\\\\n\\\\n## Wed 13\\\\n\\\\n## Day\\\\n\\\\nCloudy skies early will become partly cloudy later in the day. High 68F. Winds W at 10 to 20 mph.\\\\n\\\\n## Night\\\\n\\\\nMainly cloudy. Low 57F. Winds W at 10 to 20 mph.\\\\n\\\\n## Radar\\\\n\\\\n## Travel\\\\n\\\\n## We Love Our Critters\\\\n\\\\n## Summer And Your Skin\\\\n\\\\n## Home, Garage & Garden [...] ## Recent Locations\\\\n\\\\nMenu\\\\n\\\\n## Weather Forecasts\\\\n\\\\n## Radar & Maps\\\\n\\\\n## News & Media\\\\n\\\\n## Products & Account\\\\n\\\\n## Lifestyle\\\\n\\\\n### Specialty Forecasts\\\\n\\\\n# San Francisco, CA\\\\n\\\\n## Small Craft Advisory\\\\n\\\\n## Weather Today in San Francisco, CA\\\\n\\\\n6:21 am\\\\n\\\\n8:08 pm\\\\n\\\\n# Hourly Weather-San Francisco, CA\\\\n\\\\n## Now\\\\n\\\\nFoggy\\\\n\\\\n## 5 am\\\\n\\\\nFoggy\\\\n\\\\n## 6 am\\\\n\\\\nFoggy\\\\n\\\\n## 7 am\\\\n\\\\nFoggy\\\\n\\\\nChart small gif\\\\n\\\\n## Don\\'t Miss\\\\n\\\\n## Seasonal Hub\\\\n\\\\n# 10 Day Weather-San Francisco, CA\\\\n\\\\n## Today\\\\n\\\\n## Day\", \\'score\\': 0.6334335}, {\\'title\\': \\'San Francisco weather in August 2025\\', \\'url\\': \\'https://www.weather25.com/north-america/usa/california/san-francisco?page=month&month=August\\', \\'content\\': \\'| Month | Temperatures | Rainy Days | Dry Days | Snowy Days | Rainfall | Weather | More details |\\\\n| --- | --- | --- | --- | --- | --- | --- | --- |\\\\n| January | 15° / 7° | 4 | 27 | 0 | 63 mm | Good | San Francisco in January |\\\\n| February | 16° / 7° | 4 | 24 | 0 | 61 mm | Good | San Francisco in February |\\\\n| March | 17° / 8° | 5 | 26 | 0 | 62 mm | Good | San Francisco in March |\\\\n| April | 18° / 9° | 2 | 28 | 0 | 22 mm | Good | San Francisco in April | [...] weather25.com\\\\nSearch\\\\nweather in United States\\\\nRemove from your favorite locations\\\\nAdd to my locations\\\\nShare\\\\nweather in United States\\\\n\\\\n# San Francisco weather in August 2025\\\\n\\\\nMist\\\\nMist\\\\nFog\\\\nCloudy\\\\nPatchy rain possible\\\\nPatchy rain possible\\\\nPartly cloudy\\\\nClear\\\\nClear\\\\nClear\\\\nClear\\\\nPatchy rain possible\\\\nPatchy rain possible\\\\nPatchy rain possible\\\\n\\\\n## The average weather in San Francisco in August\\\\n\\\\nThe temperatures in San Francisco in August are comfortable with low of 14°C and and high up to 25°C. [...] | May | 20° / 10° | 1 | 30 | 0 | 13 mm | Good | San Francisco in May |\\\\n| June | 23° / 12° | 0 | 30 | 0 | 6 mm | Perfect | San Francisco in June |\\\\n| July | 25° / 14° | 0 | 31 | 0 | 3 mm | Perfect | San Francisco in July |\\\\n| August | 25° / 14° | 0 | 31 | 0 | 3 mm | Perfect | San Francisco in August |\\\\n| September | 25° / 14° | 0 | 30 | 0 | 4 mm | Perfect | San Francisco in September |\\\\n| October | 23° / 13° | 1 | 30 | 0 | 26 mm | Perfect | San Francisco in October |\\', \\'score\\': 0.5407062}]', name='tavily_search_results_json', tool_call_id='call_Ar7r2F961LOJW4giYRJuDuLQ')]\n",
      "[AIMessage(content='', additional_kwargs={'tool_calls': [{'id': 'call_mS1KwZTfKy3gTKrsX2FQR1j8', 'function': {'arguments': '{\"query\":\"San Francisco current temperature now live\"}', 'name': 'tavily_search_results_json'}, 'type': 'function'}], 'refusal': None}, response_metadata={'token_usage': {'completion_tokens': 608, 'prompt_tokens': 3648, 'total_tokens': 4256, 'completion_tokens_details': {'accepted_prediction_tokens': 0, 'audio_tokens': 0, 'reasoning_tokens': 576, 'rejected_prediction_tokens': 0}, 'prompt_tokens_details': {'audio_tokens': 0, 'cached_tokens': 0}}, 'model_name': 'gpt-5-nano-2025-08-07', 'system_fingerprint': None, 'id': 'chatcmpl-C2xb7zubTzHilu9blQKu3tnXDfLIv', 'service_tier': 'default', 'finish_reason': 'tool_calls', 'logprobs': None}, id='run--0182ec5e-1c21-4707-8ec6-0fef13f220f9-0', tool_calls=[{'name': 'tavily_search_results_json', 'args': {'query': 'San Francisco current temperature now live'}, 'id': 'call_mS1KwZTfKy3gTKrsX2FQR1j8', 'type': 'tool_call'}], usage_metadata={'input_tokens': 3648, 'output_tokens': 608, 'total_tokens': 4256, 'input_token_details': {'audio': 0, 'cache_read': 0}, 'output_token_details': {'audio': 0, 'reasoning': 576}})]\n",
      "Calling: {'name': 'tavily_search_results_json', 'args': {'query': 'San Francisco current temperature now live'}, 'id': 'call_mS1KwZTfKy3gTKrsX2FQR1j8', 'type': 'tool_call'}\n",
      "Back to the model!\n",
      "[ToolMessage(content=\"[{'title': 'San Francisco weather in August 2025', 'url': 'https://www.weather25.com/north-america/usa/california/san-francisco?page=month&month=August', 'content': '| Month | Temperatures | Rainy Days | Dry Days | Snowy Days | Rainfall | Weather | More details |\\\\n| --- | --- | --- | --- | --- | --- | --- | --- |\\\\n| January | 15° / 7° | 4 | 27 | 0 | 63 mm | Good | San Francisco in January |\\\\n| February | 16° / 7° | 4 | 24 | 0 | 61 mm | Good | San Francisco in February |\\\\n| March | 17° / 8° | 5 | 26 | 0 | 62 mm | Good | San Francisco in March |\\\\n| April | 18° / 9° | 2 | 28 | 0 | 22 mm | Good | San Francisco in April | [...] | May | 20° / 10° | 1 | 30 | 0 | 13 mm | Good | San Francisco in May |\\\\n| June | 23° / 12° | 0 | 30 | 0 | 6 mm | Perfect | San Francisco in June |\\\\n| July | 25° / 14° | 0 | 31 | 0 | 3 mm | Perfect | San Francisco in July |\\\\n| August | 25° / 14° | 0 | 31 | 0 | 3 mm | Perfect | San Francisco in August |\\\\n| September | 25° / 14° | 0 | 30 | 0 | 4 mm | Perfect | San Francisco in September |\\\\n| October | 23° / 13° | 1 | 30 | 0 | 26 mm | Perfect | San Francisco in October | [...] | November | 18° / 10° | 3 | 27 | 0 | 37 mm | Good | San Francisco in November |\\\\n| December | 14° / 8° | 4 | 27 | 0 | 55 mm | Good | San Francisco in December |', 'score': 0.44622982}, {'title': 'Current Weather - San Francisco, CA - AccuWeather', 'url': 'https://www.accuweather.com/en/us/san-francisco/94103/current-weather/347629', 'content': '# San Francisco, CA\\\\n\\\\nSan Francisco\\\\n\\\\nCalifornia\\\\n\\\\n## Around the Globe\\\\n\\\\nAround the Globe\\\\n\\\\n### Hurricane Tracker\\\\n\\\\n### Severe Weather\\\\n\\\\n### Radar & Maps\\\\n\\\\n### News & Features\\\\n\\\\n### Astronomy\\\\n\\\\n### Business\\\\n\\\\n### Climate\\\\n\\\\n### Health\\\\n\\\\n### Recreation\\\\n\\\\n### Sports\\\\n\\\\n### Travel\\\\n\\\\n### Warnings\\\\n\\\\n### Data Suite\\\\n\\\\n### Forensics\\\\n\\\\n### Advertising\\\\n\\\\n### Superior Accuracy™\\\\n\\\\n### Video\\\\n\\\\n### Winter Center\\\\n\\\\n# Current Weather\\\\n\\\\n3:29 AM\\\\n\\\\n## Day\\\\n\\\\nMax UV Index9 (Very High)\\\\n\\\\nAccuLumen Brightness Index™8 (Bright)\\\\n\\\\nWindWSW 12 mph [...] Wind Gusts25 mph\\\\n\\\\nProbability of Precipitation0%\\\\n\\\\nProbability of Thunderstorms0%\\\\n\\\\nPrecipitation0.00 in\\\\n\\\\nCloud Cover35%\\\\n\\\\n### Morning\\\\n\\\\n### Afternoon\\\\n\\\\n## Night\\\\n\\\\nWindWSW 10 mph\\\\n\\\\nWind Gusts21 mph\\\\n\\\\nProbability of Precipitation0%\\\\n\\\\nProbability of Thunderstorms0%\\\\n\\\\nPrecipitation0.00 in\\\\n\\\\nCloud Cover96%\\\\n\\\\n### Evening\\\\n\\\\n### Overnight\\\\n\\\\n## Sun & Moon\\\\n\\\\n## Temperature History\\\\n\\\\n## Further Ahead\\\\n\\\\nFurther Ahead\\\\n\\\\n### Hourly\\\\n\\\\n### Daily\\\\n\\\\n### Monthly\\\\n\\\\n## Around the Globe\\\\n\\\\nAround the Globe\\\\n\\\\n### Hurricane Tracker [...] ### Severe Weather\\\\n\\\\n### Radar & Maps\\\\n\\\\n### News\\\\n\\\\n### Video\\\\n\\\\n### Winter Center\\\\n\\\\nTop Stories\\\\n\\\\nHurricane\\\\n\\\\nAtlantic hurricane potential, US risk to increase around mid-August\\\\n\\\\n1 hour ago\\\\n\\\\nWeather Forecasts\\\\n\\\\nFall forecast 2025: Warmth to fuel fires, storms before chill hits US\\\\n\\\\n3 days ago\\\\n\\\\nWeather News\\\\n\\\\nCanyon Fire joins California’s escalating wildfire crisis\\\\n\\\\n1 day ago\\\\n\\\\nAstronomy\\\\n\\\\nPerseid meteor shower peaks Tuesday, but the moon may steal the show\\\\n\\\\n1 day ago\\\\n\\\\nWeather News', 'score': 0.27403846}]\", name='tavily_search_results_json', tool_call_id='call_mS1KwZTfKy3gTKrsX2FQR1j8')]\n",
      "[AIMessage(content='', additional_kwargs={'tool_calls': [{'id': 'call_9PMEKkMTMiX01XmxwqbGhZkN', 'function': {'arguments': '{\"query\":\"National Weather Service San Francisco current weather temperature\"}', 'name': 'tavily_search_results_json'}, 'type': 'function'}], 'refusal': None}, response_metadata={'token_usage': {'completion_tokens': 930, 'prompt_tokens': 4669, 'total_tokens': 5599, 'completion_tokens_details': {'accepted_prediction_tokens': 0, 'audio_tokens': 0, 'reasoning_tokens': 896, 'rejected_prediction_tokens': 0}, 'prompt_tokens_details': {'audio_tokens': 0, 'cached_tokens': 0}}, 'model_name': 'gpt-5-nano-2025-08-07', 'system_fingerprint': None, 'id': 'chatcmpl-C2xbDgtWNjzgMpiKjkxudkR24ng3b', 'service_tier': 'default', 'finish_reason': 'tool_calls', 'logprobs': None}, id='run--55560d69-787b-46d6-b738-0eb4fa3b5c28-0', tool_calls=[{'name': 'tavily_search_results_json', 'args': {'query': 'National Weather Service San Francisco current weather temperature'}, 'id': 'call_9PMEKkMTMiX01XmxwqbGhZkN', 'type': 'tool_call'}], usage_metadata={'input_tokens': 4669, 'output_tokens': 930, 'total_tokens': 5599, 'input_token_details': {'audio': 0, 'cache_read': 0}, 'output_token_details': {'audio': 0, 'reasoning': 896}})]\n",
      "Calling: {'name': 'tavily_search_results_json', 'args': {'query': 'National Weather Service San Francisco current weather temperature'}, 'id': 'call_9PMEKkMTMiX01XmxwqbGhZkN', 'type': 'tool_call'}\n",
      "Back to the model!\n",
      "[ToolMessage(content=\"[{'title': '7-Day Forecast 37.77N 122.41W - National Weather Service', 'url': 'https://forecast.weather.gov/MapClick.php?lat=37.7771&lon=-122.4196', 'content': '## SAN FRANCISCO DOWNTOWN (SFOC1)\\\\n\\\\nNA\\\\n\\\\n57°F\\\\n\\\\n14°C\\\\n\\\\n|  |  |\\\\n| --- | --- |\\\\n| Humidity | NA |\\\\n| Wind Speed | NA NA MPH |\\\\n| Barometer | NA |\\\\n| Dewpoint | N/A |\\\\n| Visibility | NA |\\\\n| Last update | NA |\\\\n\\\\nMore Information:\\\\n\\\\nLocal Forecast OfficeMore Local Wx3 Day HistoryHourly Weather Forecast\\\\n\\\\n## San Francisco CA\\\\n\\\\nOvernight\\\\n\\\\nOvernight: Areas of dense fog.  Otherwise, mostly cloudy, with a low around 57. West southwest wind around 11 mph. [...] Heavy to excessive rainfall is expected over the weekend across eastern Iowa, northern Missouri, northwest Illinois and southern Wisconsin. Numerous flash floods, some with significant impacts, are expected in these areas. Heaviest rainfall will occur overnight Saturday and Sunday, so be sure to have multiple ways to receive warnings.\\\\nRead More >\\\\n\\\\nCurrent conditions at\\\\n\\\\n## SAN FRANCISCO DOWNTOWN (SFOC1)\\\\n\\\\nLat:37.77056°NLon:122.42694°WElev:150.0ft.\\\\n\\\\nNA\\\\n\\\\n57°F\\\\n\\\\n14°C [...] |  |  |\\\\n| --- | --- |\\\\n| Humidity | NA |\\\\n| Wind Speed | NA NA MPH |\\\\n| Barometer | NA |\\\\n| Dewpoint | N/A |\\\\n| Visibility | NA |\\\\n| Last update | NA |\\\\n\\\\nMore Information:\\\\n\\\\nLocal Forecast OfficeMore Local Wx3 Day HistoryHourly Weather Forecast\\\\n\\\\nExtended Forecast for\\\\n\\\\n## San Francisco CA\\\\n\\\\n Overnight\\\\n\\\\n  Overnight: Areas of dense fog.  Otherwise, mostly cloudy, with a low around 57. West southwest wind around 11 mph. \\\\n\\\\n  Low: 57 °F\\\\n\\\\n  Areas Dense  \\\\n  Fog\\\\n Sunday', 'score': 0.7208996}, {'title': 'San Francisco weather in August 2025 | Weather25.com', 'url': 'https://www.weather25.com/north-america/usa/california/san-francisco?page=month&month=August', 'content': 'Temperatures\\\\nRainy Days\\\\nSnowy Days\\\\nDry Days\\\\nRainfall\\\\n11.9 [...] | May | 20° / 10° | 1 | 30 | 0 | 13 mm | Good | San Francisco in May |\\\\n| June | 23° / 12° | 0 | 30 | 0 | 6 mm | Perfect | San Francisco in June |\\\\n| July | 25° / 14° | 0 | 31 | 0 | 3 mm | Perfect | San Francisco in July |\\\\n| August | 25° / 14° | 0 | 31 | 0 | 3 mm | Perfect | San Francisco in August |\\\\n| September | 25° / 14° | 0 | 30 | 0 | 4 mm | Perfect | San Francisco in September |\\\\n| October | 23° / 13° | 1 | 30 | 0 | 26 mm | Perfect | San Francisco in October | [...] | Month | Temperatures | Rainy Days | Dry Days | Snowy Days | Rainfall | Weather | More details |\\\\n| --- | --- | --- | --- | --- | --- | --- | --- |\\\\n| January | 15° / 7° | 4 | 27 | 0 | 63 mm | Good | San Francisco in January |\\\\n| February | 16° / 7° | 4 | 24 | 0 | 61 mm | Good | San Francisco in February |\\\\n| March | 17° / 8° | 5 | 26 | 0 | 62 mm | Good | San Francisco in March |\\\\n| April | 18° / 9° | 2 | 28 | 0 | 22 mm | Good | San Francisco in April |', 'score': 0.6538572}]\", name='tavily_search_results_json', tool_call_id='call_9PMEKkMTMiX01XmxwqbGhZkN')]\n",
      "[AIMessage(content='Here’s a quick live snapshot for San Francisco, CA (Pacific Time):\\n\\n- Current temperature: about 57°F (14°C) in downtown SF (National Weather Service).\\n- Conditions: Foggy/dense fog overnight, now mostly cloudy with lingering fog in places.\\n- Wind: ~11–12 mph from the WSW.\\n- Precipitation: little to no rain right now; no precipitation expected in the immediate hour (AccuWeather data).\\n\\nToday’s feel: Usually a bit cooler and breezy with fog in the morning, then becoming partly sunny or mostly cloudy with a high in the mid-to-upper 60s °F (around 65–69°F).\\n\\nNote: SF weather can vary a lot by neighborhood (Embarcadero, Mission, Marina, Bayview, etc.). If you want, tell me which part of the city you’re in and I’ll pull a more precise update for that spot and a short hour-by-hour forecast.', additional_kwargs={'refusal': None}, response_metadata={'token_usage': {'completion_tokens': 1612, 'prompt_tokens': 5630, 'total_tokens': 7242, 'completion_tokens_details': {'accepted_prediction_tokens': 0, 'audio_tokens': 0, 'reasoning_tokens': 1408, 'rejected_prediction_tokens': 0}, 'prompt_tokens_details': {'audio_tokens': 0, 'cached_tokens': 3456}}, 'model_name': 'gpt-5-nano-2025-08-07', 'system_fingerprint': None, 'id': 'chatcmpl-C2xbOAZBWLq81O2qC4MuaHEsNLUxp', 'service_tier': 'default', 'finish_reason': 'stop', 'logprobs': None}, id='run--9776755e-2d38-42ac-974a-f40d78afd3af-0', usage_metadata={'input_tokens': 5630, 'output_tokens': 1612, 'total_tokens': 7242, 'input_token_details': {'audio': 0, 'cache_read': 3456}, 'output_token_details': {'audio': 0, 'reasoning': 1408}})]\n"
     ]
    }
   ],
   "source": [
    "for event in abot.graph.stream({\"messages\": messages}, config=thread):\n",
    "    for v in event.values():\n",
    "        print(v['messages'])"
   ]
  },
  {
   "cell_type": "code",
   "execution_count": 52,
   "id": "d17eb459",
   "metadata": {},
   "outputs": [
    {
     "name": "stdout",
     "output_type": "stream",
     "text": [
      "{'messages': [AIMessage(content='', additional_kwargs={'tool_calls': [{'id': 'call_hqgFmIbR3tWzoK3CepQZycNG', 'function': {'arguments': '{\"query\": \"London current weather\"}', 'name': 'tavily_search_results_json'}, 'type': 'function'}, {'id': 'call_ih9agr1YXlb0e1oHR69bQURs', 'function': {'arguments': '{\"query\": \"London weather now\"}', 'name': 'tavily_search_results_json'}, 'type': 'function'}, {'id': 'call_jBKDmRB29fWBBgr7ecWf8TlP', 'function': {'arguments': '{\"query\": \"London UK weather current conditions\"}', 'name': 'tavily_search_results_json'}, 'type': 'function'}], 'refusal': None}, response_metadata={'token_usage': {'completion_tokens': 343, 'prompt_tokens': 5840, 'total_tokens': 6183, 'completion_tokens_details': {'accepted_prediction_tokens': 0, 'audio_tokens': 0, 'reasoning_tokens': 256, 'rejected_prediction_tokens': 0}, 'prompt_tokens_details': {'audio_tokens': 0, 'cached_tokens': 0}}, 'model_name': 'gpt-5-nano-2025-08-07', 'system_fingerprint': None, 'id': 'chatcmpl-C2xfZAMnP04V5JaaBGQlTuYkh3FgE', 'service_tier': 'default', 'finish_reason': 'tool_calls', 'logprobs': None}, id='run--1ae3bc8e-f015-4cc8-be6f-51a930bb585b-0', tool_calls=[{'name': 'tavily_search_results_json', 'args': {'query': 'London current weather'}, 'id': 'call_hqgFmIbR3tWzoK3CepQZycNG', 'type': 'tool_call'}, {'name': 'tavily_search_results_json', 'args': {'query': 'London weather now'}, 'id': 'call_ih9agr1YXlb0e1oHR69bQURs', 'type': 'tool_call'}, {'name': 'tavily_search_results_json', 'args': {'query': 'London UK weather current conditions'}, 'id': 'call_jBKDmRB29fWBBgr7ecWf8TlP', 'type': 'tool_call'}], usage_metadata={'input_tokens': 5840, 'output_tokens': 343, 'total_tokens': 6183, 'input_token_details': {'audio': 0, 'cache_read': 0}, 'output_token_details': {'audio': 0, 'reasoning': 256}})]}\n",
      "Calling: {'name': 'tavily_search_results_json', 'args': {'query': 'London current weather'}, 'id': 'call_hqgFmIbR3tWzoK3CepQZycNG', 'type': 'tool_call'}\n",
      "Calling: {'name': 'tavily_search_results_json', 'args': {'query': 'London weather now'}, 'id': 'call_ih9agr1YXlb0e1oHR69bQURs', 'type': 'tool_call'}\n",
      "Calling: {'name': 'tavily_search_results_json', 'args': {'query': 'London UK weather current conditions'}, 'id': 'call_jBKDmRB29fWBBgr7ecWf8TlP', 'type': 'tool_call'}\n",
      "Back to the model!\n",
      "{'messages': [ToolMessage(content=\"[{'title': 'London weather in August 2025', 'url': 'https://www.weather25.com/europe/united-kingdom/london?page=month&month=August', 'content': '| 10 Sunny 27° /16° | 11 Sunny 30° /18° | 12 Sunny 33° /20° | 13 Sunny 29° /19° | 14 Sunny 29° /17° | 15 Partly cloudy 28° /20° | 16 Light rain shower 26° /19° |\\\\n| 17 Partly cloudy 24° /15° | 18 Overcast 25° /18° | 19 Patchy rain possible 27° /20° | 20 Partly cloudy 25° /18° | 21 Patchy rain possible 24° /16° | 22 Patchy rain possible 26° /17° | 23 Patchy rain possible 23° /15° | [...] | June | 19° / 11° | 5 | 25 | 0 | 77 mm | Good | London in June |\\\\n| July | 22° / 14° | 5 | 26 | 0 | 70 mm | Good | London in July |\\\\n| August | 21° / 14° | 4 | 27 | 0 | 77 mm | Good | London in August |\\\\n| September | 19° / 12° | 4 | 26 | 0 | 51 mm | Good | London in September |\\\\n| October | 15° / 10° | 7 | 24 | 0 | 90 mm | Ok | London in October |\\\\n| November | 11° / 6° | 7 | 22 | 1 | 82 mm | Bad | London in November |\\\\n| December | 8° / 4° | 8 | 21 | 3 | 90 mm | Awful | London in December | [...] | Month | Temperatures | Rainy Days | Dry Days | Snowy Days | Rainfall | Weather | More details |\\\\n| --- | --- | --- | --- | --- | --- | --- | --- |\\\\n| January | 7° / 3° | 8 | 19 | 4 | 81 mm | Awful | London in January |\\\\n| February | 8° / 3° | 8 | 16 | 4 | 75 mm | Awful | London in February |\\\\n| March | 10° / 4° | 5 | 24 | 2 | 56 mm | Bad | London in March |\\\\n| April | 14° / 6° | 4 | 26 | 1 | 44 mm | Good | London in April |\\\\n| May | 16° / 8° | 6 | 26 | 0 | 66 mm | Good | London in May |', 'score': 0.68874115}, {'title': 'London, London, United Kingdom Monthly Weather', 'url': 'https://www.accuweather.com/en/gb/london/ec4a-2/august-weather/328328', 'content': '# London, London\\\\n\\\\nLondon\\\\n\\\\nLondon\\\\n\\\\n## Around the Globe\\\\n\\\\nAround the Globe\\\\n\\\\n### Hurricane Tracker\\\\n\\\\n### Severe Weather\\\\n\\\\n### Radar & Maps\\\\n\\\\n### News & Features\\\\n\\\\n### Astronomy\\\\n\\\\n### Business\\\\n\\\\n### Climate\\\\n\\\\n### Health\\\\n\\\\n### Recreation\\\\n\\\\n### Sports\\\\n\\\\n### Travel\\\\n\\\\n### Warnings\\\\n\\\\n### Data Suite\\\\n\\\\n### Forensics\\\\n\\\\n### Advertising\\\\n\\\\n### Superior Accuracy™\\\\n\\\\n### Video\\\\n\\\\n## Monthly\\\\n\\\\n## August\\\\n\\\\n## 2025\\\\n\\\\n## Daily\\\\n\\\\n## Temperature Graph\\\\n\\\\n## Further Ahead\\\\n\\\\nFurther Ahead\\\\n\\\\n### September 2025\\\\n\\\\n### October 2025\\\\n\\\\n### November 2025 [...] ## Around the Globe\\\\n\\\\nAround the Globe\\\\n\\\\n### Hurricane Tracker\\\\n\\\\n### Severe Weather\\\\n\\\\n### Radar & Maps\\\\n\\\\n### News\\\\n\\\\n### Video\\\\n\\\\nTop Stories\\\\n\\\\nHurricane\\\\n\\\\nAtlantic hurricane potential, US risk to increase around mid-August\\\\n\\\\n1 hour ago\\\\n\\\\nWeather Forecasts\\\\n\\\\nFall forecast 2025: Warmth to fuel fires, storms before chill hits US\\\\n\\\\n3 days ago\\\\n\\\\nWeather News\\\\n\\\\nCanyon Fire joins California’s escalating wildfire crisis\\\\n\\\\n1 day ago\\\\n\\\\nAstronomy\\\\n\\\\nPerseid meteor shower peaks Tuesday, but the moon may steal the show [...] Weather News\\\\n\\\\nFlorida firefighters rescue kitten stuck in engine compartment\\\\n\\\\n3 days ago\\\\n\\\\n## Weather Near London:', 'score': 0.55912215}]\", name='tavily_search_results_json', tool_call_id='call_hqgFmIbR3tWzoK3CepQZycNG'), ToolMessage(content=\"[{'title': 'Hourly Weather-London, England, United Kingdom', 'url': 'https://weather.com/weather/today/l/ae8230efd4bc57fdf721a02c7eb2b88c56aa6e71d73666328e33af3ea2039032132e24ae91b6a07862c5091a9d95a4b8', 'content': 'Overcast. Low 61F. Winds WSW at 5 to 10 mph. Humidity72%. UV Index0 of 11. Moonrise4:51 pm. Moonset11:54', 'score': 0.98541}, {'title': 'London, London, United Kingdom Monthly Weather', 'url': 'https://www.accuweather.com/en/gb/london/ec4a-2/august-weather/328328', 'content': 'Get the monthly weather forecast for London, London, United Kingdom, including daily high/low, historical averages, to help you plan ahead.', 'score': 0.98507}]\", name='tavily_search_results_json', tool_call_id='call_ih9agr1YXlb0e1oHR69bQURs'), ToolMessage(content='[{\\'title\\': \\'Hourly Weather-London, England, United Kingdom\\', \\'url\\': \\'https://weather.com/weather/today/l/ae8230efd4bc57fdf721a02c7eb2b88c56aa6e71d73666328e33af3ea2039032132e24ae91b6a07862c5091a9d95a4b8\\', \\'content\\': \"© The Weather Company, LLC 2025 [...] A mix of clouds and sun in the morning followed by cloudy skies during the afternoon. Very warm. High around 85F. Winds SSW at 5 to 10 mph.\\\\n\\\\n## Night\\\\n\\\\nScattered thunderstorms. Low near 65F. Winds SSW at 5 to 10 mph. Chance of rain 40%.\\\\n\\\\n## Radar\\\\n\\\\n## Travel\\\\n\\\\n## We Love Our Critters\\\\n\\\\n## Summer And Your Skin\\\\n\\\\n## Home, Garage & Garden\\\\n\\\\n## Mysterious Interstellar Visitor\\\\n\\\\n## Keeping You Healthy\\\\n\\\\n## Product Reviews & Deals\\\\n\\\\nundefined\\\\n\\\\n10 Ice Cold Water Bottles On Sale For Back-to-School Season [...] ## Recent Locations\\\\n\\\\nMenu\\\\n\\\\n## Weather Forecasts\\\\n\\\\n## Radar & Maps\\\\n\\\\n## News & Media\\\\n\\\\n## Products & Account\\\\n\\\\n## Lifestyle\\\\n\\\\n### Specialty Forecasts\\\\n\\\\n# London, England, United Kingdom\\\\n\\\\n## Weather Today in London, England, United Kingdom\\\\n\\\\n5:38 am\\\\n\\\\n8:32 pm\\\\n\\\\n# Hourly Weather-London, England, United Kingdom\\\\n\\\\n## Now\\\\n\\\\nSunny\\\\n\\\\n## 1 pm\\\\n\\\\nSunny\\\\n\\\\n## 2 pm\\\\n\\\\nSunny\\\\n\\\\n## 3 pm\\\\n\\\\nSunny\\\\n\\\\nChart small gif\\\\n\\\\n## Don\\'t Miss\\\\n\\\\n## Seasonal Hub\\\\n\\\\n# 10 Day Weather-London, England, United Kingdom\\\\n\\\\n## Today\\\\n\\\\n## Day\", \\'score\\': 0.588062}, {\\'title\\': \\'London, London, United Kingdom Monthly Weather\\', \\'url\\': \\'https://www.accuweather.com/en/gb/london/ec4a-2/august-weather/328328\\', \\'content\\': \\'# London, London\\\\n\\\\nLondon\\\\n\\\\nLondon\\\\n\\\\n## Around the Globe\\\\n\\\\nAround the Globe\\\\n\\\\n### Hurricane Tracker\\\\n\\\\n### Severe Weather\\\\n\\\\n### Radar & Maps\\\\n\\\\n### News & Features\\\\n\\\\n### Astronomy\\\\n\\\\n### Business\\\\n\\\\n### Climate\\\\n\\\\n### Health\\\\n\\\\n### Recreation\\\\n\\\\n### Sports\\\\n\\\\n### Travel\\\\n\\\\n### Warnings\\\\n\\\\n### Data Suite\\\\n\\\\n### Forensics\\\\n\\\\n### Advertising\\\\n\\\\n### Superior Accuracy™\\\\n\\\\n### Video\\\\n\\\\n## Monthly\\\\n\\\\n## August\\\\n\\\\n## 2025\\\\n\\\\n## Daily\\\\n\\\\n## Temperature Graph\\\\n\\\\n## Further Ahead\\\\n\\\\nFurther Ahead\\\\n\\\\n### September 2025\\\\n\\\\n### October 2025\\\\n\\\\n### November 2025 [...] ## Around the Globe\\\\n\\\\nAround the Globe\\\\n\\\\n### Hurricane Tracker\\\\n\\\\n### Severe Weather\\\\n\\\\n### Radar & Maps\\\\n\\\\n### News\\\\n\\\\n### Video\\\\n\\\\nTop Stories\\\\n\\\\nHurricane\\\\n\\\\nAtlantic hurricane potential, US risk to increase around mid-August\\\\n\\\\n1 hour ago\\\\n\\\\nWeather Forecasts\\\\n\\\\nFall forecast 2025: Warmth to fuel fires, storms before chill hits US\\\\n\\\\n3 days ago\\\\n\\\\nWeather News\\\\n\\\\nCanyon Fire joins California’s escalating wildfire crisis\\\\n\\\\n1 day ago\\\\n\\\\nAstronomy\\\\n\\\\nPerseid meteor shower peaks Tuesday, but the moon may steal the show [...] Weather News\\\\n\\\\nFlorida firefighters rescue kitten stuck in engine compartment\\\\n\\\\n3 days ago\\\\n\\\\n## Weather Near London:\\\\n\\\\n...\\\\n\\\\n...\\\\n\\\\n...\\', \\'score\\': 0.5533369}]', name='tavily_search_results_json', tool_call_id='call_jBKDmRB29fWBBgr7ecWf8TlP')]}\n",
      "{'messages': [AIMessage(content='', additional_kwargs={'tool_calls': [{'id': 'call_S2i2EIxglCpSmN9hkhj2RaAN', 'function': {'arguments': '{\"query\":\"Current weather London England now\"}', 'name': 'tavily_search_results_json'}, 'type': 'function'}], 'refusal': None}, response_metadata={'token_usage': {'completion_tokens': 25, 'prompt_tokens': 8417, 'total_tokens': 8442, 'completion_tokens_details': {'accepted_prediction_tokens': 0, 'audio_tokens': 0, 'reasoning_tokens': 0, 'rejected_prediction_tokens': 0}, 'prompt_tokens_details': {'audio_tokens': 0, 'cached_tokens': 0}}, 'model_name': 'gpt-5-nano-2025-08-07', 'system_fingerprint': None, 'id': 'chatcmpl-C2xfoVqjuj6KqfU2UjRPAYLaqqaeI', 'service_tier': 'default', 'finish_reason': 'tool_calls', 'logprobs': None}, id='run--96c990ad-5a68-47ba-a4a9-09de910c3b7a-0', tool_calls=[{'name': 'tavily_search_results_json', 'args': {'query': 'Current weather London England now'}, 'id': 'call_S2i2EIxglCpSmN9hkhj2RaAN', 'type': 'tool_call'}], usage_metadata={'input_tokens': 8417, 'output_tokens': 25, 'total_tokens': 8442, 'input_token_details': {'audio': 0, 'cache_read': 0}, 'output_token_details': {'audio': 0, 'reasoning': 0}})]}\n",
      "Calling: {'name': 'tavily_search_results_json', 'args': {'query': 'Current weather London England now'}, 'id': 'call_S2i2EIxglCpSmN9hkhj2RaAN', 'type': 'tool_call'}\n",
      "Back to the model!\n",
      "{'messages': [ToolMessage(content=\"[{'title': 'London weather in August 2025 - Weather25.com', 'url': 'https://www.weather25.com/europe/united-kingdom/london?page=month&month=August', 'content': '| 10 Sunny 27° /16° | 11 Sunny 30° /18° | 12 Sunny 33° /20° | 13 Sunny 29° /19° | 14 Sunny 29° /17° | 15 Partly cloudy 28° /20° | 16 Light rain shower 26° /19° |\\\\n| 17 Partly cloudy 24° /15° | 18 Overcast 25° /18° | 19 Patchy rain possible 27° /20° | 20 Partly cloudy 25° /18° | 21 Patchy rain possible 24° /16° | 22 Patchy rain possible 26° /17° | 23 Patchy rain possible 23° /15° | [...] | June | 19° / 11° | 5 | 25 | 0 | 77 mm | Good | London in June |\\\\n| July | 22° / 14° | 5 | 26 | 0 | 70 mm | Good | London in July |\\\\n| August | 21° / 14° | 4 | 27 | 0 | 77 mm | Good | London in August |\\\\n| September | 19° / 12° | 4 | 26 | 0 | 51 mm | Good | London in September |\\\\n| October | 15° / 10° | 7 | 24 | 0 | 90 mm | Ok | London in October |\\\\n| November | 11° / 6° | 7 | 22 | 1 | 82 mm | Bad | London in November |\\\\n| December | 8° / 4° | 8 | 21 | 3 | 90 mm | Awful | London in December | [...] | Month | Temperatures | Rainy Days | Dry Days | Snowy Days | Rainfall | Weather | More details |\\\\n| --- | --- | --- | --- | --- | --- | --- | --- |\\\\n| January | 7° / 3° | 8 | 19 | 4 | 81 mm | Awful | London in January |\\\\n| February | 8° / 3° | 8 | 16 | 4 | 75 mm | Awful | London in February |\\\\n| March | 10° / 4° | 5 | 24 | 2 | 56 mm | Bad | London in March |\\\\n| April | 14° / 6° | 4 | 26 | 1 | 44 mm | Good | London in April |\\\\n| May | 16° / 8° | 6 | 26 | 0 | 66 mm | Good | London in May |', 'score': 0.6664756}, {'title': 'London, London, United Kingdom Monthly Weather - AccuWeather', 'url': 'https://www.accuweather.com/en/gb/london/ec4a-2/august-weather/328328', 'content': '# London, London\\\\n\\\\nLondon\\\\n\\\\nLondon\\\\n\\\\n## Around the Globe\\\\n\\\\nAround the Globe\\\\n\\\\n### Hurricane Tracker\\\\n\\\\n### Severe Weather\\\\n\\\\n### Radar & Maps\\\\n\\\\n### News & Features\\\\n\\\\n### Astronomy\\\\n\\\\n### Business\\\\n\\\\n### Climate\\\\n\\\\n### Health\\\\n\\\\n### Recreation\\\\n\\\\n### Sports\\\\n\\\\n### Travel\\\\n\\\\n### Warnings\\\\n\\\\n### Data Suite\\\\n\\\\n### Forensics\\\\n\\\\n### Advertising\\\\n\\\\n### Superior Accuracy™\\\\n\\\\n### Video\\\\n\\\\n## Monthly\\\\n\\\\n## August\\\\n\\\\n## 2025\\\\n\\\\n## Daily\\\\n\\\\n## Temperature Graph\\\\n\\\\n## Further Ahead\\\\n\\\\nFurther Ahead\\\\n\\\\n### September 2025\\\\n\\\\n### October 2025\\\\n\\\\n### November 2025 [...] ## Around the Globe\\\\n\\\\nAround the Globe\\\\n\\\\n### Hurricane Tracker\\\\n\\\\n### Severe Weather\\\\n\\\\n### Radar & Maps\\\\n\\\\n### News\\\\n\\\\n### Video\\\\n\\\\nTop Stories\\\\n\\\\nHurricane\\\\n\\\\nAtlantic hurricane potential, US risk to increase around mid-August\\\\n\\\\n1 hour ago\\\\n\\\\nWeather Forecasts\\\\n\\\\nFall forecast 2025: Warmth to fuel fires, storms before chill hits US\\\\n\\\\n3 days ago\\\\n\\\\nWeather News\\\\n\\\\nCanyon Fire joins California’s escalating wildfire crisis\\\\n\\\\n1 day ago\\\\n\\\\nAstronomy\\\\n\\\\nPerseid meteor shower peaks Tuesday, but the moon may steal the show [...] Weather News\\\\n\\\\nFlorida firefighters rescue kitten stuck in engine compartment\\\\n\\\\n3 days ago\\\\n\\\\n## Weather Near London:\\\\n\\\\n...\\\\n\\\\n...\\\\n\\\\n...', 'score': 0.60245985}]\", name='tavily_search_results_json', tool_call_id='call_S2i2EIxglCpSmN9hkhj2RaAN')]}\n",
      "{'messages': [AIMessage(content='London right now is generally overcast and mild.\\n\\n- Estimated current temp: about 17–19°C (63–66°F)\\n- Conditions: overcast with light winds\\n- Chance of rain: possible showers later in the day, depending on the area\\n\\nIf you want a precise current temperature for a particular London neighborhood (e.g., central London, Heathrow, Greenwich) or an hourly/today’s forecast for the next 24 hours or 7 days, tell me the specific area and I’ll pull the latest data.', additional_kwargs={'refusal': None}, response_metadata={'token_usage': {'completion_tokens': 1460, 'prompt_tokens': 9475, 'total_tokens': 10935, 'completion_tokens_details': {'accepted_prediction_tokens': 0, 'audio_tokens': 0, 'reasoning_tokens': 1344, 'rejected_prediction_tokens': 0}, 'prompt_tokens_details': {'audio_tokens': 0, 'cached_tokens': 5504}}, 'model_name': 'gpt-5-nano-2025-08-07', 'system_fingerprint': None, 'id': 'chatcmpl-C2xftCaljdGF7UZQxRx9uXLyzL9Ly', 'service_tier': 'default', 'finish_reason': 'stop', 'logprobs': None}, id='run--bb7765f1-9352-4d2f-a036-244dad692275-0', usage_metadata={'input_tokens': 9475, 'output_tokens': 1460, 'total_tokens': 10935, 'input_token_details': {'audio': 0, 'cache_read': 5504}, 'output_token_details': {'audio': 0, 'reasoning': 1344}})]}\n"
     ]
    }
   ],
   "source": [
    "messages = [HumanMessage(content=\"what about in London?\")]\n",
    "thread = {'configurable': {\"thread_id\": \"1\"}}\n",
    "\n",
    "for event in abot.graph.stream({\"messages\": messages}, config=thread):\n",
    "    for value in event.values():\n",
    "        print(value)"
   ]
  },
  {
   "cell_type": "code",
   "execution_count": 54,
   "id": "c14ffee1",
   "metadata": {},
   "outputs": [
    {
     "name": "stdout",
     "output_type": "stream",
     "text": [
      "{'messages': [AIMessage(content='Short answer: London is warmer right now.\\n\\n- London: about 17–19°C (63–66°F)\\n- San Francisco: about 14°C (57°F)\\n\\nDifference: London is roughly 3–5°C (6–9°F) warmer at the moment. If you want, I can pull exact current temps for a specific London area or show the next 24-hour forecast.', additional_kwargs={'refusal': None}, response_metadata={'token_usage': {'completion_tokens': 730, 'prompt_tokens': 9596, 'total_tokens': 10326, 'completion_tokens_details': {'accepted_prediction_tokens': 0, 'audio_tokens': 0, 'reasoning_tokens': 640, 'rejected_prediction_tokens': 0}, 'prompt_tokens_details': {'audio_tokens': 0, 'cached_tokens': 9344}}, 'model_name': 'gpt-5-nano-2025-08-07', 'system_fingerprint': None, 'id': 'chatcmpl-C2xj4WZbDC1blHAryWoCOkIkV3ukM', 'service_tier': 'default', 'finish_reason': 'stop', 'logprobs': None}, id='run--3421c841-ef30-40c7-a7c3-c11997430ac8-0', usage_metadata={'input_tokens': 9596, 'output_tokens': 730, 'total_tokens': 10326, 'input_token_details': {'audio': 0, 'cache_read': 9344}, 'output_token_details': {'audio': 0, 'reasoning': 640}})]}\n"
     ]
    }
   ],
   "source": [
    "messages = [HumanMessage(content=\"which is warmer?\")]\n",
    "thread = {'configurable': {\"thread_id\": \"1\"}}\n",
    "\n",
    "for event in abot.graph.stream({\"messages\": messages}, config=thread):\n",
    "    for value in event.values():\n",
    "        print(value)"
   ]
  },
  {
   "cell_type": "markdown",
   "id": "53f4e994",
   "metadata": {},
   "source": [
    "# Async streaming of token"
   ]
  },
  {
   "cell_type": "code",
   "execution_count": null,
   "id": "dc1cb8f0",
   "metadata": {},
   "outputs": [
    {
     "name": "stdout",
     "output_type": "stream",
     "text": [
      "I| can| pull| that| up|.| Which| city| (|and| country|)| would| you| like| the| current| weather| for|?| And| do| you| prefer| Celsius| or| Fahrenheit|?| If| you| tell| me| a| location|,| I|’ll| fetch| the| latest| conditions|.|"
     ]
    }
   ],
   "source": [
    "# Note - don;t use mem saveer in prod, this was only to get the tutorial to run, use sqlite or posgres in prod.\n",
    "from langgraph.checkpoint.memory import MemorySaver\n",
    "\n",
    "memory =  MemorySaver()\n",
    "abot = Agent(model, [tool], system=prompt, checkpointer=memory)\n",
    "\n",
    "async def ask_bot(question: str):\n",
    "    messages = [HumanMessage(content=question)]\n",
    "    thread = {\"configurable\": {\"thread_id\": \"4\"}}\n",
    "\n",
    "    async for event in abot.graph.astream_events({\"messages\": messages}, thread, version=\"v1\"):\n",
    "        kind = event[\"event\"]\n",
    "        if kind == \"on_chat_model_stream\":\n",
    "            content = event[\"data\"][\"chunk\"].content\n",
    "            # Empty content means tool call so don't print\n",
    "            if content:\n",
    "                print(content, end=\"|\")\n",
    "\n",
    "await ask_bot(\"Yes give me the weather right now\")"
   ]
  },
  {
   "cell_type": "code",
   "execution_count": 69,
   "id": "6031a90c",
   "metadata": {},
   "outputs": [
    {
     "name": "stdout",
     "output_type": "stream",
     "text": [
      "Calling: {'name': 'tavily_search_results_json', 'args': {'query': 'Colindale London England current weather'}, 'id': 'call_uydCyMAtTTVF9H6bZxuhaagh', 'type': 'tool_call'}\n",
      "Back to the model!\n",
      "Calling: {'name': 'tavily_search_results_json', 'args': {'query': 'Colindale current weather Colindale NW9'}, 'id': 'call_IkNdJkXhbIaHEkOPleeIj0OZ', 'type': 'tool_call'}\n",
      "Calling: {'name': 'tavily_search_results_json', 'args': {'query': 'BBC Weather Colindale'}, 'id': 'call_TiKEvIyMq1BdPur8QET2e0M7', 'type': 'tool_call'}\n",
      "Back to the model!\n",
      "Calling: {'name': 'tavily_search_results_json', 'args': {'query': 'Colindale current weather now temperature'}, 'id': 'call_vJjnAllZw1EyQzWAs7l2dZJ6', 'type': 'tool_call'}\n",
      "Back to the model!\n",
      "Calling: {'name': 'tavily_search_results_json', 'args': {'query': 'Colindale current weather temperature now Colindale NW9'}, 'id': 'call_5VtjoFprw9AsxBEjnoTLBtR9', 'type': 'tool_call'}\n",
      "Calling: {'name': 'tavily_search_results_json', 'args': {'query': 'Colindale London current conditions'}, 'id': 'call_B3ez2xH8fng51CGwvJSBS0QY', 'type': 'tool_call'}\n",
      "Back to the model!\n",
      "Calling: {'name': 'tavily_search_results_json', 'args': {'query': 'Colindale current weather now'}, 'id': 'call_rsAHcT84ZoHYkJnZOHqtLRdq', 'type': 'tool_call'}\n",
      "Calling: {'name': 'tavily_search_results_json', 'args': {'query': 'Colindale current temperature'}, 'id': 'call_tqTK77l6KdYq76zWDgj5OxUt', 'type': 'tool_call'}\n",
      "Calling: {'name': 'tavily_search_results_json', 'args': {'query': 'Colindale NW9 weather current'}, 'id': 'call_0EgzLmGnQrmshbwTX6cDAoNM', 'type': 'tool_call'}\n",
      "Calling: {'name': 'tavily_search_results_json', 'args': {'query': 'Met Office Colindale current conditions'}, 'id': 'call_MXEG2Pio5q2l7j6kstEBrspD', 'type': 'tool_call'}\n",
      "Back to the model!\n"
     ]
    },
    {
     "ename": "CancelledError",
     "evalue": "",
     "output_type": "error",
     "traceback": [
      "\u001b[31m---------------------------------------------------------------------------\u001b[39m",
      "\u001b[31mCancelledError\u001b[39m                            Traceback (most recent call last)",
      "\u001b[36mCell\u001b[39m\u001b[36m \u001b[39m\u001b[32mIn[69]\u001b[39m\u001b[32m, line 1\u001b[39m\n\u001b[32m----> \u001b[39m\u001b[32m1\u001b[39m \u001b[38;5;28;01mawait\u001b[39;00m ask_bot(\u001b[33m\"\u001b[39m\u001b[33mColindale london england\u001b[39m\u001b[33m\"\u001b[39m)\n",
      "\u001b[36mCell\u001b[39m\u001b[36m \u001b[39m\u001b[32mIn[68]\u001b[39m\u001b[32m, line 10\u001b[39m, in \u001b[36mask_bot\u001b[39m\u001b[34m(question)\u001b[39m\n\u001b[32m      7\u001b[39m messages = [HumanMessage(content=question)]\n\u001b[32m      8\u001b[39m thread = {\u001b[33m\"\u001b[39m\u001b[33mconfigurable\u001b[39m\u001b[33m\"\u001b[39m: {\u001b[33m\"\u001b[39m\u001b[33mthread_id\u001b[39m\u001b[33m\"\u001b[39m: \u001b[33m\"\u001b[39m\u001b[33m4\u001b[39m\u001b[33m\"\u001b[39m}}\n\u001b[32m---> \u001b[39m\u001b[32m10\u001b[39m \u001b[38;5;28;01masync\u001b[39;00m \u001b[38;5;28;01mfor\u001b[39;00m event \u001b[38;5;129;01min\u001b[39;00m abot.graph.astream_events({\u001b[33m\"\u001b[39m\u001b[33mmessages\u001b[39m\u001b[33m\"\u001b[39m: messages}, thread, version=\u001b[33m\"\u001b[39m\u001b[33mv1\u001b[39m\u001b[33m\"\u001b[39m):\n\u001b[32m     11\u001b[39m     kind = event[\u001b[33m\"\u001b[39m\u001b[33mevent\u001b[39m\u001b[33m\"\u001b[39m]\n\u001b[32m     12\u001b[39m     \u001b[38;5;28;01mif\u001b[39;00m kind == \u001b[33m\"\u001b[39m\u001b[33mon_chat_model_stream\u001b[39m\u001b[33m\"\u001b[39m:\n",
      "\u001b[36mFile \u001b[39m\u001b[32m~/.pyenv/versions/jupyter/lib/python3.11/site-packages/langchain_core/runnables/base.py:1405\u001b[39m, in \u001b[36mRunnable.astream_events\u001b[39m\u001b[34m(self, input, config, version, include_names, include_types, include_tags, exclude_names, exclude_types, exclude_tags, **kwargs)\u001b[39m\n\u001b[32m   1402\u001b[39m     \u001b[38;5;28;01mraise\u001b[39;00m \u001b[38;5;167;01mNotImplementedError\u001b[39;00m(msg)\n\u001b[32m   1404\u001b[39m \u001b[38;5;28;01masync\u001b[39;00m \u001b[38;5;28;01mwith\u001b[39;00m aclosing(event_stream):\n\u001b[32m-> \u001b[39m\u001b[32m1405\u001b[39m     \u001b[38;5;28;01masync\u001b[39;00m \u001b[38;5;28;01mfor\u001b[39;00m event \u001b[38;5;129;01min\u001b[39;00m event_stream:\n\u001b[32m   1406\u001b[39m         \u001b[38;5;28;01myield\u001b[39;00m event\n",
      "\u001b[36mFile \u001b[39m\u001b[32m~/.pyenv/versions/jupyter/lib/python3.11/site-packages/langchain_core/tracers/event_stream.py:790\u001b[39m, in \u001b[36m_astream_events_implementation_v1\u001b[39m\u001b[34m(runnable, value, config, include_names, include_types, include_tags, exclude_names, exclude_types, exclude_tags, **kwargs)\u001b[39m\n\u001b[32m    787\u001b[39m root_metadata = config.get(\u001b[33m\"\u001b[39m\u001b[33mmetadata\u001b[39m\u001b[33m\"\u001b[39m, {})\n\u001b[32m    788\u001b[39m root_name = config.get(\u001b[33m\"\u001b[39m\u001b[33mrun_name\u001b[39m\u001b[33m\"\u001b[39m, runnable.get_name())\n\u001b[32m--> \u001b[39m\u001b[32m790\u001b[39m \u001b[38;5;28;01masync\u001b[39;00m \u001b[38;5;28;01mfor\u001b[39;00m log \u001b[38;5;129;01min\u001b[39;00m _astream_log_implementation(\n\u001b[32m    791\u001b[39m     runnable,\n\u001b[32m    792\u001b[39m     value,\n\u001b[32m    793\u001b[39m     config=config,\n\u001b[32m    794\u001b[39m     stream=stream,\n\u001b[32m    795\u001b[39m     diff=\u001b[38;5;28;01mTrue\u001b[39;00m,\n\u001b[32m    796\u001b[39m     with_streamed_output_list=\u001b[38;5;28;01mTrue\u001b[39;00m,\n\u001b[32m    797\u001b[39m     **kwargs,\n\u001b[32m    798\u001b[39m ):\n\u001b[32m    799\u001b[39m     run_log += log\n\u001b[32m    801\u001b[39m     \u001b[38;5;28;01mif\u001b[39;00m \u001b[38;5;129;01mnot\u001b[39;00m encountered_start_event:\n\u001b[32m    802\u001b[39m         \u001b[38;5;66;03m# Yield the start event for the root runnable.\u001b[39;00m\n",
      "\u001b[36mFile \u001b[39m\u001b[32m~/.pyenv/versions/jupyter/lib/python3.11/site-packages/langchain_core/tracers/log_stream.py:698\u001b[39m, in \u001b[36m_astream_log_implementation\u001b[39m\u001b[34m(runnable, value, config, stream, diff, with_streamed_output_list, **kwargs)\u001b[39m\n\u001b[32m    695\u001b[39m \u001b[38;5;28;01mtry\u001b[39;00m:\n\u001b[32m    696\u001b[39m     \u001b[38;5;66;03m# Yield each chunk from the output stream\u001b[39;00m\n\u001b[32m    697\u001b[39m     \u001b[38;5;28;01mif\u001b[39;00m diff:\n\u001b[32m--> \u001b[39m\u001b[32m698\u001b[39m         \u001b[38;5;28;01masync\u001b[39;00m \u001b[38;5;28;01mfor\u001b[39;00m log \u001b[38;5;129;01min\u001b[39;00m stream:\n\u001b[32m    699\u001b[39m             \u001b[38;5;28;01myield\u001b[39;00m log\n\u001b[32m    700\u001b[39m     \u001b[38;5;28;01melse\u001b[39;00m:\n",
      "\u001b[36mFile \u001b[39m\u001b[32m~/.pyenv/versions/jupyter/lib/python3.11/site-packages/langchain_core/tracers/memory_stream.py:97\u001b[39m, in \u001b[36m_ReceiveStream.__aiter__\u001b[39m\u001b[34m(self)\u001b[39m\n\u001b[32m     95\u001b[39m \u001b[38;5;28;01masync\u001b[39;00m \u001b[38;5;28;01mdef\u001b[39;00m\u001b[38;5;250m \u001b[39m\u001b[34m__aiter__\u001b[39m(\u001b[38;5;28mself\u001b[39m) -> AsyncIterator[T]:\n\u001b[32m     96\u001b[39m     \u001b[38;5;28;01mwhile\u001b[39;00m \u001b[38;5;28;01mTrue\u001b[39;00m:\n\u001b[32m---> \u001b[39m\u001b[32m97\u001b[39m         item = \u001b[38;5;28;01mawait\u001b[39;00m \u001b[38;5;28mself\u001b[39m._queue.get()\n\u001b[32m     98\u001b[39m         \u001b[38;5;28;01mif\u001b[39;00m item \u001b[38;5;129;01mis\u001b[39;00m \u001b[38;5;28mself\u001b[39m._done:\n\u001b[32m     99\u001b[39m             \u001b[38;5;28mself\u001b[39m._is_closed = \u001b[38;5;28;01mTrue\u001b[39;00m\n",
      "\u001b[36mFile \u001b[39m\u001b[32m~/.pyenv/versions/3.11.9/lib/python3.11/asyncio/queues.py:158\u001b[39m, in \u001b[36mQueue.get\u001b[39m\u001b[34m(self)\u001b[39m\n\u001b[32m    156\u001b[39m \u001b[38;5;28mself\u001b[39m._getters.append(getter)\n\u001b[32m    157\u001b[39m \u001b[38;5;28;01mtry\u001b[39;00m:\n\u001b[32m--> \u001b[39m\u001b[32m158\u001b[39m     \u001b[38;5;28;01mawait\u001b[39;00m getter\n\u001b[32m    159\u001b[39m \u001b[38;5;28;01mexcept\u001b[39;00m:\n\u001b[32m    160\u001b[39m     getter.cancel()  \u001b[38;5;66;03m# Just in case getter is not done yet.\u001b[39;00m\n",
      "\u001b[31mCancelledError\u001b[39m: "
     ]
    }
   ],
   "source": [
    "await ask_bot(\"Colindale london england\")"
   ]
  },
  {
   "cell_type": "code",
   "execution_count": null,
   "id": "a312083a",
   "metadata": {},
   "outputs": [],
   "source": []
  }
 ],
 "metadata": {
  "kernelspec": {
   "display_name": "agentic_notebook",
   "language": "python",
   "name": "agentic_notebook"
  },
  "language_info": {
   "codemirror_mode": {
    "name": "ipython",
    "version": 3
   },
   "file_extension": ".py",
   "mimetype": "text/x-python",
   "name": "python",
   "nbconvert_exporter": "python",
   "pygments_lexer": "ipython3",
   "version": "3.11.9"
  }
 },
 "nbformat": 4,
 "nbformat_minor": 5
}
