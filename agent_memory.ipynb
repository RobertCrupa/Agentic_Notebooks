{
 "cells": [
  {
   "cell_type": "markdown",
   "id": "9c69d8d5",
   "metadata": {},
   "source": [
    "# Practice with simple small graph"
   ]
  },
  {
   "cell_type": "code",
   "execution_count": 22,
   "id": "97af47e8",
   "metadata": {},
   "outputs": [],
   "source": [
    "from dotenv import load_dotenv\n",
    "\n",
    "_ = load_dotenv()"
   ]
  },
  {
   "cell_type": "code",
   "execution_count": 10,
   "id": "92203314",
   "metadata": {},
   "outputs": [],
   "source": [
    "from langgraph.graph import StateGraph, END\n",
    "from typing import TypedDict, Annotated\n",
    "import operator\n",
    "from langgraph.checkpoint.sqlite import SqliteSaver\n",
    "from langgraph.checkpoint.memory import MemorySaver"
   ]
  },
  {
   "cell_type": "code",
   "execution_count": 4,
   "id": "b508b410",
   "metadata": {},
   "outputs": [],
   "source": [
    "class AgentState(TypedDict):\n",
    "    lnode: str\n",
    "    pad: str\n",
    "    count: Annotated[int, operator.add]"
   ]
  },
  {
   "cell_type": "code",
   "execution_count": 6,
   "id": "68ecb2cc",
   "metadata": {},
   "outputs": [],
   "source": [
    "def node1(state: AgentState):\n",
    "    print(f\"node1, count:{state['count']}\")\n",
    "    return {\"lnode\": \"node_1\",\n",
    "            \"count\": 1}\n",
    "\n",
    "def node2(state: AgentState):\n",
    "    print(f\"node2, count:{state['count']}\")\n",
    "    return {\"lnode\": \"node_2\",\n",
    "            \"count\": 1}\n",
    "\n",
    "def should_continue(state: AgentState) -> bool:\n",
    "    return state[\"count\"] < 3"
   ]
  },
  {
   "cell_type": "markdown",
   "id": "6483054c",
   "metadata": {},
   "source": [
    "The graph should go N1 -> N2 -> N1 but break"
   ]
  },
  {
   "cell_type": "code",
   "execution_count": 11,
   "id": "b79386f9",
   "metadata": {},
   "outputs": [],
   "source": [
    "builder = StateGraph(AgentState)\n",
    "builder.add_node(\"Node1\", node1)\n",
    "builder.add_node(\"Node2\", node2)\n",
    "builder.add_edge(\"Node1\", \"Node2\")\n",
    "builder.add_conditional_edges(\"Node2\", should_continue, { True: \"Node1\", False: END})\n",
    "builder.set_entry_point(\"Node1\")\n",
    "\n",
    "#memory = SqliteSaver.from_conn_string(\":memory:\")\n",
    "memory = MemorySaver()\n",
    "graph = builder.compile(checkpointer=memory)"
   ]
  },
  {
   "cell_type": "code",
   "execution_count": 12,
   "id": "9a85c26a",
   "metadata": {},
   "outputs": [
    {
     "name": "stdout",
     "output_type": "stream",
     "text": [
      "node1, count:0\n",
      "node2, count:1\n",
      "node1, count:2\n",
      "node2, count:3\n"
     ]
    },
    {
     "data": {
      "text/plain": [
       "{'lnode': 'node_2', 'pad': 'Hello', 'count': 4}"
      ]
     },
     "execution_count": 12,
     "metadata": {},
     "output_type": "execute_result"
    }
   ],
   "source": [
    "thread = {\"configurable\": {\"thread_id\": \"1\"}}\n",
    "\n",
    "graph.invoke({\"count\": 0, \"pad\": \"Hello\"}, thread)"
   ]
  },
  {
   "cell_type": "markdown",
   "id": "f25bf905",
   "metadata": {},
   "source": [
    "# Let's investigate"
   ]
  },
  {
   "cell_type": "code",
   "execution_count": 15,
   "id": "80b61e94",
   "metadata": {},
   "outputs": [
    {
     "data": {
      "text/plain": [
       "StateSnapshot(values={'lnode': 'node_2', 'pad': 'Hello', 'count': 4}, next=(), config={'configurable': {'thread_id': '1', 'checkpoint_ns': '', 'checkpoint_id': '1f0776ef-cc1a-6a46-8004-4807462a87ee'}}, metadata={'source': 'loop', 'step': 4, 'parents': {}}, created_at='2025-08-12T11:25:01.914366+00:00', parent_config={'configurable': {'thread_id': '1', 'checkpoint_ns': '', 'checkpoint_id': '1f0776ef-cc18-6fd4-8003-df0ed3cd81a3'}}, tasks=(), interrupts=())"
      ]
     },
     "metadata": {},
     "output_type": "display_data"
    }
   ],
   "source": [
    "display(graph.get_state(thread))"
   ]
  },
  {
   "cell_type": "code",
   "execution_count": 16,
   "id": "9e15a532",
   "metadata": {},
   "outputs": [
    {
     "name": "stdout",
     "output_type": "stream",
     "text": [
      "StateSnapshot(values={'lnode': 'node_2', 'pad': 'Hello', 'count': 4}, next=(), config={'configurable': {'thread_id': '1', 'checkpoint_ns': '', 'checkpoint_id': '1f0776ef-cc1a-6a46-8004-4807462a87ee'}}, metadata={'source': 'loop', 'step': 4, 'parents': {}}, created_at='2025-08-12T11:25:01.914366+00:00', parent_config={'configurable': {'thread_id': '1', 'checkpoint_ns': '', 'checkpoint_id': '1f0776ef-cc18-6fd4-8003-df0ed3cd81a3'}}, tasks=(), interrupts=()) \n",
      "\n",
      "StateSnapshot(values={'lnode': 'node_1', 'pad': 'Hello', 'count': 3}, next=('Node2',), config={'configurable': {'thread_id': '1', 'checkpoint_ns': '', 'checkpoint_id': '1f0776ef-cc18-6fd4-8003-df0ed3cd81a3'}}, metadata={'source': 'loop', 'step': 3, 'parents': {}}, created_at='2025-08-12T11:25:01.913692+00:00', parent_config={'configurable': {'thread_id': '1', 'checkpoint_ns': '', 'checkpoint_id': '1f0776ef-cc18-64a8-8002-8d44223bf0d8'}}, tasks=(PregelTask(id='61e78077-0618-e2cc-88a0-66ebc59b14ab', name='Node2', path=('__pregel_pull', 'Node2'), error=None, interrupts=(), state=None, result={'lnode': 'node_2', 'count': 1}),), interrupts=()) \n",
      "\n",
      "StateSnapshot(values={'lnode': 'node_2', 'pad': 'Hello', 'count': 2}, next=('Node1',), config={'configurable': {'thread_id': '1', 'checkpoint_ns': '', 'checkpoint_id': '1f0776ef-cc18-64a8-8002-8d44223bf0d8'}}, metadata={'source': 'loop', 'step': 2, 'parents': {}}, created_at='2025-08-12T11:25:01.913405+00:00', parent_config={'configurable': {'thread_id': '1', 'checkpoint_ns': '', 'checkpoint_id': '1f0776ef-cc16-6a04-8001-9c1eeef210fa'}}, tasks=(PregelTask(id='6dfb24c5-8e4a-3c14-cd69-7da1565c0397', name='Node1', path=('__pregel_pull', 'Node1'), error=None, interrupts=(), state=None, result={'lnode': 'node_1', 'count': 1}),), interrupts=()) \n",
      "\n",
      "StateSnapshot(values={'lnode': 'node_1', 'pad': 'Hello', 'count': 1}, next=('Node2',), config={'configurable': {'thread_id': '1', 'checkpoint_ns': '', 'checkpoint_id': '1f0776ef-cc16-6a04-8001-9c1eeef210fa'}}, metadata={'source': 'loop', 'step': 1, 'parents': {}}, created_at='2025-08-12T11:25:01.912723+00:00', parent_config={'configurable': {'thread_id': '1', 'checkpoint_ns': '', 'checkpoint_id': '1f0776ef-cc14-6e20-8000-ed6546805b09'}}, tasks=(PregelTask(id='a803e457-082e-5763-33cb-0bf4e0ce992e', name='Node2', path=('__pregel_pull', 'Node2'), error=None, interrupts=(), state=None, result={'lnode': 'node_2', 'count': 1}),), interrupts=()) \n",
      "\n",
      "StateSnapshot(values={'pad': 'Hello', 'count': 0}, next=('Node1',), config={'configurable': {'thread_id': '1', 'checkpoint_ns': '', 'checkpoint_id': '1f0776ef-cc14-6e20-8000-ed6546805b09'}}, metadata={'source': 'loop', 'step': 0, 'parents': {}}, created_at='2025-08-12T11:25:01.912006+00:00', parent_config={'configurable': {'thread_id': '1', 'checkpoint_ns': '', 'checkpoint_id': '1f0776ef-cc12-651c-bfff-7eaf9c73fa9e'}}, tasks=(PregelTask(id='a05e2ea4-a7c8-39e2-b834-2d2e2de3f501', name='Node1', path=('__pregel_pull', 'Node1'), error=None, interrupts=(), state=None, result={'lnode': 'node_1', 'count': 1}),), interrupts=()) \n",
      "\n",
      "StateSnapshot(values={'count': 0}, next=('__start__',), config={'configurable': {'thread_id': '1', 'checkpoint_ns': '', 'checkpoint_id': '1f0776ef-cc12-651c-bfff-7eaf9c73fa9e'}}, metadata={'source': 'input', 'step': -1, 'parents': {}}, created_at='2025-08-12T11:25:01.910959+00:00', parent_config=None, tasks=(PregelTask(id='2ba4e7a0-2485-f44e-c737-590202a40312', name='__start__', path=('__pregel_pull', '__start__'), error=None, interrupts=(), state=None, result={'count': 0, 'pad': 'Hello'}),), interrupts=()) \n",
      "\n"
     ]
    }
   ],
   "source": [
    "for state in graph.get_state_history(thread):\n",
    "    print(state, \"\\n\")"
   ]
  },
  {
   "cell_type": "code",
   "execution_count": 17,
   "id": "ca20c28c",
   "metadata": {},
   "outputs": [
    {
     "name": "stdout",
     "output_type": "stream",
     "text": [
      "{'configurable': {'thread_id': '1', 'checkpoint_ns': '', 'checkpoint_id': '1f0776ef-cc1a-6a46-8004-4807462a87ee'}} 4\n",
      "{'configurable': {'thread_id': '1', 'checkpoint_ns': '', 'checkpoint_id': '1f0776ef-cc18-6fd4-8003-df0ed3cd81a3'}} 3\n",
      "{'configurable': {'thread_id': '1', 'checkpoint_ns': '', 'checkpoint_id': '1f0776ef-cc18-64a8-8002-8d44223bf0d8'}} 2\n",
      "{'configurable': {'thread_id': '1', 'checkpoint_ns': '', 'checkpoint_id': '1f0776ef-cc16-6a04-8001-9c1eeef210fa'}} 1\n",
      "{'configurable': {'thread_id': '1', 'checkpoint_ns': '', 'checkpoint_id': '1f0776ef-cc14-6e20-8000-ed6546805b09'}} 0\n",
      "{'configurable': {'thread_id': '1', 'checkpoint_ns': '', 'checkpoint_id': '1f0776ef-cc12-651c-bfff-7eaf9c73fa9e'}} 0\n"
     ]
    }
   ],
   "source": [
    "states = []\n",
    "for state in graph.get_state_history(thread):\n",
    "    states.append(state.config)\n",
    "    print(state.config, state.values['count'])"
   ]
  },
  {
   "cell_type": "code",
   "execution_count": 18,
   "id": "2cd0c37d",
   "metadata": {},
   "outputs": [
    {
     "data": {
      "text/plain": [
       "StateSnapshot(values={'lnode': 'node_1', 'pad': 'Hello', 'count': 1}, next=('Node2',), config={'configurable': {'thread_id': '1', 'checkpoint_ns': '', 'checkpoint_id': '1f0776ef-cc16-6a04-8001-9c1eeef210fa'}}, metadata={'source': 'loop', 'step': 1, 'parents': {}}, created_at='2025-08-12T11:25:01.912723+00:00', parent_config={'configurable': {'thread_id': '1', 'checkpoint_ns': '', 'checkpoint_id': '1f0776ef-cc14-6e20-8000-ed6546805b09'}}, tasks=(PregelTask(id='a803e457-082e-5763-33cb-0bf4e0ce992e', name='Node2', path=('__pregel_pull', 'Node2'), error=None, interrupts=(), state=None, result={'lnode': 'node_2', 'count': 1}),), interrupts=())"
      ]
     },
     "execution_count": 18,
     "metadata": {},
     "output_type": "execute_result"
    }
   ],
   "source": [
    "graph.get_state(states[-3])"
   ]
  },
  {
   "cell_type": "markdown",
   "id": "d55cce9a",
   "metadata": {},
   "source": [
    "# Go back in time"
   ]
  },
  {
   "cell_type": "code",
   "execution_count": 19,
   "id": "0f5175ba",
   "metadata": {},
   "outputs": [
    {
     "name": "stdout",
     "output_type": "stream",
     "text": [
      "node2, count:1\n",
      "node1, count:2\n",
      "node2, count:3\n"
     ]
    },
    {
     "data": {
      "text/plain": [
       "{'lnode': 'node_2', 'pad': 'Hello', 'count': 4}"
      ]
     },
     "execution_count": 19,
     "metadata": {},
     "output_type": "execute_result"
    }
   ],
   "source": [
    "graph.invoke(None, states[-3])"
   ]
  },
  {
   "cell_type": "code",
   "execution_count": 20,
   "id": "4448eb86",
   "metadata": {},
   "outputs": [
    {
     "name": "stdout",
     "output_type": "stream",
     "text": [
      "{'configurable': {'thread_id': '1', 'checkpoint_ns': '', 'checkpoint_id': '1f077709-783c-6270-8004-6ea844f1aa45'}} 4\n",
      "{'configurable': {'thread_id': '1', 'checkpoint_ns': '', 'checkpoint_id': '1f077709-783a-607e-8003-ed139a52baf6'}} 3\n",
      "{'configurable': {'thread_id': '1', 'checkpoint_ns': '', 'checkpoint_id': '1f077709-7838-6c10-8002-6ce795fcd473'}} 2\n",
      "{'configurable': {'thread_id': '1', 'checkpoint_ns': '', 'checkpoint_id': '1f0776ef-cc1a-6a46-8004-4807462a87ee'}} 4\n",
      "{'configurable': {'thread_id': '1', 'checkpoint_ns': '', 'checkpoint_id': '1f0776ef-cc18-6fd4-8003-df0ed3cd81a3'}} 3\n",
      "{'configurable': {'thread_id': '1', 'checkpoint_ns': '', 'checkpoint_id': '1f0776ef-cc18-64a8-8002-8d44223bf0d8'}} 2\n",
      "{'configurable': {'thread_id': '1', 'checkpoint_ns': '', 'checkpoint_id': '1f0776ef-cc16-6a04-8001-9c1eeef210fa'}} 1\n",
      "{'configurable': {'thread_id': '1', 'checkpoint_ns': '', 'checkpoint_id': '1f0776ef-cc14-6e20-8000-ed6546805b09'}} 0\n",
      "{'configurable': {'thread_id': '1', 'checkpoint_ns': '', 'checkpoint_id': '1f0776ef-cc12-651c-bfff-7eaf9c73fa9e'}} 0\n"
     ]
    }
   ],
   "source": [
    "thread = {\"configurable\": {\"thread_id\": str(1)}}\n",
    "for state in graph.get_state_history(thread):\n",
    "    print(state.config, state.values['count'])"
   ]
  },
  {
   "cell_type": "markdown",
   "id": "2e989c25",
   "metadata": {},
   "source": [
    "Notice how the new states are not in the history from the counts"
   ]
  },
  {
   "cell_type": "code",
   "execution_count": 21,
   "id": "ba6fb093",
   "metadata": {},
   "outputs": [
    {
     "name": "stdout",
     "output_type": "stream",
     "text": [
      "StateSnapshot(values={'lnode': 'node_2', 'pad': 'Hello', 'count': 4}, next=(), config={'configurable': {'thread_id': '1', 'checkpoint_ns': '', 'checkpoint_id': '1f077709-783c-6270-8004-6ea844f1aa45'}}, metadata={'source': 'loop', 'step': 4, 'parents': {}}, created_at='2025-08-12T11:36:31.052236+00:00', parent_config={'configurable': {'thread_id': '1', 'checkpoint_ns': '', 'checkpoint_id': '1f077709-783a-607e-8003-ed139a52baf6'}}, tasks=(), interrupts=()) \n",
      "\n",
      "StateSnapshot(values={'lnode': 'node_1', 'pad': 'Hello', 'count': 3}, next=('Node2',), config={'configurable': {'thread_id': '1', 'checkpoint_ns': '', 'checkpoint_id': '1f077709-783a-607e-8003-ed139a52baf6'}}, metadata={'source': 'loop', 'step': 3, 'parents': {}}, created_at='2025-08-12T11:36:31.051373+00:00', parent_config={'configurable': {'thread_id': '1', 'checkpoint_ns': '', 'checkpoint_id': '1f077709-7838-6c10-8002-6ce795fcd473'}}, tasks=(PregelTask(id='568bc7ee-8f44-e88e-8006-5fd846d7ecef', name='Node2', path=('__pregel_pull', 'Node2'), error=None, interrupts=(), state=None, result={'lnode': 'node_2', 'count': 1}),), interrupts=()) \n",
      "\n",
      "StateSnapshot(values={'lnode': 'node_2', 'pad': 'Hello', 'count': 2}, next=('Node1',), config={'configurable': {'thread_id': '1', 'checkpoint_ns': '', 'checkpoint_id': '1f077709-7838-6c10-8002-6ce795fcd473'}}, metadata={'source': 'loop', 'step': 2, 'parents': {}}, created_at='2025-08-12T11:36:31.050845+00:00', parent_config={'configurable': {'thread_id': '1', 'checkpoint_ns': '', 'checkpoint_id': '1f0776ef-cc16-6a04-8001-9c1eeef210fa'}}, tasks=(PregelTask(id='ef5b7f51-6eae-8bdb-4c46-cd8f950a3c11', name='Node1', path=('__pregel_pull', 'Node1'), error=None, interrupts=(), state=None, result={'lnode': 'node_1', 'count': 1}),), interrupts=()) \n",
      "\n",
      "StateSnapshot(values={'lnode': 'node_2', 'pad': 'Hello', 'count': 4}, next=(), config={'configurable': {'thread_id': '1', 'checkpoint_ns': '', 'checkpoint_id': '1f0776ef-cc1a-6a46-8004-4807462a87ee'}}, metadata={'source': 'loop', 'step': 4, 'parents': {}}, created_at='2025-08-12T11:25:01.914366+00:00', parent_config={'configurable': {'thread_id': '1', 'checkpoint_ns': '', 'checkpoint_id': '1f0776ef-cc18-6fd4-8003-df0ed3cd81a3'}}, tasks=(), interrupts=()) \n",
      "\n",
      "StateSnapshot(values={'lnode': 'node_1', 'pad': 'Hello', 'count': 3}, next=('Node2',), config={'configurable': {'thread_id': '1', 'checkpoint_ns': '', 'checkpoint_id': '1f0776ef-cc18-6fd4-8003-df0ed3cd81a3'}}, metadata={'source': 'loop', 'step': 3, 'parents': {}}, created_at='2025-08-12T11:25:01.913692+00:00', parent_config={'configurable': {'thread_id': '1', 'checkpoint_ns': '', 'checkpoint_id': '1f0776ef-cc18-64a8-8002-8d44223bf0d8'}}, tasks=(PregelTask(id='61e78077-0618-e2cc-88a0-66ebc59b14ab', name='Node2', path=('__pregel_pull', 'Node2'), error=None, interrupts=(), state=None, result={'lnode': 'node_2', 'count': 1}),), interrupts=()) \n",
      "\n",
      "StateSnapshot(values={'lnode': 'node_2', 'pad': 'Hello', 'count': 2}, next=('Node1',), config={'configurable': {'thread_id': '1', 'checkpoint_ns': '', 'checkpoint_id': '1f0776ef-cc18-64a8-8002-8d44223bf0d8'}}, metadata={'source': 'loop', 'step': 2, 'parents': {}}, created_at='2025-08-12T11:25:01.913405+00:00', parent_config={'configurable': {'thread_id': '1', 'checkpoint_ns': '', 'checkpoint_id': '1f0776ef-cc16-6a04-8001-9c1eeef210fa'}}, tasks=(PregelTask(id='6dfb24c5-8e4a-3c14-cd69-7da1565c0397', name='Node1', path=('__pregel_pull', 'Node1'), error=None, interrupts=(), state=None, result={'lnode': 'node_1', 'count': 1}),), interrupts=()) \n",
      "\n",
      "StateSnapshot(values={'lnode': 'node_1', 'pad': 'Hello', 'count': 1}, next=('Node2',), config={'configurable': {'thread_id': '1', 'checkpoint_ns': '', 'checkpoint_id': '1f0776ef-cc16-6a04-8001-9c1eeef210fa'}}, metadata={'source': 'loop', 'step': 1, 'parents': {}}, created_at='2025-08-12T11:25:01.912723+00:00', parent_config={'configurable': {'thread_id': '1', 'checkpoint_ns': '', 'checkpoint_id': '1f0776ef-cc14-6e20-8000-ed6546805b09'}}, tasks=(PregelTask(id='a803e457-082e-5763-33cb-0bf4e0ce992e', name='Node2', path=('__pregel_pull', 'Node2'), error=None, interrupts=(), state=None, result={'lnode': 'node_2', 'count': 1}),), interrupts=()) \n",
      "\n",
      "StateSnapshot(values={'pad': 'Hello', 'count': 0}, next=('Node1',), config={'configurable': {'thread_id': '1', 'checkpoint_ns': '', 'checkpoint_id': '1f0776ef-cc14-6e20-8000-ed6546805b09'}}, metadata={'source': 'loop', 'step': 0, 'parents': {}}, created_at='2025-08-12T11:25:01.912006+00:00', parent_config={'configurable': {'thread_id': '1', 'checkpoint_ns': '', 'checkpoint_id': '1f0776ef-cc12-651c-bfff-7eaf9c73fa9e'}}, tasks=(PregelTask(id='a05e2ea4-a7c8-39e2-b834-2d2e2de3f501', name='Node1', path=('__pregel_pull', 'Node1'), error=None, interrupts=(), state=None, result={'lnode': 'node_1', 'count': 1}),), interrupts=()) \n",
      "\n",
      "StateSnapshot(values={'count': 0}, next=('__start__',), config={'configurable': {'thread_id': '1', 'checkpoint_ns': '', 'checkpoint_id': '1f0776ef-cc12-651c-bfff-7eaf9c73fa9e'}}, metadata={'source': 'input', 'step': -1, 'parents': {}}, created_at='2025-08-12T11:25:01.910959+00:00', parent_config=None, tasks=(PregelTask(id='2ba4e7a0-2485-f44e-c737-590202a40312', name='__start__', path=('__pregel_pull', '__start__'), error=None, interrupts=(), state=None, result={'count': 0, 'pad': 'Hello'}),), interrupts=()) \n",
      "\n"
     ]
    }
   ],
   "source": [
    "thread = {\"configurable\": {\"thread_id\": str(1)}}\n",
    "for state in graph.get_state_history(thread):\n",
    "    print(state,\"\\n\")"
   ]
  },
  {
   "cell_type": "markdown",
   "id": "6df99196",
   "metadata": {},
   "source": [
    "# Modifying states"
   ]
  },
  {
   "cell_type": "markdown",
   "id": "3c2b08d5",
   "metadata": {},
   "source": [
    "Start with a new thread"
   ]
  },
  {
   "cell_type": "code",
   "execution_count": 26,
   "id": "c5a8a533",
   "metadata": {},
   "outputs": [
    {
     "name": "stdout",
     "output_type": "stream",
     "text": [
      "node1, count:0\n",
      "node2, count:1\n",
      "node1, count:2\n",
      "node2, count:3\n"
     ]
    },
    {
     "data": {
      "text/plain": [
       "{'lnode': 'node_2', 'pad': 'hi', 'count': 4}"
      ]
     },
     "execution_count": 26,
     "metadata": {},
     "output_type": "execute_result"
    }
   ],
   "source": [
    "thread2 = {\"configurable\": {\"thread_id\": \"2\"}}\n",
    "graph.invoke({\"count\": 0, \"pad\": \"hi\"}, thread2)"
   ]
  },
  {
   "cell_type": "code",
   "execution_count": 29,
   "id": "37a27063",
   "metadata": {},
   "outputs": [
    {
     "ename": "ImportError",
     "evalue": "Install pygraphviz to draw graphs: `pip install pygraphviz`.",
     "output_type": "error",
     "traceback": [
      "\u001b[31m---------------------------------------------------------------------------\u001b[39m",
      "\u001b[31mModuleNotFoundError\u001b[39m                       Traceback (most recent call last)",
      "\u001b[36mFile \u001b[39m\u001b[32m~/.pyenv/versions/jupyter/lib/python3.11/site-packages/langchain_core/runnables/graph_png.py:138\u001b[39m, in \u001b[36mPngDrawer.draw\u001b[39m\u001b[34m(self, graph, output_path)\u001b[39m\n\u001b[32m    137\u001b[39m \u001b[38;5;28;01mtry\u001b[39;00m:\n\u001b[32m--> \u001b[39m\u001b[32m138\u001b[39m     \u001b[38;5;28;01mimport\u001b[39;00m\u001b[38;5;250m \u001b[39m\u001b[34;01mpygraphviz\u001b[39;00m\u001b[38;5;250m \u001b[39m\u001b[38;5;28;01mas\u001b[39;00m\u001b[38;5;250m \u001b[39m\u001b[34;01mpgv\u001b[39;00m  \u001b[38;5;66;03m# type: ignore[import-not-found]\u001b[39;00m\n\u001b[32m    139\u001b[39m \u001b[38;5;28;01mexcept\u001b[39;00m \u001b[38;5;167;01mImportError\u001b[39;00m \u001b[38;5;28;01mas\u001b[39;00m exc:\n",
      "\u001b[31mModuleNotFoundError\u001b[39m: No module named 'pygraphviz'",
      "\nThe above exception was the direct cause of the following exception:\n",
      "\u001b[31mImportError\u001b[39m                               Traceback (most recent call last)",
      "\u001b[36mCell\u001b[39m\u001b[36m \u001b[39m\u001b[32mIn[29]\u001b[39m\u001b[32m, line 2\u001b[39m\n\u001b[32m      1\u001b[39m \u001b[38;5;28;01mfrom\u001b[39;00m\u001b[38;5;250m \u001b[39m\u001b[34;01mIPython\u001b[39;00m\u001b[34;01m.\u001b[39;00m\u001b[34;01mdisplay\u001b[39;00m\u001b[38;5;250m \u001b[39m\u001b[38;5;28;01mimport\u001b[39;00m Image\n\u001b[32m----> \u001b[39m\u001b[32m2\u001b[39m Image(\u001b[43mgraph\u001b[49m\u001b[43m.\u001b[49m\u001b[43mget_graph\u001b[49m\u001b[43m(\u001b[49m\u001b[43m)\u001b[49m\u001b[43m.\u001b[49m\u001b[43mdraw_png\u001b[49m\u001b[43m(\u001b[49m\u001b[43m)\u001b[49m)\n",
      "\u001b[36mFile \u001b[39m\u001b[32m~/.pyenv/versions/jupyter/lib/python3.11/site-packages/langchain_core/runnables/graph.py:574\u001b[39m, in \u001b[36mGraph.draw_png\u001b[39m\u001b[34m(self, output_file_path, fontname, labels)\u001b[39m\n\u001b[32m    561\u001b[39m \u001b[38;5;28;01mfrom\u001b[39;00m\u001b[38;5;250m \u001b[39m\u001b[34;01mlangchain_core\u001b[39;00m\u001b[34;01m.\u001b[39;00m\u001b[34;01mrunnables\u001b[39;00m\u001b[34;01m.\u001b[39;00m\u001b[34;01mgraph_png\u001b[39;00m\u001b[38;5;250m \u001b[39m\u001b[38;5;28;01mimport\u001b[39;00m PngDrawer\n\u001b[32m    563\u001b[39m default_node_labels = {node.id: node.name \u001b[38;5;28;01mfor\u001b[39;00m node \u001b[38;5;129;01min\u001b[39;00m \u001b[38;5;28mself\u001b[39m.nodes.values()}\n\u001b[32m    565\u001b[39m \u001b[38;5;28;01mreturn\u001b[39;00m \u001b[43mPngDrawer\u001b[49m\u001b[43m(\u001b[49m\n\u001b[32m    566\u001b[39m \u001b[43m    \u001b[49m\u001b[43mfontname\u001b[49m\u001b[43m,\u001b[49m\n\u001b[32m    567\u001b[39m \u001b[43m    \u001b[49m\u001b[43mLabelsDict\u001b[49m\u001b[43m(\u001b[49m\n\u001b[32m    568\u001b[39m \u001b[43m        \u001b[49m\u001b[43mnodes\u001b[49m\u001b[43m=\u001b[49m\u001b[43m{\u001b[49m\n\u001b[32m    569\u001b[39m \u001b[43m            \u001b[49m\u001b[43m*\u001b[49m\u001b[43m*\u001b[49m\u001b[43mdefault_node_labels\u001b[49m\u001b[43m,\u001b[49m\n\u001b[32m    570\u001b[39m \u001b[43m            \u001b[49m\u001b[43m*\u001b[49m\u001b[43m*\u001b[49m\u001b[43m(\u001b[49m\u001b[43mlabels\u001b[49m\u001b[43m[\u001b[49m\u001b[33;43m\"\u001b[39;49m\u001b[33;43mnodes\u001b[39;49m\u001b[33;43m\"\u001b[39;49m\u001b[43m]\u001b[49m\u001b[43m \u001b[49m\u001b[38;5;28;43;01mif\u001b[39;49;00m\u001b[43m \u001b[49m\u001b[43mlabels\u001b[49m\u001b[43m \u001b[49m\u001b[38;5;129;43;01mis\u001b[39;49;00m\u001b[43m \u001b[49m\u001b[38;5;129;43;01mnot\u001b[39;49;00m\u001b[43m \u001b[49m\u001b[38;5;28;43;01mNone\u001b[39;49;00m\u001b[43m \u001b[49m\u001b[38;5;28;43;01melse\u001b[39;49;00m\u001b[43m \u001b[49m\u001b[43m{\u001b[49m\u001b[43m}\u001b[49m\u001b[43m)\u001b[49m\u001b[43m,\u001b[49m\n\u001b[32m    571\u001b[39m \u001b[43m        \u001b[49m\u001b[43m}\u001b[49m\u001b[43m,\u001b[49m\n\u001b[32m    572\u001b[39m \u001b[43m        \u001b[49m\u001b[43medges\u001b[49m\u001b[43m=\u001b[49m\u001b[43mlabels\u001b[49m\u001b[43m[\u001b[49m\u001b[33;43m\"\u001b[39;49m\u001b[33;43medges\u001b[39;49m\u001b[33;43m\"\u001b[39;49m\u001b[43m]\u001b[49m\u001b[43m \u001b[49m\u001b[38;5;28;43;01mif\u001b[39;49;00m\u001b[43m \u001b[49m\u001b[43mlabels\u001b[49m\u001b[43m \u001b[49m\u001b[38;5;129;43;01mis\u001b[39;49;00m\u001b[43m \u001b[49m\u001b[38;5;129;43;01mnot\u001b[39;49;00m\u001b[43m \u001b[49m\u001b[38;5;28;43;01mNone\u001b[39;49;00m\u001b[43m \u001b[49m\u001b[38;5;28;43;01melse\u001b[39;49;00m\u001b[43m \u001b[49m\u001b[43m{\u001b[49m\u001b[43m}\u001b[49m\u001b[43m,\u001b[49m\n\u001b[32m    573\u001b[39m \u001b[43m    \u001b[49m\u001b[43m)\u001b[49m\u001b[43m,\u001b[49m\n\u001b[32m--> \u001b[39m\u001b[32m574\u001b[39m \u001b[43m\u001b[49m\u001b[43m)\u001b[49m\u001b[43m.\u001b[49m\u001b[43mdraw\u001b[49m\u001b[43m(\u001b[49m\u001b[38;5;28;43mself\u001b[39;49m\u001b[43m,\u001b[49m\u001b[43m \u001b[49m\u001b[43moutput_file_path\u001b[49m\u001b[43m)\u001b[49m\n",
      "\u001b[36mFile \u001b[39m\u001b[32m~/.pyenv/versions/jupyter/lib/python3.11/site-packages/langchain_core/runnables/graph_png.py:141\u001b[39m, in \u001b[36mPngDrawer.draw\u001b[39m\u001b[34m(self, graph, output_path)\u001b[39m\n\u001b[32m    139\u001b[39m \u001b[38;5;28;01mexcept\u001b[39;00m \u001b[38;5;167;01mImportError\u001b[39;00m \u001b[38;5;28;01mas\u001b[39;00m exc:\n\u001b[32m    140\u001b[39m     msg = \u001b[33m\"\u001b[39m\u001b[33mInstall pygraphviz to draw graphs: `pip install pygraphviz`.\u001b[39m\u001b[33m\"\u001b[39m\n\u001b[32m--> \u001b[39m\u001b[32m141\u001b[39m     \u001b[38;5;28;01mraise\u001b[39;00m \u001b[38;5;167;01mImportError\u001b[39;00m(msg) \u001b[38;5;28;01mfrom\u001b[39;00m\u001b[38;5;250m \u001b[39m\u001b[34;01mexc\u001b[39;00m\n\u001b[32m    143\u001b[39m \u001b[38;5;66;03m# Create a directed graph\u001b[39;00m\n\u001b[32m    144\u001b[39m viz = pgv.AGraph(directed=\u001b[38;5;28;01mTrue\u001b[39;00m, nodesep=\u001b[32m0.9\u001b[39m, ranksep=\u001b[32m1.0\u001b[39m)\n",
      "\u001b[31mImportError\u001b[39m: Install pygraphviz to draw graphs: `pip install pygraphviz`."
     ]
    }
   ],
   "source": [
    "from IPython.display import Image\n",
    "Image(graph.get_graph().draw_png())"
   ]
  },
  {
   "attachments": {
    "image.png": {
     "image/png": "[encoded data removed]"
    }
   },
   "cell_type": "markdown",
   "id": "29061e62",
   "metadata": {},
   "source": [
    "![image.png](attachment:image.png)"
   ]
  },
  {
   "cell_type": "code",
   "execution_count": 30,
   "id": "5a0463ec",
   "metadata": {},
   "outputs": [
    {
     "name": "stdout",
     "output_type": "stream",
     "text": [
      "{'configurable': {'thread_id': '2', 'checkpoint_ns': '', 'checkpoint_id': '1f07a880-8eca-6016-8004-348e4350a513'}} 4\n",
      "{'configurable': {'thread_id': '2', 'checkpoint_ns': '', 'checkpoint_id': '1f07a880-8ec9-60d0-8003-0505aa6e9cd2'}} 3\n",
      "{'configurable': {'thread_id': '2', 'checkpoint_ns': '', 'checkpoint_id': '1f07a880-8ec7-6870-8002-e777e75e1b85'}} 2\n",
      "{'configurable': {'thread_id': '2', 'checkpoint_ns': '', 'checkpoint_id': '1f07a880-8ec5-63d6-8001-44418b3635dd'}} 1\n",
      "{'configurable': {'thread_id': '2', 'checkpoint_ns': '', 'checkpoint_id': '1f07a880-8ec3-6946-8000-a99ec0dd7a29'}} 0\n",
      "{'configurable': {'thread_id': '2', 'checkpoint_ns': '', 'checkpoint_id': '1f07a880-8ebb-62b4-bfff-cee83412c70b'}} 0\n"
     ]
    }
   ],
   "source": [
    "state2 = []\n",
    "for state in graph.get_state_history(thread2):\n",
    "    state2.append(state)\n",
    "    print(state.config, state.values[\"count\"])"
   ]
  },
  {
   "cell_type": "code",
   "execution_count": 31,
   "id": "4814c43e",
   "metadata": {},
   "outputs": [],
   "source": [
    "save_state = state2[-3]"
   ]
  },
  {
   "cell_type": "code",
   "execution_count": 32,
   "id": "2382a8ee",
   "metadata": {},
   "outputs": [
    {
     "data": {
      "text/plain": [
       "StateSnapshot(values={'lnode': 'node_1', 'pad': 'world', 'count': -3}, next=('Node2',), config={'configurable': {'thread_id': '2', 'checkpoint_ns': '', 'checkpoint_id': '1f07a880-8ec5-63d6-8001-44418b3635dd'}}, metadata={'source': 'loop', 'step': 1, 'parents': {}}, created_at='2025-08-16T10:01:53.233191+00:00', parent_config={'configurable': {'thread_id': '2', 'checkpoint_ns': '', 'checkpoint_id': '1f07a880-8ec3-6946-8000-a99ec0dd7a29'}}, tasks=(PregelTask(id='98951f99-a786-9154-8d2b-9d1b3382a004', name='Node2', path=('__pregel_pull', 'Node2'), error=None, interrupts=(), state=None, result={'lnode': 'node_2', 'count': 1}),), interrupts=())"
      ]
     },
     "execution_count": 32,
     "metadata": {},
     "output_type": "execute_result"
    }
   ],
   "source": [
    "save_state.values[\"count\"] = -3\n",
    "save_state.values[\"pad\"] = \"world\"\n",
    "\n",
    "save_state"
   ]
  },
  {
   "cell_type": "code",
   "execution_count": 33,
   "id": "37bd6b56",
   "metadata": {},
   "outputs": [
    {
     "data": {
      "text/plain": [
       "{'configurable': {'thread_id': '2',\n",
       "  'checkpoint_ns': '',\n",
       "  'checkpoint_id': '1f07a88f-4b14-6f42-8005-abea5c0196e0'}}"
      ]
     },
     "execution_count": 33,
     "metadata": {},
     "output_type": "execute_result"
    }
   ],
   "source": [
    "graph.update_state(thread2, save_state.values)"
   ]
  },
  {
   "cell_type": "code",
   "execution_count": 34,
   "id": "e6ff9b7c",
   "metadata": {},
   "outputs": [
    {
     "name": "stdout",
     "output_type": "stream",
     "text": [
      "StateSnapshot(values={'lnode': 'node_1', 'pad': 'world', 'count': 1}, next=('Node1',), config={'configurable': {'thread_id': '2', 'checkpoint_ns': '', 'checkpoint_id': '1f07a88f-4b14-6f42-8005-abea5c0196e0'}}, metadata={'source': 'update', 'step': 5, 'parents': {}}, created_at='2025-08-16T10:08:28.788694+00:00', parent_config={'configurable': {'thread_id': '2', 'checkpoint_ns': '', 'checkpoint_id': '1f07a880-8eca-6016-8004-348e4350a513'}}, tasks=(PregelTask(id='f05b17aa-a830-2873-a900-28f95061b380', name='Node1', path=('__pregel_pull', 'Node1'), error=None, interrupts=(), state=None, result=None),), interrupts=()) \n",
      "\n",
      "StateSnapshot(values={'lnode': 'node_2', 'pad': 'hi', 'count': 4}, next=(), config={'configurable': {'thread_id': '2', 'checkpoint_ns': '', 'checkpoint_id': '1f07a880-8eca-6016-8004-348e4350a513'}}, metadata={'source': 'loop', 'step': 4, 'parents': {}}, created_at='2025-08-16T10:01:53.235142+00:00', parent_config={'configurable': {'thread_id': '2', 'checkpoint_ns': '', 'checkpoint_id': '1f07a880-8ec9-60d0-8003-0505aa6e9cd2'}}, tasks=(), interrupts=()) \n",
      "\n",
      "StateSnapshot(values={'lnode': 'node_1', 'pad': 'hi', 'count': 3}, next=('Node2',), config={'configurable': {'thread_id': '2', 'checkpoint_ns': '', 'checkpoint_id': '1f07a880-8ec9-60d0-8003-0505aa6e9cd2'}}, metadata={'source': 'loop', 'step': 3, 'parents': {}}, created_at='2025-08-16T10:01:53.234754+00:00', parent_config={'configurable': {'thread_id': '2', 'checkpoint_ns': '', 'checkpoint_id': '1f07a880-8ec7-6870-8002-e777e75e1b85'}}, tasks=(PregelTask(id='04e706b8-7dc9-acd7-ea0c-5d617a7c8102', name='Node2', path=('__pregel_pull', 'Node2'), error=None, interrupts=(), state=None, result={'lnode': 'node_2', 'count': 1}),), interrupts=()) \n",
      "\n"
     ]
    }
   ],
   "source": [
    "for i, state in enumerate(graph.get_state_history(thread2)):\n",
    "    if i >=3:\n",
    "        break\n",
    "    print(state, '\\n')"
   ]
  },
  {
   "cell_type": "markdown",
   "id": "c184b77f",
   "metadata": {},
   "source": [
    "Do the same with using `as_node`"
   ]
  },
  {
   "cell_type": "code",
   "execution_count": 35,
   "id": "9b264944",
   "metadata": {},
   "outputs": [
    {
     "data": {
      "text/plain": [
       "{'configurable': {'thread_id': '2',\n",
       "  'checkpoint_ns': '',\n",
       "  'checkpoint_id': '1f07a898-a087-6408-8006-14f916b31c9c'}}"
      ]
     },
     "execution_count": 35,
     "metadata": {},
     "output_type": "execute_result"
    }
   ],
   "source": [
    "graph.update_state(thread2, save_state.values, as_node=\"Node1\")"
   ]
  },
  {
   "cell_type": "code",
   "execution_count": 36,
   "id": "fc71f06e",
   "metadata": {},
   "outputs": [
    {
     "name": "stdout",
     "output_type": "stream",
     "text": [
      "StateSnapshot(values={'lnode': 'node_1', 'pad': 'world', 'count': -2}, next=('Node2',), config={'configurable': {'thread_id': '2', 'checkpoint_ns': '', 'checkpoint_id': '1f07a898-a087-6408-8006-14f916b31c9c'}}, metadata={'source': 'update', 'step': 6, 'parents': {}}, created_at='2025-08-16T10:12:39.340328+00:00', parent_config={'configurable': {'thread_id': '2', 'checkpoint_ns': '', 'checkpoint_id': '1f07a88f-4b14-6f42-8005-abea5c0196e0'}}, tasks=(PregelTask(id='06e6085a-9515-c0ca-6751-cc9f4eb2b178', name='Node2', path=('__pregel_pull', 'Node2'), error=None, interrupts=(), state=None, result=None),), interrupts=()) \n",
      "\n",
      "StateSnapshot(values={'lnode': 'node_1', 'pad': 'world', 'count': 1}, next=('Node1',), config={'configurable': {'thread_id': '2', 'checkpoint_ns': '', 'checkpoint_id': '1f07a88f-4b14-6f42-8005-abea5c0196e0'}}, metadata={'source': 'update', 'step': 5, 'parents': {}}, created_at='2025-08-16T10:08:28.788694+00:00', parent_config={'configurable': {'thread_id': '2', 'checkpoint_ns': '', 'checkpoint_id': '1f07a880-8eca-6016-8004-348e4350a513'}}, tasks=(PregelTask(id='f05b17aa-a830-2873-a900-28f95061b380', name='Node1', path=('__pregel_pull', 'Node1'), error=None, interrupts=(), state=None, result=None),), interrupts=()) \n",
      "\n",
      "StateSnapshot(values={'lnode': 'node_2', 'pad': 'hi', 'count': 4}, next=(), config={'configurable': {'thread_id': '2', 'checkpoint_ns': '', 'checkpoint_id': '1f07a880-8eca-6016-8004-348e4350a513'}}, metadata={'source': 'loop', 'step': 4, 'parents': {}}, created_at='2025-08-16T10:01:53.235142+00:00', parent_config={'configurable': {'thread_id': '2', 'checkpoint_ns': '', 'checkpoint_id': '1f07a880-8ec9-60d0-8003-0505aa6e9cd2'}}, tasks=(), interrupts=()) \n",
      "\n"
     ]
    }
   ],
   "source": [
    "for i, state in enumerate(graph.get_state_history(thread2)):\n",
    "    if i >=3:\n",
    "        break\n",
    "    print(state, '\\n')"
   ]
  },
  {
   "cell_type": "code",
   "execution_count": 37,
   "id": "2c7a919b",
   "metadata": {},
   "outputs": [
    {
     "name": "stdout",
     "output_type": "stream",
     "text": [
      "node2, count:-2\n",
      "node1, count:-1\n",
      "node2, count:0\n",
      "node1, count:1\n",
      "node2, count:2\n"
     ]
    },
    {
     "data": {
      "text/plain": [
       "{'lnode': 'node_2', 'pad': 'world', 'count': 3}"
      ]
     },
     "execution_count": 37,
     "metadata": {},
     "output_type": "execute_result"
    }
   ],
   "source": [
    "graph.invoke(None, thread2)"
   ]
  },
  {
   "cell_type": "code",
   "execution_count": 38,
   "id": "04dda4e0",
   "metadata": {},
   "outputs": [
    {
     "name": "stdout",
     "output_type": "stream",
     "text": [
      "StateSnapshot(values={'lnode': 'node_2', 'pad': 'world', 'count': 3}, next=(), config={'configurable': {'thread_id': '2', 'checkpoint_ns': '', 'checkpoint_id': '1f07a89b-2bb8-60ca-800b-b3ff69e0d42c'}}, metadata={'source': 'loop', 'step': 11, 'parents': {}}, created_at='2025-08-16T10:13:47.622619+00:00', parent_config={'configurable': {'thread_id': '2', 'checkpoint_ns': '', 'checkpoint_id': '1f07a89b-2bb7-6846-800a-4fdb634ef10a'}}, tasks=(), interrupts=()) \n",
      "\n",
      "StateSnapshot(values={'lnode': 'node_1', 'pad': 'world', 'count': 2}, next=('Node2',), config={'configurable': {'thread_id': '2', 'checkpoint_ns': '', 'checkpoint_id': '1f07a89b-2bb7-6846-800a-4fdb634ef10a'}}, metadata={'source': 'loop', 'step': 10, 'parents': {}}, created_at='2025-08-16T10:13:47.622401+00:00', parent_config={'configurable': {'thread_id': '2', 'checkpoint_ns': '', 'checkpoint_id': '1f07a89b-2bb6-6806-8009-62b389b5d8bc'}}, tasks=(PregelTask(id='54a5fb61-8fa6-08f3-4c87-d119dae15e07', name='Node2', path=('__pregel_pull', 'Node2'), error=None, interrupts=(), state=None, result={'lnode': 'node_2', 'count': 1}),), interrupts=()) \n",
      "\n",
      "StateSnapshot(values={'lnode': 'node_2', 'pad': 'world', 'count': 1}, next=('Node1',), config={'configurable': {'thread_id': '2', 'checkpoint_ns': '', 'checkpoint_id': '1f07a89b-2bb6-6806-8009-62b389b5d8bc'}}, metadata={'source': 'loop', 'step': 9, 'parents': {}}, created_at='2025-08-16T10:13:47.621982+00:00', parent_config={'configurable': {'thread_id': '2', 'checkpoint_ns': '', 'checkpoint_id': '1f07a89b-2bb5-6c58-8008-232a11e665df'}}, tasks=(PregelTask(id='d5738964-7c70-964f-46fd-8c4dbb5aee4b', name='Node1', path=('__pregel_pull', 'Node1'), error=None, interrupts=(), state=None, result={'lnode': 'node_1', 'count': 1}),), interrupts=()) \n",
      "\n",
      "StateSnapshot(values={'lnode': 'node_1', 'pad': 'world', 'count': 0}, next=('Node2',), config={'configurable': {'thread_id': '2', 'checkpoint_ns': '', 'checkpoint_id': '1f07a89b-2bb5-6c58-8008-232a11e665df'}}, metadata={'source': 'loop', 'step': 8, 'parents': {}}, created_at='2025-08-16T10:13:47.621683+00:00', parent_config={'configurable': {'thread_id': '2', 'checkpoint_ns': '', 'checkpoint_id': '1f07a89b-2bb3-61f6-8007-a1a2f4ac6bf9'}}, tasks=(PregelTask(id='afd92b18-c3ac-1111-f380-2e7b3d32cb5e', name='Node2', path=('__pregel_pull', 'Node2'), error=None, interrupts=(), state=None, result={'lnode': 'node_2', 'count': 1}),), interrupts=()) \n",
      "\n",
      "StateSnapshot(values={'lnode': 'node_2', 'pad': 'world', 'count': -1}, next=('Node1',), config={'configurable': {'thread_id': '2', 'checkpoint_ns': '', 'checkpoint_id': '1f07a89b-2bb3-61f6-8007-a1a2f4ac6bf9'}}, metadata={'source': 'loop', 'step': 7, 'parents': {}}, created_at='2025-08-16T10:13:47.620596+00:00', parent_config={'configurable': {'thread_id': '2', 'checkpoint_ns': '', 'checkpoint_id': '1f07a898-a087-6408-8006-14f916b31c9c'}}, tasks=(PregelTask(id='f9b3a931-6328-7931-f2a2-6357500769ad', name='Node1', path=('__pregel_pull', 'Node1'), error=None, interrupts=(), state=None, result={'lnode': 'node_1', 'count': 1}),), interrupts=()) \n",
      "\n",
      "StateSnapshot(values={'lnode': 'node_1', 'pad': 'world', 'count': -2}, next=('Node2',), config={'configurable': {'thread_id': '2', 'checkpoint_ns': '', 'checkpoint_id': '1f07a898-a087-6408-8006-14f916b31c9c'}}, metadata={'source': 'update', 'step': 6, 'parents': {}}, created_at='2025-08-16T10:12:39.340328+00:00', parent_config={'configurable': {'thread_id': '2', 'checkpoint_ns': '', 'checkpoint_id': '1f07a88f-4b14-6f42-8005-abea5c0196e0'}}, tasks=(PregelTask(id='06e6085a-9515-c0ca-6751-cc9f4eb2b178', name='Node2', path=('__pregel_pull', 'Node2'), error=None, interrupts=(), state=None, result={'lnode': 'node_2', 'count': 1}),), interrupts=()) \n",
      "\n",
      "StateSnapshot(values={'lnode': 'node_1', 'pad': 'world', 'count': 1}, next=('Node1',), config={'configurable': {'thread_id': '2', 'checkpoint_ns': '', 'checkpoint_id': '1f07a88f-4b14-6f42-8005-abea5c0196e0'}}, metadata={'source': 'update', 'step': 5, 'parents': {}}, created_at='2025-08-16T10:08:28.788694+00:00', parent_config={'configurable': {'thread_id': '2', 'checkpoint_ns': '', 'checkpoint_id': '1f07a880-8eca-6016-8004-348e4350a513'}}, tasks=(PregelTask(id='f05b17aa-a830-2873-a900-28f95061b380', name='Node1', path=('__pregel_pull', 'Node1'), error=None, interrupts=(), state=None, result=None),), interrupts=()) \n",
      "\n",
      "StateSnapshot(values={'lnode': 'node_2', 'pad': 'hi', 'count': 4}, next=(), config={'configurable': {'thread_id': '2', 'checkpoint_ns': '', 'checkpoint_id': '1f07a880-8eca-6016-8004-348e4350a513'}}, metadata={'source': 'loop', 'step': 4, 'parents': {}}, created_at='2025-08-16T10:01:53.235142+00:00', parent_config={'configurable': {'thread_id': '2', 'checkpoint_ns': '', 'checkpoint_id': '1f07a880-8ec9-60d0-8003-0505aa6e9cd2'}}, tasks=(), interrupts=()) \n",
      "\n",
      "StateSnapshot(values={'lnode': 'node_1', 'pad': 'hi', 'count': 3}, next=('Node2',), config={'configurable': {'thread_id': '2', 'checkpoint_ns': '', 'checkpoint_id': '1f07a880-8ec9-60d0-8003-0505aa6e9cd2'}}, metadata={'source': 'loop', 'step': 3, 'parents': {}}, created_at='2025-08-16T10:01:53.234754+00:00', parent_config={'configurable': {'thread_id': '2', 'checkpoint_ns': '', 'checkpoint_id': '1f07a880-8ec7-6870-8002-e777e75e1b85'}}, tasks=(PregelTask(id='04e706b8-7dc9-acd7-ea0c-5d617a7c8102', name='Node2', path=('__pregel_pull', 'Node2'), error=None, interrupts=(), state=None, result={'lnode': 'node_2', 'count': 1}),), interrupts=()) \n",
      "\n",
      "StateSnapshot(values={'lnode': 'node_2', 'pad': 'hi', 'count': 2}, next=('Node1',), config={'configurable': {'thread_id': '2', 'checkpoint_ns': '', 'checkpoint_id': '1f07a880-8ec7-6870-8002-e777e75e1b85'}}, metadata={'source': 'loop', 'step': 2, 'parents': {}}, created_at='2025-08-16T10:01:53.234129+00:00', parent_config={'configurable': {'thread_id': '2', 'checkpoint_ns': '', 'checkpoint_id': '1f07a880-8ec5-63d6-8001-44418b3635dd'}}, tasks=(PregelTask(id='470878b9-6065-0769-bdce-0e34e0e99fef', name='Node1', path=('__pregel_pull', 'Node1'), error=None, interrupts=(), state=None, result={'lnode': 'node_1', 'count': 1}),), interrupts=()) \n",
      "\n",
      "StateSnapshot(values={'lnode': 'node_1', 'pad': 'hi', 'count': 1}, next=('Node2',), config={'configurable': {'thread_id': '2', 'checkpoint_ns': '', 'checkpoint_id': '1f07a880-8ec5-63d6-8001-44418b3635dd'}}, metadata={'source': 'loop', 'step': 1, 'parents': {}}, created_at='2025-08-16T10:01:53.233191+00:00', parent_config={'configurable': {'thread_id': '2', 'checkpoint_ns': '', 'checkpoint_id': '1f07a880-8ec3-6946-8000-a99ec0dd7a29'}}, tasks=(PregelTask(id='98951f99-a786-9154-8d2b-9d1b3382a004', name='Node2', path=('__pregel_pull', 'Node2'), error=None, interrupts=(), state=None, result={'lnode': 'node_2', 'count': 1}),), interrupts=()) \n",
      "\n",
      "StateSnapshot(values={'pad': 'hi', 'count': 0}, next=('Node1',), config={'configurable': {'thread_id': '2', 'checkpoint_ns': '', 'checkpoint_id': '1f07a880-8ec3-6946-8000-a99ec0dd7a29'}}, metadata={'source': 'loop', 'step': 0, 'parents': {}}, created_at='2025-08-16T10:01:53.232508+00:00', parent_config={'configurable': {'thread_id': '2', 'checkpoint_ns': '', 'checkpoint_id': '1f07a880-8ebb-62b4-bfff-cee83412c70b'}}, tasks=(PregelTask(id='5ec72369-51c9-05cf-edd3-c46e7004dd56', name='Node1', path=('__pregel_pull', 'Node1'), error=None, interrupts=(), state=None, result={'lnode': 'node_1', 'count': 1}),), interrupts=()) \n",
      "\n",
      "StateSnapshot(values={'count': 0}, next=('__start__',), config={'configurable': {'thread_id': '2', 'checkpoint_ns': '', 'checkpoint_id': '1f07a880-8ebb-62b4-bfff-cee83412c70b'}}, metadata={'source': 'input', 'step': -1, 'parents': {}}, created_at='2025-08-16T10:01:53.229035+00:00', parent_config=None, tasks=(PregelTask(id='caec9c78-b980-7cd4-d0e6-947ef4915ea1', name='__start__', path=('__pregel_pull', '__start__'), error=None, interrupts=(), state=None, result={'count': 0, 'pad': 'hi'}),), interrupts=()) \n",
      "\n"
     ]
    }
   ],
   "source": [
    "for state in graph.get_state_history(thread2):\n",
    "    print(state, '\\n')"
   ]
  },
  {
   "cell_type": "code",
   "execution_count": null,
   "id": "5f4b6b56",
   "metadata": {},
   "outputs": [],
   "source": []
  }
 ],
 "metadata": {
  "kernelspec": {
   "display_name": "agentic_notebook",
   "language": "python",
   "name": "agentic_notebook"
  },
  "language_info": {
   "codemirror_mode": {
    "name": "ipython",
    "version": 3
   },
   "file_extension": ".py",
   "mimetype": "text/x-python",
   "name": "python",
   "nbconvert_exporter": "python",
   "pygments_lexer": "ipython3",
   "version": "3.11.9"
  }
 },
 "nbformat": 4,
 "nbformat_minor": 5
}
