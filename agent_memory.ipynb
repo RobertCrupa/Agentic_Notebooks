{
 "cells": [
  {
   "cell_type": "markdown",
   "id": "9c69d8d5",
   "metadata": {},
   "source": [
    "# Practice with simple small graph"
   ]
  },
  {
   "cell_type": "code",
   "execution_count": 1,
   "id": "97af47e8",
   "metadata": {},
   "outputs": [],
   "source": [
    "from dotenv import load_dotenv\n",
    "\n",
    "_ = load_dotenv()"
   ]
  },
  {
   "cell_type": "code",
   "execution_count": 10,
   "id": "92203314",
   "metadata": {},
   "outputs": [],
   "source": [
    "from langgraph.graph import StateGraph, END\n",
    "from typing import TypedDict, Annotated\n",
    "import operator\n",
    "from langgraph.checkpoint.sqlite import SqliteSaver\n",
    "from langgraph.checkpoint.memory import MemorySaver"
   ]
  },
  {
   "cell_type": "code",
   "execution_count": 4,
   "id": "b508b410",
   "metadata": {},
   "outputs": [],
   "source": [
    "class AgentState(TypedDict):\n",
    "    lnode: str\n",
    "    pad: str\n",
    "    count: Annotated[int, operator.add]"
   ]
  },
  {
   "cell_type": "code",
   "execution_count": 6,
   "id": "68ecb2cc",
   "metadata": {},
   "outputs": [],
   "source": [
    "def node1(state: AgentState):\n",
    "    print(f\"node1, count:{state['count']}\")\n",
    "    return {\"lnode\": \"node_1\",\n",
    "            \"count\": 1}\n",
    "\n",
    "def node2(state: AgentState):\n",
    "    print(f\"node2, count:{state['count']}\")\n",
    "    return {\"lnode\": \"node_2\",\n",
    "            \"count\": 1}\n",
    "\n",
    "def should_continue(state: AgentState) -> bool:\n",
    "    return state[\"count\"] < 3"
   ]
  },
  {
   "cell_type": "markdown",
   "id": "6483054c",
   "metadata": {},
   "source": [
    "The graph should go N1 -> N2 -> N1 but break"
   ]
  },
  {
   "cell_type": "code",
   "execution_count": 11,
   "id": "b79386f9",
   "metadata": {},
   "outputs": [],
   "source": [
    "builder = StateGraph(AgentState)\n",
    "builder.add_node(\"Node1\", node1)\n",
    "builder.add_node(\"Node2\", node2)\n",
    "builder.add_edge(\"Node1\", \"Node2\")\n",
    "builder.add_conditional_edges(\"Node2\", should_continue, { True: \"Node1\", False: END})\n",
    "builder.set_entry_point(\"Node1\")\n",
    "\n",
    "#memory = SqliteSaver.from_conn_string(\":memory:\")\n",
    "memory = MemorySaver()\n",
    "graph = builder.compile(checkpointer=memory)"
   ]
  },
  {
   "cell_type": "code",
   "execution_count": 12,
   "id": "9a85c26a",
   "metadata": {},
   "outputs": [
    {
     "name": "stdout",
     "output_type": "stream",
     "text": [
      "node1, count:0\n",
      "node2, count:1\n",
      "node1, count:2\n",
      "node2, count:3\n"
     ]
    },
    {
     "data": {
      "text/plain": [
       "{'lnode': 'node_2', 'pad': 'Hello', 'count': 4}"
      ]
     },
     "execution_count": 12,
     "metadata": {},
     "output_type": "execute_result"
    }
   ],
   "source": [
    "thread = {\"configurable\": {\"thread_id\": \"1\"}}\n",
    "\n",
    "graph.invoke({\"count\": 0, \"pad\": \"Hello\"}, thread)"
   ]
  },
  {
   "cell_type": "markdown",
   "id": "f25bf905",
   "metadata": {},
   "source": [
    "# Let's investigate"
   ]
  },
  {
   "cell_type": "code",
   "execution_count": 15,
   "id": "80b61e94",
   "metadata": {},
   "outputs": [
    {
     "data": {
      "text/plain": [
       "StateSnapshot(values={'lnode': 'node_2', 'pad': 'Hello', 'count': 4}, next=(), config={'configurable': {'thread_id': '1', 'checkpoint_ns': '', 'checkpoint_id': '1f0776ef-cc1a-6a46-8004-4807462a87ee'}}, metadata={'source': 'loop', 'step': 4, 'parents': {}}, created_at='2025-08-12T11:25:01.914366+00:00', parent_config={'configurable': {'thread_id': '1', 'checkpoint_ns': '', 'checkpoint_id': '1f0776ef-cc18-6fd4-8003-df0ed3cd81a3'}}, tasks=(), interrupts=())"
      ]
     },
     "metadata": {},
     "output_type": "display_data"
    }
   ],
   "source": [
    "display(graph.get_state(thread))"
   ]
  },
  {
   "cell_type": "code",
   "execution_count": 16,
   "id": "9e15a532",
   "metadata": {},
   "outputs": [
    {
     "name": "stdout",
     "output_type": "stream",
     "text": [
      "StateSnapshot(values={'lnode': 'node_2', 'pad': 'Hello', 'count': 4}, next=(), config={'configurable': {'thread_id': '1', 'checkpoint_ns': '', 'checkpoint_id': '1f0776ef-cc1a-6a46-8004-4807462a87ee'}}, metadata={'source': 'loop', 'step': 4, 'parents': {}}, created_at='2025-08-12T11:25:01.914366+00:00', parent_config={'configurable': {'thread_id': '1', 'checkpoint_ns': '', 'checkpoint_id': '1f0776ef-cc18-6fd4-8003-df0ed3cd81a3'}}, tasks=(), interrupts=()) \n",
      "\n",
      "StateSnapshot(values={'lnode': 'node_1', 'pad': 'Hello', 'count': 3}, next=('Node2',), config={'configurable': {'thread_id': '1', 'checkpoint_ns': '', 'checkpoint_id': '1f0776ef-cc18-6fd4-8003-df0ed3cd81a3'}}, metadata={'source': 'loop', 'step': 3, 'parents': {}}, created_at='2025-08-12T11:25:01.913692+00:00', parent_config={'configurable': {'thread_id': '1', 'checkpoint_ns': '', 'checkpoint_id': '1f0776ef-cc18-64a8-8002-8d44223bf0d8'}}, tasks=(PregelTask(id='61e78077-0618-e2cc-88a0-66ebc59b14ab', name='Node2', path=('__pregel_pull', 'Node2'), error=None, interrupts=(), state=None, result={'lnode': 'node_2', 'count': 1}),), interrupts=()) \n",
      "\n",
      "StateSnapshot(values={'lnode': 'node_2', 'pad': 'Hello', 'count': 2}, next=('Node1',), config={'configurable': {'thread_id': '1', 'checkpoint_ns': '', 'checkpoint_id': '1f0776ef-cc18-64a8-8002-8d44223bf0d8'}}, metadata={'source': 'loop', 'step': 2, 'parents': {}}, created_at='2025-08-12T11:25:01.913405+00:00', parent_config={'configurable': {'thread_id': '1', 'checkpoint_ns': '', 'checkpoint_id': '1f0776ef-cc16-6a04-8001-9c1eeef210fa'}}, tasks=(PregelTask(id='6dfb24c5-8e4a-3c14-cd69-7da1565c0397', name='Node1', path=('__pregel_pull', 'Node1'), error=None, interrupts=(), state=None, result={'lnode': 'node_1', 'count': 1}),), interrupts=()) \n",
      "\n",
      "StateSnapshot(values={'lnode': 'node_1', 'pad': 'Hello', 'count': 1}, next=('Node2',), config={'configurable': {'thread_id': '1', 'checkpoint_ns': '', 'checkpoint_id': '1f0776ef-cc16-6a04-8001-9c1eeef210fa'}}, metadata={'source': 'loop', 'step': 1, 'parents': {}}, created_at='2025-08-12T11:25:01.912723+00:00', parent_config={'configurable': {'thread_id': '1', 'checkpoint_ns': '', 'checkpoint_id': '1f0776ef-cc14-6e20-8000-ed6546805b09'}}, tasks=(PregelTask(id='a803e457-082e-5763-33cb-0bf4e0ce992e', name='Node2', path=('__pregel_pull', 'Node2'), error=None, interrupts=(), state=None, result={'lnode': 'node_2', 'count': 1}),), interrupts=()) \n",
      "\n",
      "StateSnapshot(values={'pad': 'Hello', 'count': 0}, next=('Node1',), config={'configurable': {'thread_id': '1', 'checkpoint_ns': '', 'checkpoint_id': '1f0776ef-cc14-6e20-8000-ed6546805b09'}}, metadata={'source': 'loop', 'step': 0, 'parents': {}}, created_at='2025-08-12T11:25:01.912006+00:00', parent_config={'configurable': {'thread_id': '1', 'checkpoint_ns': '', 'checkpoint_id': '1f0776ef-cc12-651c-bfff-7eaf9c73fa9e'}}, tasks=(PregelTask(id='a05e2ea4-a7c8-39e2-b834-2d2e2de3f501', name='Node1', path=('__pregel_pull', 'Node1'), error=None, interrupts=(), state=None, result={'lnode': 'node_1', 'count': 1}),), interrupts=()) \n",
      "\n",
      "StateSnapshot(values={'count': 0}, next=('__start__',), config={'configurable': {'thread_id': '1', 'checkpoint_ns': '', 'checkpoint_id': '1f0776ef-cc12-651c-bfff-7eaf9c73fa9e'}}, metadata={'source': 'input', 'step': -1, 'parents': {}}, created_at='2025-08-12T11:25:01.910959+00:00', parent_config=None, tasks=(PregelTask(id='2ba4e7a0-2485-f44e-c737-590202a40312', name='__start__', path=('__pregel_pull', '__start__'), error=None, interrupts=(), state=None, result={'count': 0, 'pad': 'Hello'}),), interrupts=()) \n",
      "\n"
     ]
    }
   ],
   "source": [
    "for state in graph.get_state_history(thread):\n",
    "    print(state, \"\\n\")"
   ]
  },
  {
   "cell_type": "code",
   "execution_count": 17,
   "id": "ca20c28c",
   "metadata": {},
   "outputs": [
    {
     "name": "stdout",
     "output_type": "stream",
     "text": [
      "{'configurable': {'thread_id': '1', 'checkpoint_ns': '', 'checkpoint_id': '1f0776ef-cc1a-6a46-8004-4807462a87ee'}} 4\n",
      "{'configurable': {'thread_id': '1', 'checkpoint_ns': '', 'checkpoint_id': '1f0776ef-cc18-6fd4-8003-df0ed3cd81a3'}} 3\n",
      "{'configurable': {'thread_id': '1', 'checkpoint_ns': '', 'checkpoint_id': '1f0776ef-cc18-64a8-8002-8d44223bf0d8'}} 2\n",
      "{'configurable': {'thread_id': '1', 'checkpoint_ns': '', 'checkpoint_id': '1f0776ef-cc16-6a04-8001-9c1eeef210fa'}} 1\n",
      "{'configurable': {'thread_id': '1', 'checkpoint_ns': '', 'checkpoint_id': '1f0776ef-cc14-6e20-8000-ed6546805b09'}} 0\n",
      "{'configurable': {'thread_id': '1', 'checkpoint_ns': '', 'checkpoint_id': '1f0776ef-cc12-651c-bfff-7eaf9c73fa9e'}} 0\n"
     ]
    }
   ],
   "source": [
    "states = []\n",
    "for state in graph.get_state_history(thread):\n",
    "    states.append(state.config)\n",
    "    print(state.config, state.values['count'])"
   ]
  },
  {
   "cell_type": "code",
   "execution_count": 18,
   "id": "2cd0c37d",
   "metadata": {},
   "outputs": [
    {
     "data": {
      "text/plain": [
       "StateSnapshot(values={'lnode': 'node_1', 'pad': 'Hello', 'count': 1}, next=('Node2',), config={'configurable': {'thread_id': '1', 'checkpoint_ns': '', 'checkpoint_id': '1f0776ef-cc16-6a04-8001-9c1eeef210fa'}}, metadata={'source': 'loop', 'step': 1, 'parents': {}}, created_at='2025-08-12T11:25:01.912723+00:00', parent_config={'configurable': {'thread_id': '1', 'checkpoint_ns': '', 'checkpoint_id': '1f0776ef-cc14-6e20-8000-ed6546805b09'}}, tasks=(PregelTask(id='a803e457-082e-5763-33cb-0bf4e0ce992e', name='Node2', path=('__pregel_pull', 'Node2'), error=None, interrupts=(), state=None, result={'lnode': 'node_2', 'count': 1}),), interrupts=())"
      ]
     },
     "execution_count": 18,
     "metadata": {},
     "output_type": "execute_result"
    }
   ],
   "source": [
    "graph.get_state(states[-3])"
   ]
  },
  {
   "cell_type": "markdown",
   "id": "d55cce9a",
   "metadata": {},
   "source": [
    "# Go back in time"
   ]
  },
  {
   "cell_type": "code",
   "execution_count": 19,
   "id": "0f5175ba",
   "metadata": {},
   "outputs": [
    {
     "name": "stdout",
     "output_type": "stream",
     "text": [
      "node2, count:1\n",
      "node1, count:2\n",
      "node2, count:3\n"
     ]
    },
    {
     "data": {
      "text/plain": [
       "{'lnode': 'node_2', 'pad': 'Hello', 'count': 4}"
      ]
     },
     "execution_count": 19,
     "metadata": {},
     "output_type": "execute_result"
    }
   ],
   "source": [
    "graph.invoke(None, states[-3])"
   ]
  },
  {
   "cell_type": "code",
   "execution_count": 20,
   "id": "4448eb86",
   "metadata": {},
   "outputs": [
    {
     "name": "stdout",
     "output_type": "stream",
     "text": [
      "{'configurable': {'thread_id': '1', 'checkpoint_ns': '', 'checkpoint_id': '1f077709-783c-6270-8004-6ea844f1aa45'}} 4\n",
      "{'configurable': {'thread_id': '1', 'checkpoint_ns': '', 'checkpoint_id': '1f077709-783a-607e-8003-ed139a52baf6'}} 3\n",
      "{'configurable': {'thread_id': '1', 'checkpoint_ns': '', 'checkpoint_id': '1f077709-7838-6c10-8002-6ce795fcd473'}} 2\n",
      "{'configurable': {'thread_id': '1', 'checkpoint_ns': '', 'checkpoint_id': '1f0776ef-cc1a-6a46-8004-4807462a87ee'}} 4\n",
      "{'configurable': {'thread_id': '1', 'checkpoint_ns': '', 'checkpoint_id': '1f0776ef-cc18-6fd4-8003-df0ed3cd81a3'}} 3\n",
      "{'configurable': {'thread_id': '1', 'checkpoint_ns': '', 'checkpoint_id': '1f0776ef-cc18-64a8-8002-8d44223bf0d8'}} 2\n",
      "{'configurable': {'thread_id': '1', 'checkpoint_ns': '', 'checkpoint_id': '1f0776ef-cc16-6a04-8001-9c1eeef210fa'}} 1\n",
      "{'configurable': {'thread_id': '1', 'checkpoint_ns': '', 'checkpoint_id': '1f0776ef-cc14-6e20-8000-ed6546805b09'}} 0\n",
      "{'configurable': {'thread_id': '1', 'checkpoint_ns': '', 'checkpoint_id': '1f0776ef-cc12-651c-bfff-7eaf9c73fa9e'}} 0\n"
     ]
    }
   ],
   "source": [
    "thread = {\"configurable\": {\"thread_id\": str(1)}}\n",
    "for state in graph.get_state_history(thread):\n",
    "    print(state.config, state.values['count'])"
   ]
  },
  {
   "cell_type": "markdown",
   "id": "2e989c25",
   "metadata": {},
   "source": [
    "Notice how the new states are not in the history from the counts"
   ]
  },
  {
   "cell_type": "code",
   "execution_count": 21,
   "id": "ba6fb093",
   "metadata": {},
   "outputs": [
    {
     "name": "stdout",
     "output_type": "stream",
     "text": [
      "StateSnapshot(values={'lnode': 'node_2', 'pad': 'Hello', 'count': 4}, next=(), config={'configurable': {'thread_id': '1', 'checkpoint_ns': '', 'checkpoint_id': '1f077709-783c-6270-8004-6ea844f1aa45'}}, metadata={'source': 'loop', 'step': 4, 'parents': {}}, created_at='2025-08-12T11:36:31.052236+00:00', parent_config={'configurable': {'thread_id': '1', 'checkpoint_ns': '', 'checkpoint_id': '1f077709-783a-607e-8003-ed139a52baf6'}}, tasks=(), interrupts=()) \n",
      "\n",
      "StateSnapshot(values={'lnode': 'node_1', 'pad': 'Hello', 'count': 3}, next=('Node2',), config={'configurable': {'thread_id': '1', 'checkpoint_ns': '', 'checkpoint_id': '1f077709-783a-607e-8003-ed139a52baf6'}}, metadata={'source': 'loop', 'step': 3, 'parents': {}}, created_at='2025-08-12T11:36:31.051373+00:00', parent_config={'configurable': {'thread_id': '1', 'checkpoint_ns': '', 'checkpoint_id': '1f077709-7838-6c10-8002-6ce795fcd473'}}, tasks=(PregelTask(id='568bc7ee-8f44-e88e-8006-5fd846d7ecef', name='Node2', path=('__pregel_pull', 'Node2'), error=None, interrupts=(), state=None, result={'lnode': 'node_2', 'count': 1}),), interrupts=()) \n",
      "\n",
      "StateSnapshot(values={'lnode': 'node_2', 'pad': 'Hello', 'count': 2}, next=('Node1',), config={'configurable': {'thread_id': '1', 'checkpoint_ns': '', 'checkpoint_id': '1f077709-7838-6c10-8002-6ce795fcd473'}}, metadata={'source': 'loop', 'step': 2, 'parents': {}}, created_at='2025-08-12T11:36:31.050845+00:00', parent_config={'configurable': {'thread_id': '1', 'checkpoint_ns': '', 'checkpoint_id': '1f0776ef-cc16-6a04-8001-9c1eeef210fa'}}, tasks=(PregelTask(id='ef5b7f51-6eae-8bdb-4c46-cd8f950a3c11', name='Node1', path=('__pregel_pull', 'Node1'), error=None, interrupts=(), state=None, result={'lnode': 'node_1', 'count': 1}),), interrupts=()) \n",
      "\n",
      "StateSnapshot(values={'lnode': 'node_2', 'pad': 'Hello', 'count': 4}, next=(), config={'configurable': {'thread_id': '1', 'checkpoint_ns': '', 'checkpoint_id': '1f0776ef-cc1a-6a46-8004-4807462a87ee'}}, metadata={'source': 'loop', 'step': 4, 'parents': {}}, created_at='2025-08-12T11:25:01.914366+00:00', parent_config={'configurable': {'thread_id': '1', 'checkpoint_ns': '', 'checkpoint_id': '1f0776ef-cc18-6fd4-8003-df0ed3cd81a3'}}, tasks=(), interrupts=()) \n",
      "\n",
      "StateSnapshot(values={'lnode': 'node_1', 'pad': 'Hello', 'count': 3}, next=('Node2',), config={'configurable': {'thread_id': '1', 'checkpoint_ns': '', 'checkpoint_id': '1f0776ef-cc18-6fd4-8003-df0ed3cd81a3'}}, metadata={'source': 'loop', 'step': 3, 'parents': {}}, created_at='2025-08-12T11:25:01.913692+00:00', parent_config={'configurable': {'thread_id': '1', 'checkpoint_ns': '', 'checkpoint_id': '1f0776ef-cc18-64a8-8002-8d44223bf0d8'}}, tasks=(PregelTask(id='61e78077-0618-e2cc-88a0-66ebc59b14ab', name='Node2', path=('__pregel_pull', 'Node2'), error=None, interrupts=(), state=None, result={'lnode': 'node_2', 'count': 1}),), interrupts=()) \n",
      "\n",
      "StateSnapshot(values={'lnode': 'node_2', 'pad': 'Hello', 'count': 2}, next=('Node1',), config={'configurable': {'thread_id': '1', 'checkpoint_ns': '', 'checkpoint_id': '1f0776ef-cc18-64a8-8002-8d44223bf0d8'}}, metadata={'source': 'loop', 'step': 2, 'parents': {}}, created_at='2025-08-12T11:25:01.913405+00:00', parent_config={'configurable': {'thread_id': '1', 'checkpoint_ns': '', 'checkpoint_id': '1f0776ef-cc16-6a04-8001-9c1eeef210fa'}}, tasks=(PregelTask(id='6dfb24c5-8e4a-3c14-cd69-7da1565c0397', name='Node1', path=('__pregel_pull', 'Node1'), error=None, interrupts=(), state=None, result={'lnode': 'node_1', 'count': 1}),), interrupts=()) \n",
      "\n",
      "StateSnapshot(values={'lnode': 'node_1', 'pad': 'Hello', 'count': 1}, next=('Node2',), config={'configurable': {'thread_id': '1', 'checkpoint_ns': '', 'checkpoint_id': '1f0776ef-cc16-6a04-8001-9c1eeef210fa'}}, metadata={'source': 'loop', 'step': 1, 'parents': {}}, created_at='2025-08-12T11:25:01.912723+00:00', parent_config={'configurable': {'thread_id': '1', 'checkpoint_ns': '', 'checkpoint_id': '1f0776ef-cc14-6e20-8000-ed6546805b09'}}, tasks=(PregelTask(id='a803e457-082e-5763-33cb-0bf4e0ce992e', name='Node2', path=('__pregel_pull', 'Node2'), error=None, interrupts=(), state=None, result={'lnode': 'node_2', 'count': 1}),), interrupts=()) \n",
      "\n",
      "StateSnapshot(values={'pad': 'Hello', 'count': 0}, next=('Node1',), config={'configurable': {'thread_id': '1', 'checkpoint_ns': '', 'checkpoint_id': '1f0776ef-cc14-6e20-8000-ed6546805b09'}}, metadata={'source': 'loop', 'step': 0, 'parents': {}}, created_at='2025-08-12T11:25:01.912006+00:00', parent_config={'configurable': {'thread_id': '1', 'checkpoint_ns': '', 'checkpoint_id': '1f0776ef-cc12-651c-bfff-7eaf9c73fa9e'}}, tasks=(PregelTask(id='a05e2ea4-a7c8-39e2-b834-2d2e2de3f501', name='Node1', path=('__pregel_pull', 'Node1'), error=None, interrupts=(), state=None, result={'lnode': 'node_1', 'count': 1}),), interrupts=()) \n",
      "\n",
      "StateSnapshot(values={'count': 0}, next=('__start__',), config={'configurable': {'thread_id': '1', 'checkpoint_ns': '', 'checkpoint_id': '1f0776ef-cc12-651c-bfff-7eaf9c73fa9e'}}, metadata={'source': 'input', 'step': -1, 'parents': {}}, created_at='2025-08-12T11:25:01.910959+00:00', parent_config=None, tasks=(PregelTask(id='2ba4e7a0-2485-f44e-c737-590202a40312', name='__start__', path=('__pregel_pull', '__start__'), error=None, interrupts=(), state=None, result={'count': 0, 'pad': 'Hello'}),), interrupts=()) \n",
      "\n"
     ]
    }
   ],
   "source": [
    "thread = {\"configurable\": {\"thread_id\": str(1)}}\n",
    "for state in graph.get_state_history(thread):\n",
    "    print(state,\"\\n\")"
   ]
  },
  {
   "cell_type": "markdown",
   "id": "6df99196",
   "metadata": {},
   "source": [
    "# Modifying states"
   ]
  },
  {
   "cell_type": "code",
   "execution_count": null,
   "id": "c5a8a533",
   "metadata": {},
   "outputs": [],
   "source": []
  }
 ],
 "metadata": {
  "kernelspec": {
   "display_name": "agentic_notebook",
   "language": "python",
   "name": "agentic_notebook"
  },
  "language_info": {
   "codemirror_mode": {
    "name": "ipython",
    "version": 3
   },
   "file_extension": ".py",
   "mimetype": "text/x-python",
   "name": "python",
   "nbconvert_exporter": "python",
   "pygments_lexer": "ipython3",
   "version": "3.11.9"
  }
 },
 "nbformat": 4,
 "nbformat_minor": 5
}
